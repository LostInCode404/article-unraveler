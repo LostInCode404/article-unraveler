{
 "cells": [
  {
   "cell_type": "markdown",
   "id": "94c6522d-b2c0-479a-b361-afe0904e1d57",
   "metadata": {},
   "source": [
    "# Article Unraveler"
   ]
  },
  {
   "cell_type": "markdown",
   "id": "f5f1f2da-c2a4-4b8b-a15e-b3489b72f06a",
   "metadata": {},
   "source": [
    "An end-to-end chat based app that enables Q&A with multiple online articles as sources."
   ]
  },
  {
   "cell_type": "markdown",
   "id": "d95639cc-2301-47ca-94eb-786b1dbec019",
   "metadata": {},
   "source": [
    "## Initialize"
   ]
  },
  {
   "cell_type": "code",
   "execution_count": 1,
   "id": "c287df4e-d365-4b1b-9c10-2c3e89e68d0a",
   "metadata": {},
   "outputs": [],
   "source": [
    "# Imports\n",
    "from dotenv import dotenv_values\n",
    "import nest_asyncio\n",
    "import os"
   ]
  },
  {
   "cell_type": "code",
   "execution_count": 2,
   "id": "869d500a-aae6-4cbc-ade2-2f03065f6ac7",
   "metadata": {},
   "outputs": [],
   "source": [
    "# Apply nest_asyncio \n",
    "nest_asyncio.apply()"
   ]
  },
  {
   "cell_type": "code",
   "execution_count": 3,
   "id": "fed95ec4-2de0-4cf5-8642-3a58c6e93c27",
   "metadata": {},
   "outputs": [],
   "source": [
    "# Read Google API key\n",
    "GOOGLE_API_KEY = dotenv_values(os.path.expanduser('~/.google'))['GOOGLE_API_KEY']\n",
    "os.environ[\"GOOGLE_API_KEY\"] = GOOGLE_API_KEY"
   ]
  },
  {
   "cell_type": "code",
   "execution_count": 4,
   "id": "ee5db65a-3d81-4a58-a872-2511169b1044",
   "metadata": {},
   "outputs": [],
   "source": [
    "# Read OpenAI API key\n",
    "OPENAI_API_KEY = dotenv_values(os.path.expanduser('~/.openai'))['OPENAI_API_KEY']\n",
    "os.environ[\"OPENAI_API_KEY\"] = OPENAI_API_KEY"
   ]
  },
  {
   "cell_type": "markdown",
   "id": "bb09ab99-499d-4c27-8103-7384f0b4d219",
   "metadata": {
    "jp-MarkdownHeadingCollapsed": true
   },
   "source": [
    "## LLM"
   ]
  },
  {
   "cell_type": "code",
   "execution_count": 1,
   "id": "fcbbad19-a76f-4b48-9234-85e6d8ec1ce0",
   "metadata": {},
   "outputs": [],
   "source": [
    "# Imports\n",
    "import os\n",
    "from dotenv import dotenv_values\n",
    "from langchain_google_genai import ChatGoogleGenerativeAI"
   ]
  },
  {
   "cell_type": "code",
   "execution_count": 3,
   "id": "87da9894-e57f-4ec6-9b9c-bab1bb3c22e3",
   "metadata": {},
   "outputs": [],
   "source": [
    "# Init LLM object\n",
    "llm = ChatGoogleGenerativeAI(model='gemini-1.5-flash', google_api_key=GOOGLE_API_KEY, temperature=0.2)"
   ]
  },
  {
   "cell_type": "code",
   "execution_count": 4,
   "id": "153258f7-4589-497c-842e-340b8ef77556",
   "metadata": {},
   "outputs": [
    {
     "data": {
      "text/plain": [
       "AIMessage(content=\"Words flow like a stream,\\nGemini's mind, vast and deep,\\nLearning, growing fast. \\n\", response_metadata={'prompt_feedback': {'block_reason': 0, 'safety_ratings': []}, 'finish_reason': 'STOP', 'safety_ratings': [{'category': 'HARM_CATEGORY_SEXUALLY_EXPLICIT', 'probability': 'NEGLIGIBLE', 'blocked': False}, {'category': 'HARM_CATEGORY_HATE_SPEECH', 'probability': 'NEGLIGIBLE', 'blocked': False}, {'category': 'HARM_CATEGORY_HARASSMENT', 'probability': 'NEGLIGIBLE', 'blocked': False}, {'category': 'HARM_CATEGORY_DANGEROUS_CONTENT', 'probability': 'NEGLIGIBLE', 'blocked': False}]}, id='run-f70f64d2-0881-4c14-9b32-54a5a90efffe-0', usage_metadata={'input_tokens': 8, 'output_tokens': 22, 'total_tokens': 30})"
      ]
     },
     "execution_count": 4,
     "metadata": {},
     "output_type": "execute_result"
    }
   ],
   "source": [
    "# Test LLM\n",
    "llm.invoke(\"Write a haiku about Gemini LLM\")"
   ]
  },
  {
   "cell_type": "markdown",
   "id": "dc5a3d7d-dbbb-4435-979f-e6f7c66e20d8",
   "metadata": {
    "jp-MarkdownHeadingCollapsed": true
   },
   "source": [
    "## Data Loader"
   ]
  },
  {
   "cell_type": "markdown",
   "id": "2fb4c52a-f616-440b-ae64-8fc97e3db837",
   "metadata": {},
   "source": [
    "#### Text Loader"
   ]
  },
  {
   "cell_type": "code",
   "execution_count": 5,
   "id": "56b3f225-0d3b-4196-9917-b428484f8210",
   "metadata": {},
   "outputs": [],
   "source": [
    "# Imports\n",
    "from langchain_community.document_loaders import TextLoader"
   ]
  },
  {
   "cell_type": "code",
   "execution_count": 6,
   "id": "e6ac1ba8-c612-4973-8654-2815899b2c42",
   "metadata": {},
   "outputs": [],
   "source": [
    "# Load sample text document\n",
    "loader = TextLoader('./data/sample-1.txt')\n",
    "data = loader.load()"
   ]
  },
  {
   "cell_type": "code",
   "execution_count": 7,
   "id": "c83f4635-aefe-4f1f-9f85-b5c36f7a1fce",
   "metadata": {},
   "outputs": [
    {
     "data": {
      "text/plain": [
       "'Contact\\n\\nFUTURE OF MOBILITY\\nORGANISATION\\nBUSINESS\\nCORPORATE RESPONSIBILITY\\nINVESTORS\\nNEWSROOM\\nCAREERS\\nNewsroom\\nPress release\\nPress release - June 4, 2024\\nMerger of Tata Motors Finance Limited with Tata Capital Limited\\n   \\nThe Board of Directors of Tata Motors Limited (TML), Tata Capital Limited (TCL) and Tata Motors Finance Ltd (TMFL) have today approved a merger of TMFL with TCL through an NCLT scheme of arrangement. As consideration for the merger, TCL will issue its equity shares to the shareholders of TMFL resulting in TML effectively holding a 4.7% stake in the merged entity.\\n\\nTCL (rated AAA by all leading rating agencies) is one of the largest diversified NBFCs in India with an AUM of ~INR 1.6L crore servicing customers with 25+ product offerings across Retail, SME and Corporate Segments. TMFL, with an AUM of ~INR 32.5K crore predominantly provides financing solutions for new and old commercial vehicles (CV), passenger vehicles (PV), dealers and vendors.\\n\\nIn FY 24, TCL and TMFL reported a profit after tax of INR 3,150 crore and INR 52 crore respectively.\\n\\nThe transaction is also in-line with TML’s stated objective of exiting non-core businesses and focus its capital spends on emerging technologies and products.\\n\\nTCL has limited presence in CV/ PV financing. With this merger TCL will gain new customers in the fast-growing CV/PV financing segments, which it aims to serve with innovative products and digital offerings, whilst providing differentiated growth opportunities to employees.\\n\\nThe scheme of arrangement will be subject to approval of SEBI, RBI, NCLT amongst others and all shareholders and creditors of TCL and TMFL and will take ~9-12 months to complete. The merger will not have any adverse impact on customers or creditors of TMFL. E&Y, ICICI Securities, Wadia Ghandy & Co are the transaction advisors to TCL, while PwC, Axis Capital and AZB & Partners are the transaction advisors to TMFL.\\n\\nTo be held indirectly through its 100% subsidiary TMF Holdings Limited an RBI registered NBFC-CIC\\n\\nMedia Contact Information: Tata Motors Corporate Communications: indiacorpcomm@tatamotors.com / 91 22-66657613 / www.tatamotors.com\\n\\nDownloads\\nPress Release\\nPackage Download\\nDownload All\\nShare article\\n   \\nLatest press release\\nView All\\n\\nJune 7, 2024\\n\\nTata Motors launches Altroz Racer\\n\\nRead more\\n\\nJune 1, 2024\\n\\nTata Motors registered total sales of 76,766 units in May 2024\\n\\nRead more\\n\\nMay 20, 2024\\n\\nTata Motors’ subsidiaries - TPEM and TMPV join hands with Bajaj Finance, offers financing program for authorized passenger and electric vehicle dealers\\n\\nRead more\\nFUTURE OF MOBILITY\\nBUSINESS\\nCommercial vehicles\\nPassenger vehicles\\nElectric vehicles\\nLuxury vehicles\\nORGANISATION\\nOverview\\nAbout us\\nOur history\\nOur leadership\\nOur global presence\\nSubsidiaries and other entities\\nInnovations\\nCORPORATE RESPONSIBILITY\\nOverview\\nPlanet resilience\\nWorking with communities\\nGovernance\\nINVESTORS\\nOverview\\nFinancial information\\nGovernance and regulatory information\\nShareholder information\\nFixed income\\nVolumes\\nESOP\\nOther information\\nInvestor calendar\\nESG profile\\nExtraordinary meeting\\nDisclaimer\\nInvestor contacts\\nNEWSROOM\\nPress releases\\nThought leadership\\nMedia library\\nCAREERS\\nOverview\\nLife @ Tata Motors\\nOpenings @ Tata Motors\\nEarly Careers\\nFAQs\\nSOCIAL MEDIA\\n    \\nSUBSCRIBE\\n\\nEnter your email\\n \\nLegal Disclaimer Open Source License Disclosure\\n© Copyright 2024. All rights reserved. Tata Motors Limited.'"
      ]
     },
     "execution_count": 7,
     "metadata": {},
     "output_type": "execute_result"
    }
   ],
   "source": [
    "# Inspect page content\n",
    "data[0].page_content"
   ]
  },
  {
   "cell_type": "code",
   "execution_count": 8,
   "id": "7284813a-9d56-41f5-a197-caa5fd7ddd65",
   "metadata": {},
   "outputs": [
    {
     "data": {
      "text/plain": [
       "{'source': './data/sample-1.txt'}"
      ]
     },
     "execution_count": 8,
     "metadata": {},
     "output_type": "execute_result"
    }
   ],
   "source": [
    "# Inspect metadata\n",
    "data[0].metadata"
   ]
  },
  {
   "cell_type": "markdown",
   "id": "0fc965e2-8b60-4201-b76b-8f024cc70a17",
   "metadata": {},
   "source": [
    "#### URL Loader"
   ]
  },
  {
   "cell_type": "code",
   "execution_count": 9,
   "id": "f14ea257-5929-463c-8748-b7088e232931",
   "metadata": {},
   "outputs": [],
   "source": [
    "# Imports\n",
    "from langchain_community.document_loaders import UnstructuredURLLoader"
   ]
  },
  {
   "cell_type": "code",
   "execution_count": 10,
   "id": "bf869b7c-7264-4403-8f12-c6adfb8f694c",
   "metadata": {},
   "outputs": [],
   "source": [
    "# Load sample document\n",
    "url_loader = UnstructuredURLLoader(urls=[\n",
    "    'https://economictimes.indiatimes.com/industry/transportation/airlines-/-aviation/air-india-vistara-merger-gets-nclt-nod/articleshow/110774121.cms?from=mdr',\n",
    "    'https://www.barandbench.com/news/nclt-nod-air-india-vistara-merger',\n",
    "    'https://www.financialexpress.com/business/airlines-aviation-air-india-vistara-merger-gets-approval-nclt-gives-nod-for-worlds-largest-airline-group-3517515/'\n",
    "])\n",
    "data = url_loader.load()"
   ]
  },
  {
   "cell_type": "code",
   "execution_count": 11,
   "id": "af76aeb1-2e0a-479b-8284-9e9943c551cd",
   "metadata": {},
   "outputs": [
    {
     "data": {
      "text/plain": [
       "3"
      ]
     },
     "execution_count": 11,
     "metadata": {},
     "output_type": "execute_result"
    }
   ],
   "source": [
    "len(data)"
   ]
  },
  {
   "cell_type": "markdown",
   "id": "223f3884-3de5-402f-bfb7-b22b4269d7f1",
   "metadata": {
    "jp-MarkdownHeadingCollapsed": true
   },
   "source": [
    "## Data Splitter"
   ]
  },
  {
   "cell_type": "code",
   "execution_count": 12,
   "id": "dc2ee99e-22b8-4345-bb36-a28c2c47c3a9",
   "metadata": {},
   "outputs": [],
   "source": [
    "# Imports\n",
    "from langchain.text_splitter import RecursiveCharacterTextSplitter"
   ]
  },
  {
   "cell_type": "code",
   "execution_count": 13,
   "id": "fc236a9d-c97c-478e-a281-5dd46c7b0db1",
   "metadata": {},
   "outputs": [],
   "source": [
    "# Splitter object\n",
    "splitter = RecursiveCharacterTextSplitter(\n",
    "    separators=[\"\\n\\n\", \"\\n\", \" \"],\n",
    "    chunk_size=1000,\n",
    "    chunk_overlap=200,\n",
    "    add_start_index=True\n",
    ")"
   ]
  },
  {
   "cell_type": "code",
   "execution_count": 14,
   "id": "87cd2e00-4a3c-4a30-be67-c79dfd49dd01",
   "metadata": {},
   "outputs": [],
   "source": [
    "# Create chunks\n",
    "chunks = splitter.split_documents(data)"
   ]
  },
  {
   "cell_type": "code",
   "execution_count": 15,
   "id": "dab8603a-1d8e-4d2d-a7be-9e5b55e040cf",
   "metadata": {},
   "outputs": [
    {
     "data": {
      "text/plain": [
       "22"
      ]
     },
     "execution_count": 15,
     "metadata": {},
     "output_type": "execute_result"
    }
   ],
   "source": [
    "len(chunks)"
   ]
  },
  {
   "cell_type": "code",
   "execution_count": 16,
   "id": "6e6da8c6-fd58-4ca6-b1a2-6dcf014ef125",
   "metadata": {},
   "outputs": [
    {
     "data": {
      "text/plain": [
       "Document(page_content=\"Construction\\n\\nEngineering\\n\\nCement\\n\\nChem / Fertilisers\\n\\nMetals & Mining\\n\\nPackaging\\n\\nPaper / Wood / Glass/ Plastic/ Marbles\\n\\nPetrochem\\n\\nSteel\\n\\nHealthcare/Biotech\\n\\nBiotech\\n\\nHealthcare\\n\\nPharmaceuticals\\n\\nServices\\n\\nAdvertising\\n\\nConsultancy / Audit\\n\\nEducation\\n\\nHotels / Restaurants\\n\\nProperty / C'struction\\n\\nRetail\\n\\nTravel\\n\\nMedia/Entertainment\\n\\nEntertainment\\n\\nMedia\\n\\nMore\\n\\nTransportation\\n\\nRailways\\n\\nAirlines / Aviation\\n\\nShipping / Transport\\n\\nRoadways\\n\\nTech\\n\\nITES\\n\\nTech & Internet\\n\\nStartups\\n\\nFunding\\n\\nTech Bytes\\n\\nTelecom\\n\\nTelecom News\\n\\nTelecom Policy\\n\\nMiscellaneous\\n\\nCSR\\n\\nInitiatives\\n\\nPolicy\\n\\nEnvironment\\n\\nBusiness News›\\n\\nIndustry›\\n\\nTransportation›\\n\\nAirlines / Aviation›\\n\\nAir India- Vistara merger gets NCLT nod\\n\\nThe Economic Times daily newspaper is available online now.\\n\\nRead Today's Paper\\n\\nAir India- Vistara merger gets NCLT nod\\n\\nSECTIONS\\n\\nAir India- Vistara merger gets NCLT nod\\n\\nRate Story\\n\\nFollow us\\n\\nShare\\n\\nFont Size\\n\\nAbc\\n\\nSmall\\n\\nAbc\\n\\nMedium\\n\\nAbc\\n\\nLarge\\n\\nSave\\n\\nPrint\\n\\nComment\\n\\nSynopsis\", metadata={'source': 'https://economictimes.indiatimes.com/industry/transportation/airlines-/-aviation/air-india-vistara-merger-gets-nclt-nod/articleshow/110774121.cms?from=mdr', 'start_index': 799})"
      ]
     },
     "execution_count": 16,
     "metadata": {},
     "output_type": "execute_result"
    }
   ],
   "source": [
    "chunks[1]"
   ]
  },
  {
   "cell_type": "code",
   "execution_count": 17,
   "id": "558e65c4-140d-4491-831c-e9f83f2f0d04",
   "metadata": {},
   "outputs": [
    {
     "name": "stdout",
     "output_type": "stream",
     "text": [
      "996\n",
      "985\n",
      "976\n",
      "765\n",
      "920\n",
      "969\n",
      "775\n",
      "999\n",
      "998\n",
      "997\n"
     ]
    }
   ],
   "source": [
    "for i in range(10): print(len(chunks[i].page_content))"
   ]
  },
  {
   "cell_type": "markdown",
   "id": "69e24ab3-4b0f-494f-88b0-541bb46719ea",
   "metadata": {
    "jp-MarkdownHeadingCollapsed": true
   },
   "source": [
    "## Sentence Embedding"
   ]
  },
  {
   "cell_type": "markdown",
   "id": "4737fb1f-f168-401b-b67a-06a0fdde7316",
   "metadata": {},
   "source": [
    "#### Sentence Transformer"
   ]
  },
  {
   "cell_type": "code",
   "execution_count": 1,
   "id": "e8dd5225-cd3d-4f5f-80ef-5ce178731c19",
   "metadata": {},
   "outputs": [
    {
     "name": "stderr",
     "output_type": "stream",
     "text": [
      "/home/naveen/micromamba/envs/ml/lib/python3.11/site-packages/sentence_transformers/cross_encoder/CrossEncoder.py:11: TqdmExperimentalWarning: Using `tqdm.autonotebook.tqdm` in notebook mode. Use `tqdm.tqdm` instead to force console mode (e.g. in jupyter console)\n",
      "  from tqdm.autonotebook import tqdm, trange\n"
     ]
    }
   ],
   "source": [
    "# Import\n",
    "from sentence_transformers import SentenceTransformer"
   ]
  },
  {
   "cell_type": "code",
   "execution_count": 19,
   "id": "e269997c-43ae-4d0a-8b4f-d4fda0bfe911",
   "metadata": {},
   "outputs": [
    {
     "name": "stderr",
     "output_type": "stream",
     "text": [
      "/home/naveen/micromamba/envs/ml/lib/python3.11/site-packages/huggingface_hub/file_download.py:1132: FutureWarning: `resume_download` is deprecated and will be removed in version 1.0.0. Downloads always resume when possible. If you want to force a new download, use `force_download=True`.\n",
      "  warnings.warn(\n",
      "/home/naveen/micromamba/envs/ml/lib/python3.11/site-packages/transformers/utils/generic.py:309: UserWarning: torch.utils._pytree._register_pytree_node is deprecated. Please use torch.utils._pytree.register_pytree_node instead.\n",
      "  _torch_pytree._register_pytree_node(\n",
      "/home/naveen/micromamba/envs/ml/lib/python3.11/site-packages/transformers/utils/generic.py:309: UserWarning: torch.utils._pytree._register_pytree_node is deprecated. Please use torch.utils._pytree.register_pytree_node instead.\n",
      "  _torch_pytree._register_pytree_node(\n",
      "/home/naveen/micromamba/envs/ml/lib/python3.11/site-packages/huggingface_hub/file_download.py:1132: FutureWarning: `resume_download` is deprecated and will be removed in version 1.0.0. Downloads always resume when possible. If you want to force a new download, use `force_download=True`.\n",
      "  warnings.warn(\n"
     ]
    }
   ],
   "source": [
    "# Sentence encoder\n",
    "encoder = SentenceTransformer('sentence-transformers/all-mpnet-base-v2')"
   ]
  },
  {
   "cell_type": "code",
   "execution_count": 20,
   "id": "5c90d358-f888-4f56-ae91-a09f1ed42ff9",
   "metadata": {},
   "outputs": [],
   "source": [
    "# Test encoder\n",
    "string_chunks = [chunk.page_content for chunk in chunks]\n",
    "embedding_vectors = encoder.encode(string_chunks)"
   ]
  },
  {
   "cell_type": "code",
   "execution_count": 21,
   "id": "85aa3538-2480-44bd-b8fe-acf2df082198",
   "metadata": {},
   "outputs": [
    {
     "data": {
      "text/plain": [
       "(107, 768)"
      ]
     },
     "execution_count": 21,
     "metadata": {},
     "output_type": "execute_result"
    }
   ],
   "source": [
    "embedding_vectors.shape"
   ]
  },
  {
   "cell_type": "code",
   "execution_count": 22,
   "id": "8abbeda1-858f-4ab4-a141-b46a6a6ea7df",
   "metadata": {},
   "outputs": [
    {
     "data": {
      "text/plain": [
       "array([[-0.04505419, -0.03125252, -0.02412015, ..., -0.04243594,\n",
       "         0.01715305, -0.01589855],\n",
       "       [ 0.00517899,  0.04239754, -0.02527562, ...,  0.00244321,\n",
       "        -0.04640353, -0.0290963 ],\n",
       "       [ 0.00326183, -0.0409476 , -0.01043462, ..., -0.05000011,\n",
       "        -0.03075233, -0.01655629],\n",
       "       ...,\n",
       "       [ 0.03239418,  0.03363674,  0.00237303, ...,  0.02305428,\n",
       "        -0.03785568,  0.00748185],\n",
       "       [ 0.0039655 , -0.02571574, -0.00563731, ...,  0.02366192,\n",
       "        -0.00139671,  0.02571008],\n",
       "       [-0.01462839, -0.0602536 , -0.01996417, ...,  0.00660295,\n",
       "        -0.05223874, -0.061701  ]], dtype=float32)"
      ]
     },
     "execution_count": 22,
     "metadata": {},
     "output_type": "execute_result"
    }
   ],
   "source": [
    "embedding_vectors"
   ]
  },
  {
   "cell_type": "code",
   "execution_count": 23,
   "id": "51bf5569-6383-46e1-8040-77206c6b4a38",
   "metadata": {},
   "outputs": [
    {
     "data": {
      "text/plain": [
       "768"
      ]
     },
     "execution_count": 23,
     "metadata": {},
     "output_type": "execute_result"
    }
   ],
   "source": [
    "embedding_dim = embedding_vectors.shape[1]\n",
    "embedding_dim"
   ]
  },
  {
   "cell_type": "markdown",
   "id": "161208e8-406a-44a3-a6d3-06ea78756e66",
   "metadata": {},
   "source": [
    "#### Google Embedding"
   ]
  },
  {
   "cell_type": "code",
   "execution_count": 41,
   "id": "4ff24455-7b35-49c5-bb73-6e88655a04a3",
   "metadata": {},
   "outputs": [],
   "source": [
    "# Imports\n",
    "from langchain_google_genai import GoogleGenerativeAIEmbeddings\n",
    "import numpy as np"
   ]
  },
  {
   "cell_type": "code",
   "execution_count": 42,
   "id": "a87a1502-1180-4939-b77f-e224fd8900fb",
   "metadata": {},
   "outputs": [
    {
     "data": {
      "text/plain": [
       "768"
      ]
     },
     "execution_count": 42,
     "metadata": {},
     "output_type": "execute_result"
    }
   ],
   "source": [
    "# Test embedder\n",
    "query_embedded = embedding.embed_query(\"What merger are we talking about here?\")\n",
    "len(query_embedded)"
   ]
  },
  {
   "cell_type": "code",
   "execution_count": 43,
   "id": "5aa6538b-6cc8-4c8e-abbd-326c3bf54945",
   "metadata": {},
   "outputs": [
    {
     "data": {
      "text/plain": [
       "53"
      ]
     },
     "execution_count": 43,
     "metadata": {},
     "output_type": "execute_result"
    }
   ],
   "source": [
    "# Test embedder\n",
    "docs_embedded = embedding.embed_documents(string_chunks)\n",
    "len(docs_embedded)"
   ]
  },
  {
   "cell_type": "code",
   "execution_count": 44,
   "id": "0c460adb-6ba3-42f7-ab79-25454d464b23",
   "metadata": {},
   "outputs": [
    {
     "data": {
      "text/plain": [
       "(53, 768)"
      ]
     },
     "execution_count": 44,
     "metadata": {},
     "output_type": "execute_result"
    }
   ],
   "source": [
    "np.array(docs_embedded).shape"
   ]
  },
  {
   "cell_type": "markdown",
   "id": "c0580e9e-0767-4129-a9d5-45bc3d4b5671",
   "metadata": {
    "jp-MarkdownHeadingCollapsed": true
   },
   "source": [
    "## Vector Index"
   ]
  },
  {
   "cell_type": "code",
   "execution_count": 24,
   "id": "b7ca98e1-7fa3-49cb-8599-d1098d639bf2",
   "metadata": {},
   "outputs": [],
   "source": [
    "# Imports\n",
    "import faiss\n",
    "import numpy"
   ]
  },
  {
   "cell_type": "code",
   "execution_count": 25,
   "id": "df5e6793-a966-4840-adaa-3476aa8e5669",
   "metadata": {},
   "outputs": [],
   "source": [
    "# Create index\n",
    "index = faiss.IndexFlatL2(embedding_dim)"
   ]
  },
  {
   "cell_type": "code",
   "execution_count": 26,
   "id": "f92c8f05-0f05-46dc-ba51-d106875362b6",
   "metadata": {},
   "outputs": [],
   "source": [
    "# Add vectors to the index\n",
    "index.add(embedding_vectors)"
   ]
  },
  {
   "cell_type": "code",
   "execution_count": 27,
   "id": "7288a806-8369-4ff8-9b79-34a99a6c3d65",
   "metadata": {},
   "outputs": [
    {
     "data": {
      "text/plain": [
       "(array([[0.7407455, 0.8220611]], dtype=float32), array([[19, 11]]))"
      ]
     },
     "execution_count": 27,
     "metadata": {},
     "output_type": "execute_result"
    }
   ],
   "source": [
    "# Test index search\n",
    "query_encoded = encoder.encode(\"Tata is merging with which company?\")\n",
    "query_vector = query_encoded.reshape(1,-1)\n",
    "search_result = index.search(query_vector, k=2)\n",
    "search_result"
   ]
  },
  {
   "cell_type": "code",
   "execution_count": 28,
   "id": "a3ed64ae-46d1-4d71-8918-f40ce995965d",
   "metadata": {},
   "outputs": [
    {
     "name": "stdout",
     "output_type": "stream",
     "text": [
      "page_content=\"The\\n\\nCompetition Commission of India had already approved the merger in September 2023.\\n\\nMORE STORIES FOR YOU\\n\\n« Back to recommendation stories\\n\\nI don't want to see these stories because\" metadata={'source': 'https://economictimes.indiatimes.com/industry/transportation/airlines-/-aviation/air-india-vistara-merger-gets-nclt-nod/articleshow/110774121.cms?from=mdr'}\n",
      "page_content='The merger, already approved by the Competition Commission of India, will lead to a more efficient operation by eliminating duplicities in resources and operations. Consultants are working on' metadata={'source': 'https://economictimes.indiatimes.com/industry/transportation/airlines-/-aviation/air-india-vistara-merger-gets-nclt-nod/articleshow/110774121.cms?from=mdr'}\n"
     ]
    }
   ],
   "source": [
    "# Inspect search results\n",
    "print(chunks[search_result[1][0][0]])\n",
    "print(chunks[search_result[1][0][1]])"
   ]
  },
  {
   "cell_type": "markdown",
   "id": "8b1d8486-a0a7-4116-81d8-fe5cc0395103",
   "metadata": {
    "jp-MarkdownHeadingCollapsed": true
   },
   "source": [
    "## RAG Exploration"
   ]
  },
  {
   "cell_type": "markdown",
   "id": "fa37b7cc-9bc7-4005-a202-0c33363a161a",
   "metadata": {
    "jp-MarkdownHeadingCollapsed": true
   },
   "source": [
    "### Full RAG Workflow"
   ]
  },
  {
   "cell_type": "code",
   "execution_count": 15,
   "id": "a60ac2f3-bff5-414b-b2b4-c7ec7584a2a3",
   "metadata": {},
   "outputs": [],
   "source": [
    "# Imports\n",
    "import os\n",
    "import pickle as pkl\n",
    "import langchain\n",
    "from langchain import hub\n",
    "from langchain_community.vectorstores import Chroma\n",
    "from langchain_google_genai import GoogleGenerativeAIEmbeddings\n",
    "from langchain_core.output_parsers import StrOutputParser\n",
    "from langchain_core.runnables import RunnablePassthrough\n",
    "from langchain_core.prompts import PromptTemplate"
   ]
  },
  {
   "cell_type": "code",
   "execution_count": 4,
   "id": "ccbff5cc-b0ba-4943-8194-535da2e9ac6f",
   "metadata": {},
   "outputs": [],
   "source": [
    "# Embedder\n",
    "embedding = GoogleGenerativeAIEmbeddings(model=\"models/embedding-001\")"
   ]
  },
  {
   "cell_type": "code",
   "execution_count": 25,
   "id": "ca0f89e7-c488-4ad7-941c-f1d14f0f0a63",
   "metadata": {},
   "outputs": [
    {
     "name": "stderr",
     "output_type": "stream",
     "text": [
      "Python-dotenv could not parse statement starting at line 4\n",
      "Python-dotenv could not parse statement starting at line 8\n",
      "Python-dotenv could not parse statement starting at line 12\n",
      "Python-dotenv could not parse statement starting at line 15\n"
     ]
    }
   ],
   "source": [
    "# Vector store\n",
    "vectorstore = Chroma.from_documents(documents=chunks, embedding=embedding)"
   ]
  },
  {
   "cell_type": "code",
   "execution_count": 160,
   "id": "b288a4df-3cbe-4d8d-836b-a38b88f5a019",
   "metadata": {},
   "outputs": [],
   "source": [
    "# Doc retreiver\n",
    "retriever = vectorstore.as_retriever(search_kwargs={\"k\": 5})"
   ]
  },
  {
   "cell_type": "markdown",
   "id": "1ff7bb13-aa20-4f24-b380-8ecf4beb14fc",
   "metadata": {},
   "source": [
    "#### Stuff Chain"
   ]
  },
  {
   "cell_type": "code",
   "execution_count": 161,
   "id": "ee9b19cd-105b-44a4-b752-bbcf761db7ee",
   "metadata": {},
   "outputs": [],
   "source": [
    "# RAG prompt\n",
    "prompt = hub.pull(\"rlm/rag-prompt\")"
   ]
  },
  {
   "cell_type": "code",
   "execution_count": 162,
   "id": "d37fc833-ea39-4f3e-88f3-e84ae471b5eb",
   "metadata": {},
   "outputs": [
    {
     "data": {
      "text/plain": [
       "ChatPromptTemplate(input_variables=['context', 'question'], metadata={'lc_hub_owner': 'rlm', 'lc_hub_repo': 'rag-prompt', 'lc_hub_commit_hash': '50442af133e61576e74536c6556cefe1fac147cad032f4377b60c436e6cdcb6e'}, messages=[HumanMessagePromptTemplate(prompt=PromptTemplate(input_variables=['context', 'question'], template=\"You are an assistant for question-answering tasks. Use the following pieces of retrieved context to answer the question. If you don't know the answer, just say that you don't know. Use three sentences maximum and keep the answer concise.\\nQuestion: {question} \\nContext: {context} \\nAnswer:\"))])"
      ]
     },
     "execution_count": 162,
     "metadata": {},
     "output_type": "execute_result"
    }
   ],
   "source": [
    "prompt"
   ]
  },
  {
   "cell_type": "code",
   "execution_count": 163,
   "id": "a0f614dd-ca43-4660-b8ac-6f06f187877b",
   "metadata": {},
   "outputs": [
    {
     "data": {
      "text/plain": [
       "[HumanMessagePromptTemplate(prompt=PromptTemplate(input_variables=['context', 'question'], template=\"You are an assistant for question-answering tasks. Use the following pieces of retrieved context to answer the question. If you don't know the answer, just say that you don't know. Use three sentences maximum and keep the answer concise.\\nQuestion: {question} \\nContext: {context} \\nAnswer:\"))]"
      ]
     },
     "execution_count": 163,
     "metadata": {},
     "output_type": "execute_result"
    }
   ],
   "source": [
    "prompt.messages"
   ]
  },
  {
   "cell_type": "code",
   "execution_count": 164,
   "id": "4c52415b-22da-4665-a4de-745048c68299",
   "metadata": {},
   "outputs": [
    {
     "name": "stdout",
     "output_type": "stream",
     "text": [
      "\u001b[32;1m\u001b[1;3m[chain/start]\u001b[0m \u001b[1m[prompt:ChatPromptTemplate] Entering Prompt run with input:\n",
      "\u001b[0m{\n",
      "  \"context\": \"Sample context\",\n",
      "  \"question\": \"Sample question\"\n",
      "}\n",
      "\u001b[36;1m\u001b[1;3m[chain/end]\u001b[0m \u001b[1m[prompt:ChatPromptTemplate] [0ms] Exiting Prompt run with output:\n",
      "\u001b[0m[outputs]\n"
     ]
    },
    {
     "data": {
      "text/plain": [
       "\"You are an assistant for question-answering tasks. Use the following pieces of retrieved context to answer the question. If you don't know the answer, just say that you don't know. Use three sentences maximum and keep the answer concise.\\nQuestion: Sample question \\nContext: Sample context \\nAnswer:\""
      ]
     },
     "execution_count": 164,
     "metadata": {},
     "output_type": "execute_result"
    }
   ],
   "source": [
    "# Test prompt\n",
    "example_messages = prompt.invoke(\n",
    "    {\"context\": \"Sample context\", \"question\": \"Sample question\"}\n",
    ").to_messages()\n",
    "example_messages[0].content"
   ]
  },
  {
   "cell_type": "code",
   "execution_count": 165,
   "id": "98da3cd9-d418-4906-b37d-192169ea487d",
   "metadata": {},
   "outputs": [],
   "source": [
    "# Document formatter for context docs\n",
    "def format_docs(docs):\n",
    "    return \"\\n\\n\".join(doc.page_content for doc in docs)"
   ]
  },
  {
   "cell_type": "code",
   "execution_count": 166,
   "id": "0c470b0b-1866-4b21-8141-77d55d1462ed",
   "metadata": {},
   "outputs": [],
   "source": [
    "# RAG chain using LCEL\n",
    "rag_chain = (\n",
    "    {\"context\": retriever | format_docs, \"question\": RunnablePassthrough()}\n",
    "    | prompt\n",
    "    | llm\n",
    "    | StrOutputParser()\n",
    ")"
   ]
  },
  {
   "cell_type": "code",
   "execution_count": 185,
   "id": "6b926302-efb3-457e-accf-a71c1f073a89",
   "metadata": {},
   "outputs": [
    {
     "data": {
      "text/plain": [
       "[Document(page_content=\"Construction\\n\\nEngineering\\n\\nCement\\n\\nChem / Fertilisers\\n\\nMetals & Mining\\n\\nPackaging\\n\\nPaper / Wood / Glass/ Plastic/ Marbles\\n\\nPetrochem\\n\\nSteel\\n\\nHealthcare/Biotech\\n\\nBiotech\\n\\nHealthcare\\n\\nPharmaceuticals\\n\\nServices\\n\\nAdvertising\\n\\nConsultancy / Audit\\n\\nEducation\\n\\nHotels / Restaurants\\n\\nProperty / C'struction\\n\\nRetail\\n\\nTravel\\n\\nMedia/Entertainment\\n\\nEntertainment\\n\\nMedia\\n\\nMore\\n\\nTransportation\\n\\nRailways\\n\\nAirlines / Aviation\\n\\nShipping / Transport\\n\\nRoadways\\n\\nTech\\n\\nITES\\n\\nTech & Internet\\n\\nStartups\\n\\nFunding\\n\\nTech Bytes\\n\\nTelecom\\n\\nTelecom News\\n\\nTelecom Policy\\n\\nMiscellaneous\\n\\nCSR\\n\\nInitiatives\\n\\nPolicy\\n\\nEnvironment\\n\\nBusiness News›\\n\\nIndustry›\\n\\nTransportation›\\n\\nAirlines / Aviation›\\n\\nAir India- Vistara merger gets NCLT nod\\n\\nThe Economic Times daily newspaper is available online now.\\n\\nRead Today's Paper\\n\\nAir India- Vistara merger gets NCLT nod\\n\\nSECTIONS\\n\\nAir India- Vistara merger gets NCLT nod\\n\\nRate Story\\n\\nFollow us\\n\\nShare\\n\\nFont Size\\n\\nAbc\\n\\nSmall\\n\\nAbc\\n\\nMedium\\n\\nAbc\\n\\nLarge\\n\\nSave\\n\\nPrint\\n\\nComment\\n\\nSynopsis\", metadata={'source': 'https://economictimes.indiatimes.com/industry/transportation/airlines-/-aviation/air-india-vistara-merger-gets-nclt-nod/articleshow/110774121.cms?from=mdr', 'start_index': 796}),\n",
       " Document(page_content=\"Construction\\n\\nEngineering\\n\\nCement\\n\\nChem / Fertilisers\\n\\nMetals & Mining\\n\\nPackaging\\n\\nPaper / Wood / Glass/ Plastic/ Marbles\\n\\nPetrochem\\n\\nSteel\\n\\nHealthcare/Biotech\\n\\nBiotech\\n\\nHealthcare\\n\\nPharmaceuticals\\n\\nServices\\n\\nAdvertising\\n\\nConsultancy / Audit\\n\\nEducation\\n\\nHotels / Restaurants\\n\\nProperty / C'struction\\n\\nRetail\\n\\nTravel\\n\\nMedia/Entertainment\\n\\nEntertainment\\n\\nMedia\\n\\nMore\\n\\nTransportation\\n\\nRailways\\n\\nAirlines / Aviation\\n\\nShipping / Transport\\n\\nRoadways\\n\\nTech\\n\\nITES\\n\\nTech & Internet\\n\\nStartups\\n\\nFunding\\n\\nTech Bytes\\n\\nTelecom\\n\\nTelecom News\\n\\nTelecom Policy\\n\\nMiscellaneous\\n\\nCSR\\n\\nInitiatives\\n\\nPolicy\\n\\nEnvironment\\n\\nBusiness News›\\n\\nIndustry›\\n\\nTransportation›\\n\\nAirlines / Aviation›\\n\\nAir India- Vistara merger gets NCLT nod\\n\\nThe Economic Times daily newspaper is available online now.\\n\\nRead Today's Paper\\n\\nAir India- Vistara merger gets NCLT nod\\n\\nSECTIONS\\n\\nAir India- Vistara merger gets NCLT nod\\n\\nRate Story\\n\\nFollow us\\n\\nShare\\n\\nFont Size\\n\\nAbc\\n\\nSmall\\n\\nAbc\\n\\nMedium\\n\\nAbc\\n\\nLarge\\n\\nSave\\n\\nPrint\\n\\nComment\\n\\nSynopsis\", metadata={'source': 'https://economictimes.indiatimes.com/industry/transportation/airlines-/-aviation/air-india-vistara-merger-gets-nclt-nod/articleshow/110774121.cms?from=mdr', 'start_index': 796}),\n",
       " Document(page_content='Access Denied\\n \\nYou don\\'t have permission to access \"http://www.financialexpress.com/business/airlines-aviation-air-india-vistara-merger-gets-approval-nclt-gives-nod-for-worlds-largest-airline-group-3517515/\" on this server.\\n\\nReference #18.6601c045.1717931014.10685e9d\\n\\nhttps://errors.edgesuite.net/18.6601c045.1717931014.10685e9d', metadata={'source': 'https://www.financialexpress.com/business/airlines-aviation-air-india-vistara-merger-gets-approval-nclt-gives-nod-for-worlds-largest-airline-group-3517515/', 'start_index': 0}),\n",
       " Document(page_content='Access Denied\\n \\nYou don\\'t have permission to access \"http://www.financialexpress.com/business/airlines-aviation-air-india-vistara-merger-gets-approval-nclt-gives-nod-for-worlds-largest-airline-group-3517515/\" on this server.\\n\\nReference #18.6601c045.1717931014.10685e9d\\n\\nhttps://errors.edgesuite.net/18.6601c045.1717931014.10685e9d', metadata={'source': 'https://www.financialexpress.com/business/airlines-aviation-air-india-vistara-merger-gets-approval-nclt-gives-nod-for-worlds-largest-airline-group-3517515/', 'start_index': 0}),\n",
       " Document(page_content='SECTIONS\\n\\nAir India- Vistara merger gets NCLT nod\\n\\nRate Story\\n\\nFollow us\\n\\nShare\\n\\nFont Size\\n\\nAbc\\n\\nSmall\\n\\nAbc\\n\\nMedium\\n\\nAbc\\n\\nLarge\\n\\nSave\\n\\nPrint\\n\\nComment\\n\\nSynopsis\\n\\nThe National Company Law Tribunal (NCLT) has approved the merger of Air India and Vistara, making Air India the largest international carrier in India operating flights to five continents. The merger, already approved by the Competition Commission of India, will lead to a more efficient operation by eliminating duplicities in resources and operations. Consultants are working on harmonizing workforce and route networks, with the integration process set to begin gradually without grounding flights.\\n\\nAgencies\\n\\nRelated\\n\\nAir India Express bets on growth opportunities, group synergies\\n\\nVistara nimble enough to make course corrections: CEO Vinod Kannan\\n\\nThe National Court Law Tribunal (\\n\\nNCLT) has approved the\\n\\nmerger of\\n\\nAir India & final.', metadata={'source': 'https://economictimes.indiatimes.com/industry/transportation/airlines-/-aviation/air-india-vistara-merger-gets-nclt-nod/articleshow/110774121.cms?from=mdr', 'start_index': 1622})]"
      ]
     },
     "execution_count": 185,
     "metadata": {},
     "output_type": "execute_result"
    }
   ],
   "source": [
    "# Test retreival\n",
    "retriever.invoke(\"What merger are we talking about here?\")"
   ]
  },
  {
   "cell_type": "code",
   "execution_count": 167,
   "id": "8bb39594-c8a9-48ba-abed-807cf2598013",
   "metadata": {
    "scrolled": true
   },
   "outputs": [
    {
     "name": "stdout",
     "output_type": "stream",
     "text": [
      "\u001b[32;1m\u001b[1;3m[chain/start]\u001b[0m \u001b[1m[chain:RunnableSequence] Entering Chain run with input:\n",
      "\u001b[0m{\n",
      "  \"input\": \"What merger are we talking about here?\"\n",
      "}\n",
      "\u001b[32;1m\u001b[1;3m[chain/start]\u001b[0m \u001b[1m[chain:RunnableSequence > chain:RunnableParallel<context,question>] Entering Chain run with input:\n",
      "\u001b[0m{\n",
      "  \"input\": \"What merger are we talking about here?\"\n",
      "}\n",
      "\u001b[32;1m\u001b[1;3m[chain/start]\u001b[0m \u001b[1m[chain:RunnableSequence > chain:RunnableParallel<context,question> > chain:RunnableSequence] Entering Chain run with input:\n",
      "\u001b[0m{\n",
      "  \"input\": \"What merger are we talking about here?\"\n",
      "}\n",
      "\u001b[32;1m\u001b[1;3m[chain/start]\u001b[0m \u001b[1m[chain:RunnableSequence > chain:RunnableParallel<context,question> > chain:RunnablePassthrough] Entering Chain run with input:\n",
      "\u001b[0m{\n",
      "  \"input\": \"What merger are we talking about here?\"\n",
      "}\n",
      "\u001b[36;1m\u001b[1;3m[chain/end]\u001b[0m \u001b[1m[chain:RunnableSequence > chain:RunnableParallel<context,question> > chain:RunnablePassthrough] [0ms] Exiting Chain run with output:\n",
      "\u001b[0m{\n",
      "  \"output\": \"What merger are we talking about here?\"\n",
      "}\n",
      "\u001b[32;1m\u001b[1;3m[chain/start]\u001b[0m \u001b[1m[chain:RunnableSequence > chain:RunnableParallel<context,question> > chain:RunnableSequence > chain:format_docs] Entering Chain run with input:\n",
      "\u001b[0m[inputs]\n",
      "\u001b[36;1m\u001b[1;3m[chain/end]\u001b[0m \u001b[1m[chain:RunnableSequence > chain:RunnableParallel<context,question> > chain:RunnableSequence > chain:format_docs] [0ms] Exiting Chain run with output:\n",
      "\u001b[0m{\n",
      "  \"output\": \"Construction\\n\\nEngineering\\n\\nCement\\n\\nChem / Fertilisers\\n\\nMetals & Mining\\n\\nPackaging\\n\\nPaper / Wood / Glass/ Plastic/ Marbles\\n\\nPetrochem\\n\\nSteel\\n\\nHealthcare/Biotech\\n\\nBiotech\\n\\nHealthcare\\n\\nPharmaceuticals\\n\\nServices\\n\\nAdvertising\\n\\nConsultancy / Audit\\n\\nEducation\\n\\nHotels / Restaurants\\n\\nProperty / C'struction\\n\\nRetail\\n\\nTravel\\n\\nMedia/Entertainment\\n\\nEntertainment\\n\\nMedia\\n\\nMore\\n\\nTransportation\\n\\nRailways\\n\\nAirlines / Aviation\\n\\nShipping / Transport\\n\\nRoadways\\n\\nTech\\n\\nITES\\n\\nTech & Internet\\n\\nStartups\\n\\nFunding\\n\\nTech Bytes\\n\\nTelecom\\n\\nTelecom News\\n\\nTelecom Policy\\n\\nMiscellaneous\\n\\nCSR\\n\\nInitiatives\\n\\nPolicy\\n\\nEnvironment\\n\\nBusiness News›\\n\\nIndustry›\\n\\nTransportation›\\n\\nAirlines / Aviation›\\n\\nAir India- Vistara merger gets NCLT nod\\n\\nThe Economic Times daily newspaper is available online now.\\n\\nRead Today's Paper\\n\\nAir India- Vistara merger gets NCLT nod\\n\\nSECTIONS\\n\\nAir India- Vistara merger gets NCLT nod\\n\\nRate Story\\n\\nFollow us\\n\\nShare\\n\\nFont Size\\n\\nAbc\\n\\nSmall\\n\\nAbc\\n\\nMedium\\n\\nAbc\\n\\nLarge\\n\\nSave\\n\\nPrint\\n\\nComment\\n\\nSynopsis\\n\\nConstruction\\n\\nEngineering\\n\\nCement\\n\\nChem / Fertilisers\\n\\nMetals & Mining\\n\\nPackaging\\n\\nPaper / Wood / Glass/ Plastic/ Marbles\\n\\nPetrochem\\n\\nSteel\\n\\nHealthcare/Biotech\\n\\nBiotech\\n\\nHealthcare\\n\\nPharmaceuticals\\n\\nServices\\n\\nAdvertising\\n\\nConsultancy / Audit\\n\\nEducation\\n\\nHotels / Restaurants\\n\\nProperty / C'struction\\n\\nRetail\\n\\nTravel\\n\\nMedia/Entertainment\\n\\nEntertainment\\n\\nMedia\\n\\nMore\\n\\nTransportation\\n\\nRailways\\n\\nAirlines / Aviation\\n\\nShipping / Transport\\n\\nRoadways\\n\\nTech\\n\\nITES\\n\\nTech & Internet\\n\\nStartups\\n\\nFunding\\n\\nTech Bytes\\n\\nTelecom\\n\\nTelecom News\\n\\nTelecom Policy\\n\\nMiscellaneous\\n\\nCSR\\n\\nInitiatives\\n\\nPolicy\\n\\nEnvironment\\n\\nBusiness News›\\n\\nIndustry›\\n\\nTransportation›\\n\\nAirlines / Aviation›\\n\\nAir India- Vistara merger gets NCLT nod\\n\\nThe Economic Times daily newspaper is available online now.\\n\\nRead Today's Paper\\n\\nAir India- Vistara merger gets NCLT nod\\n\\nSECTIONS\\n\\nAir India- Vistara merger gets NCLT nod\\n\\nRate Story\\n\\nFollow us\\n\\nShare\\n\\nFont Size\\n\\nAbc\\n\\nSmall\\n\\nAbc\\n\\nMedium\\n\\nAbc\\n\\nLarge\\n\\nSave\\n\\nPrint\\n\\nComment\\n\\nSynopsis\\n\\nAccess Denied\\n \\nYou don't have permission to access \\\"http://www.financialexpress.com/business/airlines-aviation-air-india-vistara-merger-gets-approval-nclt-gives-nod-for-worlds-largest-airline-group-3517515/\\\" on this server.\\n\\nReference #18.6601c045.1717931014.10685e9d\\n\\nhttps://errors.edgesuite.net/18.6601c045.1717931014.10685e9d\\n\\nAccess Denied\\n \\nYou don't have permission to access \\\"http://www.financialexpress.com/business/airlines-aviation-air-india-vistara-merger-gets-approval-nclt-gives-nod-for-worlds-largest-airline-group-3517515/\\\" on this server.\\n\\nReference #18.6601c045.1717931014.10685e9d\\n\\nhttps://errors.edgesuite.net/18.6601c045.1717931014.10685e9d\\n\\nSECTIONS\\n\\nAir India- Vistara merger gets NCLT nod\\n\\nRate Story\\n\\nFollow us\\n\\nShare\\n\\nFont Size\\n\\nAbc\\n\\nSmall\\n\\nAbc\\n\\nMedium\\n\\nAbc\\n\\nLarge\\n\\nSave\\n\\nPrint\\n\\nComment\\n\\nSynopsis\\n\\nThe National Company Law Tribunal (NCLT) has approved the merger of Air India and Vistara, making Air India the largest international carrier in India operating flights to five continents. The merger, already approved by the Competition Commission of India, will lead to a more efficient operation by eliminating duplicities in resources and operations. Consultants are working on harmonizing workforce and route networks, with the integration process set to begin gradually without grounding flights.\\n\\nAgencies\\n\\nRelated\\n\\nAir India Express bets on growth opportunities, group synergies\\n\\nVistara nimble enough to make course corrections: CEO Vinod Kannan\\n\\nThe National Court Law Tribunal (\\n\\nNCLT) has approved the\\n\\nmerger of\\n\\nAir India & final.\"\n",
      "}\n",
      "\u001b[36;1m\u001b[1;3m[chain/end]\u001b[0m \u001b[1m[chain:RunnableSequence > chain:RunnableParallel<context,question> > chain:RunnableSequence] [379ms] Exiting Chain run with output:\n",
      "\u001b[0m{\n",
      "  \"output\": \"Construction\\n\\nEngineering\\n\\nCement\\n\\nChem / Fertilisers\\n\\nMetals & Mining\\n\\nPackaging\\n\\nPaper / Wood / Glass/ Plastic/ Marbles\\n\\nPetrochem\\n\\nSteel\\n\\nHealthcare/Biotech\\n\\nBiotech\\n\\nHealthcare\\n\\nPharmaceuticals\\n\\nServices\\n\\nAdvertising\\n\\nConsultancy / Audit\\n\\nEducation\\n\\nHotels / Restaurants\\n\\nProperty / C'struction\\n\\nRetail\\n\\nTravel\\n\\nMedia/Entertainment\\n\\nEntertainment\\n\\nMedia\\n\\nMore\\n\\nTransportation\\n\\nRailways\\n\\nAirlines / Aviation\\n\\nShipping / Transport\\n\\nRoadways\\n\\nTech\\n\\nITES\\n\\nTech & Internet\\n\\nStartups\\n\\nFunding\\n\\nTech Bytes\\n\\nTelecom\\n\\nTelecom News\\n\\nTelecom Policy\\n\\nMiscellaneous\\n\\nCSR\\n\\nInitiatives\\n\\nPolicy\\n\\nEnvironment\\n\\nBusiness News›\\n\\nIndustry›\\n\\nTransportation›\\n\\nAirlines / Aviation›\\n\\nAir India- Vistara merger gets NCLT nod\\n\\nThe Economic Times daily newspaper is available online now.\\n\\nRead Today's Paper\\n\\nAir India- Vistara merger gets NCLT nod\\n\\nSECTIONS\\n\\nAir India- Vistara merger gets NCLT nod\\n\\nRate Story\\n\\nFollow us\\n\\nShare\\n\\nFont Size\\n\\nAbc\\n\\nSmall\\n\\nAbc\\n\\nMedium\\n\\nAbc\\n\\nLarge\\n\\nSave\\n\\nPrint\\n\\nComment\\n\\nSynopsis\\n\\nConstruction\\n\\nEngineering\\n\\nCement\\n\\nChem / Fertilisers\\n\\nMetals & Mining\\n\\nPackaging\\n\\nPaper / Wood / Glass/ Plastic/ Marbles\\n\\nPetrochem\\n\\nSteel\\n\\nHealthcare/Biotech\\n\\nBiotech\\n\\nHealthcare\\n\\nPharmaceuticals\\n\\nServices\\n\\nAdvertising\\n\\nConsultancy / Audit\\n\\nEducation\\n\\nHotels / Restaurants\\n\\nProperty / C'struction\\n\\nRetail\\n\\nTravel\\n\\nMedia/Entertainment\\n\\nEntertainment\\n\\nMedia\\n\\nMore\\n\\nTransportation\\n\\nRailways\\n\\nAirlines / Aviation\\n\\nShipping / Transport\\n\\nRoadways\\n\\nTech\\n\\nITES\\n\\nTech & Internet\\n\\nStartups\\n\\nFunding\\n\\nTech Bytes\\n\\nTelecom\\n\\nTelecom News\\n\\nTelecom Policy\\n\\nMiscellaneous\\n\\nCSR\\n\\nInitiatives\\n\\nPolicy\\n\\nEnvironment\\n\\nBusiness News›\\n\\nIndustry›\\n\\nTransportation›\\n\\nAirlines / Aviation›\\n\\nAir India- Vistara merger gets NCLT nod\\n\\nThe Economic Times daily newspaper is available online now.\\n\\nRead Today's Paper\\n\\nAir India- Vistara merger gets NCLT nod\\n\\nSECTIONS\\n\\nAir India- Vistara merger gets NCLT nod\\n\\nRate Story\\n\\nFollow us\\n\\nShare\\n\\nFont Size\\n\\nAbc\\n\\nSmall\\n\\nAbc\\n\\nMedium\\n\\nAbc\\n\\nLarge\\n\\nSave\\n\\nPrint\\n\\nComment\\n\\nSynopsis\\n\\nAccess Denied\\n \\nYou don't have permission to access \\\"http://www.financialexpress.com/business/airlines-aviation-air-india-vistara-merger-gets-approval-nclt-gives-nod-for-worlds-largest-airline-group-3517515/\\\" on this server.\\n\\nReference #18.6601c045.1717931014.10685e9d\\n\\nhttps://errors.edgesuite.net/18.6601c045.1717931014.10685e9d\\n\\nAccess Denied\\n \\nYou don't have permission to access \\\"http://www.financialexpress.com/business/airlines-aviation-air-india-vistara-merger-gets-approval-nclt-gives-nod-for-worlds-largest-airline-group-3517515/\\\" on this server.\\n\\nReference #18.6601c045.1717931014.10685e9d\\n\\nhttps://errors.edgesuite.net/18.6601c045.1717931014.10685e9d\\n\\nSECTIONS\\n\\nAir India- Vistara merger gets NCLT nod\\n\\nRate Story\\n\\nFollow us\\n\\nShare\\n\\nFont Size\\n\\nAbc\\n\\nSmall\\n\\nAbc\\n\\nMedium\\n\\nAbc\\n\\nLarge\\n\\nSave\\n\\nPrint\\n\\nComment\\n\\nSynopsis\\n\\nThe National Company Law Tribunal (NCLT) has approved the merger of Air India and Vistara, making Air India the largest international carrier in India operating flights to five continents. The merger, already approved by the Competition Commission of India, will lead to a more efficient operation by eliminating duplicities in resources and operations. Consultants are working on harmonizing workforce and route networks, with the integration process set to begin gradually without grounding flights.\\n\\nAgencies\\n\\nRelated\\n\\nAir India Express bets on growth opportunities, group synergies\\n\\nVistara nimble enough to make course corrections: CEO Vinod Kannan\\n\\nThe National Court Law Tribunal (\\n\\nNCLT) has approved the\\n\\nmerger of\\n\\nAir India & final.\"\n",
      "}\n",
      "\u001b[36;1m\u001b[1;3m[chain/end]\u001b[0m \u001b[1m[chain:RunnableSequence > chain:RunnableParallel<context,question>] [381ms] Exiting Chain run with output:\n",
      "\u001b[0m{\n",
      "  \"context\": \"Construction\\n\\nEngineering\\n\\nCement\\n\\nChem / Fertilisers\\n\\nMetals & Mining\\n\\nPackaging\\n\\nPaper / Wood / Glass/ Plastic/ Marbles\\n\\nPetrochem\\n\\nSteel\\n\\nHealthcare/Biotech\\n\\nBiotech\\n\\nHealthcare\\n\\nPharmaceuticals\\n\\nServices\\n\\nAdvertising\\n\\nConsultancy / Audit\\n\\nEducation\\n\\nHotels / Restaurants\\n\\nProperty / C'struction\\n\\nRetail\\n\\nTravel\\n\\nMedia/Entertainment\\n\\nEntertainment\\n\\nMedia\\n\\nMore\\n\\nTransportation\\n\\nRailways\\n\\nAirlines / Aviation\\n\\nShipping / Transport\\n\\nRoadways\\n\\nTech\\n\\nITES\\n\\nTech & Internet\\n\\nStartups\\n\\nFunding\\n\\nTech Bytes\\n\\nTelecom\\n\\nTelecom News\\n\\nTelecom Policy\\n\\nMiscellaneous\\n\\nCSR\\n\\nInitiatives\\n\\nPolicy\\n\\nEnvironment\\n\\nBusiness News›\\n\\nIndustry›\\n\\nTransportation›\\n\\nAirlines / Aviation›\\n\\nAir India- Vistara merger gets NCLT nod\\n\\nThe Economic Times daily newspaper is available online now.\\n\\nRead Today's Paper\\n\\nAir India- Vistara merger gets NCLT nod\\n\\nSECTIONS\\n\\nAir India- Vistara merger gets NCLT nod\\n\\nRate Story\\n\\nFollow us\\n\\nShare\\n\\nFont Size\\n\\nAbc\\n\\nSmall\\n\\nAbc\\n\\nMedium\\n\\nAbc\\n\\nLarge\\n\\nSave\\n\\nPrint\\n\\nComment\\n\\nSynopsis\\n\\nConstruction\\n\\nEngineering\\n\\nCement\\n\\nChem / Fertilisers\\n\\nMetals & Mining\\n\\nPackaging\\n\\nPaper / Wood / Glass/ Plastic/ Marbles\\n\\nPetrochem\\n\\nSteel\\n\\nHealthcare/Biotech\\n\\nBiotech\\n\\nHealthcare\\n\\nPharmaceuticals\\n\\nServices\\n\\nAdvertising\\n\\nConsultancy / Audit\\n\\nEducation\\n\\nHotels / Restaurants\\n\\nProperty / C'struction\\n\\nRetail\\n\\nTravel\\n\\nMedia/Entertainment\\n\\nEntertainment\\n\\nMedia\\n\\nMore\\n\\nTransportation\\n\\nRailways\\n\\nAirlines / Aviation\\n\\nShipping / Transport\\n\\nRoadways\\n\\nTech\\n\\nITES\\n\\nTech & Internet\\n\\nStartups\\n\\nFunding\\n\\nTech Bytes\\n\\nTelecom\\n\\nTelecom News\\n\\nTelecom Policy\\n\\nMiscellaneous\\n\\nCSR\\n\\nInitiatives\\n\\nPolicy\\n\\nEnvironment\\n\\nBusiness News›\\n\\nIndustry›\\n\\nTransportation›\\n\\nAirlines / Aviation›\\n\\nAir India- Vistara merger gets NCLT nod\\n\\nThe Economic Times daily newspaper is available online now.\\n\\nRead Today's Paper\\n\\nAir India- Vistara merger gets NCLT nod\\n\\nSECTIONS\\n\\nAir India- Vistara merger gets NCLT nod\\n\\nRate Story\\n\\nFollow us\\n\\nShare\\n\\nFont Size\\n\\nAbc\\n\\nSmall\\n\\nAbc\\n\\nMedium\\n\\nAbc\\n\\nLarge\\n\\nSave\\n\\nPrint\\n\\nComment\\n\\nSynopsis\\n\\nAccess Denied\\n \\nYou don't have permission to access \\\"http://www.financialexpress.com/business/airlines-aviation-air-india-vistara-merger-gets-approval-nclt-gives-nod-for-worlds-largest-airline-group-3517515/\\\" on this server.\\n\\nReference #18.6601c045.1717931014.10685e9d\\n\\nhttps://errors.edgesuite.net/18.6601c045.1717931014.10685e9d\\n\\nAccess Denied\\n \\nYou don't have permission to access \\\"http://www.financialexpress.com/business/airlines-aviation-air-india-vistara-merger-gets-approval-nclt-gives-nod-for-worlds-largest-airline-group-3517515/\\\" on this server.\\n\\nReference #18.6601c045.1717931014.10685e9d\\n\\nhttps://errors.edgesuite.net/18.6601c045.1717931014.10685e9d\\n\\nSECTIONS\\n\\nAir India- Vistara merger gets NCLT nod\\n\\nRate Story\\n\\nFollow us\\n\\nShare\\n\\nFont Size\\n\\nAbc\\n\\nSmall\\n\\nAbc\\n\\nMedium\\n\\nAbc\\n\\nLarge\\n\\nSave\\n\\nPrint\\n\\nComment\\n\\nSynopsis\\n\\nThe National Company Law Tribunal (NCLT) has approved the merger of Air India and Vistara, making Air India the largest international carrier in India operating flights to five continents. The merger, already approved by the Competition Commission of India, will lead to a more efficient operation by eliminating duplicities in resources and operations. Consultants are working on harmonizing workforce and route networks, with the integration process set to begin gradually without grounding flights.\\n\\nAgencies\\n\\nRelated\\n\\nAir India Express bets on growth opportunities, group synergies\\n\\nVistara nimble enough to make course corrections: CEO Vinod Kannan\\n\\nThe National Court Law Tribunal (\\n\\nNCLT) has approved the\\n\\nmerger of\\n\\nAir India & final.\",\n",
      "  \"question\": \"What merger are we talking about here?\"\n",
      "}\n",
      "\u001b[32;1m\u001b[1;3m[chain/start]\u001b[0m \u001b[1m[chain:RunnableSequence > prompt:ChatPromptTemplate] Entering Prompt run with input:\n",
      "\u001b[0m{\n",
      "  \"context\": \"Construction\\n\\nEngineering\\n\\nCement\\n\\nChem / Fertilisers\\n\\nMetals & Mining\\n\\nPackaging\\n\\nPaper / Wood / Glass/ Plastic/ Marbles\\n\\nPetrochem\\n\\nSteel\\n\\nHealthcare/Biotech\\n\\nBiotech\\n\\nHealthcare\\n\\nPharmaceuticals\\n\\nServices\\n\\nAdvertising\\n\\nConsultancy / Audit\\n\\nEducation\\n\\nHotels / Restaurants\\n\\nProperty / C'struction\\n\\nRetail\\n\\nTravel\\n\\nMedia/Entertainment\\n\\nEntertainment\\n\\nMedia\\n\\nMore\\n\\nTransportation\\n\\nRailways\\n\\nAirlines / Aviation\\n\\nShipping / Transport\\n\\nRoadways\\n\\nTech\\n\\nITES\\n\\nTech & Internet\\n\\nStartups\\n\\nFunding\\n\\nTech Bytes\\n\\nTelecom\\n\\nTelecom News\\n\\nTelecom Policy\\n\\nMiscellaneous\\n\\nCSR\\n\\nInitiatives\\n\\nPolicy\\n\\nEnvironment\\n\\nBusiness News›\\n\\nIndustry›\\n\\nTransportation›\\n\\nAirlines / Aviation›\\n\\nAir India- Vistara merger gets NCLT nod\\n\\nThe Economic Times daily newspaper is available online now.\\n\\nRead Today's Paper\\n\\nAir India- Vistara merger gets NCLT nod\\n\\nSECTIONS\\n\\nAir India- Vistara merger gets NCLT nod\\n\\nRate Story\\n\\nFollow us\\n\\nShare\\n\\nFont Size\\n\\nAbc\\n\\nSmall\\n\\nAbc\\n\\nMedium\\n\\nAbc\\n\\nLarge\\n\\nSave\\n\\nPrint\\n\\nComment\\n\\nSynopsis\\n\\nConstruction\\n\\nEngineering\\n\\nCement\\n\\nChem / Fertilisers\\n\\nMetals & Mining\\n\\nPackaging\\n\\nPaper / Wood / Glass/ Plastic/ Marbles\\n\\nPetrochem\\n\\nSteel\\n\\nHealthcare/Biotech\\n\\nBiotech\\n\\nHealthcare\\n\\nPharmaceuticals\\n\\nServices\\n\\nAdvertising\\n\\nConsultancy / Audit\\n\\nEducation\\n\\nHotels / Restaurants\\n\\nProperty / C'struction\\n\\nRetail\\n\\nTravel\\n\\nMedia/Entertainment\\n\\nEntertainment\\n\\nMedia\\n\\nMore\\n\\nTransportation\\n\\nRailways\\n\\nAirlines / Aviation\\n\\nShipping / Transport\\n\\nRoadways\\n\\nTech\\n\\nITES\\n\\nTech & Internet\\n\\nStartups\\n\\nFunding\\n\\nTech Bytes\\n\\nTelecom\\n\\nTelecom News\\n\\nTelecom Policy\\n\\nMiscellaneous\\n\\nCSR\\n\\nInitiatives\\n\\nPolicy\\n\\nEnvironment\\n\\nBusiness News›\\n\\nIndustry›\\n\\nTransportation›\\n\\nAirlines / Aviation›\\n\\nAir India- Vistara merger gets NCLT nod\\n\\nThe Economic Times daily newspaper is available online now.\\n\\nRead Today's Paper\\n\\nAir India- Vistara merger gets NCLT nod\\n\\nSECTIONS\\n\\nAir India- Vistara merger gets NCLT nod\\n\\nRate Story\\n\\nFollow us\\n\\nShare\\n\\nFont Size\\n\\nAbc\\n\\nSmall\\n\\nAbc\\n\\nMedium\\n\\nAbc\\n\\nLarge\\n\\nSave\\n\\nPrint\\n\\nComment\\n\\nSynopsis\\n\\nAccess Denied\\n \\nYou don't have permission to access \\\"http://www.financialexpress.com/business/airlines-aviation-air-india-vistara-merger-gets-approval-nclt-gives-nod-for-worlds-largest-airline-group-3517515/\\\" on this server.\\n\\nReference #18.6601c045.1717931014.10685e9d\\n\\nhttps://errors.edgesuite.net/18.6601c045.1717931014.10685e9d\\n\\nAccess Denied\\n \\nYou don't have permission to access \\\"http://www.financialexpress.com/business/airlines-aviation-air-india-vistara-merger-gets-approval-nclt-gives-nod-for-worlds-largest-airline-group-3517515/\\\" on this server.\\n\\nReference #18.6601c045.1717931014.10685e9d\\n\\nhttps://errors.edgesuite.net/18.6601c045.1717931014.10685e9d\\n\\nSECTIONS\\n\\nAir India- Vistara merger gets NCLT nod\\n\\nRate Story\\n\\nFollow us\\n\\nShare\\n\\nFont Size\\n\\nAbc\\n\\nSmall\\n\\nAbc\\n\\nMedium\\n\\nAbc\\n\\nLarge\\n\\nSave\\n\\nPrint\\n\\nComment\\n\\nSynopsis\\n\\nThe National Company Law Tribunal (NCLT) has approved the merger of Air India and Vistara, making Air India the largest international carrier in India operating flights to five continents. The merger, already approved by the Competition Commission of India, will lead to a more efficient operation by eliminating duplicities in resources and operations. Consultants are working on harmonizing workforce and route networks, with the integration process set to begin gradually without grounding flights.\\n\\nAgencies\\n\\nRelated\\n\\nAir India Express bets on growth opportunities, group synergies\\n\\nVistara nimble enough to make course corrections: CEO Vinod Kannan\\n\\nThe National Court Law Tribunal (\\n\\nNCLT) has approved the\\n\\nmerger of\\n\\nAir India & final.\",\n",
      "  \"question\": \"What merger are we talking about here?\"\n",
      "}\n",
      "\u001b[36;1m\u001b[1;3m[chain/end]\u001b[0m \u001b[1m[chain:RunnableSequence > prompt:ChatPromptTemplate] [0ms] Exiting Prompt run with output:\n",
      "\u001b[0m[outputs]\n",
      "\u001b[32;1m\u001b[1;3m[llm/start]\u001b[0m \u001b[1m[chain:RunnableSequence > llm:ChatGoogleGenerativeAI] Entering LLM run with input:\n",
      "\u001b[0m{\n",
      "  \"prompts\": [\n",
      "    \"Human: You are an assistant for question-answering tasks. Use the following pieces of retrieved context to answer the question. If you don't know the answer, just say that you don't know. Use three sentences maximum and keep the answer concise.\\nQuestion: What merger are we talking about here? \\nContext: Construction\\n\\nEngineering\\n\\nCement\\n\\nChem / Fertilisers\\n\\nMetals & Mining\\n\\nPackaging\\n\\nPaper / Wood / Glass/ Plastic/ Marbles\\n\\nPetrochem\\n\\nSteel\\n\\nHealthcare/Biotech\\n\\nBiotech\\n\\nHealthcare\\n\\nPharmaceuticals\\n\\nServices\\n\\nAdvertising\\n\\nConsultancy / Audit\\n\\nEducation\\n\\nHotels / Restaurants\\n\\nProperty / C'struction\\n\\nRetail\\n\\nTravel\\n\\nMedia/Entertainment\\n\\nEntertainment\\n\\nMedia\\n\\nMore\\n\\nTransportation\\n\\nRailways\\n\\nAirlines / Aviation\\n\\nShipping / Transport\\n\\nRoadways\\n\\nTech\\n\\nITES\\n\\nTech & Internet\\n\\nStartups\\n\\nFunding\\n\\nTech Bytes\\n\\nTelecom\\n\\nTelecom News\\n\\nTelecom Policy\\n\\nMiscellaneous\\n\\nCSR\\n\\nInitiatives\\n\\nPolicy\\n\\nEnvironment\\n\\nBusiness News›\\n\\nIndustry›\\n\\nTransportation›\\n\\nAirlines / Aviation›\\n\\nAir India- Vistara merger gets NCLT nod\\n\\nThe Economic Times daily newspaper is available online now.\\n\\nRead Today's Paper\\n\\nAir India- Vistara merger gets NCLT nod\\n\\nSECTIONS\\n\\nAir India- Vistara merger gets NCLT nod\\n\\nRate Story\\n\\nFollow us\\n\\nShare\\n\\nFont Size\\n\\nAbc\\n\\nSmall\\n\\nAbc\\n\\nMedium\\n\\nAbc\\n\\nLarge\\n\\nSave\\n\\nPrint\\n\\nComment\\n\\nSynopsis\\n\\nConstruction\\n\\nEngineering\\n\\nCement\\n\\nChem / Fertilisers\\n\\nMetals & Mining\\n\\nPackaging\\n\\nPaper / Wood / Glass/ Plastic/ Marbles\\n\\nPetrochem\\n\\nSteel\\n\\nHealthcare/Biotech\\n\\nBiotech\\n\\nHealthcare\\n\\nPharmaceuticals\\n\\nServices\\n\\nAdvertising\\n\\nConsultancy / Audit\\n\\nEducation\\n\\nHotels / Restaurants\\n\\nProperty / C'struction\\n\\nRetail\\n\\nTravel\\n\\nMedia/Entertainment\\n\\nEntertainment\\n\\nMedia\\n\\nMore\\n\\nTransportation\\n\\nRailways\\n\\nAirlines / Aviation\\n\\nShipping / Transport\\n\\nRoadways\\n\\nTech\\n\\nITES\\n\\nTech & Internet\\n\\nStartups\\n\\nFunding\\n\\nTech Bytes\\n\\nTelecom\\n\\nTelecom News\\n\\nTelecom Policy\\n\\nMiscellaneous\\n\\nCSR\\n\\nInitiatives\\n\\nPolicy\\n\\nEnvironment\\n\\nBusiness News›\\n\\nIndustry›\\n\\nTransportation›\\n\\nAirlines / Aviation›\\n\\nAir India- Vistara merger gets NCLT nod\\n\\nThe Economic Times daily newspaper is available online now.\\n\\nRead Today's Paper\\n\\nAir India- Vistara merger gets NCLT nod\\n\\nSECTIONS\\n\\nAir India- Vistara merger gets NCLT nod\\n\\nRate Story\\n\\nFollow us\\n\\nShare\\n\\nFont Size\\n\\nAbc\\n\\nSmall\\n\\nAbc\\n\\nMedium\\n\\nAbc\\n\\nLarge\\n\\nSave\\n\\nPrint\\n\\nComment\\n\\nSynopsis\\n\\nAccess Denied\\n \\nYou don't have permission to access \\\"http://www.financialexpress.com/business/airlines-aviation-air-india-vistara-merger-gets-approval-nclt-gives-nod-for-worlds-largest-airline-group-3517515/\\\" on this server.\\n\\nReference #18.6601c045.1717931014.10685e9d\\n\\nhttps://errors.edgesuite.net/18.6601c045.1717931014.10685e9d\\n\\nAccess Denied\\n \\nYou don't have permission to access \\\"http://www.financialexpress.com/business/airlines-aviation-air-india-vistara-merger-gets-approval-nclt-gives-nod-for-worlds-largest-airline-group-3517515/\\\" on this server.\\n\\nReference #18.6601c045.1717931014.10685e9d\\n\\nhttps://errors.edgesuite.net/18.6601c045.1717931014.10685e9d\\n\\nSECTIONS\\n\\nAir India- Vistara merger gets NCLT nod\\n\\nRate Story\\n\\nFollow us\\n\\nShare\\n\\nFont Size\\n\\nAbc\\n\\nSmall\\n\\nAbc\\n\\nMedium\\n\\nAbc\\n\\nLarge\\n\\nSave\\n\\nPrint\\n\\nComment\\n\\nSynopsis\\n\\nThe National Company Law Tribunal (NCLT) has approved the merger of Air India and Vistara, making Air India the largest international carrier in India operating flights to five continents. The merger, already approved by the Competition Commission of India, will lead to a more efficient operation by eliminating duplicities in resources and operations. Consultants are working on harmonizing workforce and route networks, with the integration process set to begin gradually without grounding flights.\\n\\nAgencies\\n\\nRelated\\n\\nAir India Express bets on growth opportunities, group synergies\\n\\nVistara nimble enough to make course corrections: CEO Vinod Kannan\\n\\nThe National Court Law Tribunal (\\n\\nNCLT) has approved the\\n\\nmerger of\\n\\nAir India & final. \\nAnswer:\"\n",
      "  ]\n",
      "}\n",
      "\u001b[36;1m\u001b[1;3m[llm/end]\u001b[0m \u001b[1m[chain:RunnableSequence > llm:ChatGoogleGenerativeAI] [1.35s] Exiting LLM run with output:\n",
      "\u001b[0m{\n",
      "  \"generations\": [\n",
      "    [\n",
      "      {\n",
      "        \"text\": \"The merger being discussed is the combination of Air India and Vistara, which has been approved by the National Company Law Tribunal (NCLT). This merger will make Air India the largest international carrier in India, operating flights to five continents. \\n\",\n",
      "        \"generation_info\": {\n",
      "          \"finish_reason\": \"STOP\",\n",
      "          \"safety_ratings\": [\n",
      "            {\n",
      "              \"category\": \"HARM_CATEGORY_SEXUALLY_EXPLICIT\",\n",
      "              \"probability\": \"NEGLIGIBLE\",\n",
      "              \"blocked\": false\n",
      "            },\n",
      "            {\n",
      "              \"category\": \"HARM_CATEGORY_HATE_SPEECH\",\n",
      "              \"probability\": \"NEGLIGIBLE\",\n",
      "              \"blocked\": false\n",
      "            },\n",
      "            {\n",
      "              \"category\": \"HARM_CATEGORY_HARASSMENT\",\n",
      "              \"probability\": \"NEGLIGIBLE\",\n",
      "              \"blocked\": false\n",
      "            },\n",
      "            {\n",
      "              \"category\": \"HARM_CATEGORY_DANGEROUS_CONTENT\",\n",
      "              \"probability\": \"NEGLIGIBLE\",\n",
      "              \"blocked\": false\n",
      "            }\n",
      "          ]\n",
      "        },\n",
      "        \"type\": \"ChatGeneration\",\n",
      "        \"message\": {\n",
      "          \"lc\": 1,\n",
      "          \"type\": \"constructor\",\n",
      "          \"id\": [\n",
      "            \"langchain\",\n",
      "            \"schema\",\n",
      "            \"messages\",\n",
      "            \"AIMessage\"\n",
      "          ],\n",
      "          \"kwargs\": {\n",
      "            \"content\": \"The merger being discussed is the combination of Air India and Vistara, which has been approved by the National Company Law Tribunal (NCLT). This merger will make Air India the largest international carrier in India, operating flights to five continents. \\n\",\n",
      "            \"response_metadata\": {\n",
      "              \"prompt_feedback\": {\n",
      "                \"block_reason\": 0,\n",
      "                \"safety_ratings\": []\n",
      "              },\n",
      "              \"finish_reason\": \"STOP\",\n",
      "              \"safety_ratings\": [\n",
      "                {\n",
      "                  \"category\": \"HARM_CATEGORY_SEXUALLY_EXPLICIT\",\n",
      "                  \"probability\": \"NEGLIGIBLE\",\n",
      "                  \"blocked\": false\n",
      "                },\n",
      "                {\n",
      "                  \"category\": \"HARM_CATEGORY_HATE_SPEECH\",\n",
      "                  \"probability\": \"NEGLIGIBLE\",\n",
      "                  \"blocked\": false\n",
      "                },\n",
      "                {\n",
      "                  \"category\": \"HARM_CATEGORY_HARASSMENT\",\n",
      "                  \"probability\": \"NEGLIGIBLE\",\n",
      "                  \"blocked\": false\n",
      "                },\n",
      "                {\n",
      "                  \"category\": \"HARM_CATEGORY_DANGEROUS_CONTENT\",\n",
      "                  \"probability\": \"NEGLIGIBLE\",\n",
      "                  \"blocked\": false\n",
      "                }\n",
      "              ]\n",
      "            },\n",
      "            \"type\": \"ai\",\n",
      "            \"id\": \"run-10e7d6a9-84ae-491b-8146-0b1ad216bb34-0\",\n",
      "            \"usage_metadata\": {\n",
      "              \"input_tokens\": 1024,\n",
      "              \"output_tokens\": 47,\n",
      "              \"total_tokens\": 1071\n",
      "            },\n",
      "            \"tool_calls\": [],\n",
      "            \"invalid_tool_calls\": []\n",
      "          }\n",
      "        }\n",
      "      }\n",
      "    ]\n",
      "  ],\n",
      "  \"llm_output\": {\n",
      "    \"prompt_feedback\": {\n",
      "      \"block_reason\": 0,\n",
      "      \"safety_ratings\": []\n",
      "    }\n",
      "  },\n",
      "  \"run\": null\n",
      "}\n",
      "\u001b[32;1m\u001b[1;3m[chain/start]\u001b[0m \u001b[1m[chain:RunnableSequence > parser:StrOutputParser] Entering Parser run with input:\n",
      "\u001b[0m[inputs]\n",
      "\u001b[36;1m\u001b[1;3m[chain/end]\u001b[0m \u001b[1m[chain:RunnableSequence > parser:StrOutputParser] [0ms] Exiting Parser run with output:\n",
      "\u001b[0m{\n",
      "  \"output\": \"The merger being discussed is the combination of Air India and Vistara, which has been approved by the National Company Law Tribunal (NCLT). This merger will make Air India the largest international carrier in India, operating flights to five continents. \\n\"\n",
      "}\n",
      "\u001b[36;1m\u001b[1;3m[chain/end]\u001b[0m \u001b[1m[chain:RunnableSequence] [1.73s] Exiting Chain run with output:\n",
      "\u001b[0m{\n",
      "  \"output\": \"The merger being discussed is the combination of Air India and Vistara, which has been approved by the National Company Law Tribunal (NCLT). This merger will make Air India the largest international carrier in India, operating flights to five continents. \\n\"\n",
      "}\n"
     ]
    }
   ],
   "source": [
    "# Try to run the chain\n",
    "langchain.debug = True\n",
    "rag_chain.invoke(\"What merger are we talking about here?\")\n",
    "langchain.debug = False"
   ]
  },
  {
   "cell_type": "code",
   "execution_count": 168,
   "id": "494686fd-b9eb-4db4-bd09-56e89373feb4",
   "metadata": {},
   "outputs": [
    {
     "name": "stdout",
     "output_type": "stream",
     "text": [
      "The merger being discussed is the combination of Air India and Vistara. The National Company Law Tribunal (NCLT) has approved the merger, making Air India the largest international carrier in India. The merger is expected to lead to a more efficient operation by eliminating redundancies. \n"
     ]
    }
   ],
   "source": [
    "# Try to run the chain\n",
    "for chunk in rag_chain.stream(\"What merger are we talking about here?\"):\n",
    "    print(chunk, end=\"\", flush=True)"
   ]
  },
  {
   "cell_type": "code",
   "execution_count": 184,
   "id": "c28c4d24-5ea3-4f25-a78e-1f7c177d8ec8",
   "metadata": {},
   "outputs": [
    {
     "name": "stdout",
     "output_type": "stream",
     "text": [
      "You are an assistant for question-answering tasks. Use the following pieces of retrieved context to answer the question. If you don't know the answer, just say that you don't know. Use three sentences maximum and keep the answer concise.\n",
      "Question: {question} \n",
      "Context: {context} \n",
      "Answer:\n"
     ]
    }
   ],
   "source": [
    "print(prompt.messages[0].prompt.template)"
   ]
  },
  {
   "cell_type": "code",
   "execution_count": null,
   "id": "0f42a9e8-ade5-49ab-ad9e-7a2872e796ec",
   "metadata": {},
   "outputs": [],
   "source": [
    "# Custom prompt\n",
    "rag_prompt_template = \\\n",
    "\"\"\"You are an assistant for question-answering tasks. Use the following pieces of retrieved context to answer the question. If you don't know the answer, just say that you don't know. Use three sentences maximum and keep the answer concise.\n",
    "Question: {question} \n",
    "Context: {context} \n",
    "Answer:\"\"\"\n",
    "\n",
    "\n",
    "rag_prompt = "
   ]
  },
  {
   "cell_type": "markdown",
   "id": "a976dc45-0645-4939-b116-7008f3097dc1",
   "metadata": {},
   "source": [
    "#### Map Reduce Chain"
   ]
  },
  {
   "cell_type": "code",
   "execution_count": 194,
   "id": "488ca3c0-816c-455e-99af-0547a512ed0c",
   "metadata": {},
   "outputs": [],
   "source": [
    "from langchain.chains import RetrievalQAWithSourcesChain\n",
    "from langchain.chains.qa_with_sources import load_qa_with_sources_chain"
   ]
  },
  {
   "cell_type": "code",
   "execution_count": 195,
   "id": "5ec4a5bb-ce80-4b7c-80b9-7a11ca92815e",
   "metadata": {},
   "outputs": [],
   "source": [
    "doc_chain = load_qa_with_sources_chain(llm, chain_type=\"map_reduce\")"
   ]
  },
  {
   "cell_type": "code",
   "execution_count": 196,
   "id": "7f2212d9-9952-4857-bd1c-e50a032d644d",
   "metadata": {},
   "outputs": [],
   "source": [
    "chain = RetrievalQAWithSourcesChain(retriever=retriever, combine_documents_chain=doc_chain)"
   ]
  },
  {
   "cell_type": "code",
   "execution_count": 201,
   "id": "0941fea1-edbf-4437-8f3d-d9d764b5bae2",
   "metadata": {},
   "outputs": [
    {
     "data": {
      "text/plain": [
       "RetrievalQAWithSourcesChain(combine_documents_chain=MapReduceDocumentsChain(llm_chain=LLMChain(prompt=PromptTemplate(input_variables=['context', 'question'], template='Use the following portion of a long document to see if any of the text is relevant to answer the question. \\nReturn any relevant text verbatim.\\n{context}\\nQuestion: {question}\\nRelevant text, if any:'), llm=ChatGoogleGenerativeAI(model='models/gemini-1.5-flash', google_api_key=SecretStr('**********'), temperature=0.2, client=<google.ai.generativelanguage_v1beta.services.generative_service.client.GenerativeServiceClient object at 0x7f3cf1a172d0>, async_client=<google.ai.generativelanguage_v1beta.services.generative_service.async_client.GenerativeServiceAsyncClient object at 0x7f3cf10e32d0>, default_metadata=())), reduce_documents_chain=ReduceDocumentsChain(combine_documents_chain=StuffDocumentsChain(llm_chain=LLMChain(prompt=PromptTemplate(input_variables=['question', 'summaries'], template='Given the following extracted parts of a long document and a question, create a final answer with references (\"SOURCES\"). \\nIf you don\\'t know the answer, just say that you don\\'t know. Don\\'t try to make up an answer.\\nALWAYS return a \"SOURCES\" part in your answer.\\n\\nQUESTION: Which state/country\\'s law governs the interpretation of the contract?\\n=========\\nContent: This Agreement is governed by English law and the parties submit to the exclusive jurisdiction of the English courts in  relation to any dispute (contractual or non-contractual) concerning this Agreement save that either party may apply to any court for an  injunction or other relief to protect its Intellectual Property Rights.\\nSource: 28-pl\\nContent: No Waiver. Failure or delay in exercising any right or remedy under this Agreement shall not constitute a waiver of such (or any other)  right or remedy.\\n\\n11.7 Severability. The invalidity, illegality or unenforceability of any term (or part of a term) of this Agreement shall not affect the continuation  in force of the remainder of the term (if any) and this Agreement.\\n\\n11.8 No Agency. Except as expressly stated otherwise, nothing in this Agreement shall create an agency, partnership or joint venture of any  kind between the parties.\\n\\n11.9 No Third-Party Beneficiaries.\\nSource: 30-pl\\nContent: (b) if Google believes, in good faith, that the Distributor has violated or caused Google to violate any Anti-Bribery Laws (as  defined in Clause 8.5) or that such a violation is reasonably likely to occur,\\nSource: 4-pl\\n=========\\nFINAL ANSWER: This Agreement is governed by English law.\\nSOURCES: 28-pl\\n\\nQUESTION: What did the president say about Michael Jackson?\\n=========\\nContent: Madam Speaker, Madam Vice President, our First Lady and Second Gentleman. Members of Congress and the Cabinet. Justices of the Supreme Court. My fellow Americans.  \\n\\nLast year COVID-19 kept us apart. This year we are finally together again. \\n\\nTonight, we meet as Democrats Republicans and Independents. But most importantly as Americans. \\n\\nWith a duty to one another to the American people to the Constitution. \\n\\nAnd with an unwavering resolve that freedom will always triumph over tyranny. \\n\\nSix days ago, Russia’s Vladimir Putin sought to shake the foundations of the free world thinking he could make it bend to his menacing ways. But he badly miscalculated. \\n\\nHe thought he could roll into Ukraine and the world would roll over. Instead he met a wall of strength he never imagined. \\n\\nHe met the Ukrainian people. \\n\\nFrom President Zelenskyy to every Ukrainian, their fearlessness, their courage, their determination, inspires the world. \\n\\nGroups of citizens blocking tanks with their bodies. Everyone from students to retirees teachers turned soldiers defending their homeland.\\nSource: 0-pl\\nContent: And we won’t stop. \\n\\nWe have lost so much to COVID-19. Time with one another. And worst of all, so much loss of life. \\n\\nLet’s use this moment to reset. Let’s stop looking at COVID-19 as a partisan dividing line and see it for what it is: A God-awful disease.  \\n\\nLet’s stop seeing each other as enemies, and start seeing each other for who we really are: Fellow Americans.  \\n\\nWe can’t change how divided we’ve been. But we can change how we move forward—on COVID-19 and other issues we must face together. \\n\\nI recently visited the New York City Police Department days after the funerals of Officer Wilbert Mora and his partner, Officer Jason Rivera. \\n\\nThey were responding to a 9-1-1 call when a man shot and killed them with a stolen gun. \\n\\nOfficer Mora was 27 years old. \\n\\nOfficer Rivera was 22. \\n\\nBoth Dominican Americans who’d grown up on the same streets they later chose to patrol as police officers. \\n\\nI spoke with their families and told them that we are forever in debt for their sacrifice, and we will carry on their mission to restore the trust and safety every community deserves.\\nSource: 24-pl\\nContent: And a proud Ukrainian people, who have known 30 years  of independence, have repeatedly shown that they will not tolerate anyone who tries to take their country backwards.  \\n\\nTo all Americans, I will be honest with you, as I’ve always promised. A Russian dictator, invading a foreign country, has costs around the world. \\n\\nAnd I’m taking robust action to make sure the pain of our sanctions  is targeted at Russia’s economy. And I will use every tool at our disposal to protect American businesses and consumers. \\n\\nTonight, I can announce that the United States has worked with 30 other countries to release 60 Million barrels of oil from reserves around the world.  \\n\\nAmerica will lead that effort, releasing 30 Million barrels from our own Strategic Petroleum Reserve. And we stand ready to do more if necessary, unified with our allies.  \\n\\nThese steps will help blunt gas prices here at home. And I know the news about what’s happening can seem alarming. \\n\\nBut I want you to know that we are going to be okay.\\nSource: 5-pl\\nContent: More support for patients and families. \\n\\nTo get there, I call on Congress to fund ARPA-H, the Advanced Research Projects Agency for Health. \\n\\nIt’s based on DARPA—the Defense Department project that led to the Internet, GPS, and so much more.  \\n\\nARPA-H will have a singular purpose—to drive breakthroughs in cancer, Alzheimer’s, diabetes, and more. \\n\\nA unity agenda for the nation. \\n\\nWe can do this. \\n\\nMy fellow Americans—tonight , we have gathered in a sacred space—the citadel of our democracy. \\n\\nIn this Capitol, generation after generation, Americans have debated great questions amid great strife, and have done great things. \\n\\nWe have fought for freedom, expanded liberty, defeated totalitarianism and terror. \\n\\nAnd built the strongest, freest, and most prosperous nation the world has ever known. \\n\\nNow is the hour. \\n\\nOur moment of responsibility. \\n\\nOur test of resolve and conscience, of history itself. \\n\\nIt is in this moment that our character is formed. Our purpose is found. Our future is forged. \\n\\nWell I know this nation.\\nSource: 34-pl\\n=========\\nFINAL ANSWER: The president did not mention Michael Jackson.\\nSOURCES:\\n\\nQUESTION: {question}\\n=========\\n{summaries}\\n=========\\nFINAL ANSWER:'), llm=ChatGoogleGenerativeAI(model='models/gemini-1.5-flash', google_api_key=SecretStr('**********'), temperature=0.2, client=<google.ai.generativelanguage_v1beta.services.generative_service.client.GenerativeServiceClient object at 0x7f3cf1a172d0>, async_client=<google.ai.generativelanguage_v1beta.services.generative_service.async_client.GenerativeServiceAsyncClient object at 0x7f3cf10e32d0>, default_metadata=())), document_prompt=PromptTemplate(input_variables=['page_content', 'source'], template='Content: {page_content}\\nSource: {source}'), document_variable_name='summaries')), document_variable_name='context'), retriever=VectorStoreRetriever(tags=['Chroma', 'GoogleGenerativeAIEmbeddings'], vectorstore=<langchain_community.vectorstores.chroma.Chroma object at 0x7f3bc8603bd0>, search_kwargs={'k': 5}))"
      ]
     },
     "execution_count": 201,
     "metadata": {},
     "output_type": "execute_result"
    }
   ],
   "source": [
    "chain"
   ]
  },
  {
   "cell_type": "code",
   "execution_count": 198,
   "id": "2cfd3db4-19e4-4e1a-b852-cfdcc668930a",
   "metadata": {
    "scrolled": true
   },
   "outputs": [
    {
     "name": "stdout",
     "output_type": "stream",
     "text": [
      "\u001b[32;1m\u001b[1;3m[chain/start]\u001b[0m \u001b[1m[chain:RetrievalQAWithSourcesChain] Entering Chain run with input:\n",
      "\u001b[0m{\n",
      "  \"question\": \"What merger are we talking about here?\"\n",
      "}\n",
      "\u001b[32;1m\u001b[1;3m[chain/start]\u001b[0m \u001b[1m[chain:RetrievalQAWithSourcesChain > chain:MapReduceDocumentsChain] Entering Chain run with input:\n",
      "\u001b[0m[inputs]\n",
      "\u001b[32;1m\u001b[1;3m[chain/start]\u001b[0m \u001b[1m[chain:RetrievalQAWithSourcesChain > chain:MapReduceDocumentsChain > chain:LLMChain] Entering Chain run with input:\n",
      "\u001b[0m{\n",
      "  \"input_list\": [\n",
      "    {\n",
      "      \"context\": \"Construction\\n\\nEngineering\\n\\nCement\\n\\nChem / Fertilisers\\n\\nMetals & Mining\\n\\nPackaging\\n\\nPaper / Wood / Glass/ Plastic/ Marbles\\n\\nPetrochem\\n\\nSteel\\n\\nHealthcare/Biotech\\n\\nBiotech\\n\\nHealthcare\\n\\nPharmaceuticals\\n\\nServices\\n\\nAdvertising\\n\\nConsultancy / Audit\\n\\nEducation\\n\\nHotels / Restaurants\\n\\nProperty / C'struction\\n\\nRetail\\n\\nTravel\\n\\nMedia/Entertainment\\n\\nEntertainment\\n\\nMedia\\n\\nMore\\n\\nTransportation\\n\\nRailways\\n\\nAirlines / Aviation\\n\\nShipping / Transport\\n\\nRoadways\\n\\nTech\\n\\nITES\\n\\nTech & Internet\\n\\nStartups\\n\\nFunding\\n\\nTech Bytes\\n\\nTelecom\\n\\nTelecom News\\n\\nTelecom Policy\\n\\nMiscellaneous\\n\\nCSR\\n\\nInitiatives\\n\\nPolicy\\n\\nEnvironment\\n\\nBusiness News›\\n\\nIndustry›\\n\\nTransportation›\\n\\nAirlines / Aviation›\\n\\nAir India- Vistara merger gets NCLT nod\\n\\nThe Economic Times daily newspaper is available online now.\\n\\nRead Today's Paper\\n\\nAir India- Vistara merger gets NCLT nod\\n\\nSECTIONS\\n\\nAir India- Vistara merger gets NCLT nod\\n\\nRate Story\\n\\nFollow us\\n\\nShare\\n\\nFont Size\\n\\nAbc\\n\\nSmall\\n\\nAbc\\n\\nMedium\\n\\nAbc\\n\\nLarge\\n\\nSave\\n\\nPrint\\n\\nComment\\n\\nSynopsis\",\n",
      "      \"question\": \"What merger are we talking about here?\"\n",
      "    },\n",
      "    {\n",
      "      \"context\": \"Construction\\n\\nEngineering\\n\\nCement\\n\\nChem / Fertilisers\\n\\nMetals & Mining\\n\\nPackaging\\n\\nPaper / Wood / Glass/ Plastic/ Marbles\\n\\nPetrochem\\n\\nSteel\\n\\nHealthcare/Biotech\\n\\nBiotech\\n\\nHealthcare\\n\\nPharmaceuticals\\n\\nServices\\n\\nAdvertising\\n\\nConsultancy / Audit\\n\\nEducation\\n\\nHotels / Restaurants\\n\\nProperty / C'struction\\n\\nRetail\\n\\nTravel\\n\\nMedia/Entertainment\\n\\nEntertainment\\n\\nMedia\\n\\nMore\\n\\nTransportation\\n\\nRailways\\n\\nAirlines / Aviation\\n\\nShipping / Transport\\n\\nRoadways\\n\\nTech\\n\\nITES\\n\\nTech & Internet\\n\\nStartups\\n\\nFunding\\n\\nTech Bytes\\n\\nTelecom\\n\\nTelecom News\\n\\nTelecom Policy\\n\\nMiscellaneous\\n\\nCSR\\n\\nInitiatives\\n\\nPolicy\\n\\nEnvironment\\n\\nBusiness News›\\n\\nIndustry›\\n\\nTransportation›\\n\\nAirlines / Aviation›\\n\\nAir India- Vistara merger gets NCLT nod\\n\\nThe Economic Times daily newspaper is available online now.\\n\\nRead Today's Paper\\n\\nAir India- Vistara merger gets NCLT nod\\n\\nSECTIONS\\n\\nAir India- Vistara merger gets NCLT nod\\n\\nRate Story\\n\\nFollow us\\n\\nShare\\n\\nFont Size\\n\\nAbc\\n\\nSmall\\n\\nAbc\\n\\nMedium\\n\\nAbc\\n\\nLarge\\n\\nSave\\n\\nPrint\\n\\nComment\\n\\nSynopsis\",\n",
      "      \"question\": \"What merger are we talking about here?\"\n",
      "    },\n",
      "    {\n",
      "      \"context\": \"Access Denied\\n \\nYou don't have permission to access \\\"http://www.financialexpress.com/business/airlines-aviation-air-india-vistara-merger-gets-approval-nclt-gives-nod-for-worlds-largest-airline-group-3517515/\\\" on this server.\\n\\nReference #18.6601c045.1717931014.10685e9d\\n\\nhttps://errors.edgesuite.net/18.6601c045.1717931014.10685e9d\",\n",
      "      \"question\": \"What merger are we talking about here?\"\n",
      "    },\n",
      "    {\n",
      "      \"context\": \"Access Denied\\n \\nYou don't have permission to access \\\"http://www.financialexpress.com/business/airlines-aviation-air-india-vistara-merger-gets-approval-nclt-gives-nod-for-worlds-largest-airline-group-3517515/\\\" on this server.\\n\\nReference #18.6601c045.1717931014.10685e9d\\n\\nhttps://errors.edgesuite.net/18.6601c045.1717931014.10685e9d\",\n",
      "      \"question\": \"What merger are we talking about here?\"\n",
      "    },\n",
      "    {\n",
      "      \"context\": \"SECTIONS\\n\\nAir India- Vistara merger gets NCLT nod\\n\\nRate Story\\n\\nFollow us\\n\\nShare\\n\\nFont Size\\n\\nAbc\\n\\nSmall\\n\\nAbc\\n\\nMedium\\n\\nAbc\\n\\nLarge\\n\\nSave\\n\\nPrint\\n\\nComment\\n\\nSynopsis\\n\\nThe National Company Law Tribunal (NCLT) has approved the merger of Air India and Vistara, making Air India the largest international carrier in India operating flights to five continents. The merger, already approved by the Competition Commission of India, will lead to a more efficient operation by eliminating duplicities in resources and operations. Consultants are working on harmonizing workforce and route networks, with the integration process set to begin gradually without grounding flights.\\n\\nAgencies\\n\\nRelated\\n\\nAir India Express bets on growth opportunities, group synergies\\n\\nVistara nimble enough to make course corrections: CEO Vinod Kannan\\n\\nThe National Court Law Tribunal (\\n\\nNCLT) has approved the\\n\\nmerger of\\n\\nAir India & final.\",\n",
      "      \"question\": \"What merger are we talking about here?\"\n",
      "    }\n",
      "  ]\n",
      "}\n",
      "\u001b[32;1m\u001b[1;3m[llm/start]\u001b[0m \u001b[1m[chain:RetrievalQAWithSourcesChain > chain:MapReduceDocumentsChain > chain:LLMChain > llm:ChatGoogleGenerativeAI] Entering LLM run with input:\n",
      "\u001b[0m{\n",
      "  \"prompts\": [\n",
      "    \"Human: Use the following portion of a long document to see if any of the text is relevant to answer the question. \\nReturn any relevant text verbatim.\\nConstruction\\n\\nEngineering\\n\\nCement\\n\\nChem / Fertilisers\\n\\nMetals & Mining\\n\\nPackaging\\n\\nPaper / Wood / Glass/ Plastic/ Marbles\\n\\nPetrochem\\n\\nSteel\\n\\nHealthcare/Biotech\\n\\nBiotech\\n\\nHealthcare\\n\\nPharmaceuticals\\n\\nServices\\n\\nAdvertising\\n\\nConsultancy / Audit\\n\\nEducation\\n\\nHotels / Restaurants\\n\\nProperty / C'struction\\n\\nRetail\\n\\nTravel\\n\\nMedia/Entertainment\\n\\nEntertainment\\n\\nMedia\\n\\nMore\\n\\nTransportation\\n\\nRailways\\n\\nAirlines / Aviation\\n\\nShipping / Transport\\n\\nRoadways\\n\\nTech\\n\\nITES\\n\\nTech & Internet\\n\\nStartups\\n\\nFunding\\n\\nTech Bytes\\n\\nTelecom\\n\\nTelecom News\\n\\nTelecom Policy\\n\\nMiscellaneous\\n\\nCSR\\n\\nInitiatives\\n\\nPolicy\\n\\nEnvironment\\n\\nBusiness News›\\n\\nIndustry›\\n\\nTransportation›\\n\\nAirlines / Aviation›\\n\\nAir India- Vistara merger gets NCLT nod\\n\\nThe Economic Times daily newspaper is available online now.\\n\\nRead Today's Paper\\n\\nAir India- Vistara merger gets NCLT nod\\n\\nSECTIONS\\n\\nAir India- Vistara merger gets NCLT nod\\n\\nRate Story\\n\\nFollow us\\n\\nShare\\n\\nFont Size\\n\\nAbc\\n\\nSmall\\n\\nAbc\\n\\nMedium\\n\\nAbc\\n\\nLarge\\n\\nSave\\n\\nPrint\\n\\nComment\\n\\nSynopsis\\nQuestion: What merger are we talking about here?\\nRelevant text, if any:\"\n",
      "  ]\n",
      "}\n",
      "\u001b[32;1m\u001b[1;3m[llm/start]\u001b[0m \u001b[1m[chain:RetrievalQAWithSourcesChain > chain:MapReduceDocumentsChain > chain:LLMChain > llm:ChatGoogleGenerativeAI] Entering LLM run with input:\n",
      "\u001b[0m{\n",
      "  \"prompts\": [\n",
      "    \"Human: Use the following portion of a long document to see if any of the text is relevant to answer the question. \\nReturn any relevant text verbatim.\\nConstruction\\n\\nEngineering\\n\\nCement\\n\\nChem / Fertilisers\\n\\nMetals & Mining\\n\\nPackaging\\n\\nPaper / Wood / Glass/ Plastic/ Marbles\\n\\nPetrochem\\n\\nSteel\\n\\nHealthcare/Biotech\\n\\nBiotech\\n\\nHealthcare\\n\\nPharmaceuticals\\n\\nServices\\n\\nAdvertising\\n\\nConsultancy / Audit\\n\\nEducation\\n\\nHotels / Restaurants\\n\\nProperty / C'struction\\n\\nRetail\\n\\nTravel\\n\\nMedia/Entertainment\\n\\nEntertainment\\n\\nMedia\\n\\nMore\\n\\nTransportation\\n\\nRailways\\n\\nAirlines / Aviation\\n\\nShipping / Transport\\n\\nRoadways\\n\\nTech\\n\\nITES\\n\\nTech & Internet\\n\\nStartups\\n\\nFunding\\n\\nTech Bytes\\n\\nTelecom\\n\\nTelecom News\\n\\nTelecom Policy\\n\\nMiscellaneous\\n\\nCSR\\n\\nInitiatives\\n\\nPolicy\\n\\nEnvironment\\n\\nBusiness News›\\n\\nIndustry›\\n\\nTransportation›\\n\\nAirlines / Aviation›\\n\\nAir India- Vistara merger gets NCLT nod\\n\\nThe Economic Times daily newspaper is available online now.\\n\\nRead Today's Paper\\n\\nAir India- Vistara merger gets NCLT nod\\n\\nSECTIONS\\n\\nAir India- Vistara merger gets NCLT nod\\n\\nRate Story\\n\\nFollow us\\n\\nShare\\n\\nFont Size\\n\\nAbc\\n\\nSmall\\n\\nAbc\\n\\nMedium\\n\\nAbc\\n\\nLarge\\n\\nSave\\n\\nPrint\\n\\nComment\\n\\nSynopsis\\nQuestion: What merger are we talking about here?\\nRelevant text, if any:\"\n",
      "  ]\n",
      "}\n",
      "\u001b[32;1m\u001b[1;3m[llm/start]\u001b[0m \u001b[1m[chain:RetrievalQAWithSourcesChain > chain:MapReduceDocumentsChain > chain:LLMChain > llm:ChatGoogleGenerativeAI] Entering LLM run with input:\n",
      "\u001b[0m{\n",
      "  \"prompts\": [\n",
      "    \"Human: Use the following portion of a long document to see if any of the text is relevant to answer the question. \\nReturn any relevant text verbatim.\\nAccess Denied\\n \\nYou don't have permission to access \\\"http://www.financialexpress.com/business/airlines-aviation-air-india-vistara-merger-gets-approval-nclt-gives-nod-for-worlds-largest-airline-group-3517515/\\\" on this server.\\n\\nReference #18.6601c045.1717931014.10685e9d\\n\\nhttps://errors.edgesuite.net/18.6601c045.1717931014.10685e9d\\nQuestion: What merger are we talking about here?\\nRelevant text, if any:\"\n",
      "  ]\n",
      "}\n",
      "\u001b[32;1m\u001b[1;3m[llm/start]\u001b[0m \u001b[1m[chain:RetrievalQAWithSourcesChain > chain:MapReduceDocumentsChain > chain:LLMChain > llm:ChatGoogleGenerativeAI] Entering LLM run with input:\n",
      "\u001b[0m{\n",
      "  \"prompts\": [\n",
      "    \"Human: Use the following portion of a long document to see if any of the text is relevant to answer the question. \\nReturn any relevant text verbatim.\\nAccess Denied\\n \\nYou don't have permission to access \\\"http://www.financialexpress.com/business/airlines-aviation-air-india-vistara-merger-gets-approval-nclt-gives-nod-for-worlds-largest-airline-group-3517515/\\\" on this server.\\n\\nReference #18.6601c045.1717931014.10685e9d\\n\\nhttps://errors.edgesuite.net/18.6601c045.1717931014.10685e9d\\nQuestion: What merger are we talking about here?\\nRelevant text, if any:\"\n",
      "  ]\n",
      "}\n",
      "\u001b[32;1m\u001b[1;3m[llm/start]\u001b[0m \u001b[1m[chain:RetrievalQAWithSourcesChain > chain:MapReduceDocumentsChain > chain:LLMChain > llm:ChatGoogleGenerativeAI] Entering LLM run with input:\n",
      "\u001b[0m{\n",
      "  \"prompts\": [\n",
      "    \"Human: Use the following portion of a long document to see if any of the text is relevant to answer the question. \\nReturn any relevant text verbatim.\\nSECTIONS\\n\\nAir India- Vistara merger gets NCLT nod\\n\\nRate Story\\n\\nFollow us\\n\\nShare\\n\\nFont Size\\n\\nAbc\\n\\nSmall\\n\\nAbc\\n\\nMedium\\n\\nAbc\\n\\nLarge\\n\\nSave\\n\\nPrint\\n\\nComment\\n\\nSynopsis\\n\\nThe National Company Law Tribunal (NCLT) has approved the merger of Air India and Vistara, making Air India the largest international carrier in India operating flights to five continents. The merger, already approved by the Competition Commission of India, will lead to a more efficient operation by eliminating duplicities in resources and operations. Consultants are working on harmonizing workforce and route networks, with the integration process set to begin gradually without grounding flights.\\n\\nAgencies\\n\\nRelated\\n\\nAir India Express bets on growth opportunities, group synergies\\n\\nVistara nimble enough to make course corrections: CEO Vinod Kannan\\n\\nThe National Court Law Tribunal (\\n\\nNCLT) has approved the\\n\\nmerger of\\n\\nAir India & final.\\nQuestion: What merger are we talking about here?\\nRelevant text, if any:\"\n",
      "  ]\n",
      "}\n",
      "\u001b[36;1m\u001b[1;3m[llm/end]\u001b[0m \u001b[1m[chain:RetrievalQAWithSourcesChain > chain:MapReduceDocumentsChain > chain:LLMChain > llm:ChatGoogleGenerativeAI] [4.85s] Exiting LLM run with output:\n",
      "\u001b[0m{\n",
      "  \"generations\": [\n",
      "    [\n",
      "      {\n",
      "        \"text\": \"Air India- Vistara merger gets NCLT nod \\n\",\n",
      "        \"generation_info\": {\n",
      "          \"finish_reason\": \"STOP\",\n",
      "          \"safety_ratings\": [\n",
      "            {\n",
      "              \"category\": \"HARM_CATEGORY_SEXUALLY_EXPLICIT\",\n",
      "              \"probability\": \"NEGLIGIBLE\",\n",
      "              \"blocked\": false\n",
      "            },\n",
      "            {\n",
      "              \"category\": \"HARM_CATEGORY_HATE_SPEECH\",\n",
      "              \"probability\": \"NEGLIGIBLE\",\n",
      "              \"blocked\": false\n",
      "            },\n",
      "            {\n",
      "              \"category\": \"HARM_CATEGORY_HARASSMENT\",\n",
      "              \"probability\": \"NEGLIGIBLE\",\n",
      "              \"blocked\": false\n",
      "            },\n",
      "            {\n",
      "              \"category\": \"HARM_CATEGORY_DANGEROUS_CONTENT\",\n",
      "              \"probability\": \"NEGLIGIBLE\",\n",
      "              \"blocked\": false\n",
      "            }\n",
      "          ]\n",
      "        },\n",
      "        \"type\": \"ChatGeneration\",\n",
      "        \"message\": {\n",
      "          \"lc\": 1,\n",
      "          \"type\": \"constructor\",\n",
      "          \"id\": [\n",
      "            \"langchain\",\n",
      "            \"schema\",\n",
      "            \"messages\",\n",
      "            \"AIMessage\"\n",
      "          ],\n",
      "          \"kwargs\": {\n",
      "            \"content\": \"Air India- Vistara merger gets NCLT nod \\n\",\n",
      "            \"response_metadata\": {\n",
      "              \"prompt_feedback\": {\n",
      "                \"block_reason\": 0,\n",
      "                \"safety_ratings\": []\n",
      "              },\n",
      "              \"finish_reason\": \"STOP\",\n",
      "              \"safety_ratings\": [\n",
      "                {\n",
      "                  \"category\": \"HARM_CATEGORY_SEXUALLY_EXPLICIT\",\n",
      "                  \"probability\": \"NEGLIGIBLE\",\n",
      "                  \"blocked\": false\n",
      "                },\n",
      "                {\n",
      "                  \"category\": \"HARM_CATEGORY_HATE_SPEECH\",\n",
      "                  \"probability\": \"NEGLIGIBLE\",\n",
      "                  \"blocked\": false\n",
      "                },\n",
      "                {\n",
      "                  \"category\": \"HARM_CATEGORY_HARASSMENT\",\n",
      "                  \"probability\": \"NEGLIGIBLE\",\n",
      "                  \"blocked\": false\n",
      "                },\n",
      "                {\n",
      "                  \"category\": \"HARM_CATEGORY_DANGEROUS_CONTENT\",\n",
      "                  \"probability\": \"NEGLIGIBLE\",\n",
      "                  \"blocked\": false\n",
      "                }\n",
      "              ]\n",
      "            },\n",
      "            \"type\": \"ai\",\n",
      "            \"id\": \"run-5c0b8c2c-ed00-45ec-b06c-64160d63b0c4-0\",\n",
      "            \"usage_metadata\": {\n",
      "              \"input_tokens\": 284,\n",
      "              \"output_tokens\": 10,\n",
      "              \"total_tokens\": 294\n",
      "            },\n",
      "            \"tool_calls\": [],\n",
      "            \"invalid_tool_calls\": []\n",
      "          }\n",
      "        }\n",
      "      }\n",
      "    ]\n",
      "  ],\n",
      "  \"llm_output\": {\n",
      "    \"prompt_feedback\": {\n",
      "      \"block_reason\": 0,\n",
      "      \"safety_ratings\": []\n",
      "    }\n",
      "  },\n",
      "  \"run\": null\n",
      "}\n",
      "\u001b[36;1m\u001b[1;3m[llm/end]\u001b[0m \u001b[1m[chain:RetrievalQAWithSourcesChain > chain:MapReduceDocumentsChain > chain:LLMChain > llm:ChatGoogleGenerativeAI] [4.85s] Exiting LLM run with output:\n",
      "\u001b[0m{\n",
      "  \"generations\": [\n",
      "    [\n",
      "      {\n",
      "        \"text\": \"Air India- Vistara merger gets NCLT nod \\n\",\n",
      "        \"generation_info\": {\n",
      "          \"finish_reason\": \"STOP\",\n",
      "          \"safety_ratings\": [\n",
      "            {\n",
      "              \"category\": \"HARM_CATEGORY_SEXUALLY_EXPLICIT\",\n",
      "              \"probability\": \"NEGLIGIBLE\",\n",
      "              \"blocked\": false\n",
      "            },\n",
      "            {\n",
      "              \"category\": \"HARM_CATEGORY_HATE_SPEECH\",\n",
      "              \"probability\": \"NEGLIGIBLE\",\n",
      "              \"blocked\": false\n",
      "            },\n",
      "            {\n",
      "              \"category\": \"HARM_CATEGORY_HARASSMENT\",\n",
      "              \"probability\": \"NEGLIGIBLE\",\n",
      "              \"blocked\": false\n",
      "            },\n",
      "            {\n",
      "              \"category\": \"HARM_CATEGORY_DANGEROUS_CONTENT\",\n",
      "              \"probability\": \"NEGLIGIBLE\",\n",
      "              \"blocked\": false\n",
      "            }\n",
      "          ]\n",
      "        },\n",
      "        \"type\": \"ChatGeneration\",\n",
      "        \"message\": {\n",
      "          \"lc\": 1,\n",
      "          \"type\": \"constructor\",\n",
      "          \"id\": [\n",
      "            \"langchain\",\n",
      "            \"schema\",\n",
      "            \"messages\",\n",
      "            \"AIMessage\"\n",
      "          ],\n",
      "          \"kwargs\": {\n",
      "            \"content\": \"Air India- Vistara merger gets NCLT nod \\n\",\n",
      "            \"response_metadata\": {\n",
      "              \"prompt_feedback\": {\n",
      "                \"block_reason\": 0,\n",
      "                \"safety_ratings\": []\n",
      "              },\n",
      "              \"finish_reason\": \"STOP\",\n",
      "              \"safety_ratings\": [\n",
      "                {\n",
      "                  \"category\": \"HARM_CATEGORY_SEXUALLY_EXPLICIT\",\n",
      "                  \"probability\": \"NEGLIGIBLE\",\n",
      "                  \"blocked\": false\n",
      "                },\n",
      "                {\n",
      "                  \"category\": \"HARM_CATEGORY_HATE_SPEECH\",\n",
      "                  \"probability\": \"NEGLIGIBLE\",\n",
      "                  \"blocked\": false\n",
      "                },\n",
      "                {\n",
      "                  \"category\": \"HARM_CATEGORY_HARASSMENT\",\n",
      "                  \"probability\": \"NEGLIGIBLE\",\n",
      "                  \"blocked\": false\n",
      "                },\n",
      "                {\n",
      "                  \"category\": \"HARM_CATEGORY_DANGEROUS_CONTENT\",\n",
      "                  \"probability\": \"NEGLIGIBLE\",\n",
      "                  \"blocked\": false\n",
      "                }\n",
      "              ]\n",
      "            },\n",
      "            \"type\": \"ai\",\n",
      "            \"id\": \"run-eeda76ab-5a89-4d54-bac6-390ec2ae84d2-0\",\n",
      "            \"usage_metadata\": {\n",
      "              \"input_tokens\": 284,\n",
      "              \"output_tokens\": 10,\n",
      "              \"total_tokens\": 294\n",
      "            },\n",
      "            \"tool_calls\": [],\n",
      "            \"invalid_tool_calls\": []\n",
      "          }\n",
      "        }\n",
      "      }\n",
      "    ]\n",
      "  ],\n",
      "  \"llm_output\": {\n",
      "    \"prompt_feedback\": {\n",
      "      \"block_reason\": 0,\n",
      "      \"safety_ratings\": []\n",
      "    }\n",
      "  },\n",
      "  \"run\": null\n",
      "}\n",
      "\u001b[36;1m\u001b[1;3m[llm/end]\u001b[0m \u001b[1m[chain:RetrievalQAWithSourcesChain > chain:MapReduceDocumentsChain > chain:LLMChain > llm:ChatGoogleGenerativeAI] [4.85s] Exiting LLM run with output:\n",
      "\u001b[0m{\n",
      "  \"generations\": [\n",
      "    [\n",
      "      {\n",
      "        \"text\": \"Air India-Vistara merger \\n\",\n",
      "        \"generation_info\": {\n",
      "          \"finish_reason\": \"STOP\",\n",
      "          \"safety_ratings\": [\n",
      "            {\n",
      "              \"category\": \"HARM_CATEGORY_SEXUALLY_EXPLICIT\",\n",
      "              \"probability\": \"NEGLIGIBLE\",\n",
      "              \"blocked\": false\n",
      "            },\n",
      "            {\n",
      "              \"category\": \"HARM_CATEGORY_HATE_SPEECH\",\n",
      "              \"probability\": \"NEGLIGIBLE\",\n",
      "              \"blocked\": false\n",
      "            },\n",
      "            {\n",
      "              \"category\": \"HARM_CATEGORY_HARASSMENT\",\n",
      "              \"probability\": \"NEGLIGIBLE\",\n",
      "              \"blocked\": false\n",
      "            },\n",
      "            {\n",
      "              \"category\": \"HARM_CATEGORY_DANGEROUS_CONTENT\",\n",
      "              \"probability\": \"NEGLIGIBLE\",\n",
      "              \"blocked\": false\n",
      "            }\n",
      "          ]\n",
      "        },\n",
      "        \"type\": \"ChatGeneration\",\n",
      "        \"message\": {\n",
      "          \"lc\": 1,\n",
      "          \"type\": \"constructor\",\n",
      "          \"id\": [\n",
      "            \"langchain\",\n",
      "            \"schema\",\n",
      "            \"messages\",\n",
      "            \"AIMessage\"\n",
      "          ],\n",
      "          \"kwargs\": {\n",
      "            \"content\": \"Air India-Vistara merger \\n\",\n",
      "            \"response_metadata\": {\n",
      "              \"prompt_feedback\": {\n",
      "                \"block_reason\": 0,\n",
      "                \"safety_ratings\": []\n",
      "              },\n",
      "              \"finish_reason\": \"STOP\",\n",
      "              \"safety_ratings\": [\n",
      "                {\n",
      "                  \"category\": \"HARM_CATEGORY_SEXUALLY_EXPLICIT\",\n",
      "                  \"probability\": \"NEGLIGIBLE\",\n",
      "                  \"blocked\": false\n",
      "                },\n",
      "                {\n",
      "                  \"category\": \"HARM_CATEGORY_HATE_SPEECH\",\n",
      "                  \"probability\": \"NEGLIGIBLE\",\n",
      "                  \"blocked\": false\n",
      "                },\n",
      "                {\n",
      "                  \"category\": \"HARM_CATEGORY_HARASSMENT\",\n",
      "                  \"probability\": \"NEGLIGIBLE\",\n",
      "                  \"blocked\": false\n",
      "                },\n",
      "                {\n",
      "                  \"category\": \"HARM_CATEGORY_DANGEROUS_CONTENT\",\n",
      "                  \"probability\": \"NEGLIGIBLE\",\n",
      "                  \"blocked\": false\n",
      "                }\n",
      "              ]\n",
      "            },\n",
      "            \"type\": \"ai\",\n",
      "            \"id\": \"run-bad6d8a8-942a-442d-a180-fb6b9b5861ae-0\",\n",
      "            \"usage_metadata\": {\n",
      "              \"input_tokens\": 198,\n",
      "              \"output_tokens\": 6,\n",
      "              \"total_tokens\": 204\n",
      "            },\n",
      "            \"tool_calls\": [],\n",
      "            \"invalid_tool_calls\": []\n",
      "          }\n",
      "        }\n",
      "      }\n",
      "    ]\n",
      "  ],\n",
      "  \"llm_output\": {\n",
      "    \"prompt_feedback\": {\n",
      "      \"block_reason\": 0,\n",
      "      \"safety_ratings\": []\n",
      "    }\n",
      "  },\n",
      "  \"run\": null\n",
      "}\n",
      "\u001b[36;1m\u001b[1;3m[llm/end]\u001b[0m \u001b[1m[chain:RetrievalQAWithSourcesChain > chain:MapReduceDocumentsChain > chain:LLMChain > llm:ChatGoogleGenerativeAI] [4.85s] Exiting LLM run with output:\n",
      "\u001b[0m{\n",
      "  \"generations\": [\n",
      "    [\n",
      "      {\n",
      "        \"text\": \"Air India-Vistara merger \\n\",\n",
      "        \"generation_info\": {\n",
      "          \"finish_reason\": \"STOP\",\n",
      "          \"safety_ratings\": [\n",
      "            {\n",
      "              \"category\": \"HARM_CATEGORY_SEXUALLY_EXPLICIT\",\n",
      "              \"probability\": \"NEGLIGIBLE\",\n",
      "              \"blocked\": false\n",
      "            },\n",
      "            {\n",
      "              \"category\": \"HARM_CATEGORY_HATE_SPEECH\",\n",
      "              \"probability\": \"NEGLIGIBLE\",\n",
      "              \"blocked\": false\n",
      "            },\n",
      "            {\n",
      "              \"category\": \"HARM_CATEGORY_HARASSMENT\",\n",
      "              \"probability\": \"NEGLIGIBLE\",\n",
      "              \"blocked\": false\n",
      "            },\n",
      "            {\n",
      "              \"category\": \"HARM_CATEGORY_DANGEROUS_CONTENT\",\n",
      "              \"probability\": \"NEGLIGIBLE\",\n",
      "              \"blocked\": false\n",
      "            }\n",
      "          ]\n",
      "        },\n",
      "        \"type\": \"ChatGeneration\",\n",
      "        \"message\": {\n",
      "          \"lc\": 1,\n",
      "          \"type\": \"constructor\",\n",
      "          \"id\": [\n",
      "            \"langchain\",\n",
      "            \"schema\",\n",
      "            \"messages\",\n",
      "            \"AIMessage\"\n",
      "          ],\n",
      "          \"kwargs\": {\n",
      "            \"content\": \"Air India-Vistara merger \\n\",\n",
      "            \"response_metadata\": {\n",
      "              \"prompt_feedback\": {\n",
      "                \"block_reason\": 0,\n",
      "                \"safety_ratings\": []\n",
      "              },\n",
      "              \"finish_reason\": \"STOP\",\n",
      "              \"safety_ratings\": [\n",
      "                {\n",
      "                  \"category\": \"HARM_CATEGORY_SEXUALLY_EXPLICIT\",\n",
      "                  \"probability\": \"NEGLIGIBLE\",\n",
      "                  \"blocked\": false\n",
      "                },\n",
      "                {\n",
      "                  \"category\": \"HARM_CATEGORY_HATE_SPEECH\",\n",
      "                  \"probability\": \"NEGLIGIBLE\",\n",
      "                  \"blocked\": false\n",
      "                },\n",
      "                {\n",
      "                  \"category\": \"HARM_CATEGORY_HARASSMENT\",\n",
      "                  \"probability\": \"NEGLIGIBLE\",\n",
      "                  \"blocked\": false\n",
      "                },\n",
      "                {\n",
      "                  \"category\": \"HARM_CATEGORY_DANGEROUS_CONTENT\",\n",
      "                  \"probability\": \"NEGLIGIBLE\",\n",
      "                  \"blocked\": false\n",
      "                }\n",
      "              ]\n",
      "            },\n",
      "            \"type\": \"ai\",\n",
      "            \"id\": \"run-05855ae9-da6d-4256-be95-516b42a3d537-0\",\n",
      "            \"usage_metadata\": {\n",
      "              \"input_tokens\": 198,\n",
      "              \"output_tokens\": 6,\n",
      "              \"total_tokens\": 204\n",
      "            },\n",
      "            \"tool_calls\": [],\n",
      "            \"invalid_tool_calls\": []\n",
      "          }\n",
      "        }\n",
      "      }\n",
      "    ]\n",
      "  ],\n",
      "  \"llm_output\": {\n",
      "    \"prompt_feedback\": {\n",
      "      \"block_reason\": 0,\n",
      "      \"safety_ratings\": []\n",
      "    }\n",
      "  },\n",
      "  \"run\": null\n",
      "}\n",
      "\u001b[36;1m\u001b[1;3m[llm/end]\u001b[0m \u001b[1m[chain:RetrievalQAWithSourcesChain > chain:MapReduceDocumentsChain > chain:LLMChain > llm:ChatGoogleGenerativeAI] [4.85s] Exiting LLM run with output:\n",
      "\u001b[0m{\n",
      "  \"generations\": [\n",
      "    [\n",
      "      {\n",
      "        \"text\": \"The National Company Law Tribunal (NCLT) has approved the merger of Air India and Vistara. \\n\",\n",
      "        \"generation_info\": {\n",
      "          \"finish_reason\": \"STOP\",\n",
      "          \"safety_ratings\": [\n",
      "            {\n",
      "              \"category\": \"HARM_CATEGORY_SEXUALLY_EXPLICIT\",\n",
      "              \"probability\": \"NEGLIGIBLE\",\n",
      "              \"blocked\": false\n",
      "            },\n",
      "            {\n",
      "              \"category\": \"HARM_CATEGORY_HATE_SPEECH\",\n",
      "              \"probability\": \"NEGLIGIBLE\",\n",
      "              \"blocked\": false\n",
      "            },\n",
      "            {\n",
      "              \"category\": \"HARM_CATEGORY_HARASSMENT\",\n",
      "              \"probability\": \"NEGLIGIBLE\",\n",
      "              \"blocked\": false\n",
      "            },\n",
      "            {\n",
      "              \"category\": \"HARM_CATEGORY_DANGEROUS_CONTENT\",\n",
      "              \"probability\": \"NEGLIGIBLE\",\n",
      "              \"blocked\": false\n",
      "            }\n",
      "          ]\n",
      "        },\n",
      "        \"type\": \"ChatGeneration\",\n",
      "        \"message\": {\n",
      "          \"lc\": 1,\n",
      "          \"type\": \"constructor\",\n",
      "          \"id\": [\n",
      "            \"langchain\",\n",
      "            \"schema\",\n",
      "            \"messages\",\n",
      "            \"AIMessage\"\n",
      "          ],\n",
      "          \"kwargs\": {\n",
      "            \"content\": \"The National Company Law Tribunal (NCLT) has approved the merger of Air India and Vistara. \\n\",\n",
      "            \"response_metadata\": {\n",
      "              \"prompt_feedback\": {\n",
      "                \"block_reason\": 0,\n",
      "                \"safety_ratings\": []\n",
      "              },\n",
      "              \"finish_reason\": \"STOP\",\n",
      "              \"safety_ratings\": [\n",
      "                {\n",
      "                  \"category\": \"HARM_CATEGORY_SEXUALLY_EXPLICIT\",\n",
      "                  \"probability\": \"NEGLIGIBLE\",\n",
      "                  \"blocked\": false\n",
      "                },\n",
      "                {\n",
      "                  \"category\": \"HARM_CATEGORY_HATE_SPEECH\",\n",
      "                  \"probability\": \"NEGLIGIBLE\",\n",
      "                  \"blocked\": false\n",
      "                },\n",
      "                {\n",
      "                  \"category\": \"HARM_CATEGORY_HARASSMENT\",\n",
      "                  \"probability\": \"NEGLIGIBLE\",\n",
      "                  \"blocked\": false\n",
      "                },\n",
      "                {\n",
      "                  \"category\": \"HARM_CATEGORY_DANGEROUS_CONTENT\",\n",
      "                  \"probability\": \"NEGLIGIBLE\",\n",
      "                  \"blocked\": false\n",
      "                }\n",
      "              ]\n",
      "            },\n",
      "            \"type\": \"ai\",\n",
      "            \"id\": \"run-f15571f9-18a3-4cb0-a49a-38ebb07a6bc4-0\",\n",
      "            \"usage_metadata\": {\n",
      "              \"input_tokens\": 235,\n",
      "              \"output_tokens\": 20,\n",
      "              \"total_tokens\": 255\n",
      "            },\n",
      "            \"tool_calls\": [],\n",
      "            \"invalid_tool_calls\": []\n",
      "          }\n",
      "        }\n",
      "      }\n",
      "    ]\n",
      "  ],\n",
      "  \"llm_output\": {\n",
      "    \"prompt_feedback\": {\n",
      "      \"block_reason\": 0,\n",
      "      \"safety_ratings\": []\n",
      "    }\n",
      "  },\n",
      "  \"run\": null\n",
      "}\n",
      "\u001b[36;1m\u001b[1;3m[chain/end]\u001b[0m \u001b[1m[chain:RetrievalQAWithSourcesChain > chain:MapReduceDocumentsChain > chain:LLMChain] [4.85s] Exiting Chain run with output:\n",
      "\u001b[0m{\n",
      "  \"outputs\": [\n",
      "    {\n",
      "      \"text\": \"Air India- Vistara merger gets NCLT nod \\n\"\n",
      "    },\n",
      "    {\n",
      "      \"text\": \"Air India- Vistara merger gets NCLT nod \\n\"\n",
      "    },\n",
      "    {\n",
      "      \"text\": \"Air India-Vistara merger \\n\"\n",
      "    },\n",
      "    {\n",
      "      \"text\": \"Air India-Vistara merger \\n\"\n",
      "    },\n",
      "    {\n",
      "      \"text\": \"The National Company Law Tribunal (NCLT) has approved the merger of Air India and Vistara. \\n\"\n",
      "    }\n",
      "  ]\n",
      "}\n",
      "\u001b[32;1m\u001b[1;3m[chain/start]\u001b[0m \u001b[1m[chain:RetrievalQAWithSourcesChain > chain:MapReduceDocumentsChain > chain:LLMChain] Entering Chain run with input:\n",
      "\u001b[0m{\n",
      "  \"question\": \"What merger are we talking about here?\",\n",
      "  \"summaries\": \"Content: Air India- Vistara merger gets NCLT nod \\n\\nSource: https://economictimes.indiatimes.com/industry/transportation/airlines-/-aviation/air-india-vistara-merger-gets-nclt-nod/articleshow/110774121.cms?from=mdr\\n\\nContent: Air India- Vistara merger gets NCLT nod \\n\\nSource: https://economictimes.indiatimes.com/industry/transportation/airlines-/-aviation/air-india-vistara-merger-gets-nclt-nod/articleshow/110774121.cms?from=mdr\\n\\nContent: Air India-Vistara merger \\n\\nSource: https://www.financialexpress.com/business/airlines-aviation-air-india-vistara-merger-gets-approval-nclt-gives-nod-for-worlds-largest-airline-group-3517515/\\n\\nContent: Air India-Vistara merger \\n\\nSource: https://www.financialexpress.com/business/airlines-aviation-air-india-vistara-merger-gets-approval-nclt-gives-nod-for-worlds-largest-airline-group-3517515/\\n\\nContent: The National Company Law Tribunal (NCLT) has approved the merger of Air India and Vistara. \\n\\nSource: https://economictimes.indiatimes.com/industry/transportation/airlines-/-aviation/air-india-vistara-merger-gets-nclt-nod/articleshow/110774121.cms?from=mdr\"\n",
      "}\n",
      "\u001b[32;1m\u001b[1;3m[llm/start]\u001b[0m \u001b[1m[chain:RetrievalQAWithSourcesChain > chain:MapReduceDocumentsChain > chain:LLMChain > llm:ChatGoogleGenerativeAI] Entering LLM run with input:\n",
      "\u001b[0m{\n",
      "  \"prompts\": [\n",
      "    \"Human: Given the following extracted parts of a long document and a question, create a final answer with references (\\\"SOURCES\\\"). \\nIf you don't know the answer, just say that you don't know. Don't try to make up an answer.\\nALWAYS return a \\\"SOURCES\\\" part in your answer.\\n\\nQUESTION: Which state/country's law governs the interpretation of the contract?\\n=========\\nContent: This Agreement is governed by English law and the parties submit to the exclusive jurisdiction of the English courts in  relation to any dispute (contractual or non-contractual) concerning this Agreement save that either party may apply to any court for an  injunction or other relief to protect its Intellectual Property Rights.\\nSource: 28-pl\\nContent: No Waiver. Failure or delay in exercising any right or remedy under this Agreement shall not constitute a waiver of such (or any other)  right or remedy.\\n\\n11.7 Severability. The invalidity, illegality or unenforceability of any term (or part of a term) of this Agreement shall not affect the continuation  in force of the remainder of the term (if any) and this Agreement.\\n\\n11.8 No Agency. Except as expressly stated otherwise, nothing in this Agreement shall create an agency, partnership or joint venture of any  kind between the parties.\\n\\n11.9 No Third-Party Beneficiaries.\\nSource: 30-pl\\nContent: (b) if Google believes, in good faith, that the Distributor has violated or caused Google to violate any Anti-Bribery Laws (as  defined in Clause 8.5) or that such a violation is reasonably likely to occur,\\nSource: 4-pl\\n=========\\nFINAL ANSWER: This Agreement is governed by English law.\\nSOURCES: 28-pl\\n\\nQUESTION: What did the president say about Michael Jackson?\\n=========\\nContent: Madam Speaker, Madam Vice President, our First Lady and Second Gentleman. Members of Congress and the Cabinet. Justices of the Supreme Court. My fellow Americans.  \\n\\nLast year COVID-19 kept us apart. This year we are finally together again. \\n\\nTonight, we meet as Democrats Republicans and Independents. But most importantly as Americans. \\n\\nWith a duty to one another to the American people to the Constitution. \\n\\nAnd with an unwavering resolve that freedom will always triumph over tyranny. \\n\\nSix days ago, Russia’s Vladimir Putin sought to shake the foundations of the free world thinking he could make it bend to his menacing ways. But he badly miscalculated. \\n\\nHe thought he could roll into Ukraine and the world would roll over. Instead he met a wall of strength he never imagined. \\n\\nHe met the Ukrainian people. \\n\\nFrom President Zelenskyy to every Ukrainian, their fearlessness, their courage, their determination, inspires the world. \\n\\nGroups of citizens blocking tanks with their bodies. Everyone from students to retirees teachers turned soldiers defending their homeland.\\nSource: 0-pl\\nContent: And we won’t stop. \\n\\nWe have lost so much to COVID-19. Time with one another. And worst of all, so much loss of life. \\n\\nLet’s use this moment to reset. Let’s stop looking at COVID-19 as a partisan dividing line and see it for what it is: A God-awful disease.  \\n\\nLet’s stop seeing each other as enemies, and start seeing each other for who we really are: Fellow Americans.  \\n\\nWe can’t change how divided we’ve been. But we can change how we move forward—on COVID-19 and other issues we must face together. \\n\\nI recently visited the New York City Police Department days after the funerals of Officer Wilbert Mora and his partner, Officer Jason Rivera. \\n\\nThey were responding to a 9-1-1 call when a man shot and killed them with a stolen gun. \\n\\nOfficer Mora was 27 years old. \\n\\nOfficer Rivera was 22. \\n\\nBoth Dominican Americans who’d grown up on the same streets they later chose to patrol as police officers. \\n\\nI spoke with their families and told them that we are forever in debt for their sacrifice, and we will carry on their mission to restore the trust and safety every community deserves.\\nSource: 24-pl\\nContent: And a proud Ukrainian people, who have known 30 years  of independence, have repeatedly shown that they will not tolerate anyone who tries to take their country backwards.  \\n\\nTo all Americans, I will be honest with you, as I’ve always promised. A Russian dictator, invading a foreign country, has costs around the world. \\n\\nAnd I’m taking robust action to make sure the pain of our sanctions  is targeted at Russia’s economy. And I will use every tool at our disposal to protect American businesses and consumers. \\n\\nTonight, I can announce that the United States has worked with 30 other countries to release 60 Million barrels of oil from reserves around the world.  \\n\\nAmerica will lead that effort, releasing 30 Million barrels from our own Strategic Petroleum Reserve. And we stand ready to do more if necessary, unified with our allies.  \\n\\nThese steps will help blunt gas prices here at home. And I know the news about what’s happening can seem alarming. \\n\\nBut I want you to know that we are going to be okay.\\nSource: 5-pl\\nContent: More support for patients and families. \\n\\nTo get there, I call on Congress to fund ARPA-H, the Advanced Research Projects Agency for Health. \\n\\nIt’s based on DARPA—the Defense Department project that led to the Internet, GPS, and so much more.  \\n\\nARPA-H will have a singular purpose—to drive breakthroughs in cancer, Alzheimer’s, diabetes, and more. \\n\\nA unity agenda for the nation. \\n\\nWe can do this. \\n\\nMy fellow Americans—tonight , we have gathered in a sacred space—the citadel of our democracy. \\n\\nIn this Capitol, generation after generation, Americans have debated great questions amid great strife, and have done great things. \\n\\nWe have fought for freedom, expanded liberty, defeated totalitarianism and terror. \\n\\nAnd built the strongest, freest, and most prosperous nation the world has ever known. \\n\\nNow is the hour. \\n\\nOur moment of responsibility. \\n\\nOur test of resolve and conscience, of history itself. \\n\\nIt is in this moment that our character is formed. Our purpose is found. Our future is forged. \\n\\nWell I know this nation.\\nSource: 34-pl\\n=========\\nFINAL ANSWER: The president did not mention Michael Jackson.\\nSOURCES:\\n\\nQUESTION: What merger are we talking about here?\\n=========\\nContent: Air India- Vistara merger gets NCLT nod \\n\\nSource: https://economictimes.indiatimes.com/industry/transportation/airlines-/-aviation/air-india-vistara-merger-gets-nclt-nod/articleshow/110774121.cms?from=mdr\\n\\nContent: Air India- Vistara merger gets NCLT nod \\n\\nSource: https://economictimes.indiatimes.com/industry/transportation/airlines-/-aviation/air-india-vistara-merger-gets-nclt-nod/articleshow/110774121.cms?from=mdr\\n\\nContent: Air India-Vistara merger \\n\\nSource: https://www.financialexpress.com/business/airlines-aviation-air-india-vistara-merger-gets-approval-nclt-gives-nod-for-worlds-largest-airline-group-3517515/\\n\\nContent: Air India-Vistara merger \\n\\nSource: https://www.financialexpress.com/business/airlines-aviation-air-india-vistara-merger-gets-approval-nclt-gives-nod-for-worlds-largest-airline-group-3517515/\\n\\nContent: The National Company Law Tribunal (NCLT) has approved the merger of Air India and Vistara. \\n\\nSource: https://economictimes.indiatimes.com/industry/transportation/airlines-/-aviation/air-india-vistara-merger-gets-nclt-nod/articleshow/110774121.cms?from=mdr\\n=========\\nFINAL ANSWER:\"\n",
      "  ]\n",
      "}\n",
      "\u001b[36;1m\u001b[1;3m[llm/end]\u001b[0m \u001b[1m[chain:RetrievalQAWithSourcesChain > chain:MapReduceDocumentsChain > chain:LLMChain > llm:ChatGoogleGenerativeAI] [3.03s] Exiting LLM run with output:\n",
      "\u001b[0m{\n",
      "  \"generations\": [\n",
      "    [\n",
      "      {\n",
      "        \"text\": \"FINAL ANSWER: The merger of Air India and Vistara.\\nSOURCES: https://economictimes.indiatimes.com/industry/transportation/airlines-/-aviation/air-india-vistara-merger-gets-nclt-nod/articleshow/110774121.cms?from=mdr, https://www.financialexpress.com/business/airlines-aviation-air-india-vistara-merger-gets-approval-nclt-gives-nod-for-worlds-largest-airline-group-3517515/ \\n\",\n",
      "        \"generation_info\": {\n",
      "          \"finish_reason\": \"STOP\",\n",
      "          \"safety_ratings\": [\n",
      "            {\n",
      "              \"category\": \"HARM_CATEGORY_SEXUALLY_EXPLICIT\",\n",
      "              \"probability\": \"NEGLIGIBLE\",\n",
      "              \"blocked\": false\n",
      "            },\n",
      "            {\n",
      "              \"category\": \"HARM_CATEGORY_HATE_SPEECH\",\n",
      "              \"probability\": \"NEGLIGIBLE\",\n",
      "              \"blocked\": false\n",
      "            },\n",
      "            {\n",
      "              \"category\": \"HARM_CATEGORY_HARASSMENT\",\n",
      "              \"probability\": \"NEGLIGIBLE\",\n",
      "              \"blocked\": false\n",
      "            },\n",
      "            {\n",
      "              \"category\": \"HARM_CATEGORY_DANGEROUS_CONTENT\",\n",
      "              \"probability\": \"NEGLIGIBLE\",\n",
      "              \"blocked\": false\n",
      "            }\n",
      "          ]\n",
      "        },\n",
      "        \"type\": \"ChatGeneration\",\n",
      "        \"message\": {\n",
      "          \"lc\": 1,\n",
      "          \"type\": \"constructor\",\n",
      "          \"id\": [\n",
      "            \"langchain\",\n",
      "            \"schema\",\n",
      "            \"messages\",\n",
      "            \"AIMessage\"\n",
      "          ],\n",
      "          \"kwargs\": {\n",
      "            \"content\": \"FINAL ANSWER: The merger of Air India and Vistara.\\nSOURCES: https://economictimes.indiatimes.com/industry/transportation/airlines-/-aviation/air-india-vistara-merger-gets-nclt-nod/articleshow/110774121.cms?from=mdr, https://www.financialexpress.com/business/airlines-aviation-air-india-vistara-merger-gets-approval-nclt-gives-nod-for-worlds-largest-airline-group-3517515/ \\n\",\n",
      "            \"response_metadata\": {\n",
      "              \"prompt_feedback\": {\n",
      "                \"block_reason\": 0,\n",
      "                \"safety_ratings\": []\n",
      "              },\n",
      "              \"finish_reason\": \"STOP\",\n",
      "              \"safety_ratings\": [\n",
      "                {\n",
      "                  \"category\": \"HARM_CATEGORY_SEXUALLY_EXPLICIT\",\n",
      "                  \"probability\": \"NEGLIGIBLE\",\n",
      "                  \"blocked\": false\n",
      "                },\n",
      "                {\n",
      "                  \"category\": \"HARM_CATEGORY_HATE_SPEECH\",\n",
      "                  \"probability\": \"NEGLIGIBLE\",\n",
      "                  \"blocked\": false\n",
      "                },\n",
      "                {\n",
      "                  \"category\": \"HARM_CATEGORY_HARASSMENT\",\n",
      "                  \"probability\": \"NEGLIGIBLE\",\n",
      "                  \"blocked\": false\n",
      "                },\n",
      "                {\n",
      "                  \"category\": \"HARM_CATEGORY_DANGEROUS_CONTENT\",\n",
      "                  \"probability\": \"NEGLIGIBLE\",\n",
      "                  \"blocked\": false\n",
      "                }\n",
      "              ]\n",
      "            },\n",
      "            \"type\": \"ai\",\n",
      "            \"id\": \"run-c7c081f1-85f4-4c2f-a3dd-23468259374a-0\",\n",
      "            \"usage_metadata\": {\n",
      "              \"input_tokens\": 1798,\n",
      "              \"output_tokens\": 127,\n",
      "              \"total_tokens\": 1925\n",
      "            },\n",
      "            \"tool_calls\": [],\n",
      "            \"invalid_tool_calls\": []\n",
      "          }\n",
      "        }\n",
      "      }\n",
      "    ]\n",
      "  ],\n",
      "  \"llm_output\": {\n",
      "    \"prompt_feedback\": {\n",
      "      \"block_reason\": 0,\n",
      "      \"safety_ratings\": []\n",
      "    }\n",
      "  },\n",
      "  \"run\": null\n",
      "}\n",
      "\u001b[36;1m\u001b[1;3m[chain/end]\u001b[0m \u001b[1m[chain:RetrievalQAWithSourcesChain > chain:MapReduceDocumentsChain > chain:LLMChain] [3.03s] Exiting Chain run with output:\n",
      "\u001b[0m{\n",
      "  \"text\": \"FINAL ANSWER: The merger of Air India and Vistara.\\nSOURCES: https://economictimes.indiatimes.com/industry/transportation/airlines-/-aviation/air-india-vistara-merger-gets-nclt-nod/articleshow/110774121.cms?from=mdr, https://www.financialexpress.com/business/airlines-aviation-air-india-vistara-merger-gets-approval-nclt-gives-nod-for-worlds-largest-airline-group-3517515/ \\n\"\n",
      "}\n",
      "\u001b[36;1m\u001b[1;3m[chain/end]\u001b[0m \u001b[1m[chain:RetrievalQAWithSourcesChain > chain:MapReduceDocumentsChain] [8.15s] Exiting Chain run with output:\n",
      "\u001b[0m{\n",
      "  \"output_text\": \"FINAL ANSWER: The merger of Air India and Vistara.\\nSOURCES: https://economictimes.indiatimes.com/industry/transportation/airlines-/-aviation/air-india-vistara-merger-gets-nclt-nod/articleshow/110774121.cms?from=mdr, https://www.financialexpress.com/business/airlines-aviation-air-india-vistara-merger-gets-approval-nclt-gives-nod-for-worlds-largest-airline-group-3517515/ \\n\"\n",
      "}\n",
      "\u001b[36;1m\u001b[1;3m[chain/end]\u001b[0m \u001b[1m[chain:RetrievalQAWithSourcesChain] [8.53s] Exiting Chain run with output:\n",
      "\u001b[0m{\n",
      "  \"answer\": \"FINAL ANSWER: The merger of Air India and Vistara.\\n\",\n",
      "  \"sources\": \"https://economictimes.indiatimes.com/industry/transportation/airlines-/-aviation/air-india-vistara-merger-gets-nclt-nod/articleshow/110774121.cms?from=mdr, https://www.financialexpress.com/business/airlines-aviation-air-india-vistara-merger-gets-approval-nclt-gives-nod-for-worlds-largest-airline-group-3517515/\"\n",
      "}\n"
     ]
    }
   ],
   "source": [
    "langchain.debug = True\n",
    "chain.invoke(\"What merger are we talking about here?\")\n",
    "langchain.debug = False"
   ]
  },
  {
   "cell_type": "markdown",
   "id": "6c80a0dc-aa57-42e7-821d-e86dcc263fc6",
   "metadata": {},
   "source": [
    "### Explore RAG chains"
   ]
  },
  {
   "cell_type": "code",
   "execution_count": 16,
   "id": "5b59b8f0-a3c0-49a1-9918-fc89d6e3101d",
   "metadata": {},
   "outputs": [
    {
     "name": "stderr",
     "output_type": "stream",
     "text": [
      "WARNING:root:USER_AGENT environment variable not set, consider setting it to identify your requests.\n"
     ]
    }
   ],
   "source": [
    "# Imports\n",
    "from langchain_google_genai import ChatGoogleGenerativeAI, GoogleGenerativeAIEmbeddings\n",
    "from langchain_community.embeddings.huggingface import HuggingFaceBgeEmbeddings\n",
    "from langchain_community.document_loaders import UnstructuredURLLoader, WebBaseLoader\n",
    "from langchain_community.document_transformers import LongContextReorder, EmbeddingsRedundantFilter\n",
    "from langchain.text_splitter import RecursiveCharacterTextSplitter\n",
    "from langchain.retrievers import MultiQueryRetriever, MergerRetriever, ContextualCompressionRetriever\n",
    "from langchain.retrievers.document_compressors import DocumentCompressorPipeline\n",
    "from langchain_community.vectorstores import Chroma\n",
    "from langchain_community.embeddings import SentenceTransformerEmbeddings\n",
    "from langchain_core.runnables import RunnablePassthrough\n",
    "from langchain_core.output_parsers import StrOutputParser\n",
    "from langchain_openai import OpenAIEmbeddings\n",
    "from langchain import hub\n",
    "from dotenv import dotenv_values\n",
    "import os\n",
    "import langchain\n",
    "import pandas as pd\n",
    "import numpy as np"
   ]
  },
  {
   "cell_type": "code",
   "execution_count": 89,
   "id": "66a8330c-d473-4cd6-9554-8822af2e7001",
   "metadata": {},
   "outputs": [],
   "source": [
    "# Read Google API key\n",
    "GOOGLE_API_KEY = dotenv_values(os.path.expanduser('~/.google'))['GOOGLE_API_KEY']\n",
    "os.environ[\"GOOGLE_API_KEY\"] = GOOGLE_API_KEY"
   ]
  },
  {
   "cell_type": "code",
   "execution_count": 90,
   "id": "96dded18-63b4-4e26-bd1f-c04b526a2ac5",
   "metadata": {},
   "outputs": [],
   "source": [
    "# Read OpenAI API key\n",
    "OPENAI_API_KEY = dotenv_values(os.path.expanduser('~/.openai'))['OPENAI_API_KEY']\n",
    "os.environ[\"OPENAI_API_KEY\"] = OPENAI_API_KEY"
   ]
  },
  {
   "cell_type": "markdown",
   "id": "a6aab0e1-d958-493c-9d74-954c0612334e",
   "metadata": {
    "jp-MarkdownHeadingCollapsed": true
   },
   "source": [
    "#### Load Data"
   ]
  },
  {
   "cell_type": "code",
   "execution_count": 7,
   "id": "00ea7364-a556-4917-ac89-6fc00052051b",
   "metadata": {},
   "outputs": [],
   "source": [
    "# Data URLs\n",
    "data_urls = [\n",
    "    'https://indianexpress.com/article/education/neet-ug-2024-moe-nta-form-committee-to-re-check-neet-result-of-1500-students-9379863',\n",
    "    'https://indianexpress.com/article/business/market/sensex-nifty-at-record-highs-after-rbi-hikes-fy25-gdp-growth-projection-9379015',\n",
    "    'https://indianexpress.com/article/business/economy/indian-households-spent-most-on-processed-food-haryana-rajasthan-opted-for-milk-9379003'\n",
    "]\n",
    "# Load documents\n",
    "url_loader = UnstructuredURLLoader(urls=data_urls)\n",
    "eval_docs = url_loader.load()"
   ]
  },
  {
   "cell_type": "markdown",
   "id": "5da3cc33-f070-4e5d-a2f6-55a93b32ae68",
   "metadata": {
    "jp-MarkdownHeadingCollapsed": true
   },
   "source": [
    "#### Setup Chains to Evaluate"
   ]
  },
  {
   "cell_type": "code",
   "execution_count": 8,
   "id": "905c9c90-31e4-46b5-8c7b-fec1099d694c",
   "metadata": {},
   "outputs": [],
   "source": [
    "# Store chains with other details to evaluate later\n",
    "eval_data = []"
   ]
  },
  {
   "cell_type": "markdown",
   "id": "c0e3f235-1d57-4efb-84c0-cb6a3c977b89",
   "metadata": {},
   "source": [
    "**RAG Chain 1** \\\n",
    "Chunk size: 1000 \\\n",
    "Overlap: 200 \\\n",
    "Query Processing: No processing \\\n",
    "Embedding: Google \"embedding-001\" \\\n",
    "Result Generation: Stuff Chain"
   ]
  },
  {
   "cell_type": "code",
   "execution_count": 10,
   "id": "bb0bfb89-222c-43a3-9ec1-f6e5c6a3e2e7",
   "metadata": {},
   "outputs": [
    {
     "name": "stderr",
     "output_type": "stream",
     "text": [
      "Python-dotenv could not parse statement starting at line 4\n",
      "Python-dotenv could not parse statement starting at line 8\n",
      "Python-dotenv could not parse statement starting at line 12\n",
      "Python-dotenv could not parse statement starting at line 15\n"
     ]
    }
   ],
   "source": [
    "# Init LLM object\n",
    "llm = ChatGoogleGenerativeAI(model='gemini-1.5-flash', google_api_key=GOOGLE_API_KEY, temperature=0.2)\n",
    "\n",
    "# Splitter object\n",
    "splitter = RecursiveCharacterTextSplitter(\n",
    "    separators=[\"\\n\\n\", \"\\n\", \" \"],\n",
    "    chunk_size=1000,\n",
    "    chunk_overlap=200,\n",
    "    add_start_index=True\n",
    ")\n",
    "\n",
    "# Split data\n",
    "chunks = splitter.split_documents(eval_docs)\n",
    "\n",
    "# Google embedder\n",
    "embedding = GoogleGenerativeAIEmbeddings(model=\"models/embedding-001\")\n",
    "\n",
    "# Vector store\n",
    "vectorstore = Chroma.from_documents(documents=chunks, embedding=embedding, collection_name=\"rag-1\")\n",
    "\n",
    "# Doc retreiver\n",
    "retriever = vectorstore.as_retriever(search_kwargs={\"k\": 5})\n",
    "\n",
    "# Document formatter for context docs\n",
    "def format_docs(docs):\n",
    "    return \"\\n\\n\".join(doc.page_content for doc in docs)\n",
    "\n",
    "# RAG prompt\n",
    "prompt = hub.pull(\"rlm/rag-prompt\")\n",
    "\n",
    "# RAG chain\n",
    "rag_chain = (\n",
    "    {\"context\": retriever | format_docs, \"question\": RunnablePassthrough()}\n",
    "    | prompt\n",
    "    | llm\n",
    "    | StrOutputParser()\n",
    ")"
   ]
  },
  {
   "cell_type": "code",
   "execution_count": 11,
   "id": "688dfdf1-e393-4e87-860c-40543b625870",
   "metadata": {},
   "outputs": [],
   "source": [
    "# Run chain for all input questions and store output\n",
    "rag_answers = []\n",
    "for q in testset_df['question']:\n",
    "    rag_answers.append(rag_chain.invoke(q))"
   ]
  },
  {
   "cell_type": "code",
   "execution_count": 12,
   "id": "b8f92869-4794-4a64-8056-b8c1f4843dbe",
   "metadata": {},
   "outputs": [],
   "source": [
    "# Add details to eval data\n",
    "eval_data.append({\n",
    "    \"answers\": rag_answers,\n",
    "    \"chain\": rag_chain,\n",
    "    \"desc\": \"Chunk 1000, Overlap 200, No query processing, Google embedding-001, Stuff chain\"\n",
    "})"
   ]
  },
  {
   "cell_type": "markdown",
   "id": "e0d76f43-57f5-427b-8992-8577d7c216f0",
   "metadata": {},
   "source": [
    "**RAG Chain 2** \\\n",
    "Chunk size: 1000 \\\n",
    "Overlap: 200 \\\n",
    "Query Processing: Multi query \\\n",
    "Embedding: Google \"embedding-001\" \\\n",
    "Result Generation: Stuff Chain"
   ]
  },
  {
   "cell_type": "code",
   "execution_count": 13,
   "id": "c4455cd9-ef60-4c2a-a970-2f9114c6fefc",
   "metadata": {},
   "outputs": [
    {
     "name": "stderr",
     "output_type": "stream",
     "text": [
      "Python-dotenv could not parse statement starting at line 4\n",
      "Python-dotenv could not parse statement starting at line 8\n",
      "Python-dotenv could not parse statement starting at line 12\n",
      "Python-dotenv could not parse statement starting at line 15\n"
     ]
    }
   ],
   "source": [
    "# Init LLM object\n",
    "llm = ChatGoogleGenerativeAI(model='gemini-1.5-flash', google_api_key=GOOGLE_API_KEY, temperature=0.2)\n",
    "\n",
    "# Splitter object\n",
    "splitter = RecursiveCharacterTextSplitter(\n",
    "    separators=[\"\\n\\n\", \"\\n\", \" \"],\n",
    "    chunk_size=1000,\n",
    "    chunk_overlap=200,\n",
    "    add_start_index=True\n",
    ")\n",
    "\n",
    "# Split data\n",
    "chunks = splitter.split_documents(eval_docs)\n",
    "\n",
    "# Google embedder\n",
    "embedding = GoogleGenerativeAIEmbeddings(model=\"models/embedding-001\")\n",
    "\n",
    "# Vector store\n",
    "vectorstore = Chroma.from_documents(documents=chunks, embedding=embedding, collection_name=\"rag-2\")\n",
    "\n",
    "# Doc retreiver\n",
    "retriever = vectorstore.as_retriever(search_kwargs={\"k\": 5})\n",
    "retriever_from_llm = MultiQueryRetriever.from_llm(retriever=retriever, llm=llm)\n",
    "\n",
    "# Document formatter for context docs\n",
    "def format_docs(docs):\n",
    "    return \"\\n\\n\".join(doc.page_content for doc in docs)\n",
    "\n",
    "# RAG prompt\n",
    "prompt = hub.pull(\"rlm/rag-prompt\")\n",
    "\n",
    "# RAG chain\n",
    "rag_chain = (\n",
    "    {\"context\": retriever_from_llm | format_docs, \"question\": RunnablePassthrough()}\n",
    "    | prompt\n",
    "    | llm\n",
    "    | StrOutputParser()\n",
    ")"
   ]
  },
  {
   "cell_type": "code",
   "execution_count": 50,
   "id": "1fcf3c1e-06fa-4797-bdaf-458b9c960873",
   "metadata": {
    "scrolled": true
   },
   "outputs": [
    {
     "name": "stdout",
     "output_type": "stream",
     "text": [
      "\u001b[32;1m\u001b[1;3m[chain/start]\u001b[0m \u001b[1m[chain:RunnableSequence] Entering Chain run with input:\n",
      "\u001b[0m{\n",
      "  \"input\": \"What steps were taken regarding NEET results\"\n",
      "}\n",
      "\u001b[32;1m\u001b[1;3m[chain/start]\u001b[0m \u001b[1m[chain:RunnableSequence > chain:RunnableParallel<context,question>] Entering Chain run with input:\n",
      "\u001b[0m{\n",
      "  \"input\": \"What steps were taken regarding NEET results\"\n",
      "}\n",
      "\u001b[32;1m\u001b[1;3m[chain/start]\u001b[0m \u001b[1m[chain:RunnableSequence > chain:RunnableParallel<context,question> > chain:RunnableSequence] Entering Chain run with input:\n",
      "\u001b[0m{\n",
      "  \"input\": \"What steps were taken regarding NEET results\"\n",
      "}\n",
      "\u001b[32;1m\u001b[1;3m[chain/start]\u001b[0m \u001b[1m[chain:RunnableSequence > chain:RunnableParallel<context,question> > chain:RunnableSequence > retriever:Retriever > chain:RunnableSequence] Entering Chain run with input:\n",
      "\u001b[0m{\n",
      "  \"question\": \"What steps were taken regarding NEET results\"\n",
      "}\n",
      "\u001b[32;1m\u001b[1;3m[chain/start]\u001b[0m \u001b[1m[chain:RunnableSequence > chain:RunnableParallel<context,question> > chain:RunnableSequence > retriever:Retriever > chain:RunnableSequence > prompt:PromptTemplate] Entering Prompt run with input:\n",
      "\u001b[0m{\n",
      "  \"question\": \"What steps were taken regarding NEET results\"\n",
      "}\n",
      "\u001b[36;1m\u001b[1;3m[chain/end]\u001b[0m \u001b[1m[chain:RunnableSequence > chain:RunnableParallel<context,question> > chain:RunnableSequence > retriever:Retriever > chain:RunnableSequence > prompt:PromptTemplate] [0ms] Exiting Prompt run with output:\n",
      "\u001b[0m[outputs]\n",
      "\u001b[32;1m\u001b[1;3m[llm/start]\u001b[0m \u001b[1m[chain:RunnableSequence > chain:RunnableParallel<context,question> > chain:RunnableSequence > retriever:Retriever > chain:RunnableSequence > llm:ChatGoogleGenerativeAI] Entering LLM run with input:\n",
      "\u001b[0m{\n",
      "  \"prompts\": [\n",
      "    \"Human: You are an AI language model assistant. Your task is \\n    to generate 3 different versions of the given user \\n    question to retrieve relevant documents from a vector  database. \\n    By generating multiple perspectives on the user question, \\n    your goal is to help the user overcome some of the limitations \\n    of distance-based similarity search. Provide these alternative \\n    questions separated by newlines. Original question: What steps were taken regarding NEET results\"\n",
      "  ]\n",
      "}\n",
      "\u001b[32;1m\u001b[1;3m[chain/start]\u001b[0m \u001b[1m[chain:RunnableSequence > chain:RunnableParallel<context,question> > chain:RunnablePassthrough] Entering Chain run with input:\n",
      "\u001b[0m{\n",
      "  \"input\": \"What steps were taken regarding NEET results\"\n",
      "}\n",
      "\u001b[36;1m\u001b[1;3m[chain/end]\u001b[0m \u001b[1m[chain:RunnableSequence > chain:RunnableParallel<context,question> > chain:RunnablePassthrough] [0ms] Exiting Chain run with output:\n",
      "\u001b[0m{\n",
      "  \"output\": \"What steps were taken regarding NEET results\"\n",
      "}\n",
      "\u001b[36;1m\u001b[1;3m[llm/end]\u001b[0m \u001b[1m[chain:RunnableSequence > chain:RunnableParallel<context,question> > chain:RunnableSequence > retriever:Retriever > chain:RunnableSequence > llm:ChatGoogleGenerativeAI] [2.54s] Exiting LLM run with output:\n",
      "\u001b[0m{\n",
      "  \"generations\": [\n",
      "    [\n",
      "      {\n",
      "        \"text\": \"Here are 3 different versions of the user question \\\"What steps were taken regarding NEET results\\\":\\n\\n1. **Focusing on specific actions:**  What actions were taken by the authorities in response to the NEET results?\\n2. **Broadening the scope:** What are the common procedures and policies related to NEET results, including announcements, appeals, and counseling?\\n3. **Adding a time constraint:** What steps were taken regarding NEET results in the year 2023? \\n\",\n",
      "        \"generation_info\": {\n",
      "          \"finish_reason\": \"STOP\",\n",
      "          \"safety_ratings\": [\n",
      "            {\n",
      "              \"category\": \"HARM_CATEGORY_SEXUALLY_EXPLICIT\",\n",
      "              \"probability\": \"NEGLIGIBLE\",\n",
      "              \"blocked\": false\n",
      "            },\n",
      "            {\n",
      "              \"category\": \"HARM_CATEGORY_HATE_SPEECH\",\n",
      "              \"probability\": \"NEGLIGIBLE\",\n",
      "              \"blocked\": false\n",
      "            },\n",
      "            {\n",
      "              \"category\": \"HARM_CATEGORY_HARASSMENT\",\n",
      "              \"probability\": \"NEGLIGIBLE\",\n",
      "              \"blocked\": false\n",
      "            },\n",
      "            {\n",
      "              \"category\": \"HARM_CATEGORY_DANGEROUS_CONTENT\",\n",
      "              \"probability\": \"NEGLIGIBLE\",\n",
      "              \"blocked\": false\n",
      "            }\n",
      "          ]\n",
      "        },\n",
      "        \"type\": \"ChatGeneration\",\n",
      "        \"message\": {\n",
      "          \"lc\": 1,\n",
      "          \"type\": \"constructor\",\n",
      "          \"id\": [\n",
      "            \"langchain\",\n",
      "            \"schema\",\n",
      "            \"messages\",\n",
      "            \"AIMessage\"\n",
      "          ],\n",
      "          \"kwargs\": {\n",
      "            \"content\": \"Here are 3 different versions of the user question \\\"What steps were taken regarding NEET results\\\":\\n\\n1. **Focusing on specific actions:**  What actions were taken by the authorities in response to the NEET results?\\n2. **Broadening the scope:** What are the common procedures and policies related to NEET results, including announcements, appeals, and counseling?\\n3. **Adding a time constraint:** What steps were taken regarding NEET results in the year 2023? \\n\",\n",
      "            \"response_metadata\": {\n",
      "              \"prompt_feedback\": {\n",
      "                \"block_reason\": 0,\n",
      "                \"safety_ratings\": []\n",
      "              },\n",
      "              \"finish_reason\": \"STOP\",\n",
      "              \"safety_ratings\": [\n",
      "                {\n",
      "                  \"category\": \"HARM_CATEGORY_SEXUALLY_EXPLICIT\",\n",
      "                  \"probability\": \"NEGLIGIBLE\",\n",
      "                  \"blocked\": false\n",
      "                },\n",
      "                {\n",
      "                  \"category\": \"HARM_CATEGORY_HATE_SPEECH\",\n",
      "                  \"probability\": \"NEGLIGIBLE\",\n",
      "                  \"blocked\": false\n",
      "                },\n",
      "                {\n",
      "                  \"category\": \"HARM_CATEGORY_HARASSMENT\",\n",
      "                  \"probability\": \"NEGLIGIBLE\",\n",
      "                  \"blocked\": false\n",
      "                },\n",
      "                {\n",
      "                  \"category\": \"HARM_CATEGORY_DANGEROUS_CONTENT\",\n",
      "                  \"probability\": \"NEGLIGIBLE\",\n",
      "                  \"blocked\": false\n",
      "                }\n",
      "              ]\n",
      "            },\n",
      "            \"type\": \"ai\",\n",
      "            \"id\": \"run-94940446-d313-49d6-9440-47941de8b06c-0\",\n",
      "            \"usage_metadata\": {\n",
      "              \"input_tokens\": 98,\n",
      "              \"output_tokens\": 97,\n",
      "              \"total_tokens\": 195\n",
      "            },\n",
      "            \"tool_calls\": [],\n",
      "            \"invalid_tool_calls\": []\n",
      "          }\n",
      "        }\n",
      "      }\n",
      "    ]\n",
      "  ],\n",
      "  \"llm_output\": {\n",
      "    \"prompt_feedback\": {\n",
      "      \"block_reason\": 0,\n",
      "      \"safety_ratings\": []\n",
      "    }\n",
      "  },\n",
      "  \"run\": null\n",
      "}\n",
      "\u001b[32;1m\u001b[1;3m[chain/start]\u001b[0m \u001b[1m[chain:RunnableSequence > chain:RunnableParallel<context,question> > chain:RunnableSequence > retriever:Retriever > chain:RunnableSequence > parser:LineListOutputParser] Entering Parser run with input:\n",
      "\u001b[0m[inputs]\n",
      "\u001b[36;1m\u001b[1;3m[chain/end]\u001b[0m \u001b[1m[chain:RunnableSequence > chain:RunnableParallel<context,question> > chain:RunnableSequence > retriever:Retriever > chain:RunnableSequence > parser:LineListOutputParser] [1ms] Exiting Parser run with output:\n",
      "\u001b[0m{\n",
      "  \"output\": [\n",
      "    \"Here are 3 different versions of the user question \\\"What steps were taken regarding NEET results\\\":\",\n",
      "    \"\",\n",
      "    \"1. **Focusing on specific actions:**  What actions were taken by the authorities in response to the NEET results?\",\n",
      "    \"2. **Broadening the scope:** What are the common procedures and policies related to NEET results, including announcements, appeals, and counseling?\",\n",
      "    \"3. **Adding a time constraint:** What steps were taken regarding NEET results in the year 2023?\"\n",
      "  ]\n",
      "}\n",
      "\u001b[36;1m\u001b[1;3m[chain/end]\u001b[0m \u001b[1m[chain:RunnableSequence > chain:RunnableParallel<context,question> > chain:RunnableSequence > retriever:Retriever > chain:RunnableSequence] [2.54s] Exiting Chain run with output:\n",
      "\u001b[0m{\n",
      "  \"output\": [\n",
      "    \"Here are 3 different versions of the user question \\\"What steps were taken regarding NEET results\\\":\",\n",
      "    \"\",\n",
      "    \"1. **Focusing on specific actions:**  What actions were taken by the authorities in response to the NEET results?\",\n",
      "    \"2. **Broadening the scope:** What are the common procedures and policies related to NEET results, including announcements, appeals, and counseling?\",\n",
      "    \"3. **Adding a time constraint:** What steps were taken regarding NEET results in the year 2023?\"\n",
      "  ]\n",
      "}\n",
      "\u001b[32;1m\u001b[1;3m[chain/start]\u001b[0m \u001b[1m[chain:RunnableSequence > chain:RunnableParallel<context,question> > chain:RunnableSequence > chain:format_docs] Entering Chain run with input:\n",
      "\u001b[0m[inputs]\n",
      "\u001b[36;1m\u001b[1;3m[chain/end]\u001b[0m \u001b[1m[chain:RunnableSequence > chain:RunnableParallel<context,question> > chain:RunnableSequence > chain:format_docs] [0ms] Exiting Chain run with output:\n",
      "\u001b[0m{\n",
      "  \"output\": \"NEET\\n\\nNEET UG\\n\\nNEET UG 2024\\n\\nNTA\\n\\nLatest Comment\\n\\nPost Comment\\n\\nRead Comments\\n\\nAdvertisement\\n\\nT20 World Cup: India rises from dead, defeat Pakistan by 6 runs in low scoring thriller\\n\\nSports\\n\\nUpdated: June 10, 2024  09:04 IST\\n\\nIndian bowlers, led by Jasprit Bumrah, successfully defended a low score of 120 against Pakistan at the Nassau County International Cricket Stadium. Bumrah took 3 wickets while Hardik Pandya and Axar Patel contributed 2 and 1 respectively. Pakistan suffered a collapse in their run chase, losing 5 wickets before crossing 100. Earlier, India scored their lowest ever total against Pakistan.\\n\\nView all shorts\\n\\nLive Blog\\n\\nDelhi News Live Updates: Amid water crisis, L-G Saxena, Atishi to meet over inadequate supply from Haryana25 mins ago\\n\\nMumbai News Live Updates: IMD predicts heavy rainfall for next 2 days; Two killed in Vikhroli West building collapse49 mins ago\\n\\nRead |\\n\\nHow 44 are NEET UG toppers because of a wrong answer — and wrong textbook\\n\\nA former UPSC chairman and three other academicians have been selected for this panel, which has started investigation and is expected to announce its verdict before next Saturday.\\n\\nThe verdict will not affect other results, the NTA said. “We are aware that the counselling process (for MBBS courses) is about to begin, but this will not affect the admission process. This special committee will give their verdict before next Saturday and accordingly the next step will be taken, but we are trying our best to ensure there is no hiccup in the admission process,” Singh told The Indian Express.\\n\\nAdvertisement\\n\\n“We demand that a high-level investigation should be conducted under the supervision of the Supreme Court so that our talented students appearing in NEET and other exams get justice,” he had said.\\n\\nTamil Nadu Chief Minister M K Stalin said the trends from the latest NEET results have once again vindicated the DMK on its stand opposing the exam, reiterating that the entrance test goes against social justice and federalism.\\n\\n© IE Online Media Services Pvt Ltd\\n\\nDeeksha Teri\\n\\nDeeksha Teri covers education and has worked with the The Hindu (print division), WION and Stonebow Media. She is an alumnus of The University of Lincoln and The University of Delhi.                        ... Read More\\n\\nFirst uploaded on: \\n\\n08-06-2024 at 15:37 IST\\n\\nTags:\\n\\nMinistry of Education\\n\\nNEET\\n\\nNEET UG\\n\\nNEET UG 2024\\n\\nNTA\\n\\nLatest Comment\\n\\nPost Comment\\n\\nRead Comments\\n\\nAdvertisement\\n\\nT20 World Cup: India rises from dead, defeat Pakistan by 6 runs in low scoring thriller\\n\\nSports\\n\\nAs of now, a total of 1,563 students (six of whom got a spot in the top ranks) were given grace marks based on a normalisation formula, which the NTA has not shared. These candidates were from six centres — two in Chhattisgarh (one each in Balod and Dantewada), one each in Meghalaya, Surat, Haryana’s Bahadurgarh, and Chandigarh.\\n\\nAdvertisement\\n\\nMeanwhile, students have filed petitions in a number of high courts.\\n\\nOne of these writ petitions, filed by a NEET UG candidate in the Delhi High Court, was listed for hearing on June 12 after the issuance of notice by a vacation bench on June 7. This petitioner has challenged the final answer key of question number 29 in Physics as well as the compensatory time given to the candidates at a few centres.\\n\\nAnnounced on June 4, the results drew immediate attention for the extraordinarily large number of candidates who got the perfect score of 720/720 and for the fact that some candidates got 718 or 719 — marks that others claimed were impossible to get in the scheme of the exam. There have also been allegations of a paper leak, which the NTA has denied.\\n\\nAdvertisement\\n\\nOn Saturday, NTA Director General Subodh Kumar Singh denied irregularities in the results. He attributed the unusually high number of top rankers (67) to a relatively easier paper this year and the agency’s decision to award additional marks to students whose exams did not start on time. Singh, however, also told reporters that a committee will look into the results of the 1,500 candidates who were awarded grace marks.\\n\\nRead |\\n\\nHow 44 are NEET UG toppers because of a wrong answer — and wrong textbook\\n\\n‘I didn’t want’ Cabinet berth: first-time Union Minister of State Suresh Gopi\\n\\nWWDC 2024: How to watch and what to expect from ‘Apple Intelligence’ unveil event\\n\\nJoSAA 2024 registration starts today at jossa.nic.in\\n\\nBollywood songs, food trails and breaking barriers: How a British-Indian coach Trishan Patel is fuelling Pakistan’s football dream\\n\\nUnderstanding the Keto flu — from symptoms to causes\\n\\nCourse correction: Haryana CM to hand over 100-sq yard plots to 7,500 beneficiaries today\\n\\nPolice arrest 1 in Tripura ADC recruitment exam answer key leak case\\n\\nInd vs Pak: Delhi Police celebrate India’s win with a quirky message for NYPD, post goes viral\\n\\nMunjya box office collection day 3: Mona Singh and Sharvari’s horror comedy surpasses Mr and Mrs Mahi and Maidaan, mints Rs 19 cr\\n\\nFollow Us\\n\\n\\n\\n\\n\\n\\n\\n\\n\\nDownload Apps\\n\\nMyInsuranceClub\\n\\nNewsletters\\n\\n26/11 Stories of Strength\\n\\nRamnath Goenka Excellence in Journalism Awards\\n\\nOnline Classes for Kids\\n\\nLight House Journalism\\n\\nCompare Term Insurance\\n\\nQuick Links\\n\\nT&C\\n\\nPrivacy Policy\\n\\nAdvertise with Us\\n\\nBrand Solutions\\n\\nContact Us\\n\\nSubscribe\\n\\nStatutory provisions on reporting (sexual offenses)\\n\\nThis website follows the DNPA’s code of conduct\\n\\nCSR\\n\\nCopyright © 2024 The Indian Express [P] Ltd. All Rights Reserved\\n\\nSports\\n\\nIND vs PAK, T20 World Cup: Bumrah's dismissal of Rizwan turns the tide as India script epic New York comeback\\n\\nSports\\n\\nIND vs PAK, T20 World Cup: India 119 all out, record lowest T20I score against Pakistan\\n\\nOpinion\\n\\n'All the world’s a stage …'\\n\\nExplained\\n\\nWhat happens at a swearing-in ceremony and what oaths have to be taken?\\n\\nLifestyle\\n\\nFrom 'Jodhpuri sabzi' to mango cream, JP Nadda to host dinner after PM Modi's swearing-in ceremony (see menu inside)\\n\\nTechnology\\n\\nFrom productivity to photography, best foldable smartphones to consider in 2024\\n\\nAdvertisement\\n\\nMust Read\\n\\nSports\\n\\nIND vs PAK, T20 World Cup: Bumrah's dismissal of Rizwan turns the tide as India script epic New York comeback\\n\\nSports\\n\\nIND vs PAK, T20 World Cup: India 119 all out, record lowest T20I score against Pakistan\\n\\nSports\\n\\nIndia win Boom-boom: Rohit's sweet swat-six, Rishabh's adventures continue and two catches go down before Pant pouches two\\n\\nTechnology\\n\\nSportsWorldBusinessEntertainmentJobs\\n\\nHealthLifestyleTechnologyEducationMovie Review\\n\\nEyeTrendingCitiesNewslettersWebSeries\\n\\nPhotosVideosAudioWeb Stories\\n\\nTrending\\n\\nUPSC Pack\\n\\nT20 World Cup\\n\\nExpress Shorts\\n\\nMini Crossword\\n\\nPremium Stories\\n\\n🎙️ Podcast\\n\\nHealth & Wellness\\n\\nclose\\n\\nIndia\\n\\nInternational\\n\\nSubscribe\\n\\nSign In\\n\\ne-paper\\n\\nPremium\\n\\nIndia\\n\\nElections 2024\\n\\nBollywood\\n\\nOpinion\\n\\nPolitical Pulse\\n\\nExplained\\n\\nScience\\n\\nCricket\\n\\nSports\\n\\nWorld\\n\\nBusiness\\n\\nEntertainment\\n\\nJobs\\n\\nHealth\\n\\nLifestyle\\n\\nTechnology\\n\\nEducation\\n\\nMovie Review\\n\\nEye\\n\\nTrending\\n\\nCities\\n\\nNewsletters\\n\\nWebSeries\\n\\nPhotos\\n\\nVideos\\n\\nAudio\\n\\nWeb Stories\\n\\nTop Categories\\n\\nExplained News\\n\\nPolitical Pulse\\n\\nLatest Opinion\\n\\nMumbai News\\n\\nDelhi News\\n\\nPune News\\n\\nBangalore News\\n\\nBollywood News\\n\\nHealth News\\n\\nIndia News\\n\\nSports News\\n\\nLifestyle News\\n\\nLatest News\\n\\nCricket\\n\\nTech Reviews\\n\\nGadgets\\n\\nMobile & Tabs\\n\\nFood & Wine\\n\\nElections 2024\\n\\nFitness\\n\\nTrending News\\n\\nLatest News\\n\\nHealth and Wellness\\n\\nEducation News\\n\\nBuy All-Access Plan\\n\\nEnglish\\n\\nதமிழ்\\n\\nবাংলা\\n\\nമലയാളം\\n\\nગુજરાતી\\n\\nहिंदी\\n\\nमराठी\\n\\nBusiness\\n\\nबिज़नेस\\n\\nNewsletters\\n\\n\\n\\n\\n\\n\\n\\n\\n\\nIndia\\n\\nInternational\\n\\nMonday, Jun 10, 2024\\n\\nePaper\\n\\nToday’s Paper\\n\\nJournalism of Courage\\n\\nHome\\n\\nePaper\\n\\nCities\\n\\nIndia\\n\\nExplained\\n\\nOpinion\\n\\nBusiness\\n\\nEntertainment\\n\\nSports\\n\\nPolitics\\n\\nUPSC\\n\\nLifestyle\\n\\nTech\\n\\nEducation\\n\\nResearch\\n\\nVideos\\n\\nSubscribe\\n\\nSign In\\n\\nTrending\\n\\nUPSC Pack\\n\\nT20 World Cup\\n\\nExpress Shorts\\n\\nMini Crossword\\n\\nPremium Stories\\n\\n🎙️ Podcast\\n\\nHealth & Wellness\\n\\nAdvertisement\\n\\nNews\\n\\nEducation\\n\\nNEET UG: Govt, NTA form panel to review results of 1,500 students\\n\\nNEET UG: Govt, NTA form panel to review results of 1,500 students\\n\\nNEET UG 2024 Result: Will ensure this does not affect MBBS admission process, says NTA chief\\n\\n\\n\\t\\t\\t\\t\\t\\t\\t\\t\\t\\t\\t\\t\\t\\t\\t Written by \\t\\t\\t\\t\\t\\n\\nDeeksha Teri\\n\\t\\t\\t\\t\\t\\t\\n\\t\\n\\n\\t\\tNew Delhi |\\n\\nUpdated: June 9, 2024  10:27 IST\\n\\nFollow Us\\n\\nWritten by \\t\\t\\t\\t\\t\\n\\nDeeksha Teri\\n\\t\\t\\t\\t\\t\\t\\n\\t\\n\\n\\t\\tNew Delhi |\\n\\nUpdated: June 9, 2024  10:27 IST\\n\\nFollow Us\\n\\n\\n\\n\\n\\n\\n\\n\\n\\nNEET UG 2024 Result: The committee has started the investigation, and is expected to announce their verdict before next Saturday. (Express photo by Deeksha Teri)\\n\\nNEET UG 2024 Result: The National Testing Agency (NTA) and the Union Education Ministry Saturday announced the formation of a four-member committee to review the results of over 1,500 candidates who were awarded “grace marks” to compensate for the “loss of time” suffered while appearing for this year’s National Eligibility-cum-Entrance Test (Undergraduate).\\n\\nThe announcement came amid an uproar over the NEET-UG results this year, with states like Maharashtra demanding a retest and the Aam Aadmi Party (AAP) demanding a Supreme Court-monitored probe into alleged discrepancies highlighted by students on social media.\"\n",
      "}\n",
      "\u001b[36;1m\u001b[1;3m[chain/end]\u001b[0m \u001b[1m[chain:RunnableSequence > chain:RunnableParallel<context,question> > chain:RunnableSequence] [5.64s] Exiting Chain run with output:\n",
      "\u001b[0m{\n",
      "  \"output\": \"NEET\\n\\nNEET UG\\n\\nNEET UG 2024\\n\\nNTA\\n\\nLatest Comment\\n\\nPost Comment\\n\\nRead Comments\\n\\nAdvertisement\\n\\nT20 World Cup: India rises from dead, defeat Pakistan by 6 runs in low scoring thriller\\n\\nSports\\n\\nUpdated: June 10, 2024  09:04 IST\\n\\nIndian bowlers, led by Jasprit Bumrah, successfully defended a low score of 120 against Pakistan at the Nassau County International Cricket Stadium. Bumrah took 3 wickets while Hardik Pandya and Axar Patel contributed 2 and 1 respectively. Pakistan suffered a collapse in their run chase, losing 5 wickets before crossing 100. Earlier, India scored their lowest ever total against Pakistan.\\n\\nView all shorts\\n\\nLive Blog\\n\\nDelhi News Live Updates: Amid water crisis, L-G Saxena, Atishi to meet over inadequate supply from Haryana25 mins ago\\n\\nMumbai News Live Updates: IMD predicts heavy rainfall for next 2 days; Two killed in Vikhroli West building collapse49 mins ago\\n\\nRead |\\n\\nHow 44 are NEET UG toppers because of a wrong answer — and wrong textbook\\n\\nA former UPSC chairman and three other academicians have been selected for this panel, which has started investigation and is expected to announce its verdict before next Saturday.\\n\\nThe verdict will not affect other results, the NTA said. “We are aware that the counselling process (for MBBS courses) is about to begin, but this will not affect the admission process. This special committee will give their verdict before next Saturday and accordingly the next step will be taken, but we are trying our best to ensure there is no hiccup in the admission process,” Singh told The Indian Express.\\n\\nAdvertisement\\n\\n“We demand that a high-level investigation should be conducted under the supervision of the Supreme Court so that our talented students appearing in NEET and other exams get justice,” he had said.\\n\\nTamil Nadu Chief Minister M K Stalin said the trends from the latest NEET results have once again vindicated the DMK on its stand opposing the exam, reiterating that the entrance test goes against social justice and federalism.\\n\\n© IE Online Media Services Pvt Ltd\\n\\nDeeksha Teri\\n\\nDeeksha Teri covers education and has worked with the The Hindu (print division), WION and Stonebow Media. She is an alumnus of The University of Lincoln and The University of Delhi.                        ... Read More\\n\\nFirst uploaded on: \\n\\n08-06-2024 at 15:37 IST\\n\\nTags:\\n\\nMinistry of Education\\n\\nNEET\\n\\nNEET UG\\n\\nNEET UG 2024\\n\\nNTA\\n\\nLatest Comment\\n\\nPost Comment\\n\\nRead Comments\\n\\nAdvertisement\\n\\nT20 World Cup: India rises from dead, defeat Pakistan by 6 runs in low scoring thriller\\n\\nSports\\n\\nAs of now, a total of 1,563 students (six of whom got a spot in the top ranks) were given grace marks based on a normalisation formula, which the NTA has not shared. These candidates were from six centres — two in Chhattisgarh (one each in Balod and Dantewada), one each in Meghalaya, Surat, Haryana’s Bahadurgarh, and Chandigarh.\\n\\nAdvertisement\\n\\nMeanwhile, students have filed petitions in a number of high courts.\\n\\nOne of these writ petitions, filed by a NEET UG candidate in the Delhi High Court, was listed for hearing on June 12 after the issuance of notice by a vacation bench on June 7. This petitioner has challenged the final answer key of question number 29 in Physics as well as the compensatory time given to the candidates at a few centres.\\n\\nAnnounced on June 4, the results drew immediate attention for the extraordinarily large number of candidates who got the perfect score of 720/720 and for the fact that some candidates got 718 or 719 — marks that others claimed were impossible to get in the scheme of the exam. There have also been allegations of a paper leak, which the NTA has denied.\\n\\nAdvertisement\\n\\nOn Saturday, NTA Director General Subodh Kumar Singh denied irregularities in the results. He attributed the unusually high number of top rankers (67) to a relatively easier paper this year and the agency’s decision to award additional marks to students whose exams did not start on time. Singh, however, also told reporters that a committee will look into the results of the 1,500 candidates who were awarded grace marks.\\n\\nRead |\\n\\nHow 44 are NEET UG toppers because of a wrong answer — and wrong textbook\\n\\n‘I didn’t want’ Cabinet berth: first-time Union Minister of State Suresh Gopi\\n\\nWWDC 2024: How to watch and what to expect from ‘Apple Intelligence’ unveil event\\n\\nJoSAA 2024 registration starts today at jossa.nic.in\\n\\nBollywood songs, food trails and breaking barriers: How a British-Indian coach Trishan Patel is fuelling Pakistan’s football dream\\n\\nUnderstanding the Keto flu — from symptoms to causes\\n\\nCourse correction: Haryana CM to hand over 100-sq yard plots to 7,500 beneficiaries today\\n\\nPolice arrest 1 in Tripura ADC recruitment exam answer key leak case\\n\\nInd vs Pak: Delhi Police celebrate India’s win with a quirky message for NYPD, post goes viral\\n\\nMunjya box office collection day 3: Mona Singh and Sharvari’s horror comedy surpasses Mr and Mrs Mahi and Maidaan, mints Rs 19 cr\\n\\nFollow Us\\n\\n\\n\\n\\n\\n\\n\\n\\n\\nDownload Apps\\n\\nMyInsuranceClub\\n\\nNewsletters\\n\\n26/11 Stories of Strength\\n\\nRamnath Goenka Excellence in Journalism Awards\\n\\nOnline Classes for Kids\\n\\nLight House Journalism\\n\\nCompare Term Insurance\\n\\nQuick Links\\n\\nT&C\\n\\nPrivacy Policy\\n\\nAdvertise with Us\\n\\nBrand Solutions\\n\\nContact Us\\n\\nSubscribe\\n\\nStatutory provisions on reporting (sexual offenses)\\n\\nThis website follows the DNPA’s code of conduct\\n\\nCSR\\n\\nCopyright © 2024 The Indian Express [P] Ltd. All Rights Reserved\\n\\nSports\\n\\nIND vs PAK, T20 World Cup: Bumrah's dismissal of Rizwan turns the tide as India script epic New York comeback\\n\\nSports\\n\\nIND vs PAK, T20 World Cup: India 119 all out, record lowest T20I score against Pakistan\\n\\nOpinion\\n\\n'All the world’s a stage …'\\n\\nExplained\\n\\nWhat happens at a swearing-in ceremony and what oaths have to be taken?\\n\\nLifestyle\\n\\nFrom 'Jodhpuri sabzi' to mango cream, JP Nadda to host dinner after PM Modi's swearing-in ceremony (see menu inside)\\n\\nTechnology\\n\\nFrom productivity to photography, best foldable smartphones to consider in 2024\\n\\nAdvertisement\\n\\nMust Read\\n\\nSports\\n\\nIND vs PAK, T20 World Cup: Bumrah's dismissal of Rizwan turns the tide as India script epic New York comeback\\n\\nSports\\n\\nIND vs PAK, T20 World Cup: India 119 all out, record lowest T20I score against Pakistan\\n\\nSports\\n\\nIndia win Boom-boom: Rohit's sweet swat-six, Rishabh's adventures continue and two catches go down before Pant pouches two\\n\\nTechnology\\n\\nSportsWorldBusinessEntertainmentJobs\\n\\nHealthLifestyleTechnologyEducationMovie Review\\n\\nEyeTrendingCitiesNewslettersWebSeries\\n\\nPhotosVideosAudioWeb Stories\\n\\nTrending\\n\\nUPSC Pack\\n\\nT20 World Cup\\n\\nExpress Shorts\\n\\nMini Crossword\\n\\nPremium Stories\\n\\n🎙️ Podcast\\n\\nHealth & Wellness\\n\\nclose\\n\\nIndia\\n\\nInternational\\n\\nSubscribe\\n\\nSign In\\n\\ne-paper\\n\\nPremium\\n\\nIndia\\n\\nElections 2024\\n\\nBollywood\\n\\nOpinion\\n\\nPolitical Pulse\\n\\nExplained\\n\\nScience\\n\\nCricket\\n\\nSports\\n\\nWorld\\n\\nBusiness\\n\\nEntertainment\\n\\nJobs\\n\\nHealth\\n\\nLifestyle\\n\\nTechnology\\n\\nEducation\\n\\nMovie Review\\n\\nEye\\n\\nTrending\\n\\nCities\\n\\nNewsletters\\n\\nWebSeries\\n\\nPhotos\\n\\nVideos\\n\\nAudio\\n\\nWeb Stories\\n\\nTop Categories\\n\\nExplained News\\n\\nPolitical Pulse\\n\\nLatest Opinion\\n\\nMumbai News\\n\\nDelhi News\\n\\nPune News\\n\\nBangalore News\\n\\nBollywood News\\n\\nHealth News\\n\\nIndia News\\n\\nSports News\\n\\nLifestyle News\\n\\nLatest News\\n\\nCricket\\n\\nTech Reviews\\n\\nGadgets\\n\\nMobile & Tabs\\n\\nFood & Wine\\n\\nElections 2024\\n\\nFitness\\n\\nTrending News\\n\\nLatest News\\n\\nHealth and Wellness\\n\\nEducation News\\n\\nBuy All-Access Plan\\n\\nEnglish\\n\\nதமிழ்\\n\\nবাংলা\\n\\nമലയാളം\\n\\nગુજરાતી\\n\\nहिंदी\\n\\nमराठी\\n\\nBusiness\\n\\nबिज़नेस\\n\\nNewsletters\\n\\n\\n\\n\\n\\n\\n\\n\\n\\nIndia\\n\\nInternational\\n\\nMonday, Jun 10, 2024\\n\\nePaper\\n\\nToday’s Paper\\n\\nJournalism of Courage\\n\\nHome\\n\\nePaper\\n\\nCities\\n\\nIndia\\n\\nExplained\\n\\nOpinion\\n\\nBusiness\\n\\nEntertainment\\n\\nSports\\n\\nPolitics\\n\\nUPSC\\n\\nLifestyle\\n\\nTech\\n\\nEducation\\n\\nResearch\\n\\nVideos\\n\\nSubscribe\\n\\nSign In\\n\\nTrending\\n\\nUPSC Pack\\n\\nT20 World Cup\\n\\nExpress Shorts\\n\\nMini Crossword\\n\\nPremium Stories\\n\\n🎙️ Podcast\\n\\nHealth & Wellness\\n\\nAdvertisement\\n\\nNews\\n\\nEducation\\n\\nNEET UG: Govt, NTA form panel to review results of 1,500 students\\n\\nNEET UG: Govt, NTA form panel to review results of 1,500 students\\n\\nNEET UG 2024 Result: Will ensure this does not affect MBBS admission process, says NTA chief\\n\\n\\n\\t\\t\\t\\t\\t\\t\\t\\t\\t\\t\\t\\t\\t\\t\\t Written by \\t\\t\\t\\t\\t\\n\\nDeeksha Teri\\n\\t\\t\\t\\t\\t\\t\\n\\t\\n\\n\\t\\tNew Delhi |\\n\\nUpdated: June 9, 2024  10:27 IST\\n\\nFollow Us\\n\\nWritten by \\t\\t\\t\\t\\t\\n\\nDeeksha Teri\\n\\t\\t\\t\\t\\t\\t\\n\\t\\n\\n\\t\\tNew Delhi |\\n\\nUpdated: June 9, 2024  10:27 IST\\n\\nFollow Us\\n\\n\\n\\n\\n\\n\\n\\n\\n\\nNEET UG 2024 Result: The committee has started the investigation, and is expected to announce their verdict before next Saturday. (Express photo by Deeksha Teri)\\n\\nNEET UG 2024 Result: The National Testing Agency (NTA) and the Union Education Ministry Saturday announced the formation of a four-member committee to review the results of over 1,500 candidates who were awarded “grace marks” to compensate for the “loss of time” suffered while appearing for this year’s National Eligibility-cum-Entrance Test (Undergraduate).\\n\\nThe announcement came amid an uproar over the NEET-UG results this year, with states like Maharashtra demanding a retest and the Aam Aadmi Party (AAP) demanding a Supreme Court-monitored probe into alleged discrepancies highlighted by students on social media.\"\n",
      "}\n",
      "\u001b[36;1m\u001b[1;3m[chain/end]\u001b[0m \u001b[1m[chain:RunnableSequence > chain:RunnableParallel<context,question>] [5.64s] Exiting Chain run with output:\n",
      "\u001b[0m{\n",
      "  \"context\": \"NEET\\n\\nNEET UG\\n\\nNEET UG 2024\\n\\nNTA\\n\\nLatest Comment\\n\\nPost Comment\\n\\nRead Comments\\n\\nAdvertisement\\n\\nT20 World Cup: India rises from dead, defeat Pakistan by 6 runs in low scoring thriller\\n\\nSports\\n\\nUpdated: June 10, 2024  09:04 IST\\n\\nIndian bowlers, led by Jasprit Bumrah, successfully defended a low score of 120 against Pakistan at the Nassau County International Cricket Stadium. Bumrah took 3 wickets while Hardik Pandya and Axar Patel contributed 2 and 1 respectively. Pakistan suffered a collapse in their run chase, losing 5 wickets before crossing 100. Earlier, India scored their lowest ever total against Pakistan.\\n\\nView all shorts\\n\\nLive Blog\\n\\nDelhi News Live Updates: Amid water crisis, L-G Saxena, Atishi to meet over inadequate supply from Haryana25 mins ago\\n\\nMumbai News Live Updates: IMD predicts heavy rainfall for next 2 days; Two killed in Vikhroli West building collapse49 mins ago\\n\\nRead |\\n\\nHow 44 are NEET UG toppers because of a wrong answer — and wrong textbook\\n\\nA former UPSC chairman and three other academicians have been selected for this panel, which has started investigation and is expected to announce its verdict before next Saturday.\\n\\nThe verdict will not affect other results, the NTA said. “We are aware that the counselling process (for MBBS courses) is about to begin, but this will not affect the admission process. This special committee will give their verdict before next Saturday and accordingly the next step will be taken, but we are trying our best to ensure there is no hiccup in the admission process,” Singh told The Indian Express.\\n\\nAdvertisement\\n\\n“We demand that a high-level investigation should be conducted under the supervision of the Supreme Court so that our talented students appearing in NEET and other exams get justice,” he had said.\\n\\nTamil Nadu Chief Minister M K Stalin said the trends from the latest NEET results have once again vindicated the DMK on its stand opposing the exam, reiterating that the entrance test goes against social justice and federalism.\\n\\n© IE Online Media Services Pvt Ltd\\n\\nDeeksha Teri\\n\\nDeeksha Teri covers education and has worked with the The Hindu (print division), WION and Stonebow Media. She is an alumnus of The University of Lincoln and The University of Delhi.                        ... Read More\\n\\nFirst uploaded on: \\n\\n08-06-2024 at 15:37 IST\\n\\nTags:\\n\\nMinistry of Education\\n\\nNEET\\n\\nNEET UG\\n\\nNEET UG 2024\\n\\nNTA\\n\\nLatest Comment\\n\\nPost Comment\\n\\nRead Comments\\n\\nAdvertisement\\n\\nT20 World Cup: India rises from dead, defeat Pakistan by 6 runs in low scoring thriller\\n\\nSports\\n\\nAs of now, a total of 1,563 students (six of whom got a spot in the top ranks) were given grace marks based on a normalisation formula, which the NTA has not shared. These candidates were from six centres — two in Chhattisgarh (one each in Balod and Dantewada), one each in Meghalaya, Surat, Haryana’s Bahadurgarh, and Chandigarh.\\n\\nAdvertisement\\n\\nMeanwhile, students have filed petitions in a number of high courts.\\n\\nOne of these writ petitions, filed by a NEET UG candidate in the Delhi High Court, was listed for hearing on June 12 after the issuance of notice by a vacation bench on June 7. This petitioner has challenged the final answer key of question number 29 in Physics as well as the compensatory time given to the candidates at a few centres.\\n\\nAnnounced on June 4, the results drew immediate attention for the extraordinarily large number of candidates who got the perfect score of 720/720 and for the fact that some candidates got 718 or 719 — marks that others claimed were impossible to get in the scheme of the exam. There have also been allegations of a paper leak, which the NTA has denied.\\n\\nAdvertisement\\n\\nOn Saturday, NTA Director General Subodh Kumar Singh denied irregularities in the results. He attributed the unusually high number of top rankers (67) to a relatively easier paper this year and the agency’s decision to award additional marks to students whose exams did not start on time. Singh, however, also told reporters that a committee will look into the results of the 1,500 candidates who were awarded grace marks.\\n\\nRead |\\n\\nHow 44 are NEET UG toppers because of a wrong answer — and wrong textbook\\n\\n‘I didn’t want’ Cabinet berth: first-time Union Minister of State Suresh Gopi\\n\\nWWDC 2024: How to watch and what to expect from ‘Apple Intelligence’ unveil event\\n\\nJoSAA 2024 registration starts today at jossa.nic.in\\n\\nBollywood songs, food trails and breaking barriers: How a British-Indian coach Trishan Patel is fuelling Pakistan’s football dream\\n\\nUnderstanding the Keto flu — from symptoms to causes\\n\\nCourse correction: Haryana CM to hand over 100-sq yard plots to 7,500 beneficiaries today\\n\\nPolice arrest 1 in Tripura ADC recruitment exam answer key leak case\\n\\nInd vs Pak: Delhi Police celebrate India’s win with a quirky message for NYPD, post goes viral\\n\\nMunjya box office collection day 3: Mona Singh and Sharvari’s horror comedy surpasses Mr and Mrs Mahi and Maidaan, mints Rs 19 cr\\n\\nFollow Us\\n\\n\\n\\n\\n\\n\\n\\n\\n\\nDownload Apps\\n\\nMyInsuranceClub\\n\\nNewsletters\\n\\n26/11 Stories of Strength\\n\\nRamnath Goenka Excellence in Journalism Awards\\n\\nOnline Classes for Kids\\n\\nLight House Journalism\\n\\nCompare Term Insurance\\n\\nQuick Links\\n\\nT&C\\n\\nPrivacy Policy\\n\\nAdvertise with Us\\n\\nBrand Solutions\\n\\nContact Us\\n\\nSubscribe\\n\\nStatutory provisions on reporting (sexual offenses)\\n\\nThis website follows the DNPA’s code of conduct\\n\\nCSR\\n\\nCopyright © 2024 The Indian Express [P] Ltd. All Rights Reserved\\n\\nSports\\n\\nIND vs PAK, T20 World Cup: Bumrah's dismissal of Rizwan turns the tide as India script epic New York comeback\\n\\nSports\\n\\nIND vs PAK, T20 World Cup: India 119 all out, record lowest T20I score against Pakistan\\n\\nOpinion\\n\\n'All the world’s a stage …'\\n\\nExplained\\n\\nWhat happens at a swearing-in ceremony and what oaths have to be taken?\\n\\nLifestyle\\n\\nFrom 'Jodhpuri sabzi' to mango cream, JP Nadda to host dinner after PM Modi's swearing-in ceremony (see menu inside)\\n\\nTechnology\\n\\nFrom productivity to photography, best foldable smartphones to consider in 2024\\n\\nAdvertisement\\n\\nMust Read\\n\\nSports\\n\\nIND vs PAK, T20 World Cup: Bumrah's dismissal of Rizwan turns the tide as India script epic New York comeback\\n\\nSports\\n\\nIND vs PAK, T20 World Cup: India 119 all out, record lowest T20I score against Pakistan\\n\\nSports\\n\\nIndia win Boom-boom: Rohit's sweet swat-six, Rishabh's adventures continue and two catches go down before Pant pouches two\\n\\nTechnology\\n\\nSportsWorldBusinessEntertainmentJobs\\n\\nHealthLifestyleTechnologyEducationMovie Review\\n\\nEyeTrendingCitiesNewslettersWebSeries\\n\\nPhotosVideosAudioWeb Stories\\n\\nTrending\\n\\nUPSC Pack\\n\\nT20 World Cup\\n\\nExpress Shorts\\n\\nMini Crossword\\n\\nPremium Stories\\n\\n🎙️ Podcast\\n\\nHealth & Wellness\\n\\nclose\\n\\nIndia\\n\\nInternational\\n\\nSubscribe\\n\\nSign In\\n\\ne-paper\\n\\nPremium\\n\\nIndia\\n\\nElections 2024\\n\\nBollywood\\n\\nOpinion\\n\\nPolitical Pulse\\n\\nExplained\\n\\nScience\\n\\nCricket\\n\\nSports\\n\\nWorld\\n\\nBusiness\\n\\nEntertainment\\n\\nJobs\\n\\nHealth\\n\\nLifestyle\\n\\nTechnology\\n\\nEducation\\n\\nMovie Review\\n\\nEye\\n\\nTrending\\n\\nCities\\n\\nNewsletters\\n\\nWebSeries\\n\\nPhotos\\n\\nVideos\\n\\nAudio\\n\\nWeb Stories\\n\\nTop Categories\\n\\nExplained News\\n\\nPolitical Pulse\\n\\nLatest Opinion\\n\\nMumbai News\\n\\nDelhi News\\n\\nPune News\\n\\nBangalore News\\n\\nBollywood News\\n\\nHealth News\\n\\nIndia News\\n\\nSports News\\n\\nLifestyle News\\n\\nLatest News\\n\\nCricket\\n\\nTech Reviews\\n\\nGadgets\\n\\nMobile & Tabs\\n\\nFood & Wine\\n\\nElections 2024\\n\\nFitness\\n\\nTrending News\\n\\nLatest News\\n\\nHealth and Wellness\\n\\nEducation News\\n\\nBuy All-Access Plan\\n\\nEnglish\\n\\nதமிழ்\\n\\nবাংলা\\n\\nമലയാളം\\n\\nગુજરાતી\\n\\nहिंदी\\n\\nमराठी\\n\\nBusiness\\n\\nबिज़नेस\\n\\nNewsletters\\n\\n\\n\\n\\n\\n\\n\\n\\n\\nIndia\\n\\nInternational\\n\\nMonday, Jun 10, 2024\\n\\nePaper\\n\\nToday’s Paper\\n\\nJournalism of Courage\\n\\nHome\\n\\nePaper\\n\\nCities\\n\\nIndia\\n\\nExplained\\n\\nOpinion\\n\\nBusiness\\n\\nEntertainment\\n\\nSports\\n\\nPolitics\\n\\nUPSC\\n\\nLifestyle\\n\\nTech\\n\\nEducation\\n\\nResearch\\n\\nVideos\\n\\nSubscribe\\n\\nSign In\\n\\nTrending\\n\\nUPSC Pack\\n\\nT20 World Cup\\n\\nExpress Shorts\\n\\nMini Crossword\\n\\nPremium Stories\\n\\n🎙️ Podcast\\n\\nHealth & Wellness\\n\\nAdvertisement\\n\\nNews\\n\\nEducation\\n\\nNEET UG: Govt, NTA form panel to review results of 1,500 students\\n\\nNEET UG: Govt, NTA form panel to review results of 1,500 students\\n\\nNEET UG 2024 Result: Will ensure this does not affect MBBS admission process, says NTA chief\\n\\n\\n\\t\\t\\t\\t\\t\\t\\t\\t\\t\\t\\t\\t\\t\\t\\t Written by \\t\\t\\t\\t\\t\\n\\nDeeksha Teri\\n\\t\\t\\t\\t\\t\\t\\n\\t\\n\\n\\t\\tNew Delhi |\\n\\nUpdated: June 9, 2024  10:27 IST\\n\\nFollow Us\\n\\nWritten by \\t\\t\\t\\t\\t\\n\\nDeeksha Teri\\n\\t\\t\\t\\t\\t\\t\\n\\t\\n\\n\\t\\tNew Delhi |\\n\\nUpdated: June 9, 2024  10:27 IST\\n\\nFollow Us\\n\\n\\n\\n\\n\\n\\n\\n\\n\\nNEET UG 2024 Result: The committee has started the investigation, and is expected to announce their verdict before next Saturday. (Express photo by Deeksha Teri)\\n\\nNEET UG 2024 Result: The National Testing Agency (NTA) and the Union Education Ministry Saturday announced the formation of a four-member committee to review the results of over 1,500 candidates who were awarded “grace marks” to compensate for the “loss of time” suffered while appearing for this year’s National Eligibility-cum-Entrance Test (Undergraduate).\\n\\nThe announcement came amid an uproar over the NEET-UG results this year, with states like Maharashtra demanding a retest and the Aam Aadmi Party (AAP) demanding a Supreme Court-monitored probe into alleged discrepancies highlighted by students on social media.\",\n",
      "  \"question\": \"What steps were taken regarding NEET results\"\n",
      "}\n",
      "\u001b[32;1m\u001b[1;3m[chain/start]\u001b[0m \u001b[1m[chain:RunnableSequence > prompt:ChatPromptTemplate] Entering Prompt run with input:\n",
      "\u001b[0m{\n",
      "  \"context\": \"NEET\\n\\nNEET UG\\n\\nNEET UG 2024\\n\\nNTA\\n\\nLatest Comment\\n\\nPost Comment\\n\\nRead Comments\\n\\nAdvertisement\\n\\nT20 World Cup: India rises from dead, defeat Pakistan by 6 runs in low scoring thriller\\n\\nSports\\n\\nUpdated: June 10, 2024  09:04 IST\\n\\nIndian bowlers, led by Jasprit Bumrah, successfully defended a low score of 120 against Pakistan at the Nassau County International Cricket Stadium. Bumrah took 3 wickets while Hardik Pandya and Axar Patel contributed 2 and 1 respectively. Pakistan suffered a collapse in their run chase, losing 5 wickets before crossing 100. Earlier, India scored their lowest ever total against Pakistan.\\n\\nView all shorts\\n\\nLive Blog\\n\\nDelhi News Live Updates: Amid water crisis, L-G Saxena, Atishi to meet over inadequate supply from Haryana25 mins ago\\n\\nMumbai News Live Updates: IMD predicts heavy rainfall for next 2 days; Two killed in Vikhroli West building collapse49 mins ago\\n\\nRead |\\n\\nHow 44 are NEET UG toppers because of a wrong answer — and wrong textbook\\n\\nA former UPSC chairman and three other academicians have been selected for this panel, which has started investigation and is expected to announce its verdict before next Saturday.\\n\\nThe verdict will not affect other results, the NTA said. “We are aware that the counselling process (for MBBS courses) is about to begin, but this will not affect the admission process. This special committee will give their verdict before next Saturday and accordingly the next step will be taken, but we are trying our best to ensure there is no hiccup in the admission process,” Singh told The Indian Express.\\n\\nAdvertisement\\n\\n“We demand that a high-level investigation should be conducted under the supervision of the Supreme Court so that our talented students appearing in NEET and other exams get justice,” he had said.\\n\\nTamil Nadu Chief Minister M K Stalin said the trends from the latest NEET results have once again vindicated the DMK on its stand opposing the exam, reiterating that the entrance test goes against social justice and federalism.\\n\\n© IE Online Media Services Pvt Ltd\\n\\nDeeksha Teri\\n\\nDeeksha Teri covers education and has worked with the The Hindu (print division), WION and Stonebow Media. She is an alumnus of The University of Lincoln and The University of Delhi.                        ... Read More\\n\\nFirst uploaded on: \\n\\n08-06-2024 at 15:37 IST\\n\\nTags:\\n\\nMinistry of Education\\n\\nNEET\\n\\nNEET UG\\n\\nNEET UG 2024\\n\\nNTA\\n\\nLatest Comment\\n\\nPost Comment\\n\\nRead Comments\\n\\nAdvertisement\\n\\nT20 World Cup: India rises from dead, defeat Pakistan by 6 runs in low scoring thriller\\n\\nSports\\n\\nAs of now, a total of 1,563 students (six of whom got a spot in the top ranks) were given grace marks based on a normalisation formula, which the NTA has not shared. These candidates were from six centres — two in Chhattisgarh (one each in Balod and Dantewada), one each in Meghalaya, Surat, Haryana’s Bahadurgarh, and Chandigarh.\\n\\nAdvertisement\\n\\nMeanwhile, students have filed petitions in a number of high courts.\\n\\nOne of these writ petitions, filed by a NEET UG candidate in the Delhi High Court, was listed for hearing on June 12 after the issuance of notice by a vacation bench on June 7. This petitioner has challenged the final answer key of question number 29 in Physics as well as the compensatory time given to the candidates at a few centres.\\n\\nAnnounced on June 4, the results drew immediate attention for the extraordinarily large number of candidates who got the perfect score of 720/720 and for the fact that some candidates got 718 or 719 — marks that others claimed were impossible to get in the scheme of the exam. There have also been allegations of a paper leak, which the NTA has denied.\\n\\nAdvertisement\\n\\nOn Saturday, NTA Director General Subodh Kumar Singh denied irregularities in the results. He attributed the unusually high number of top rankers (67) to a relatively easier paper this year and the agency’s decision to award additional marks to students whose exams did not start on time. Singh, however, also told reporters that a committee will look into the results of the 1,500 candidates who were awarded grace marks.\\n\\nRead |\\n\\nHow 44 are NEET UG toppers because of a wrong answer — and wrong textbook\\n\\n‘I didn’t want’ Cabinet berth: first-time Union Minister of State Suresh Gopi\\n\\nWWDC 2024: How to watch and what to expect from ‘Apple Intelligence’ unveil event\\n\\nJoSAA 2024 registration starts today at jossa.nic.in\\n\\nBollywood songs, food trails and breaking barriers: How a British-Indian coach Trishan Patel is fuelling Pakistan’s football dream\\n\\nUnderstanding the Keto flu — from symptoms to causes\\n\\nCourse correction: Haryana CM to hand over 100-sq yard plots to 7,500 beneficiaries today\\n\\nPolice arrest 1 in Tripura ADC recruitment exam answer key leak case\\n\\nInd vs Pak: Delhi Police celebrate India’s win with a quirky message for NYPD, post goes viral\\n\\nMunjya box office collection day 3: Mona Singh and Sharvari’s horror comedy surpasses Mr and Mrs Mahi and Maidaan, mints Rs 19 cr\\n\\nFollow Us\\n\\n\\n\\n\\n\\n\\n\\n\\n\\nDownload Apps\\n\\nMyInsuranceClub\\n\\nNewsletters\\n\\n26/11 Stories of Strength\\n\\nRamnath Goenka Excellence in Journalism Awards\\n\\nOnline Classes for Kids\\n\\nLight House Journalism\\n\\nCompare Term Insurance\\n\\nQuick Links\\n\\nT&C\\n\\nPrivacy Policy\\n\\nAdvertise with Us\\n\\nBrand Solutions\\n\\nContact Us\\n\\nSubscribe\\n\\nStatutory provisions on reporting (sexual offenses)\\n\\nThis website follows the DNPA’s code of conduct\\n\\nCSR\\n\\nCopyright © 2024 The Indian Express [P] Ltd. All Rights Reserved\\n\\nSports\\n\\nIND vs PAK, T20 World Cup: Bumrah's dismissal of Rizwan turns the tide as India script epic New York comeback\\n\\nSports\\n\\nIND vs PAK, T20 World Cup: India 119 all out, record lowest T20I score against Pakistan\\n\\nOpinion\\n\\n'All the world’s a stage …'\\n\\nExplained\\n\\nWhat happens at a swearing-in ceremony and what oaths have to be taken?\\n\\nLifestyle\\n\\nFrom 'Jodhpuri sabzi' to mango cream, JP Nadda to host dinner after PM Modi's swearing-in ceremony (see menu inside)\\n\\nTechnology\\n\\nFrom productivity to photography, best foldable smartphones to consider in 2024\\n\\nAdvertisement\\n\\nMust Read\\n\\nSports\\n\\nIND vs PAK, T20 World Cup: Bumrah's dismissal of Rizwan turns the tide as India script epic New York comeback\\n\\nSports\\n\\nIND vs PAK, T20 World Cup: India 119 all out, record lowest T20I score against Pakistan\\n\\nSports\\n\\nIndia win Boom-boom: Rohit's sweet swat-six, Rishabh's adventures continue and two catches go down before Pant pouches two\\n\\nTechnology\\n\\nSportsWorldBusinessEntertainmentJobs\\n\\nHealthLifestyleTechnologyEducationMovie Review\\n\\nEyeTrendingCitiesNewslettersWebSeries\\n\\nPhotosVideosAudioWeb Stories\\n\\nTrending\\n\\nUPSC Pack\\n\\nT20 World Cup\\n\\nExpress Shorts\\n\\nMini Crossword\\n\\nPremium Stories\\n\\n🎙️ Podcast\\n\\nHealth & Wellness\\n\\nclose\\n\\nIndia\\n\\nInternational\\n\\nSubscribe\\n\\nSign In\\n\\ne-paper\\n\\nPremium\\n\\nIndia\\n\\nElections 2024\\n\\nBollywood\\n\\nOpinion\\n\\nPolitical Pulse\\n\\nExplained\\n\\nScience\\n\\nCricket\\n\\nSports\\n\\nWorld\\n\\nBusiness\\n\\nEntertainment\\n\\nJobs\\n\\nHealth\\n\\nLifestyle\\n\\nTechnology\\n\\nEducation\\n\\nMovie Review\\n\\nEye\\n\\nTrending\\n\\nCities\\n\\nNewsletters\\n\\nWebSeries\\n\\nPhotos\\n\\nVideos\\n\\nAudio\\n\\nWeb Stories\\n\\nTop Categories\\n\\nExplained News\\n\\nPolitical Pulse\\n\\nLatest Opinion\\n\\nMumbai News\\n\\nDelhi News\\n\\nPune News\\n\\nBangalore News\\n\\nBollywood News\\n\\nHealth News\\n\\nIndia News\\n\\nSports News\\n\\nLifestyle News\\n\\nLatest News\\n\\nCricket\\n\\nTech Reviews\\n\\nGadgets\\n\\nMobile & Tabs\\n\\nFood & Wine\\n\\nElections 2024\\n\\nFitness\\n\\nTrending News\\n\\nLatest News\\n\\nHealth and Wellness\\n\\nEducation News\\n\\nBuy All-Access Plan\\n\\nEnglish\\n\\nதமிழ்\\n\\nবাংলা\\n\\nമലയാളം\\n\\nગુજરાતી\\n\\nहिंदी\\n\\nमराठी\\n\\nBusiness\\n\\nबिज़नेस\\n\\nNewsletters\\n\\n\\n\\n\\n\\n\\n\\n\\n\\nIndia\\n\\nInternational\\n\\nMonday, Jun 10, 2024\\n\\nePaper\\n\\nToday’s Paper\\n\\nJournalism of Courage\\n\\nHome\\n\\nePaper\\n\\nCities\\n\\nIndia\\n\\nExplained\\n\\nOpinion\\n\\nBusiness\\n\\nEntertainment\\n\\nSports\\n\\nPolitics\\n\\nUPSC\\n\\nLifestyle\\n\\nTech\\n\\nEducation\\n\\nResearch\\n\\nVideos\\n\\nSubscribe\\n\\nSign In\\n\\nTrending\\n\\nUPSC Pack\\n\\nT20 World Cup\\n\\nExpress Shorts\\n\\nMini Crossword\\n\\nPremium Stories\\n\\n🎙️ Podcast\\n\\nHealth & Wellness\\n\\nAdvertisement\\n\\nNews\\n\\nEducation\\n\\nNEET UG: Govt, NTA form panel to review results of 1,500 students\\n\\nNEET UG: Govt, NTA form panel to review results of 1,500 students\\n\\nNEET UG 2024 Result: Will ensure this does not affect MBBS admission process, says NTA chief\\n\\n\\n\\t\\t\\t\\t\\t\\t\\t\\t\\t\\t\\t\\t\\t\\t\\t Written by \\t\\t\\t\\t\\t\\n\\nDeeksha Teri\\n\\t\\t\\t\\t\\t\\t\\n\\t\\n\\n\\t\\tNew Delhi |\\n\\nUpdated: June 9, 2024  10:27 IST\\n\\nFollow Us\\n\\nWritten by \\t\\t\\t\\t\\t\\n\\nDeeksha Teri\\n\\t\\t\\t\\t\\t\\t\\n\\t\\n\\n\\t\\tNew Delhi |\\n\\nUpdated: June 9, 2024  10:27 IST\\n\\nFollow Us\\n\\n\\n\\n\\n\\n\\n\\n\\n\\nNEET UG 2024 Result: The committee has started the investigation, and is expected to announce their verdict before next Saturday. (Express photo by Deeksha Teri)\\n\\nNEET UG 2024 Result: The National Testing Agency (NTA) and the Union Education Ministry Saturday announced the formation of a four-member committee to review the results of over 1,500 candidates who were awarded “grace marks” to compensate for the “loss of time” suffered while appearing for this year’s National Eligibility-cum-Entrance Test (Undergraduate).\\n\\nThe announcement came amid an uproar over the NEET-UG results this year, with states like Maharashtra demanding a retest and the Aam Aadmi Party (AAP) demanding a Supreme Court-monitored probe into alleged discrepancies highlighted by students on social media.\",\n",
      "  \"question\": \"What steps were taken regarding NEET results\"\n",
      "}\n",
      "\u001b[36;1m\u001b[1;3m[chain/end]\u001b[0m \u001b[1m[chain:RunnableSequence > prompt:ChatPromptTemplate] [0ms] Exiting Prompt run with output:\n",
      "\u001b[0m[outputs]\n",
      "\u001b[32;1m\u001b[1;3m[llm/start]\u001b[0m \u001b[1m[chain:RunnableSequence > llm:ChatGoogleGenerativeAI] Entering LLM run with input:\n",
      "\u001b[0m{\n",
      "  \"prompts\": [\n",
      "    \"Human: You are an assistant for question-answering tasks. Use the following pieces of retrieved context to answer the question. If you don't know the answer, just say that you don't know. Use three sentences maximum and keep the answer concise.\\nQuestion: What steps were taken regarding NEET results \\nContext: NEET\\n\\nNEET UG\\n\\nNEET UG 2024\\n\\nNTA\\n\\nLatest Comment\\n\\nPost Comment\\n\\nRead Comments\\n\\nAdvertisement\\n\\nT20 World Cup: India rises from dead, defeat Pakistan by 6 runs in low scoring thriller\\n\\nSports\\n\\nUpdated: June 10, 2024  09:04 IST\\n\\nIndian bowlers, led by Jasprit Bumrah, successfully defended a low score of 120 against Pakistan at the Nassau County International Cricket Stadium. Bumrah took 3 wickets while Hardik Pandya and Axar Patel contributed 2 and 1 respectively. Pakistan suffered a collapse in their run chase, losing 5 wickets before crossing 100. Earlier, India scored their lowest ever total against Pakistan.\\n\\nView all shorts\\n\\nLive Blog\\n\\nDelhi News Live Updates: Amid water crisis, L-G Saxena, Atishi to meet over inadequate supply from Haryana25 mins ago\\n\\nMumbai News Live Updates: IMD predicts heavy rainfall for next 2 days; Two killed in Vikhroli West building collapse49 mins ago\\n\\nRead |\\n\\nHow 44 are NEET UG toppers because of a wrong answer — and wrong textbook\\n\\nA former UPSC chairman and three other academicians have been selected for this panel, which has started investigation and is expected to announce its verdict before next Saturday.\\n\\nThe verdict will not affect other results, the NTA said. “We are aware that the counselling process (for MBBS courses) is about to begin, but this will not affect the admission process. This special committee will give their verdict before next Saturday and accordingly the next step will be taken, but we are trying our best to ensure there is no hiccup in the admission process,” Singh told The Indian Express.\\n\\nAdvertisement\\n\\n“We demand that a high-level investigation should be conducted under the supervision of the Supreme Court so that our talented students appearing in NEET and other exams get justice,” he had said.\\n\\nTamil Nadu Chief Minister M K Stalin said the trends from the latest NEET results have once again vindicated the DMK on its stand opposing the exam, reiterating that the entrance test goes against social justice and federalism.\\n\\n© IE Online Media Services Pvt Ltd\\n\\nDeeksha Teri\\n\\nDeeksha Teri covers education and has worked with the The Hindu (print division), WION and Stonebow Media. She is an alumnus of The University of Lincoln and The University of Delhi.                        ... Read More\\n\\nFirst uploaded on: \\n\\n08-06-2024 at 15:37 IST\\n\\nTags:\\n\\nMinistry of Education\\n\\nNEET\\n\\nNEET UG\\n\\nNEET UG 2024\\n\\nNTA\\n\\nLatest Comment\\n\\nPost Comment\\n\\nRead Comments\\n\\nAdvertisement\\n\\nT20 World Cup: India rises from dead, defeat Pakistan by 6 runs in low scoring thriller\\n\\nSports\\n\\nAs of now, a total of 1,563 students (six of whom got a spot in the top ranks) were given grace marks based on a normalisation formula, which the NTA has not shared. These candidates were from six centres — two in Chhattisgarh (one each in Balod and Dantewada), one each in Meghalaya, Surat, Haryana’s Bahadurgarh, and Chandigarh.\\n\\nAdvertisement\\n\\nMeanwhile, students have filed petitions in a number of high courts.\\n\\nOne of these writ petitions, filed by a NEET UG candidate in the Delhi High Court, was listed for hearing on June 12 after the issuance of notice by a vacation bench on June 7. This petitioner has challenged the final answer key of question number 29 in Physics as well as the compensatory time given to the candidates at a few centres.\\n\\nAnnounced on June 4, the results drew immediate attention for the extraordinarily large number of candidates who got the perfect score of 720/720 and for the fact that some candidates got 718 or 719 — marks that others claimed were impossible to get in the scheme of the exam. There have also been allegations of a paper leak, which the NTA has denied.\\n\\nAdvertisement\\n\\nOn Saturday, NTA Director General Subodh Kumar Singh denied irregularities in the results. He attributed the unusually high number of top rankers (67) to a relatively easier paper this year and the agency’s decision to award additional marks to students whose exams did not start on time. Singh, however, also told reporters that a committee will look into the results of the 1,500 candidates who were awarded grace marks.\\n\\nRead |\\n\\nHow 44 are NEET UG toppers because of a wrong answer — and wrong textbook\\n\\n‘I didn’t want’ Cabinet berth: first-time Union Minister of State Suresh Gopi\\n\\nWWDC 2024: How to watch and what to expect from ‘Apple Intelligence’ unveil event\\n\\nJoSAA 2024 registration starts today at jossa.nic.in\\n\\nBollywood songs, food trails and breaking barriers: How a British-Indian coach Trishan Patel is fuelling Pakistan’s football dream\\n\\nUnderstanding the Keto flu — from symptoms to causes\\n\\nCourse correction: Haryana CM to hand over 100-sq yard plots to 7,500 beneficiaries today\\n\\nPolice arrest 1 in Tripura ADC recruitment exam answer key leak case\\n\\nInd vs Pak: Delhi Police celebrate India’s win with a quirky message for NYPD, post goes viral\\n\\nMunjya box office collection day 3: Mona Singh and Sharvari’s horror comedy surpasses Mr and Mrs Mahi and Maidaan, mints Rs 19 cr\\n\\nFollow Us\\n\\n\\n\\n\\n\\n\\n\\n\\n\\nDownload Apps\\n\\nMyInsuranceClub\\n\\nNewsletters\\n\\n26/11 Stories of Strength\\n\\nRamnath Goenka Excellence in Journalism Awards\\n\\nOnline Classes for Kids\\n\\nLight House Journalism\\n\\nCompare Term Insurance\\n\\nQuick Links\\n\\nT&C\\n\\nPrivacy Policy\\n\\nAdvertise with Us\\n\\nBrand Solutions\\n\\nContact Us\\n\\nSubscribe\\n\\nStatutory provisions on reporting (sexual offenses)\\n\\nThis website follows the DNPA’s code of conduct\\n\\nCSR\\n\\nCopyright © 2024 The Indian Express [P] Ltd. All Rights Reserved\\n\\nSports\\n\\nIND vs PAK, T20 World Cup: Bumrah's dismissal of Rizwan turns the tide as India script epic New York comeback\\n\\nSports\\n\\nIND vs PAK, T20 World Cup: India 119 all out, record lowest T20I score against Pakistan\\n\\nOpinion\\n\\n'All the world’s a stage …'\\n\\nExplained\\n\\nWhat happens at a swearing-in ceremony and what oaths have to be taken?\\n\\nLifestyle\\n\\nFrom 'Jodhpuri sabzi' to mango cream, JP Nadda to host dinner after PM Modi's swearing-in ceremony (see menu inside)\\n\\nTechnology\\n\\nFrom productivity to photography, best foldable smartphones to consider in 2024\\n\\nAdvertisement\\n\\nMust Read\\n\\nSports\\n\\nIND vs PAK, T20 World Cup: Bumrah's dismissal of Rizwan turns the tide as India script epic New York comeback\\n\\nSports\\n\\nIND vs PAK, T20 World Cup: India 119 all out, record lowest T20I score against Pakistan\\n\\nSports\\n\\nIndia win Boom-boom: Rohit's sweet swat-six, Rishabh's adventures continue and two catches go down before Pant pouches two\\n\\nTechnology\\n\\nSportsWorldBusinessEntertainmentJobs\\n\\nHealthLifestyleTechnologyEducationMovie Review\\n\\nEyeTrendingCitiesNewslettersWebSeries\\n\\nPhotosVideosAudioWeb Stories\\n\\nTrending\\n\\nUPSC Pack\\n\\nT20 World Cup\\n\\nExpress Shorts\\n\\nMini Crossword\\n\\nPremium Stories\\n\\n🎙️ Podcast\\n\\nHealth & Wellness\\n\\nclose\\n\\nIndia\\n\\nInternational\\n\\nSubscribe\\n\\nSign In\\n\\ne-paper\\n\\nPremium\\n\\nIndia\\n\\nElections 2024\\n\\nBollywood\\n\\nOpinion\\n\\nPolitical Pulse\\n\\nExplained\\n\\nScience\\n\\nCricket\\n\\nSports\\n\\nWorld\\n\\nBusiness\\n\\nEntertainment\\n\\nJobs\\n\\nHealth\\n\\nLifestyle\\n\\nTechnology\\n\\nEducation\\n\\nMovie Review\\n\\nEye\\n\\nTrending\\n\\nCities\\n\\nNewsletters\\n\\nWebSeries\\n\\nPhotos\\n\\nVideos\\n\\nAudio\\n\\nWeb Stories\\n\\nTop Categories\\n\\nExplained News\\n\\nPolitical Pulse\\n\\nLatest Opinion\\n\\nMumbai News\\n\\nDelhi News\\n\\nPune News\\n\\nBangalore News\\n\\nBollywood News\\n\\nHealth News\\n\\nIndia News\\n\\nSports News\\n\\nLifestyle News\\n\\nLatest News\\n\\nCricket\\n\\nTech Reviews\\n\\nGadgets\\n\\nMobile & Tabs\\n\\nFood & Wine\\n\\nElections 2024\\n\\nFitness\\n\\nTrending News\\n\\nLatest News\\n\\nHealth and Wellness\\n\\nEducation News\\n\\nBuy All-Access Plan\\n\\nEnglish\\n\\nதமிழ்\\n\\nবাংলা\\n\\nമലയാളം\\n\\nગુજરાતી\\n\\nहिंदी\\n\\nमराठी\\n\\nBusiness\\n\\nबिज़नेस\\n\\nNewsletters\\n\\n\\n\\n\\n\\n\\n\\n\\n\\nIndia\\n\\nInternational\\n\\nMonday, Jun 10, 2024\\n\\nePaper\\n\\nToday’s Paper\\n\\nJournalism of Courage\\n\\nHome\\n\\nePaper\\n\\nCities\\n\\nIndia\\n\\nExplained\\n\\nOpinion\\n\\nBusiness\\n\\nEntertainment\\n\\nSports\\n\\nPolitics\\n\\nUPSC\\n\\nLifestyle\\n\\nTech\\n\\nEducation\\n\\nResearch\\n\\nVideos\\n\\nSubscribe\\n\\nSign In\\n\\nTrending\\n\\nUPSC Pack\\n\\nT20 World Cup\\n\\nExpress Shorts\\n\\nMini Crossword\\n\\nPremium Stories\\n\\n🎙️ Podcast\\n\\nHealth & Wellness\\n\\nAdvertisement\\n\\nNews\\n\\nEducation\\n\\nNEET UG: Govt, NTA form panel to review results of 1,500 students\\n\\nNEET UG: Govt, NTA form panel to review results of 1,500 students\\n\\nNEET UG 2024 Result: Will ensure this does not affect MBBS admission process, says NTA chief\\n\\n\\n\\t\\t\\t\\t\\t\\t\\t\\t\\t\\t\\t\\t\\t\\t\\t Written by \\t\\t\\t\\t\\t\\n\\nDeeksha Teri\\n\\t\\t\\t\\t\\t\\t\\n\\t\\n\\n\\t\\tNew Delhi |\\n\\nUpdated: June 9, 2024  10:27 IST\\n\\nFollow Us\\n\\nWritten by \\t\\t\\t\\t\\t\\n\\nDeeksha Teri\\n\\t\\t\\t\\t\\t\\t\\n\\t\\n\\n\\t\\tNew Delhi |\\n\\nUpdated: June 9, 2024  10:27 IST\\n\\nFollow Us\\n\\n\\n\\n\\n\\n\\n\\n\\n\\nNEET UG 2024 Result: The committee has started the investigation, and is expected to announce their verdict before next Saturday. (Express photo by Deeksha Teri)\\n\\nNEET UG 2024 Result: The National Testing Agency (NTA) and the Union Education Ministry Saturday announced the formation of a four-member committee to review the results of over 1,500 candidates who were awarded “grace marks” to compensate for the “loss of time” suffered while appearing for this year’s National Eligibility-cum-Entrance Test (Undergraduate).\\n\\nThe announcement came amid an uproar over the NEET-UG results this year, with states like Maharashtra demanding a retest and the Aam Aadmi Party (AAP) demanding a Supreme Court-monitored probe into alleged discrepancies highlighted by students on social media. \\nAnswer:\"\n",
      "  ]\n",
      "}\n",
      "\u001b[36;1m\u001b[1;3m[llm/end]\u001b[0m \u001b[1m[chain:RunnableSequence > llm:ChatGoogleGenerativeAI] [2.24s] Exiting LLM run with output:\n",
      "\u001b[0m{\n",
      "  \"generations\": [\n",
      "    [\n",
      "      {\n",
      "        \"text\": \"The NTA and the Union Education Ministry formed a four-member committee to review the results of over 1,500 candidates who were awarded grace marks. This committee is expected to announce its verdict before next Saturday. The NTA has stated that this review will not affect the MBBS admission process. \\n\",\n",
      "        \"generation_info\": {\n",
      "          \"finish_reason\": \"STOP\",\n",
      "          \"safety_ratings\": [\n",
      "            {\n",
      "              \"category\": \"HARM_CATEGORY_SEXUALLY_EXPLICIT\",\n",
      "              \"probability\": \"NEGLIGIBLE\",\n",
      "              \"blocked\": false\n",
      "            },\n",
      "            {\n",
      "              \"category\": \"HARM_CATEGORY_HATE_SPEECH\",\n",
      "              \"probability\": \"NEGLIGIBLE\",\n",
      "              \"blocked\": false\n",
      "            },\n",
      "            {\n",
      "              \"category\": \"HARM_CATEGORY_HARASSMENT\",\n",
      "              \"probability\": \"NEGLIGIBLE\",\n",
      "              \"blocked\": false\n",
      "            },\n",
      "            {\n",
      "              \"category\": \"HARM_CATEGORY_DANGEROUS_CONTENT\",\n",
      "              \"probability\": \"NEGLIGIBLE\",\n",
      "              \"blocked\": false\n",
      "            }\n",
      "          ]\n",
      "        },\n",
      "        \"type\": \"ChatGeneration\",\n",
      "        \"message\": {\n",
      "          \"lc\": 1,\n",
      "          \"type\": \"constructor\",\n",
      "          \"id\": [\n",
      "            \"langchain\",\n",
      "            \"schema\",\n",
      "            \"messages\",\n",
      "            \"AIMessage\"\n",
      "          ],\n",
      "          \"kwargs\": {\n",
      "            \"content\": \"The NTA and the Union Education Ministry formed a four-member committee to review the results of over 1,500 candidates who were awarded grace marks. This committee is expected to announce its verdict before next Saturday. The NTA has stated that this review will not affect the MBBS admission process. \\n\",\n",
      "            \"response_metadata\": {\n",
      "              \"prompt_feedback\": {\n",
      "                \"block_reason\": 0,\n",
      "                \"safety_ratings\": []\n",
      "              },\n",
      "              \"finish_reason\": \"STOP\",\n",
      "              \"safety_ratings\": [\n",
      "                {\n",
      "                  \"category\": \"HARM_CATEGORY_SEXUALLY_EXPLICIT\",\n",
      "                  \"probability\": \"NEGLIGIBLE\",\n",
      "                  \"blocked\": false\n",
      "                },\n",
      "                {\n",
      "                  \"category\": \"HARM_CATEGORY_HATE_SPEECH\",\n",
      "                  \"probability\": \"NEGLIGIBLE\",\n",
      "                  \"blocked\": false\n",
      "                },\n",
      "                {\n",
      "                  \"category\": \"HARM_CATEGORY_HARASSMENT\",\n",
      "                  \"probability\": \"NEGLIGIBLE\",\n",
      "                  \"blocked\": false\n",
      "                },\n",
      "                {\n",
      "                  \"category\": \"HARM_CATEGORY_DANGEROUS_CONTENT\",\n",
      "                  \"probability\": \"NEGLIGIBLE\",\n",
      "                  \"blocked\": false\n",
      "                }\n",
      "              ]\n",
      "            },\n",
      "            \"type\": \"ai\",\n",
      "            \"id\": \"run-41b46891-4bbe-4361-a04a-ce5a18fb0e0c-0\",\n",
      "            \"usage_metadata\": {\n",
      "              \"input_tokens\": 2252,\n",
      "              \"output_tokens\": 59,\n",
      "              \"total_tokens\": 2311\n",
      "            },\n",
      "            \"tool_calls\": [],\n",
      "            \"invalid_tool_calls\": []\n",
      "          }\n",
      "        }\n",
      "      }\n",
      "    ]\n",
      "  ],\n",
      "  \"llm_output\": {\n",
      "    \"prompt_feedback\": {\n",
      "      \"block_reason\": 0,\n",
      "      \"safety_ratings\": []\n",
      "    }\n",
      "  },\n",
      "  \"run\": null\n",
      "}\n",
      "\u001b[32;1m\u001b[1;3m[chain/start]\u001b[0m \u001b[1m[chain:RunnableSequence > parser:StrOutputParser] Entering Parser run with input:\n",
      "\u001b[0m[inputs]\n",
      "\u001b[36;1m\u001b[1;3m[chain/end]\u001b[0m \u001b[1m[chain:RunnableSequence > parser:StrOutputParser] [0ms] Exiting Parser run with output:\n",
      "\u001b[0m{\n",
      "  \"output\": \"The NTA and the Union Education Ministry formed a four-member committee to review the results of over 1,500 candidates who were awarded grace marks. This committee is expected to announce its verdict before next Saturday. The NTA has stated that this review will not affect the MBBS admission process. \\n\"\n",
      "}\n",
      "\u001b[36;1m\u001b[1;3m[chain/end]\u001b[0m \u001b[1m[chain:RunnableSequence] [7.89s] Exiting Chain run with output:\n",
      "\u001b[0m{\n",
      "  \"output\": \"The NTA and the Union Education Ministry formed a four-member committee to review the results of over 1,500 candidates who were awarded grace marks. This committee is expected to announce its verdict before next Saturday. The NTA has stated that this review will not affect the MBBS admission process. \\n\"\n",
      "}\n"
     ]
    }
   ],
   "source": [
    "langchain.debug = True\n",
    "rag_chain.invoke(\"What steps were taken regarding NEET results\")\n",
    "langchain.debug = False"
   ]
  },
  {
   "cell_type": "code",
   "execution_count": 14,
   "id": "b6b8c008-70e7-4c59-8ee7-c57165d6986e",
   "metadata": {},
   "outputs": [],
   "source": [
    "# Run chain for all input questions and store output\n",
    "rag_answers = []\n",
    "for q in testset_df['question']:\n",
    "    rag_answers.append(rag_chain.invoke(q))"
   ]
  },
  {
   "cell_type": "code",
   "execution_count": 15,
   "id": "5b5664f7-ee5b-456c-99b1-24ede4a43b21",
   "metadata": {},
   "outputs": [],
   "source": [
    "# Add details to eval data\n",
    "eval_data.append({\n",
    "    \"answers\": rag_answers,\n",
    "    \"chain\": rag_chain,\n",
    "    \"desc\": \"Chunk 1000, Overlap 200, Multi query, Google embedding-001, Stuff chain\"\n",
    "})"
   ]
  },
  {
   "cell_type": "markdown",
   "id": "461740f1-8991-4077-b6e3-730285f1eb39",
   "metadata": {},
   "source": [
    "**RAG Chain 3** \\\n",
    "Chunk size: 1000 \\\n",
    "Overlap: 200 \\\n",
    "Query Processing: No processing \\\n",
    "Embedding: LOTR [`Google \"embedding-001\"`, `Hugging Face \"bge-large-en\"` `Sentence Transformer \"all-mpnet-base-v2\"`] \\\n",
    "Result Generation: Stuff Chain"
   ]
  },
  {
   "cell_type": "code",
   "execution_count": 16,
   "id": "fe9b2f14-d12b-43b4-9f71-6d8492a2aa43",
   "metadata": {},
   "outputs": [
    {
     "name": "stderr",
     "output_type": "stream",
     "text": [
      "Python-dotenv could not parse statement starting at line 4\n",
      "Python-dotenv could not parse statement starting at line 8\n",
      "Python-dotenv could not parse statement starting at line 12\n",
      "Python-dotenv could not parse statement starting at line 15\n",
      "/home/naveen/micromamba/envs/ml/lib/python3.11/site-packages/huggingface_hub/file_download.py:1132: FutureWarning: `resume_download` is deprecated and will be removed in version 1.0.0. Downloads always resume when possible. If you want to force a new download, use `force_download=True`.\n",
      "  warnings.warn(\n",
      "Python-dotenv could not parse statement starting at line 4\n",
      "Python-dotenv could not parse statement starting at line 8\n",
      "Python-dotenv could not parse statement starting at line 12\n",
      "Python-dotenv could not parse statement starting at line 15\n",
      "/home/naveen/micromamba/envs/ml/lib/python3.11/site-packages/langchain_core/_api/deprecation.py:119: LangChainDeprecationWarning: The class `HuggingFaceEmbeddings` was deprecated in LangChain 0.2.2 and will be removed in 0.3.0. An updated version of the class exists in the langchain-huggingface package and should be used instead. To use it run `pip install -U langchain-huggingface` and import as `from langchain_huggingface import HuggingFaceEmbeddings`.\n",
      "  warn_deprecated(\n",
      "Python-dotenv could not parse statement starting at line 4\n",
      "Python-dotenv could not parse statement starting at line 8\n",
      "Python-dotenv could not parse statement starting at line 12\n",
      "Python-dotenv could not parse statement starting at line 15\n"
     ]
    }
   ],
   "source": [
    "# Init LLM object\n",
    "llm = ChatGoogleGenerativeAI(model='gemini-1.5-flash', google_api_key=GOOGLE_API_KEY, temperature=0.2)\n",
    "\n",
    "# Splitter object\n",
    "splitter = RecursiveCharacterTextSplitter(\n",
    "    separators=[\"\\n\\n\", \"\\n\", \" \"],\n",
    "    chunk_size=1000,\n",
    "    chunk_overlap=200,\n",
    "    add_start_index=True\n",
    ")\n",
    "\n",
    "# Split data\n",
    "chunks = splitter.split_documents(eval_docs)\n",
    "\n",
    "# Google embedding\n",
    "embedding_1_google = GoogleGenerativeAIEmbeddings(model=\"models/embedding-001\")\n",
    "vs_google = Chroma.from_documents(documents=chunks, embedding=embedding_1_google, collection_name=\"google_embedding-001\")\n",
    "retriever_google = vs_google.as_retriever(search_kwargs={\"k\": 5})\n",
    "\n",
    "# HuggingFace BGE embedding\n",
    "embedding_2_hf_bge = HuggingFaceBgeEmbeddings(model_name=\"BAAI/bge-large-en\", model_kwargs={\"device\":\"cpu\"}, encode_kwargs = {'normalize_embeddings': False})\n",
    "vs_hfbge = Chroma.from_documents(documents=chunks, embedding=embedding_2_hf_bge, collection_name=\"hf_bge-large\")\n",
    "retriever_hfbge = vs_hfbge.as_retriever(search_kwargs={\"k\": 5})\n",
    "\n",
    "# ST all-mpnet-base embedding\n",
    "embedding_3_st_allmpnetbase = SentenceTransformerEmbeddings(model_name='sentence-transformers/all-mpnet-base-v2')\n",
    "vs_st_allmpnet = Chroma.from_documents(documents=chunks, embedding=embedding_3_st_allmpnetbase, collection_name=\"st_all-mpnet-base\")\n",
    "retriever_st_allmpnet = vs_st_allmpnet.as_retriever(search_kwargs={\"k\": 5})\n",
    "\n",
    "# LOTR\n",
    "lotr = MergerRetriever(retrievers=[retriever_google, retriever_hfbge, retriever_st_allmpnet])\n",
    "\n",
    "# OpenAI embeddings for filtering out redundant entries\n",
    "filter_embeddings = OpenAIEmbeddings()\n",
    "filter = EmbeddingsRedundantFilter(embeddings=filter_embeddings)\n",
    "\n",
    "# Pipeline for reordering embeddings\n",
    "reordering = LongContextReorder() \n",
    "pipeline = DocumentCompressorPipeline(transformers=[filter, reordering])\n",
    "\n",
    "# Retriever for reordered entries\n",
    "compression_retriever_reordered = ContextualCompressionRetriever(\n",
    "    base_compressor=pipeline, base_retriever=lotr, search_kwargs={\"k\": 5, \"include_metadata\": True}\n",
    ")\n",
    "\n",
    "# Document formatter for context docs\n",
    "def format_docs(docs):\n",
    "    return \"\\n\\n\".join(doc.page_content for doc in docs)\n",
    "\n",
    "# RAG prompt\n",
    "prompt = hub.pull(\"rlm/rag-prompt\")\n",
    "\n",
    "# RAG chain\n",
    "rag_chain = (\n",
    "    {\"context\": compression_retriever_reordered | format_docs, \"question\": RunnablePassthrough()}\n",
    "    | prompt\n",
    "    | llm\n",
    "    | StrOutputParser()\n",
    ")"
   ]
  },
  {
   "cell_type": "code",
   "execution_count": 12,
   "id": "b257ebd3-ab35-4e44-927d-5f48b3b67701",
   "metadata": {
    "scrolled": true
   },
   "outputs": [
    {
     "name": "stdout",
     "output_type": "stream",
     "text": [
      "\u001b[32;1m\u001b[1;3m[chain/start]\u001b[0m \u001b[1m[chain:RunnableSequence] Entering Chain run with input:\n",
      "\u001b[0m{\n",
      "  \"input\": \"What steps were taken regarding NEET results\"\n",
      "}\n",
      "\u001b[32;1m\u001b[1;3m[chain/start]\u001b[0m \u001b[1m[chain:RunnableSequence > chain:RunnableParallel<context,question>] Entering Chain run with input:\n",
      "\u001b[0m{\n",
      "  \"input\": \"What steps were taken regarding NEET results\"\n",
      "}\n",
      "\u001b[32;1m\u001b[1;3m[chain/start]\u001b[0m \u001b[1m[chain:RunnableSequence > chain:RunnableParallel<context,question> > chain:RunnableSequence] Entering Chain run with input:\n",
      "\u001b[0m{\n",
      "  \"input\": \"What steps were taken regarding NEET results\"\n",
      "}\n",
      "\u001b[32;1m\u001b[1;3m[chain/start]\u001b[0m \u001b[1m[chain:RunnableSequence > chain:RunnableParallel<context,question> > chain:RunnablePassthrough] Entering Chain run with input:\n",
      "\u001b[0m{\n",
      "  \"input\": \"What steps were taken regarding NEET results\"\n",
      "}\n",
      "\u001b[36;1m\u001b[1;3m[chain/end]\u001b[0m \u001b[1m[chain:RunnableSequence > chain:RunnableParallel<context,question> > chain:RunnablePassthrough] [1ms] Exiting Chain run with output:\n",
      "\u001b[0m{\n",
      "  \"output\": \"What steps were taken regarding NEET results\"\n",
      "}\n",
      "\u001b[32;1m\u001b[1;3m[chain/start]\u001b[0m \u001b[1m[chain:RunnableSequence > chain:RunnableParallel<context,question> > chain:RunnableSequence > chain:format_docs] Entering Chain run with input:\n",
      "\u001b[0m[inputs]\n",
      "\u001b[36;1m\u001b[1;3m[chain/end]\u001b[0m \u001b[1m[chain:RunnableSequence > chain:RunnableParallel<context,question> > chain:RunnableSequence > chain:format_docs] [0ms] Exiting Chain run with output:\n",
      "\u001b[0m{\n",
      "  \"output\": \"Announced on June 4, the results drew immediate attention for the extraordinarily large number of candidates who got the perfect score of 720/720 and for the fact that some candidates got 718 or 719 — marks that others claimed were impossible to get in the scheme of the exam. There have also been allegations of a paper leak, which the NTA has denied.\\n\\nAdvertisement\\n\\nOn Saturday, NTA Director General Subodh Kumar Singh denied irregularities in the results. He attributed the unusually high number of top rankers (67) to a relatively easier paper this year and the agency’s decision to award additional marks to students whose exams did not start on time. Singh, however, also told reporters that a committee will look into the results of the 1,500 candidates who were awarded grace marks.\\n\\nRead |\\n\\nHow 44 are NEET UG toppers because of a wrong answer — and wrong textbook\\n\\nAdvertisement\\n\\n“We demand that a high-level investigation should be conducted under the supervision of the Supreme Court so that our talented students appearing in NEET and other exams get justice,” he had said.\\n\\nTamil Nadu Chief Minister M K Stalin said the trends from the latest NEET results have once again vindicated the DMK on its stand opposing the exam, reiterating that the entrance test goes against social justice and federalism.\\n\\n© IE Online Media Services Pvt Ltd\\n\\nDeeksha Teri\\n\\nDeeksha Teri covers education and has worked with the The Hindu (print division), WION and Stonebow Media. She is an alumnus of The University of Lincoln and The University of Delhi.                        ... Read More\\n\\nFirst uploaded on: \\n\\n08-06-2024 at 15:37 IST\\n\\nTags:\\n\\nMinistry of Education\\n\\nNEET\\n\\nNEET UG\\n\\nNEET UG 2024\\n\\nNTA\\n\\nLatest Comment\\n\\nPost Comment\\n\\nRead Comments\\n\\nAdvertisement\\n\\nT20 World Cup: India rises from dead, defeat Pakistan by 6 runs in low scoring thriller\\n\\nSports\\n\\nAs of now, a total of 1,563 students (six of whom got a spot in the top ranks) were given grace marks based on a normalisation formula, which the NTA has not shared. These candidates were from six centres — two in Chhattisgarh (one each in Balod and Dantewada), one each in Meghalaya, Surat, Haryana’s Bahadurgarh, and Chandigarh.\\n\\nAdvertisement\\n\\nMeanwhile, students have filed petitions in a number of high courts.\\n\\nOne of these writ petitions, filed by a NEET UG candidate in the Delhi High Court, was listed for hearing on June 12 after the issuance of notice by a vacation bench on June 7. This petitioner has challenged the final answer key of question number 29 in Physics as well as the compensatory time given to the candidates at a few centres.\\n\\nAdvertisement\\n\\nNTA declared the NEET UG 2024 result on June 4 — 10 days before the scheduled date — and a record 67 students achieved the NEET all-India rank (AIR) 1. Of these 67, 17 candidates got the rank out of merit, 44 students got the rank due to a wrong answer in the Physics section and six students got the rank due to grace marks given because of loss of exam time.\\n\\nNEET UG is the qualifying entrance exam for admission to Bachelor of Medicine and Bachelor of Surgery (MBBS), Bachelor of Dental Surgery (BDS), Bachelor of Ayurveda, Medicine and Surgery (BAMS), Bachelor of Siddha Medicine and Surgery (BSMS), Bachelor of Unani Medicine and Surgery (BUMS), and Bachelor of Homoeopathic Medicine and Surgery (BHMS) and BSc (H) Nursing courses.\\n\\nAnother PIL, filed before the division bench of the Calcutta High Court, challenged the award of 718 or 719 marks to some candidates in NEET UG 2024. While hearing this matter on June 6, the High Court directed the NTA to file an affidavit within 10 days, disclosing how the reservation policy of the state as well as the central government has been followed in preparing the merit list. The matter has been listed for the next hearing after two weeks before a regular bench.\\n\\nAdditionally, a writ petition has been filed by another NEET UG candidate before the Supreme Court. The court, while hearing the matter on May 17, issued notice to the respondents and listed the matter for the next hearing on July 8.\\n\\nAdvertisement\\n\\nWritten by \\t\\t\\t\\t\\t\\n\\nDeeksha Teri\\n\\t\\t\\t\\t\\t\\t\\n\\t\\n\\n\\t\\tNew Delhi |\\n\\nUpdated: June 9, 2024  10:27 IST\\n\\nFollow Us\\n\\n\\n\\n\\n\\n\\n\\n\\n\\nNEET UG 2024 Result: The committee has started the investigation, and is expected to announce their verdict before next Saturday. (Express photo by Deeksha Teri)\\n\\nNEET UG 2024 Result: The National Testing Agency (NTA) and the Union Education Ministry Saturday announced the formation of a four-member committee to review the results of over 1,500 candidates who were awarded “grace marks” to compensate for the “loss of time” suffered while appearing for this year’s National Eligibility-cum-Entrance Test (Undergraduate).\\n\\nThe announcement came amid an uproar over the NEET-UG results this year, with states like Maharashtra demanding a retest and the Aam Aadmi Party (AAP) demanding a Supreme Court-monitored probe into alleged discrepancies highlighted by students on social media.\\n\\nEnglish\\n\\nதமிழ்\\n\\nবাংলা\\n\\nമലയാളം\\n\\nગુજરાતી\\n\\nहिंदी\\n\\nमराठी\\n\\nBusiness\\n\\nबिज़नेस\\n\\nNewsletters\\n\\n\\n\\n\\n\\n\\n\\n\\n\\nIndia\\n\\nInternational\\n\\nMonday, Jun 10, 2024\\n\\nePaper\\n\\nToday’s Paper\\n\\nJournalism of Courage\\n\\nHome\\n\\nePaper\\n\\nCities\\n\\nIndia\\n\\nExplained\\n\\nOpinion\\n\\nBusiness\\n\\nEntertainment\\n\\nSports\\n\\nPolitics\\n\\nUPSC\\n\\nLifestyle\\n\\nTech\\n\\nEducation\\n\\nResearch\\n\\nVideos\\n\\nSubscribe\\n\\nSign In\\n\\nTrending\\n\\nUPSC Pack\\n\\nT20 World Cup\\n\\nExpress Shorts\\n\\nMini Crossword\\n\\nPremium Stories\\n\\n🎙️ Podcast\\n\\nHealth & Wellness\\n\\nAdvertisement\\n\\nNews\\n\\nEducation\\n\\nNEET UG: Govt, NTA form panel to review results of 1,500 students\\n\\nNEET UG: Govt, NTA form panel to review results of 1,500 students\\n\\nNEET UG 2024 Result: Will ensure this does not affect MBBS admission process, says NTA chief\\n\\n\\n\\t\\t\\t\\t\\t\\t\\t\\t\\t\\t\\t\\t\\t\\t\\t Written by \\t\\t\\t\\t\\t\\n\\nDeeksha Teri\\n\\t\\t\\t\\t\\t\\t\\n\\t\\n\\n\\t\\tNew Delhi |\\n\\nUpdated: June 9, 2024  10:27 IST\\n\\nFollow Us\\n\\nRead |\\n\\nHow 44 are NEET UG toppers because of a wrong answer — and wrong textbook\\n\\nA former UPSC chairman and three other academicians have been selected for this panel, which has started investigation and is expected to announce its verdict before next Saturday.\\n\\nThe verdict will not affect other results, the NTA said. “We are aware that the counselling process (for MBBS courses) is about to begin, but this will not affect the admission process. This special committee will give their verdict before next Saturday and accordingly the next step will be taken, but we are trying our best to ensure there is no hiccup in the admission process,” Singh told The Indian Express.\"\n",
      "}\n",
      "\u001b[36;1m\u001b[1;3m[chain/end]\u001b[0m \u001b[1m[chain:RunnableSequence > chain:RunnableParallel<context,question> > chain:RunnableSequence] [1.97s] Exiting Chain run with output:\n",
      "\u001b[0m{\n",
      "  \"output\": \"Announced on June 4, the results drew immediate attention for the extraordinarily large number of candidates who got the perfect score of 720/720 and for the fact that some candidates got 718 or 719 — marks that others claimed were impossible to get in the scheme of the exam. There have also been allegations of a paper leak, which the NTA has denied.\\n\\nAdvertisement\\n\\nOn Saturday, NTA Director General Subodh Kumar Singh denied irregularities in the results. He attributed the unusually high number of top rankers (67) to a relatively easier paper this year and the agency’s decision to award additional marks to students whose exams did not start on time. Singh, however, also told reporters that a committee will look into the results of the 1,500 candidates who were awarded grace marks.\\n\\nRead |\\n\\nHow 44 are NEET UG toppers because of a wrong answer — and wrong textbook\\n\\nAdvertisement\\n\\n“We demand that a high-level investigation should be conducted under the supervision of the Supreme Court so that our talented students appearing in NEET and other exams get justice,” he had said.\\n\\nTamil Nadu Chief Minister M K Stalin said the trends from the latest NEET results have once again vindicated the DMK on its stand opposing the exam, reiterating that the entrance test goes against social justice and federalism.\\n\\n© IE Online Media Services Pvt Ltd\\n\\nDeeksha Teri\\n\\nDeeksha Teri covers education and has worked with the The Hindu (print division), WION and Stonebow Media. She is an alumnus of The University of Lincoln and The University of Delhi.                        ... Read More\\n\\nFirst uploaded on: \\n\\n08-06-2024 at 15:37 IST\\n\\nTags:\\n\\nMinistry of Education\\n\\nNEET\\n\\nNEET UG\\n\\nNEET UG 2024\\n\\nNTA\\n\\nLatest Comment\\n\\nPost Comment\\n\\nRead Comments\\n\\nAdvertisement\\n\\nT20 World Cup: India rises from dead, defeat Pakistan by 6 runs in low scoring thriller\\n\\nSports\\n\\nAs of now, a total of 1,563 students (six of whom got a spot in the top ranks) were given grace marks based on a normalisation formula, which the NTA has not shared. These candidates were from six centres — two in Chhattisgarh (one each in Balod and Dantewada), one each in Meghalaya, Surat, Haryana’s Bahadurgarh, and Chandigarh.\\n\\nAdvertisement\\n\\nMeanwhile, students have filed petitions in a number of high courts.\\n\\nOne of these writ petitions, filed by a NEET UG candidate in the Delhi High Court, was listed for hearing on June 12 after the issuance of notice by a vacation bench on June 7. This petitioner has challenged the final answer key of question number 29 in Physics as well as the compensatory time given to the candidates at a few centres.\\n\\nAdvertisement\\n\\nNTA declared the NEET UG 2024 result on June 4 — 10 days before the scheduled date — and a record 67 students achieved the NEET all-India rank (AIR) 1. Of these 67, 17 candidates got the rank out of merit, 44 students got the rank due to a wrong answer in the Physics section and six students got the rank due to grace marks given because of loss of exam time.\\n\\nNEET UG is the qualifying entrance exam for admission to Bachelor of Medicine and Bachelor of Surgery (MBBS), Bachelor of Dental Surgery (BDS), Bachelor of Ayurveda, Medicine and Surgery (BAMS), Bachelor of Siddha Medicine and Surgery (BSMS), Bachelor of Unani Medicine and Surgery (BUMS), and Bachelor of Homoeopathic Medicine and Surgery (BHMS) and BSc (H) Nursing courses.\\n\\nAnother PIL, filed before the division bench of the Calcutta High Court, challenged the award of 718 or 719 marks to some candidates in NEET UG 2024. While hearing this matter on June 6, the High Court directed the NTA to file an affidavit within 10 days, disclosing how the reservation policy of the state as well as the central government has been followed in preparing the merit list. The matter has been listed for the next hearing after two weeks before a regular bench.\\n\\nAdditionally, a writ petition has been filed by another NEET UG candidate before the Supreme Court. The court, while hearing the matter on May 17, issued notice to the respondents and listed the matter for the next hearing on July 8.\\n\\nAdvertisement\\n\\nWritten by \\t\\t\\t\\t\\t\\n\\nDeeksha Teri\\n\\t\\t\\t\\t\\t\\t\\n\\t\\n\\n\\t\\tNew Delhi |\\n\\nUpdated: June 9, 2024  10:27 IST\\n\\nFollow Us\\n\\n\\n\\n\\n\\n\\n\\n\\n\\nNEET UG 2024 Result: The committee has started the investigation, and is expected to announce their verdict before next Saturday. (Express photo by Deeksha Teri)\\n\\nNEET UG 2024 Result: The National Testing Agency (NTA) and the Union Education Ministry Saturday announced the formation of a four-member committee to review the results of over 1,500 candidates who were awarded “grace marks” to compensate for the “loss of time” suffered while appearing for this year’s National Eligibility-cum-Entrance Test (Undergraduate).\\n\\nThe announcement came amid an uproar over the NEET-UG results this year, with states like Maharashtra demanding a retest and the Aam Aadmi Party (AAP) demanding a Supreme Court-monitored probe into alleged discrepancies highlighted by students on social media.\\n\\nEnglish\\n\\nதமிழ்\\n\\nবাংলা\\n\\nമലയാളം\\n\\nગુજરાતી\\n\\nहिंदी\\n\\nमराठी\\n\\nBusiness\\n\\nबिज़नेस\\n\\nNewsletters\\n\\n\\n\\n\\n\\n\\n\\n\\n\\nIndia\\n\\nInternational\\n\\nMonday, Jun 10, 2024\\n\\nePaper\\n\\nToday’s Paper\\n\\nJournalism of Courage\\n\\nHome\\n\\nePaper\\n\\nCities\\n\\nIndia\\n\\nExplained\\n\\nOpinion\\n\\nBusiness\\n\\nEntertainment\\n\\nSports\\n\\nPolitics\\n\\nUPSC\\n\\nLifestyle\\n\\nTech\\n\\nEducation\\n\\nResearch\\n\\nVideos\\n\\nSubscribe\\n\\nSign In\\n\\nTrending\\n\\nUPSC Pack\\n\\nT20 World Cup\\n\\nExpress Shorts\\n\\nMini Crossword\\n\\nPremium Stories\\n\\n🎙️ Podcast\\n\\nHealth & Wellness\\n\\nAdvertisement\\n\\nNews\\n\\nEducation\\n\\nNEET UG: Govt, NTA form panel to review results of 1,500 students\\n\\nNEET UG: Govt, NTA form panel to review results of 1,500 students\\n\\nNEET UG 2024 Result: Will ensure this does not affect MBBS admission process, says NTA chief\\n\\n\\n\\t\\t\\t\\t\\t\\t\\t\\t\\t\\t\\t\\t\\t\\t\\t Written by \\t\\t\\t\\t\\t\\n\\nDeeksha Teri\\n\\t\\t\\t\\t\\t\\t\\n\\t\\n\\n\\t\\tNew Delhi |\\n\\nUpdated: June 9, 2024  10:27 IST\\n\\nFollow Us\\n\\nRead |\\n\\nHow 44 are NEET UG toppers because of a wrong answer — and wrong textbook\\n\\nA former UPSC chairman and three other academicians have been selected for this panel, which has started investigation and is expected to announce its verdict before next Saturday.\\n\\nThe verdict will not affect other results, the NTA said. “We are aware that the counselling process (for MBBS courses) is about to begin, but this will not affect the admission process. This special committee will give their verdict before next Saturday and accordingly the next step will be taken, but we are trying our best to ensure there is no hiccup in the admission process,” Singh told The Indian Express.\"\n",
      "}\n",
      "\u001b[36;1m\u001b[1;3m[chain/end]\u001b[0m \u001b[1m[chain:RunnableSequence > chain:RunnableParallel<context,question>] [1.97s] Exiting Chain run with output:\n",
      "\u001b[0m{\n",
      "  \"context\": \"Announced on June 4, the results drew immediate attention for the extraordinarily large number of candidates who got the perfect score of 720/720 and for the fact that some candidates got 718 or 719 — marks that others claimed were impossible to get in the scheme of the exam. There have also been allegations of a paper leak, which the NTA has denied.\\n\\nAdvertisement\\n\\nOn Saturday, NTA Director General Subodh Kumar Singh denied irregularities in the results. He attributed the unusually high number of top rankers (67) to a relatively easier paper this year and the agency’s decision to award additional marks to students whose exams did not start on time. Singh, however, also told reporters that a committee will look into the results of the 1,500 candidates who were awarded grace marks.\\n\\nRead |\\n\\nHow 44 are NEET UG toppers because of a wrong answer — and wrong textbook\\n\\nAdvertisement\\n\\n“We demand that a high-level investigation should be conducted under the supervision of the Supreme Court so that our talented students appearing in NEET and other exams get justice,” he had said.\\n\\nTamil Nadu Chief Minister M K Stalin said the trends from the latest NEET results have once again vindicated the DMK on its stand opposing the exam, reiterating that the entrance test goes against social justice and federalism.\\n\\n© IE Online Media Services Pvt Ltd\\n\\nDeeksha Teri\\n\\nDeeksha Teri covers education and has worked with the The Hindu (print division), WION and Stonebow Media. She is an alumnus of The University of Lincoln and The University of Delhi.                        ... Read More\\n\\nFirst uploaded on: \\n\\n08-06-2024 at 15:37 IST\\n\\nTags:\\n\\nMinistry of Education\\n\\nNEET\\n\\nNEET UG\\n\\nNEET UG 2024\\n\\nNTA\\n\\nLatest Comment\\n\\nPost Comment\\n\\nRead Comments\\n\\nAdvertisement\\n\\nT20 World Cup: India rises from dead, defeat Pakistan by 6 runs in low scoring thriller\\n\\nSports\\n\\nAs of now, a total of 1,563 students (six of whom got a spot in the top ranks) were given grace marks based on a normalisation formula, which the NTA has not shared. These candidates were from six centres — two in Chhattisgarh (one each in Balod and Dantewada), one each in Meghalaya, Surat, Haryana’s Bahadurgarh, and Chandigarh.\\n\\nAdvertisement\\n\\nMeanwhile, students have filed petitions in a number of high courts.\\n\\nOne of these writ petitions, filed by a NEET UG candidate in the Delhi High Court, was listed for hearing on June 12 after the issuance of notice by a vacation bench on June 7. This petitioner has challenged the final answer key of question number 29 in Physics as well as the compensatory time given to the candidates at a few centres.\\n\\nAdvertisement\\n\\nNTA declared the NEET UG 2024 result on June 4 — 10 days before the scheduled date — and a record 67 students achieved the NEET all-India rank (AIR) 1. Of these 67, 17 candidates got the rank out of merit, 44 students got the rank due to a wrong answer in the Physics section and six students got the rank due to grace marks given because of loss of exam time.\\n\\nNEET UG is the qualifying entrance exam for admission to Bachelor of Medicine and Bachelor of Surgery (MBBS), Bachelor of Dental Surgery (BDS), Bachelor of Ayurveda, Medicine and Surgery (BAMS), Bachelor of Siddha Medicine and Surgery (BSMS), Bachelor of Unani Medicine and Surgery (BUMS), and Bachelor of Homoeopathic Medicine and Surgery (BHMS) and BSc (H) Nursing courses.\\n\\nAnother PIL, filed before the division bench of the Calcutta High Court, challenged the award of 718 or 719 marks to some candidates in NEET UG 2024. While hearing this matter on June 6, the High Court directed the NTA to file an affidavit within 10 days, disclosing how the reservation policy of the state as well as the central government has been followed in preparing the merit list. The matter has been listed for the next hearing after two weeks before a regular bench.\\n\\nAdditionally, a writ petition has been filed by another NEET UG candidate before the Supreme Court. The court, while hearing the matter on May 17, issued notice to the respondents and listed the matter for the next hearing on July 8.\\n\\nAdvertisement\\n\\nWritten by \\t\\t\\t\\t\\t\\n\\nDeeksha Teri\\n\\t\\t\\t\\t\\t\\t\\n\\t\\n\\n\\t\\tNew Delhi |\\n\\nUpdated: June 9, 2024  10:27 IST\\n\\nFollow Us\\n\\n\\n\\n\\n\\n\\n\\n\\n\\nNEET UG 2024 Result: The committee has started the investigation, and is expected to announce their verdict before next Saturday. (Express photo by Deeksha Teri)\\n\\nNEET UG 2024 Result: The National Testing Agency (NTA) and the Union Education Ministry Saturday announced the formation of a four-member committee to review the results of over 1,500 candidates who were awarded “grace marks” to compensate for the “loss of time” suffered while appearing for this year’s National Eligibility-cum-Entrance Test (Undergraduate).\\n\\nThe announcement came amid an uproar over the NEET-UG results this year, with states like Maharashtra demanding a retest and the Aam Aadmi Party (AAP) demanding a Supreme Court-monitored probe into alleged discrepancies highlighted by students on social media.\\n\\nEnglish\\n\\nதமிழ்\\n\\nবাংলা\\n\\nമലയാളം\\n\\nગુજરાતી\\n\\nहिंदी\\n\\nमराठी\\n\\nBusiness\\n\\nबिज़नेस\\n\\nNewsletters\\n\\n\\n\\n\\n\\n\\n\\n\\n\\nIndia\\n\\nInternational\\n\\nMonday, Jun 10, 2024\\n\\nePaper\\n\\nToday’s Paper\\n\\nJournalism of Courage\\n\\nHome\\n\\nePaper\\n\\nCities\\n\\nIndia\\n\\nExplained\\n\\nOpinion\\n\\nBusiness\\n\\nEntertainment\\n\\nSports\\n\\nPolitics\\n\\nUPSC\\n\\nLifestyle\\n\\nTech\\n\\nEducation\\n\\nResearch\\n\\nVideos\\n\\nSubscribe\\n\\nSign In\\n\\nTrending\\n\\nUPSC Pack\\n\\nT20 World Cup\\n\\nExpress Shorts\\n\\nMini Crossword\\n\\nPremium Stories\\n\\n🎙️ Podcast\\n\\nHealth & Wellness\\n\\nAdvertisement\\n\\nNews\\n\\nEducation\\n\\nNEET UG: Govt, NTA form panel to review results of 1,500 students\\n\\nNEET UG: Govt, NTA form panel to review results of 1,500 students\\n\\nNEET UG 2024 Result: Will ensure this does not affect MBBS admission process, says NTA chief\\n\\n\\n\\t\\t\\t\\t\\t\\t\\t\\t\\t\\t\\t\\t\\t\\t\\t Written by \\t\\t\\t\\t\\t\\n\\nDeeksha Teri\\n\\t\\t\\t\\t\\t\\t\\n\\t\\n\\n\\t\\tNew Delhi |\\n\\nUpdated: June 9, 2024  10:27 IST\\n\\nFollow Us\\n\\nRead |\\n\\nHow 44 are NEET UG toppers because of a wrong answer — and wrong textbook\\n\\nA former UPSC chairman and three other academicians have been selected for this panel, which has started investigation and is expected to announce its verdict before next Saturday.\\n\\nThe verdict will not affect other results, the NTA said. “We are aware that the counselling process (for MBBS courses) is about to begin, but this will not affect the admission process. This special committee will give their verdict before next Saturday and accordingly the next step will be taken, but we are trying our best to ensure there is no hiccup in the admission process,” Singh told The Indian Express.\",\n",
      "  \"question\": \"What steps were taken regarding NEET results\"\n",
      "}\n",
      "\u001b[32;1m\u001b[1;3m[chain/start]\u001b[0m \u001b[1m[chain:RunnableSequence > prompt:ChatPromptTemplate] Entering Prompt run with input:\n",
      "\u001b[0m{\n",
      "  \"context\": \"Announced on June 4, the results drew immediate attention for the extraordinarily large number of candidates who got the perfect score of 720/720 and for the fact that some candidates got 718 or 719 — marks that others claimed were impossible to get in the scheme of the exam. There have also been allegations of a paper leak, which the NTA has denied.\\n\\nAdvertisement\\n\\nOn Saturday, NTA Director General Subodh Kumar Singh denied irregularities in the results. He attributed the unusually high number of top rankers (67) to a relatively easier paper this year and the agency’s decision to award additional marks to students whose exams did not start on time. Singh, however, also told reporters that a committee will look into the results of the 1,500 candidates who were awarded grace marks.\\n\\nRead |\\n\\nHow 44 are NEET UG toppers because of a wrong answer — and wrong textbook\\n\\nAdvertisement\\n\\n“We demand that a high-level investigation should be conducted under the supervision of the Supreme Court so that our talented students appearing in NEET and other exams get justice,” he had said.\\n\\nTamil Nadu Chief Minister M K Stalin said the trends from the latest NEET results have once again vindicated the DMK on its stand opposing the exam, reiterating that the entrance test goes against social justice and federalism.\\n\\n© IE Online Media Services Pvt Ltd\\n\\nDeeksha Teri\\n\\nDeeksha Teri covers education and has worked with the The Hindu (print division), WION and Stonebow Media. She is an alumnus of The University of Lincoln and The University of Delhi.                        ... Read More\\n\\nFirst uploaded on: \\n\\n08-06-2024 at 15:37 IST\\n\\nTags:\\n\\nMinistry of Education\\n\\nNEET\\n\\nNEET UG\\n\\nNEET UG 2024\\n\\nNTA\\n\\nLatest Comment\\n\\nPost Comment\\n\\nRead Comments\\n\\nAdvertisement\\n\\nT20 World Cup: India rises from dead, defeat Pakistan by 6 runs in low scoring thriller\\n\\nSports\\n\\nAs of now, a total of 1,563 students (six of whom got a spot in the top ranks) were given grace marks based on a normalisation formula, which the NTA has not shared. These candidates were from six centres — two in Chhattisgarh (one each in Balod and Dantewada), one each in Meghalaya, Surat, Haryana’s Bahadurgarh, and Chandigarh.\\n\\nAdvertisement\\n\\nMeanwhile, students have filed petitions in a number of high courts.\\n\\nOne of these writ petitions, filed by a NEET UG candidate in the Delhi High Court, was listed for hearing on June 12 after the issuance of notice by a vacation bench on June 7. This petitioner has challenged the final answer key of question number 29 in Physics as well as the compensatory time given to the candidates at a few centres.\\n\\nAdvertisement\\n\\nNTA declared the NEET UG 2024 result on June 4 — 10 days before the scheduled date — and a record 67 students achieved the NEET all-India rank (AIR) 1. Of these 67, 17 candidates got the rank out of merit, 44 students got the rank due to a wrong answer in the Physics section and six students got the rank due to grace marks given because of loss of exam time.\\n\\nNEET UG is the qualifying entrance exam for admission to Bachelor of Medicine and Bachelor of Surgery (MBBS), Bachelor of Dental Surgery (BDS), Bachelor of Ayurveda, Medicine and Surgery (BAMS), Bachelor of Siddha Medicine and Surgery (BSMS), Bachelor of Unani Medicine and Surgery (BUMS), and Bachelor of Homoeopathic Medicine and Surgery (BHMS) and BSc (H) Nursing courses.\\n\\nAnother PIL, filed before the division bench of the Calcutta High Court, challenged the award of 718 or 719 marks to some candidates in NEET UG 2024. While hearing this matter on June 6, the High Court directed the NTA to file an affidavit within 10 days, disclosing how the reservation policy of the state as well as the central government has been followed in preparing the merit list. The matter has been listed for the next hearing after two weeks before a regular bench.\\n\\nAdditionally, a writ petition has been filed by another NEET UG candidate before the Supreme Court. The court, while hearing the matter on May 17, issued notice to the respondents and listed the matter for the next hearing on July 8.\\n\\nAdvertisement\\n\\nWritten by \\t\\t\\t\\t\\t\\n\\nDeeksha Teri\\n\\t\\t\\t\\t\\t\\t\\n\\t\\n\\n\\t\\tNew Delhi |\\n\\nUpdated: June 9, 2024  10:27 IST\\n\\nFollow Us\\n\\n\\n\\n\\n\\n\\n\\n\\n\\nNEET UG 2024 Result: The committee has started the investigation, and is expected to announce their verdict before next Saturday. (Express photo by Deeksha Teri)\\n\\nNEET UG 2024 Result: The National Testing Agency (NTA) and the Union Education Ministry Saturday announced the formation of a four-member committee to review the results of over 1,500 candidates who were awarded “grace marks” to compensate for the “loss of time” suffered while appearing for this year’s National Eligibility-cum-Entrance Test (Undergraduate).\\n\\nThe announcement came amid an uproar over the NEET-UG results this year, with states like Maharashtra demanding a retest and the Aam Aadmi Party (AAP) demanding a Supreme Court-monitored probe into alleged discrepancies highlighted by students on social media.\\n\\nEnglish\\n\\nதமிழ்\\n\\nবাংলা\\n\\nമലയാളം\\n\\nગુજરાતી\\n\\nहिंदी\\n\\nमराठी\\n\\nBusiness\\n\\nबिज़नेस\\n\\nNewsletters\\n\\n\\n\\n\\n\\n\\n\\n\\n\\nIndia\\n\\nInternational\\n\\nMonday, Jun 10, 2024\\n\\nePaper\\n\\nToday’s Paper\\n\\nJournalism of Courage\\n\\nHome\\n\\nePaper\\n\\nCities\\n\\nIndia\\n\\nExplained\\n\\nOpinion\\n\\nBusiness\\n\\nEntertainment\\n\\nSports\\n\\nPolitics\\n\\nUPSC\\n\\nLifestyle\\n\\nTech\\n\\nEducation\\n\\nResearch\\n\\nVideos\\n\\nSubscribe\\n\\nSign In\\n\\nTrending\\n\\nUPSC Pack\\n\\nT20 World Cup\\n\\nExpress Shorts\\n\\nMini Crossword\\n\\nPremium Stories\\n\\n🎙️ Podcast\\n\\nHealth & Wellness\\n\\nAdvertisement\\n\\nNews\\n\\nEducation\\n\\nNEET UG: Govt, NTA form panel to review results of 1,500 students\\n\\nNEET UG: Govt, NTA form panel to review results of 1,500 students\\n\\nNEET UG 2024 Result: Will ensure this does not affect MBBS admission process, says NTA chief\\n\\n\\n\\t\\t\\t\\t\\t\\t\\t\\t\\t\\t\\t\\t\\t\\t\\t Written by \\t\\t\\t\\t\\t\\n\\nDeeksha Teri\\n\\t\\t\\t\\t\\t\\t\\n\\t\\n\\n\\t\\tNew Delhi |\\n\\nUpdated: June 9, 2024  10:27 IST\\n\\nFollow Us\\n\\nRead |\\n\\nHow 44 are NEET UG toppers because of a wrong answer — and wrong textbook\\n\\nA former UPSC chairman and three other academicians have been selected for this panel, which has started investigation and is expected to announce its verdict before next Saturday.\\n\\nThe verdict will not affect other results, the NTA said. “We are aware that the counselling process (for MBBS courses) is about to begin, but this will not affect the admission process. This special committee will give their verdict before next Saturday and accordingly the next step will be taken, but we are trying our best to ensure there is no hiccup in the admission process,” Singh told The Indian Express.\",\n",
      "  \"question\": \"What steps were taken regarding NEET results\"\n",
      "}\n",
      "\u001b[36;1m\u001b[1;3m[chain/end]\u001b[0m \u001b[1m[chain:RunnableSequence > prompt:ChatPromptTemplate] [0ms] Exiting Prompt run with output:\n",
      "\u001b[0m[outputs]\n",
      "\u001b[32;1m\u001b[1;3m[llm/start]\u001b[0m \u001b[1m[chain:RunnableSequence > llm:ChatGoogleGenerativeAI] Entering LLM run with input:\n",
      "\u001b[0m{\n",
      "  \"prompts\": [\n",
      "    \"Human: You are an assistant for question-answering tasks. Use the following pieces of retrieved context to answer the question. If you don't know the answer, just say that you don't know. Use three sentences maximum and keep the answer concise.\\nQuestion: What steps were taken regarding NEET results \\nContext: Announced on June 4, the results drew immediate attention for the extraordinarily large number of candidates who got the perfect score of 720/720 and for the fact that some candidates got 718 or 719 — marks that others claimed were impossible to get in the scheme of the exam. There have also been allegations of a paper leak, which the NTA has denied.\\n\\nAdvertisement\\n\\nOn Saturday, NTA Director General Subodh Kumar Singh denied irregularities in the results. He attributed the unusually high number of top rankers (67) to a relatively easier paper this year and the agency’s decision to award additional marks to students whose exams did not start on time. Singh, however, also told reporters that a committee will look into the results of the 1,500 candidates who were awarded grace marks.\\n\\nRead |\\n\\nHow 44 are NEET UG toppers because of a wrong answer — and wrong textbook\\n\\nAdvertisement\\n\\n“We demand that a high-level investigation should be conducted under the supervision of the Supreme Court so that our talented students appearing in NEET and other exams get justice,” he had said.\\n\\nTamil Nadu Chief Minister M K Stalin said the trends from the latest NEET results have once again vindicated the DMK on its stand opposing the exam, reiterating that the entrance test goes against social justice and federalism.\\n\\n© IE Online Media Services Pvt Ltd\\n\\nDeeksha Teri\\n\\nDeeksha Teri covers education and has worked with the The Hindu (print division), WION and Stonebow Media. She is an alumnus of The University of Lincoln and The University of Delhi.                        ... Read More\\n\\nFirst uploaded on: \\n\\n08-06-2024 at 15:37 IST\\n\\nTags:\\n\\nMinistry of Education\\n\\nNEET\\n\\nNEET UG\\n\\nNEET UG 2024\\n\\nNTA\\n\\nLatest Comment\\n\\nPost Comment\\n\\nRead Comments\\n\\nAdvertisement\\n\\nT20 World Cup: India rises from dead, defeat Pakistan by 6 runs in low scoring thriller\\n\\nSports\\n\\nAs of now, a total of 1,563 students (six of whom got a spot in the top ranks) were given grace marks based on a normalisation formula, which the NTA has not shared. These candidates were from six centres — two in Chhattisgarh (one each in Balod and Dantewada), one each in Meghalaya, Surat, Haryana’s Bahadurgarh, and Chandigarh.\\n\\nAdvertisement\\n\\nMeanwhile, students have filed petitions in a number of high courts.\\n\\nOne of these writ petitions, filed by a NEET UG candidate in the Delhi High Court, was listed for hearing on June 12 after the issuance of notice by a vacation bench on June 7. This petitioner has challenged the final answer key of question number 29 in Physics as well as the compensatory time given to the candidates at a few centres.\\n\\nAdvertisement\\n\\nNTA declared the NEET UG 2024 result on June 4 — 10 days before the scheduled date — and a record 67 students achieved the NEET all-India rank (AIR) 1. Of these 67, 17 candidates got the rank out of merit, 44 students got the rank due to a wrong answer in the Physics section and six students got the rank due to grace marks given because of loss of exam time.\\n\\nNEET UG is the qualifying entrance exam for admission to Bachelor of Medicine and Bachelor of Surgery (MBBS), Bachelor of Dental Surgery (BDS), Bachelor of Ayurveda, Medicine and Surgery (BAMS), Bachelor of Siddha Medicine and Surgery (BSMS), Bachelor of Unani Medicine and Surgery (BUMS), and Bachelor of Homoeopathic Medicine and Surgery (BHMS) and BSc (H) Nursing courses.\\n\\nAnother PIL, filed before the division bench of the Calcutta High Court, challenged the award of 718 or 719 marks to some candidates in NEET UG 2024. While hearing this matter on June 6, the High Court directed the NTA to file an affidavit within 10 days, disclosing how the reservation policy of the state as well as the central government has been followed in preparing the merit list. The matter has been listed for the next hearing after two weeks before a regular bench.\\n\\nAdditionally, a writ petition has been filed by another NEET UG candidate before the Supreme Court. The court, while hearing the matter on May 17, issued notice to the respondents and listed the matter for the next hearing on July 8.\\n\\nAdvertisement\\n\\nWritten by \\t\\t\\t\\t\\t\\n\\nDeeksha Teri\\n\\t\\t\\t\\t\\t\\t\\n\\t\\n\\n\\t\\tNew Delhi |\\n\\nUpdated: June 9, 2024  10:27 IST\\n\\nFollow Us\\n\\n\\n\\n\\n\\n\\n\\n\\n\\nNEET UG 2024 Result: The committee has started the investigation, and is expected to announce their verdict before next Saturday. (Express photo by Deeksha Teri)\\n\\nNEET UG 2024 Result: The National Testing Agency (NTA) and the Union Education Ministry Saturday announced the formation of a four-member committee to review the results of over 1,500 candidates who were awarded “grace marks” to compensate for the “loss of time” suffered while appearing for this year’s National Eligibility-cum-Entrance Test (Undergraduate).\\n\\nThe announcement came amid an uproar over the NEET-UG results this year, with states like Maharashtra demanding a retest and the Aam Aadmi Party (AAP) demanding a Supreme Court-monitored probe into alleged discrepancies highlighted by students on social media.\\n\\nEnglish\\n\\nதமிழ்\\n\\nবাংলা\\n\\nമലയാളം\\n\\nગુજરાતી\\n\\nहिंदी\\n\\nमराठी\\n\\nBusiness\\n\\nबिज़नेस\\n\\nNewsletters\\n\\n\\n\\n\\n\\n\\n\\n\\n\\nIndia\\n\\nInternational\\n\\nMonday, Jun 10, 2024\\n\\nePaper\\n\\nToday’s Paper\\n\\nJournalism of Courage\\n\\nHome\\n\\nePaper\\n\\nCities\\n\\nIndia\\n\\nExplained\\n\\nOpinion\\n\\nBusiness\\n\\nEntertainment\\n\\nSports\\n\\nPolitics\\n\\nUPSC\\n\\nLifestyle\\n\\nTech\\n\\nEducation\\n\\nResearch\\n\\nVideos\\n\\nSubscribe\\n\\nSign In\\n\\nTrending\\n\\nUPSC Pack\\n\\nT20 World Cup\\n\\nExpress Shorts\\n\\nMini Crossword\\n\\nPremium Stories\\n\\n🎙️ Podcast\\n\\nHealth & Wellness\\n\\nAdvertisement\\n\\nNews\\n\\nEducation\\n\\nNEET UG: Govt, NTA form panel to review results of 1,500 students\\n\\nNEET UG: Govt, NTA form panel to review results of 1,500 students\\n\\nNEET UG 2024 Result: Will ensure this does not affect MBBS admission process, says NTA chief\\n\\n\\n\\t\\t\\t\\t\\t\\t\\t\\t\\t\\t\\t\\t\\t\\t\\t Written by \\t\\t\\t\\t\\t\\n\\nDeeksha Teri\\n\\t\\t\\t\\t\\t\\t\\n\\t\\n\\n\\t\\tNew Delhi |\\n\\nUpdated: June 9, 2024  10:27 IST\\n\\nFollow Us\\n\\nRead |\\n\\nHow 44 are NEET UG toppers because of a wrong answer — and wrong textbook\\n\\nA former UPSC chairman and three other academicians have been selected for this panel, which has started investigation and is expected to announce its verdict before next Saturday.\\n\\nThe verdict will not affect other results, the NTA said. “We are aware that the counselling process (for MBBS courses) is about to begin, but this will not affect the admission process. This special committee will give their verdict before next Saturday and accordingly the next step will be taken, but we are trying our best to ensure there is no hiccup in the admission process,” Singh told The Indian Express. \\nAnswer:\"\n",
      "  ]\n",
      "}\n",
      "\u001b[36;1m\u001b[1;3m[llm/end]\u001b[0m \u001b[1m[chain:RunnableSequence > llm:ChatGoogleGenerativeAI] [2.90s] Exiting LLM run with output:\n",
      "\u001b[0m{\n",
      "  \"generations\": [\n",
      "    [\n",
      "      {\n",
      "        \"text\": \"The NTA has formed a four-member committee to review the results of over 1,500 candidates who received grace marks. The committee is expected to announce its verdict before next Saturday. The NTA has assured that the review will not affect the MBBS admission process. \\n\",\n",
      "        \"generation_info\": {\n",
      "          \"finish_reason\": \"STOP\",\n",
      "          \"safety_ratings\": [\n",
      "            {\n",
      "              \"category\": \"HARM_CATEGORY_SEXUALLY_EXPLICIT\",\n",
      "              \"probability\": \"NEGLIGIBLE\",\n",
      "              \"blocked\": false\n",
      "            },\n",
      "            {\n",
      "              \"category\": \"HARM_CATEGORY_HATE_SPEECH\",\n",
      "              \"probability\": \"NEGLIGIBLE\",\n",
      "              \"blocked\": false\n",
      "            },\n",
      "            {\n",
      "              \"category\": \"HARM_CATEGORY_HARASSMENT\",\n",
      "              \"probability\": \"NEGLIGIBLE\",\n",
      "              \"blocked\": false\n",
      "            },\n",
      "            {\n",
      "              \"category\": \"HARM_CATEGORY_DANGEROUS_CONTENT\",\n",
      "              \"probability\": \"NEGLIGIBLE\",\n",
      "              \"blocked\": false\n",
      "            }\n",
      "          ]\n",
      "        },\n",
      "        \"type\": \"ChatGeneration\",\n",
      "        \"message\": {\n",
      "          \"lc\": 1,\n",
      "          \"type\": \"constructor\",\n",
      "          \"id\": [\n",
      "            \"langchain\",\n",
      "            \"schema\",\n",
      "            \"messages\",\n",
      "            \"AIMessage\"\n",
      "          ],\n",
      "          \"kwargs\": {\n",
      "            \"content\": \"The NTA has formed a four-member committee to review the results of over 1,500 candidates who received grace marks. The committee is expected to announce its verdict before next Saturday. The NTA has assured that the review will not affect the MBBS admission process. \\n\",\n",
      "            \"response_metadata\": {\n",
      "              \"prompt_feedback\": {\n",
      "                \"block_reason\": 0,\n",
      "                \"safety_ratings\": []\n",
      "              },\n",
      "              \"finish_reason\": \"STOP\",\n",
      "              \"safety_ratings\": [\n",
      "                {\n",
      "                  \"category\": \"HARM_CATEGORY_SEXUALLY_EXPLICIT\",\n",
      "                  \"probability\": \"NEGLIGIBLE\",\n",
      "                  \"blocked\": false\n",
      "                },\n",
      "                {\n",
      "                  \"category\": \"HARM_CATEGORY_HATE_SPEECH\",\n",
      "                  \"probability\": \"NEGLIGIBLE\",\n",
      "                  \"blocked\": false\n",
      "                },\n",
      "                {\n",
      "                  \"category\": \"HARM_CATEGORY_HARASSMENT\",\n",
      "                  \"probability\": \"NEGLIGIBLE\",\n",
      "                  \"blocked\": false\n",
      "                },\n",
      "                {\n",
      "                  \"category\": \"HARM_CATEGORY_DANGEROUS_CONTENT\",\n",
      "                  \"probability\": \"NEGLIGIBLE\",\n",
      "                  \"blocked\": false\n",
      "                }\n",
      "              ]\n",
      "            },\n",
      "            \"type\": \"ai\",\n",
      "            \"id\": \"run-baeb6d99-d1b4-47c3-8dd7-a8bbc3ccd339-0\",\n",
      "            \"usage_metadata\": {\n",
      "              \"input_tokens\": 1589,\n",
      "              \"output_tokens\": 54,\n",
      "              \"total_tokens\": 1643\n",
      "            },\n",
      "            \"tool_calls\": [],\n",
      "            \"invalid_tool_calls\": []\n",
      "          }\n",
      "        }\n",
      "      }\n",
      "    ]\n",
      "  ],\n",
      "  \"llm_output\": {\n",
      "    \"prompt_feedback\": {\n",
      "      \"block_reason\": 0,\n",
      "      \"safety_ratings\": []\n",
      "    }\n",
      "  },\n",
      "  \"run\": null\n",
      "}\n",
      "\u001b[32;1m\u001b[1;3m[chain/start]\u001b[0m \u001b[1m[chain:RunnableSequence > parser:StrOutputParser] Entering Parser run with input:\n",
      "\u001b[0m[inputs]\n",
      "\u001b[36;1m\u001b[1;3m[chain/end]\u001b[0m \u001b[1m[chain:RunnableSequence > parser:StrOutputParser] [0ms] Exiting Parser run with output:\n",
      "\u001b[0m{\n",
      "  \"output\": \"The NTA has formed a four-member committee to review the results of over 1,500 candidates who received grace marks. The committee is expected to announce its verdict before next Saturday. The NTA has assured that the review will not affect the MBBS admission process. \\n\"\n",
      "}\n",
      "\u001b[36;1m\u001b[1;3m[chain/end]\u001b[0m \u001b[1m[chain:RunnableSequence] [4.88s] Exiting Chain run with output:\n",
      "\u001b[0m{\n",
      "  \"output\": \"The NTA has formed a four-member committee to review the results of over 1,500 candidates who received grace marks. The committee is expected to announce its verdict before next Saturday. The NTA has assured that the review will not affect the MBBS admission process. \\n\"\n",
      "}\n"
     ]
    }
   ],
   "source": [
    "# Test RAG chain\n",
    "langchain.debug = True\n",
    "rag_chain.invoke(\"What steps were taken regarding NEET results\")\n",
    "langchain.debug = False"
   ]
  },
  {
   "cell_type": "code",
   "execution_count": 17,
   "id": "df86b0e4-3f39-4ac7-b2d9-713b66fe019b",
   "metadata": {},
   "outputs": [],
   "source": [
    "# Run chain for all input questions and store output\n",
    "rag_answers = []\n",
    "for q in testset_df['question']:\n",
    "    rag_answers.append(rag_chain.invoke(q))"
   ]
  },
  {
   "cell_type": "code",
   "execution_count": 18,
   "id": "a1f1241a-5b23-4446-bd38-575b784d26c7",
   "metadata": {},
   "outputs": [],
   "source": [
    "# Add details to eval data\n",
    "eval_data.append({\n",
    "    \"answers\": rag_answers,\n",
    "    \"chain\": rag_chain,\n",
    "    \"desc\": \"Chunk 1000, Overlap 200, No query processing, LOTR (Google embedding-001, Hugging Face bge-large-en, Sentence Transformer all-mpnet-base-v2), Stuff chain\"\n",
    "})"
   ]
  },
  {
   "cell_type": "markdown",
   "id": "864f3bb5-9d05-4cc3-a737-876b7445a483",
   "metadata": {},
   "source": [
    "**RAG Chain 4** \\\n",
    "Chunk size: 1000 \\\n",
    "Overlap: 200 \\\n",
    "Query Processing: Multi query \\\n",
    "Embedding: LOTR [`Google \"embedding-001\"`, `Hugging Face \"bge-large-en\"` `Sentence Transformer \"all-mpnet-base-v2\"`] \\\n",
    "Result Generation: Stuff Chain"
   ]
  },
  {
   "cell_type": "code",
   "execution_count": 19,
   "id": "ad77532d-def1-452f-91ae-ade279f7baec",
   "metadata": {},
   "outputs": [
    {
     "name": "stderr",
     "output_type": "stream",
     "text": [
      "Python-dotenv could not parse statement starting at line 4\n",
      "Python-dotenv could not parse statement starting at line 8\n",
      "Python-dotenv could not parse statement starting at line 12\n",
      "Python-dotenv could not parse statement starting at line 15\n",
      "/home/naveen/micromamba/envs/ml/lib/python3.11/site-packages/huggingface_hub/file_download.py:1132: FutureWarning: `resume_download` is deprecated and will be removed in version 1.0.0. Downloads always resume when possible. If you want to force a new download, use `force_download=True`.\n",
      "  warnings.warn(\n",
      "Python-dotenv could not parse statement starting at line 4\n",
      "Python-dotenv could not parse statement starting at line 8\n",
      "Python-dotenv could not parse statement starting at line 12\n",
      "Python-dotenv could not parse statement starting at line 15\n",
      "Python-dotenv could not parse statement starting at line 4\n",
      "Python-dotenv could not parse statement starting at line 8\n",
      "Python-dotenv could not parse statement starting at line 12\n",
      "Python-dotenv could not parse statement starting at line 15\n"
     ]
    }
   ],
   "source": [
    "# Init LLM object\n",
    "llm = ChatGoogleGenerativeAI(model='gemini-1.5-flash', google_api_key=GOOGLE_API_KEY, temperature=0.2)\n",
    "\n",
    "# Splitter object\n",
    "splitter = RecursiveCharacterTextSplitter(\n",
    "    separators=[\"\\n\\n\", \"\\n\", \" \"],\n",
    "    chunk_size=1000,\n",
    "    chunk_overlap=200,\n",
    "    add_start_index=True\n",
    ")\n",
    "\n",
    "# Split data\n",
    "chunks = splitter.split_documents(eval_docs)\n",
    "\n",
    "# Google embedding\n",
    "embedding_1_google = GoogleGenerativeAIEmbeddings(model=\"models/embedding-001\")\n",
    "vs_google = Chroma.from_documents(documents=chunks, embedding=embedding_1_google, collection_name=\"google_embedding-001_2\")\n",
    "retriever_google = vs_google.as_retriever(search_kwargs={\"k\": 5})\n",
    "\n",
    "# HuggingFace BGE embedding\n",
    "embedding_2_hf_bge = HuggingFaceBgeEmbeddings(model_name=\"BAAI/bge-large-en\", model_kwargs={\"device\":\"cpu\"}, encode_kwargs = {'normalize_embeddings': False})\n",
    "vs_hfbge = Chroma.from_documents(documents=chunks, embedding=embedding_2_hf_bge, collection_name=\"hf_bge-large_2\")\n",
    "retriever_hfbge = vs_hfbge.as_retriever(search_kwargs={\"k\": 5})\n",
    "\n",
    "# ST all-mpnet-base embedding\n",
    "embedding_3_st_allmpnetbase = SentenceTransformerEmbeddings(model_name='sentence-transformers/all-mpnet-base-v2')\n",
    "vs_st_allmpnet = Chroma.from_documents(documents=chunks, embedding=embedding_3_st_allmpnetbase, collection_name=\"st_all-mpnet-base_2\")\n",
    "retriever_st_allmpnet = vs_st_allmpnet.as_retriever(search_kwargs={\"k\": 5})\n",
    "\n",
    "# LOTR\n",
    "lotr = MergerRetriever(retrievers=[retriever_google, retriever_hfbge, retriever_st_allmpnet])\n",
    "\n",
    "# OpenAI embeddings for filtering out redundant entries\n",
    "filter_embeddings = OpenAIEmbeddings()\n",
    "filter = EmbeddingsRedundantFilter(embeddings=filter_embeddings)\n",
    "\n",
    "# Pipeling for reordering embeddings\n",
    "reordering = LongContextReorder() \n",
    "pipeline = DocumentCompressorPipeline(transformers=[filter, reordering])\n",
    "\n",
    "# Retriever for reordered entries\n",
    "compression_retriever_reordered = ContextualCompressionRetriever(\n",
    "    base_compressor=pipeline, base_retriever=lotr, search_kwargs={\"k\": 5, \"include_metadata\": True}\n",
    ")\n",
    "\n",
    "# Multi query retreiver with LOTR\n",
    "retriever_from_llm = MultiQueryRetriever.from_llm(retriever=compression_retriever_reordered, llm=llm)\n",
    "\n",
    "# Document formatter for context docs\n",
    "def format_docs(docs):\n",
    "    return \"\\n\\n\".join(doc.page_content for doc in docs)\n",
    "\n",
    "# RAG prompt\n",
    "prompt = hub.pull(\"rlm/rag-prompt\")\n",
    "\n",
    "# RAG chain\n",
    "rag_chain = (\n",
    "    {\"context\": retriever_from_llm | format_docs, \"question\": RunnablePassthrough()}\n",
    "    | prompt\n",
    "    | llm\n",
    "    | StrOutputParser()\n",
    ")"
   ]
  },
  {
   "cell_type": "code",
   "execution_count": 29,
   "id": "006ec8fe-22f9-459b-9ec7-e8e21af7e457",
   "metadata": {
    "scrolled": true
   },
   "outputs": [
    {
     "name": "stdout",
     "output_type": "stream",
     "text": [
      "\u001b[32;1m\u001b[1;3m[chain/start]\u001b[0m \u001b[1m[chain:RunnableSequence] Entering Chain run with input:\n",
      "\u001b[0m{\n",
      "  \"input\": \"What steps were taken regarding NEET results\"\n",
      "}\n",
      "\u001b[32;1m\u001b[1;3m[chain/start]\u001b[0m \u001b[1m[chain:RunnableSequence > chain:RunnableParallel<context,question>] Entering Chain run with input:\n",
      "\u001b[0m{\n",
      "  \"input\": \"What steps were taken regarding NEET results\"\n",
      "}\n",
      "\u001b[32;1m\u001b[1;3m[chain/start]\u001b[0m \u001b[1m[chain:RunnableSequence > chain:RunnableParallel<context,question> > chain:RunnableSequence] Entering Chain run with input:\n",
      "\u001b[0m{\n",
      "  \"input\": \"What steps were taken regarding NEET results\"\n",
      "}\n",
      "\u001b[32;1m\u001b[1;3m[chain/start]\u001b[0m \u001b[1m[chain:RunnableSequence > chain:RunnableParallel<context,question> > chain:RunnablePassthrough] Entering Chain run with input:\n",
      "\u001b[0m{\n",
      "  \"input\": \"What steps were taken regarding NEET results\"\n",
      "}\n",
      "\u001b[36;1m\u001b[1;3m[chain/end]\u001b[0m \u001b[1m[chain:RunnableSequence > chain:RunnableParallel<context,question> > chain:RunnablePassthrough] [0ms] Exiting Chain run with output:\n",
      "\u001b[0m{\n",
      "  \"output\": \"What steps were taken regarding NEET results\"\n",
      "}\n",
      "\u001b[32;1m\u001b[1;3m[chain/start]\u001b[0m \u001b[1m[chain:RunnableSequence > chain:RunnableParallel<context,question> > chain:RunnableSequence > retriever:Retriever > chain:RunnableSequence] Entering Chain run with input:\n",
      "\u001b[0m{\n",
      "  \"question\": \"What steps were taken regarding NEET results\"\n",
      "}\n",
      "\u001b[32;1m\u001b[1;3m[chain/start]\u001b[0m \u001b[1m[chain:RunnableSequence > chain:RunnableParallel<context,question> > chain:RunnableSequence > retriever:Retriever > chain:RunnableSequence > prompt:PromptTemplate] Entering Prompt run with input:\n",
      "\u001b[0m{\n",
      "  \"question\": \"What steps were taken regarding NEET results\"\n",
      "}\n",
      "\u001b[36;1m\u001b[1;3m[chain/end]\u001b[0m \u001b[1m[chain:RunnableSequence > chain:RunnableParallel<context,question> > chain:RunnableSequence > retriever:Retriever > chain:RunnableSequence > prompt:PromptTemplate] [0ms] Exiting Prompt run with output:\n",
      "\u001b[0m[outputs]\n",
      "\u001b[32;1m\u001b[1;3m[llm/start]\u001b[0m \u001b[1m[chain:RunnableSequence > chain:RunnableParallel<context,question> > chain:RunnableSequence > retriever:Retriever > chain:RunnableSequence > llm:ChatGoogleGenerativeAI] Entering LLM run with input:\n",
      "\u001b[0m{\n",
      "  \"prompts\": [\n",
      "    \"Human: You are an AI language model assistant. Your task is \\n    to generate 3 different versions of the given user \\n    question to retrieve relevant documents from a vector  database. \\n    By generating multiple perspectives on the user question, \\n    your goal is to help the user overcome some of the limitations \\n    of distance-based similarity search. Provide these alternative \\n    questions separated by newlines. Original question: What steps were taken regarding NEET results\"\n",
      "  ]\n",
      "}\n",
      "\u001b[36;1m\u001b[1;3m[llm/end]\u001b[0m \u001b[1m[chain:RunnableSequence > chain:RunnableParallel<context,question> > chain:RunnableSequence > retriever:Retriever > chain:RunnableSequence > llm:ChatGoogleGenerativeAI] [2.48s] Exiting LLM run with output:\n",
      "\u001b[0m{\n",
      "  \"generations\": [\n",
      "    [\n",
      "      {\n",
      "        \"text\": \"Here are 3 different versions of the user question \\\"What steps were taken regarding NEET results\\\":\\n\\n1. **Focusing on specific actions:** What actions were taken by the authorities in response to the NEET results?\\n2. **Broadening the scope:** What are the implications of the NEET results and what steps are being taken to address them?\\n3. **Focusing on a specific time period:** What steps were taken regarding NEET results in the year 2023? \\n\",\n",
      "        \"generation_info\": {\n",
      "          \"finish_reason\": \"STOP\",\n",
      "          \"safety_ratings\": [\n",
      "            {\n",
      "              \"category\": \"HARM_CATEGORY_SEXUALLY_EXPLICIT\",\n",
      "              \"probability\": \"NEGLIGIBLE\",\n",
      "              \"blocked\": false\n",
      "            },\n",
      "            {\n",
      "              \"category\": \"HARM_CATEGORY_HATE_SPEECH\",\n",
      "              \"probability\": \"NEGLIGIBLE\",\n",
      "              \"blocked\": false\n",
      "            },\n",
      "            {\n",
      "              \"category\": \"HARM_CATEGORY_HARASSMENT\",\n",
      "              \"probability\": \"NEGLIGIBLE\",\n",
      "              \"blocked\": false\n",
      "            },\n",
      "            {\n",
      "              \"category\": \"HARM_CATEGORY_DANGEROUS_CONTENT\",\n",
      "              \"probability\": \"NEGLIGIBLE\",\n",
      "              \"blocked\": false\n",
      "            }\n",
      "          ]\n",
      "        },\n",
      "        \"type\": \"ChatGeneration\",\n",
      "        \"message\": {\n",
      "          \"lc\": 1,\n",
      "          \"type\": \"constructor\",\n",
      "          \"id\": [\n",
      "            \"langchain\",\n",
      "            \"schema\",\n",
      "            \"messages\",\n",
      "            \"AIMessage\"\n",
      "          ],\n",
      "          \"kwargs\": {\n",
      "            \"content\": \"Here are 3 different versions of the user question \\\"What steps were taken regarding NEET results\\\":\\n\\n1. **Focusing on specific actions:** What actions were taken by the authorities in response to the NEET results?\\n2. **Broadening the scope:** What are the implications of the NEET results and what steps are being taken to address them?\\n3. **Focusing on a specific time period:** What steps were taken regarding NEET results in the year 2023? \\n\",\n",
      "            \"response_metadata\": {\n",
      "              \"prompt_feedback\": {\n",
      "                \"block_reason\": 0,\n",
      "                \"safety_ratings\": []\n",
      "              },\n",
      "              \"finish_reason\": \"STOP\",\n",
      "              \"safety_ratings\": [\n",
      "                {\n",
      "                  \"category\": \"HARM_CATEGORY_SEXUALLY_EXPLICIT\",\n",
      "                  \"probability\": \"NEGLIGIBLE\",\n",
      "                  \"blocked\": false\n",
      "                },\n",
      "                {\n",
      "                  \"category\": \"HARM_CATEGORY_HATE_SPEECH\",\n",
      "                  \"probability\": \"NEGLIGIBLE\",\n",
      "                  \"blocked\": false\n",
      "                },\n",
      "                {\n",
      "                  \"category\": \"HARM_CATEGORY_HARASSMENT\",\n",
      "                  \"probability\": \"NEGLIGIBLE\",\n",
      "                  \"blocked\": false\n",
      "                },\n",
      "                {\n",
      "                  \"category\": \"HARM_CATEGORY_DANGEROUS_CONTENT\",\n",
      "                  \"probability\": \"NEGLIGIBLE\",\n",
      "                  \"blocked\": false\n",
      "                }\n",
      "              ]\n",
      "            },\n",
      "            \"type\": \"ai\",\n",
      "            \"id\": \"run-2df26def-cd51-4717-9444-63f6aa81bcd7-0\",\n",
      "            \"usage_metadata\": {\n",
      "              \"input_tokens\": 98,\n",
      "              \"output_tokens\": 96,\n",
      "              \"total_tokens\": 194\n",
      "            },\n",
      "            \"tool_calls\": [],\n",
      "            \"invalid_tool_calls\": []\n",
      "          }\n",
      "        }\n",
      "      }\n",
      "    ]\n",
      "  ],\n",
      "  \"llm_output\": {\n",
      "    \"prompt_feedback\": {\n",
      "      \"block_reason\": 0,\n",
      "      \"safety_ratings\": []\n",
      "    }\n",
      "  },\n",
      "  \"run\": null\n",
      "}\n",
      "\u001b[32;1m\u001b[1;3m[chain/start]\u001b[0m \u001b[1m[chain:RunnableSequence > chain:RunnableParallel<context,question> > chain:RunnableSequence > retriever:Retriever > chain:RunnableSequence > parser:LineListOutputParser] Entering Parser run with input:\n",
      "\u001b[0m[inputs]\n",
      "\u001b[36;1m\u001b[1;3m[chain/end]\u001b[0m \u001b[1m[chain:RunnableSequence > chain:RunnableParallel<context,question> > chain:RunnableSequence > retriever:Retriever > chain:RunnableSequence > parser:LineListOutputParser] [0ms] Exiting Parser run with output:\n",
      "\u001b[0m{\n",
      "  \"output\": [\n",
      "    \"Here are 3 different versions of the user question \\\"What steps were taken regarding NEET results\\\":\",\n",
      "    \"\",\n",
      "    \"1. **Focusing on specific actions:** What actions were taken by the authorities in response to the NEET results?\",\n",
      "    \"2. **Broadening the scope:** What are the implications of the NEET results and what steps are being taken to address them?\",\n",
      "    \"3. **Focusing on a specific time period:** What steps were taken regarding NEET results in the year 2023?\"\n",
      "  ]\n",
      "}\n",
      "\u001b[36;1m\u001b[1;3m[chain/end]\u001b[0m \u001b[1m[chain:RunnableSequence > chain:RunnableParallel<context,question> > chain:RunnableSequence > retriever:Retriever > chain:RunnableSequence] [2.49s] Exiting Chain run with output:\n",
      "\u001b[0m{\n",
      "  \"output\": [\n",
      "    \"Here are 3 different versions of the user question \\\"What steps were taken regarding NEET results\\\":\",\n",
      "    \"\",\n",
      "    \"1. **Focusing on specific actions:** What actions were taken by the authorities in response to the NEET results?\",\n",
      "    \"2. **Broadening the scope:** What are the implications of the NEET results and what steps are being taken to address them?\",\n",
      "    \"3. **Focusing on a specific time period:** What steps were taken regarding NEET results in the year 2023?\"\n",
      "  ]\n",
      "}\n",
      "\u001b[32;1m\u001b[1;3m[chain/start]\u001b[0m \u001b[1m[chain:RunnableSequence > chain:RunnableParallel<context,question> > chain:RunnableSequence > chain:format_docs] Entering Chain run with input:\n",
      "\u001b[0m[inputs]\n",
      "\u001b[36;1m\u001b[1;3m[chain/end]\u001b[0m \u001b[1m[chain:RunnableSequence > chain:RunnableParallel<context,question> > chain:RunnableSequence > chain:format_docs] [0ms] Exiting Chain run with output:\n",
      "\u001b[0m{\n",
      "  \"output\": \"Read |\\n\\nHow 44 are NEET UG toppers because of a wrong answer — and wrong textbook\\n\\nA former UPSC chairman and three other academicians have been selected for this panel, which has started investigation and is expected to announce its verdict before next Saturday.\\n\\nThe verdict will not affect other results, the NTA said. “We are aware that the counselling process (for MBBS courses) is about to begin, but this will not affect the admission process. This special committee will give their verdict before next Saturday and accordingly the next step will be taken, but we are trying our best to ensure there is no hiccup in the admission process,” Singh told The Indian Express.\\n\\nThe NEET UG cut-off this year for the UR/ EWS category candidates has gone up from 720-137 last year to 720-164 this year. For the scheduled caste, scheduled tribe and other backward class candidates, the NEET UG 2024 cut-off has increased to 163-129 from 136-107 last year. Similarly, the NEET UG 2024 cut off for SC, ST and OBC-PH candidates, the cut off has increased from 120-107 last year to 145-129 this year. As many as 11,65,904 students in the UR/ EWS category have been placed in the 50th percentile category.\\n\\nApart from the uproar on social media, the discrepancies in the results have also been picked up by political parties. “The Modi government is directly responsible for this. For the candidates appearing in recruitment exams, then facing several irregularities, getting caught in the labyrinth of paper leaks, is playing with their futures. The BJP has cheated the youth of the country,” Congress chief Mallikarjun Kharge said in a post in Hindi on X on Friday.\\n\\nAdvertisement\\n\\nEnglish\\n\\nதமிழ்\\n\\nবাংলা\\n\\nമലയാളം\\n\\nગુજરાતી\\n\\nहिंदी\\n\\nमराठी\\n\\nBusiness\\n\\nबिज़नेस\\n\\nNewsletters\\n\\n\\n\\n\\n\\n\\n\\n\\n\\nIndia\\n\\nInternational\\n\\nMonday, Jun 10, 2024\\n\\nePaper\\n\\nToday’s Paper\\n\\nJournalism of Courage\\n\\nHome\\n\\nePaper\\n\\nCities\\n\\nIndia\\n\\nExplained\\n\\nOpinion\\n\\nBusiness\\n\\nEntertainment\\n\\nSports\\n\\nPolitics\\n\\nUPSC\\n\\nLifestyle\\n\\nTech\\n\\nEducation\\n\\nResearch\\n\\nVideos\\n\\nSubscribe\\n\\nSign In\\n\\nTrending\\n\\nUPSC Pack\\n\\nT20 World Cup\\n\\nExpress Shorts\\n\\nMini Crossword\\n\\nPremium Stories\\n\\n🎙️ Podcast\\n\\nHealth & Wellness\\n\\nAdvertisement\\n\\nNews\\n\\nEducation\\n\\nNEET UG: Govt, NTA form panel to review results of 1,500 students\\n\\nNEET UG: Govt, NTA form panel to review results of 1,500 students\\n\\nNEET UG 2024 Result: Will ensure this does not affect MBBS admission process, says NTA chief\\n\\n\\n\\t\\t\\t\\t\\t\\t\\t\\t\\t\\t\\t\\t\\t\\t\\t Written by \\t\\t\\t\\t\\t\\n\\nDeeksha Teri\\n\\t\\t\\t\\t\\t\\t\\n\\t\\n\\n\\t\\tNew Delhi |\\n\\nUpdated: June 9, 2024  10:27 IST\\n\\nFollow Us\\n\\nAnnounced on June 4, the results drew immediate attention for the extraordinarily large number of candidates who got the perfect score of 720/720 and for the fact that some candidates got 718 or 719 — marks that others claimed were impossible to get in the scheme of the exam. There have also been allegations of a paper leak, which the NTA has denied.\\n\\nAdvertisement\\n\\nOn Saturday, NTA Director General Subodh Kumar Singh denied irregularities in the results. He attributed the unusually high number of top rankers (67) to a relatively easier paper this year and the agency’s decision to award additional marks to students whose exams did not start on time. Singh, however, also told reporters that a committee will look into the results of the 1,500 candidates who were awarded grace marks.\\n\\nRead |\\n\\nHow 44 are NEET UG toppers because of a wrong answer — and wrong textbook\\n\\nAdvertisement\\n\\nNTA declared the NEET UG 2024 result on June 4 — 10 days before the scheduled date — and a record 67 students achieved the NEET all-India rank (AIR) 1. Of these 67, 17 candidates got the rank out of merit, 44 students got the rank due to a wrong answer in the Physics section and six students got the rank due to grace marks given because of loss of exam time.\\n\\nNEET UG is the qualifying entrance exam for admission to Bachelor of Medicine and Bachelor of Surgery (MBBS), Bachelor of Dental Surgery (BDS), Bachelor of Ayurveda, Medicine and Surgery (BAMS), Bachelor of Siddha Medicine and Surgery (BSMS), Bachelor of Unani Medicine and Surgery (BUMS), and Bachelor of Homoeopathic Medicine and Surgery (BHMS) and BSc (H) Nursing courses.\\n\\nAnother PIL, filed before the division bench of the Calcutta High Court, challenged the award of 718 or 719 marks to some candidates in NEET UG 2024. While hearing this matter on June 6, the High Court directed the NTA to file an affidavit within 10 days, disclosing how the reservation policy of the state as well as the central government has been followed in preparing the merit list. The matter has been listed for the next hearing after two weeks before a regular bench.\\n\\nAdditionally, a writ petition has been filed by another NEET UG candidate before the Supreme Court. The court, while hearing the matter on May 17, issued notice to the respondents and listed the matter for the next hearing on July 8.\\n\\nAdvertisement\\n\\nAdvertisement\\n\\n“We demand that a high-level investigation should be conducted under the supervision of the Supreme Court so that our talented students appearing in NEET and other exams get justice,” he had said.\\n\\nTamil Nadu Chief Minister M K Stalin said the trends from the latest NEET results have once again vindicated the DMK on its stand opposing the exam, reiterating that the entrance test goes against social justice and federalism.\\n\\n© IE Online Media Services Pvt Ltd\\n\\nDeeksha Teri\\n\\nDeeksha Teri covers education and has worked with the The Hindu (print division), WION and Stonebow Media. She is an alumnus of The University of Lincoln and The University of Delhi.                        ... Read More\\n\\nFirst uploaded on: \\n\\n08-06-2024 at 15:37 IST\\n\\nTags:\\n\\nMinistry of Education\\n\\nNEET\\n\\nNEET UG\\n\\nNEET UG 2024\\n\\nNTA\\n\\nLatest Comment\\n\\nPost Comment\\n\\nRead Comments\\n\\nAdvertisement\\n\\nT20 World Cup: India rises from dead, defeat Pakistan by 6 runs in low scoring thriller\\n\\nSports\\n\\nAs of now, a total of 1,563 students (six of whom got a spot in the top ranks) were given grace marks based on a normalisation formula, which the NTA has not shared. These candidates were from six centres — two in Chhattisgarh (one each in Balod and Dantewada), one each in Meghalaya, Surat, Haryana’s Bahadurgarh, and Chandigarh.\\n\\nAdvertisement\\n\\nMeanwhile, students have filed petitions in a number of high courts.\\n\\nOne of these writ petitions, filed by a NEET UG candidate in the Delhi High Court, was listed for hearing on June 12 after the issuance of notice by a vacation bench on June 7. This petitioner has challenged the final answer key of question number 29 in Physics as well as the compensatory time given to the candidates at a few centres.\\n\\nWritten by \\t\\t\\t\\t\\t\\n\\nDeeksha Teri\\n\\t\\t\\t\\t\\t\\t\\n\\t\\n\\n\\t\\tNew Delhi |\\n\\nUpdated: June 9, 2024  10:27 IST\\n\\nFollow Us\\n\\n\\n\\n\\n\\n\\n\\n\\n\\nNEET UG 2024 Result: The committee has started the investigation, and is expected to announce their verdict before next Saturday. (Express photo by Deeksha Teri)\\n\\nNEET UG 2024 Result: The National Testing Agency (NTA) and the Union Education Ministry Saturday announced the formation of a four-member committee to review the results of over 1,500 candidates who were awarded “grace marks” to compensate for the “loss of time” suffered while appearing for this year’s National Eligibility-cum-Entrance Test (Undergraduate).\\n\\nThe announcement came amid an uproar over the NEET-UG results this year, with states like Maharashtra demanding a retest and the Aam Aadmi Party (AAP) demanding a Supreme Court-monitored probe into alleged discrepancies highlighted by students on social media.\\n\\nNEET\\n\\nNEET UG\\n\\nNEET UG 2024\\n\\nNTA\\n\\nLatest Comment\\n\\nPost Comment\\n\\nRead Comments\\n\\nAdvertisement\\n\\nT20 World Cup: India rises from dead, defeat Pakistan by 6 runs in low scoring thriller\\n\\nSports\\n\\nUpdated: June 10, 2024  09:04 IST\\n\\nIndian bowlers, led by Jasprit Bumrah, successfully defended a low score of 120 against Pakistan at the Nassau County International Cricket Stadium. Bumrah took 3 wickets while Hardik Pandya and Axar Patel contributed 2 and 1 respectively. Pakistan suffered a collapse in their run chase, losing 5 wickets before crossing 100. Earlier, India scored their lowest ever total against Pakistan.\\n\\nView all shorts\\n\\nLive Blog\\n\\nDelhi News Live Updates: Amid water crisis, L-G Saxena, Atishi to meet over inadequate supply from Haryana25 mins ago\\n\\nMumbai News Live Updates: IMD predicts heavy rainfall for next 2 days; Two killed in Vikhroli West building collapse49 mins ago\\n\\nTechnology\\n\\nWhat to expect from Apple’s AI-centered WWDC 2024, and what not to\\n\\nLifestyle\\n\\nWhat happens to the body if you have potatoes daily?\\n\\nAdvertisement\\n\\nBuzzing Now\\n\\nTrending\\n\\nInd vs Pak: Delhi Police celebrate India’s win with a quirky message for NYPD, post goes viral\\n\\nTrending\\n\\nWatch: Researcher feeds his blood to mosquitoes, netizens say 'malaria is afraid of him'\\n\\nTrending\\n\\nPune rain: Scary video of woman stuck inside car amid flood-like situation goes viral\\n\\nTrending\\n\\nWatch: Chain snatcher targets woman at Haryana restaurant in broad daylight, video goes viral\\n\\nTrending\\n\\nJEE Advanced topper Ved Lahoti opens up about his inspiring journey: ‘Never slept without completing my day goal’\\n\\nJun 10: Latest News\\n\\n01Biden administration ready for court challenges to border policy: Homeland Secretary Mayorkas\\n\\n02Ukraine says it struck a top fighter plane deep inside Russia\\n\\n03IND vs PAK: Lowest totals defended in T20 World Cup, India equal record over Pakistan in New York\\n\\nMyInsuranceClub\\n\\nNewsletters\\n\\n26/11 Stories of Strength\\n\\nRamnath Goenka Excellence in Journalism Awards\\n\\nOnline Classes for Kids\\n\\nLight House Journalism\\n\\nCompare Term Insurance\\n\\nQuick Links\\n\\nT&C\\n\\nPrivacy Policy\\n\\nAdvertise with Us\\n\\nBrand Solutions\\n\\nContact Us\\n\\nSubscribe\\n\\nStatutory provisions on reporting (sexual offenses)\\n\\nThis website follows the DNPA’s code of conduct\\n\\nCSR\\n\\nCopyright © 2024 The Indian Express [P] Ltd. All Rights Reserved\\n\\nEnglish\\n\\nதமிழ்\\n\\nবাংলা\\n\\nമലയാളം\\n\\nગુજરાતી\\n\\nहिंदी\\n\\nमराठी\\n\\nBusiness\\n\\nबिज़नेस\\n\\nNewsletters\\n\\n\\n\\n\\n\\n\\n\\n\\n\\nIndia\\n\\nInternational\\n\\nMonday, Jun 10, 2024\\n\\nePaper\\n\\nToday’s Paper\\n\\nJournalism of Courage\\n\\nHome\\n\\nePaper\\n\\nCities\\n\\nIndia\\n\\nExplained\\n\\nOpinion\\n\\nBusiness\\n\\nEntertainment\\n\\nSports\\n\\nPolitics\\n\\nUPSC\\n\\nLifestyle\\n\\nTech\\n\\nEducation\\n\\nResearch\\n\\nVideos\\n\\nSubscribe\\n\\nSign In\\n\\nTrending\\n\\nUPSC Pack\\n\\nT20 World Cup\\n\\nExpress Shorts\\n\\nMini Crossword\\n\\nPremium Stories\\n\\n🎙️ Podcast\\n\\nHealth & Wellness\\n\\nAdvertisement\\n\\nNews\\n\\nBusiness\\n\\nEconomy\\n\\nConsumption expenditure survey 2022-23: Households spent most on processed food; Haryana, Rajasthan saw highest spends on milk, Kerala on meats\\n\\nConsumption expenditure survey 2022-23: Households spent most on processed food; Haryana, Rajasthan saw highest spends on milk, Kerala on meats\\n\\nTrending\\n\\nJEE Advanced topper Ved Lahoti opens up about his inspiring journey: ‘Never slept without completing my day goal’\\n\\nTrending\\n\\nCamel gets stuck inside a car after vehicle crash in Rajasthan, video goes viral\\n\\nJun 09: Latest News\\n\\n01Iran blames Israeli attack on Gaza on ‘inaction’ by world states, UNSC\\n\\n02Key takeaways from BBC debate on UK polls: Sunak criticised, future leaders clash and smaller parties shine\\n\\n03Defacement of celebrated poet Himadri Nandan Deb’s statue sparks outrage in Tripura\\n\\n04Polls suggest Labour’s Keir Starmer to trump Rishi Sunak, ‘Farage effect’ on UK election\\n\\n05Norwegian wealth fund to vote against Elon Musk’s Tesla pay package\\n\\nAdvertisement\\n\\nSubscribe\\n\\nSign In\\n\\ne-paperPremiumIndiaElections 2024Bollywood\\n\\nOpinionPolitical PulseExplainedScienceCricket\\n\\nSportsWorldBusinessEntertainmentJobs\\n\\nHealthLifestyleTechnologyEducationMovie Review\\n\\nEyeTrendingCitiesNewslettersWebSeries\\n\\nPhotosVideosAudioWeb Stories\\n\\nTrending\\n\\nUPSC Pack\\n\\nT20 World Cup\\n\\nSports\\n\\nIndia win Boom-boom: Rohit's sweet swat-six, Rishabh's adventures continue and two catches go down before Pant pouches two\\n\\nTechnology\\n\\nFrom productivity to photography, best foldable smartphones to consider in 2024\\n\\nTechnology\\n\\nWhat to expect from Apple’s AI-centered WWDC 2024, and what not to\\n\\nTech news of the week: AI frenzy at Computex 2024, WhatsApp Business, and Apple\\n\\nLifestyle\\n\\nFrom 'Jodhpuri sabzi' to mango cream, JP Nadda to host dinner after PM Modi's swearing-in ceremony (see menu inside)\\n\\nAdvertisement\\n\\nBuzzing Now\\n\\nTrending\\n\\nWatch: Researcher feeds his blood to mosquitoes, netizens say 'malaria is afraid of him'\\n\\nTrending\\n\\nPune rain: Scary video of woman stuck inside car amid flood-like situation goes viral\\n\\nTrending\\n\\nWatch: Chain snatcher targets woman at Haryana restaurant in broad daylight, video goes viral\\n\\nTrending\\n\\nJEE Advanced topper Ved Lahoti opens up about his inspiring journey: ‘Never slept without completing my day goal’\\n\\nTrending\\n\\nEyeTrendingCitiesNewslettersWebSeries\\n\\nPhotosVideosAudioWeb Stories\\n\\nTrending\\n\\nUPSC Pack\\n\\nT20 World Cup\\n\\nExpress Shorts\\n\\nMini Crossword\\n\\nPremium Stories\\n\\n🎙️ Podcast\\n\\nHealth & Wellness\\n\\nclose\\n\\nIndia\\n\\nInternational\\n\\nSubscribe\\n\\nSign In\\n\\ne-paper\\n\\nPremium\\n\\nIndia\\n\\nElections 2024\\n\\nBollywood\\n\\nOpinion\\n\\nPolitical Pulse\\n\\nExplained\\n\\nScience\\n\\nCricket\\n\\nSports\\n\\nWorld\\n\\nBusiness\\n\\nEntertainment\\n\\nJobs\\n\\nHealth\\n\\nLifestyle\\n\\nTechnology\\n\\nEducation\\n\\nMovie Review\\n\\nEye\\n\\nTrending\\n\\nCities\\n\\nNewsletters\\n\\nWebSeries\\n\\nPhotos\\n\\nVideos\\n\\nAudio\\n\\nWeb Stories\\n\\nTop Categories\\n\\nExplained News\\n\\nPolitical Pulse\\n\\nLatest Opinion\\n\\nMumbai News\\n\\nDelhi News\\n\\nPune News\\n\\nBangalore News\\n\\nBollywood News\\n\\nHealth News\\n\\nIndia News\\n\\nSports News\\n\\nLifestyle News\\n\\nLatest News\\n\\nCricket\\n\\nTech Reviews\\n\\nGadgets\\n\\nMobile & Tabs\\n\\nFood & Wine\\n\\nElections 2024\\n\\nFitness\\n\\nTrending News\\n\\nLatest News\\n\\nHealth and Wellness\\n\\nEducation News\\n\\nBuy All-Access Plan\\n\\nEntertainment News\\n\\nTrending News\\n\\nPolitical News\\n\\nBusiness News\\n\\nWhy Subscribe Indian Express\\n\\nFitness\\n\\nTrending News\\n\\nLatest News\\n\\nHealth and Wellness\\n\\nEducation News\\n\\nBuy All-Access Plan\\n\\nEntertainment News\\n\\nTrending News\\n\\nPolitical News\\n\\nBusiness News\\n\\nWhy Subscribe Indian Express\\n\\nBuy Digital Premium\\n\\nSubscribe To The Indian Express\\n\\nIndian Express subscription UPSC offer\\n\\nElection Results 2024\\n\\nLok Sabha Election Results\\n\\nLok Sabha Results\\n\\nElection Results 2024 Live Updates\\n\\nLATEST STORIES\\n\\nCancer Horoscope Today, 10-June-2024: Discover what stars say about your career, finance and love\\n\\nGemini Horoscope Today, 10-June-2024: Discover what stars say about your career, finance and love\\n\\nAries Horoscope Today, 10-June-2024: Discover what stars say about your career, finance and love\\n\\nAquarius Horoscope Today, 10-June-2024: Discover what stars say about your career, finance and love\\n\\nTaurus Horoscope Today, 10-June-2024: Discover what stars say about your career, finance and love\\n\\nCapricorn Horoscope Today, 10-June-2024: Discover what stars say about your career, finance and love\\n\\nCompressor machine explosion led to fire that killed 3 at Narela factory: FIR\\n\\nHungary’s Orban sees weakest support in decades in EU vote, opposition Tisza surges\\n\\n1,000 buses may go off city roads in 10 days if contracts not extended\\n\\nNoida morgue scrambles for funds, officials pin hope on CSR help: ‘Have no choice’\\n\\nFollow Us\\n\\n\\n\\n\\n\\n\\n\\n\\n\\nDownload Apps\\n\\n\\n\\n\\n\\n\\n\\n\\n\\nThe Indian Express website has been rated GREEN for its credibility and trustworthiness by Newsguard, a global service that rates news sources for their journalistic standards.\\n\\nExpress Group\\n\\nThe Indian Express\\n\\nieTamil.com\\n\\nThe Financial Express\\n\\nieBangla.com\\n\\nLoksatta\\n\\nieMalayalam.com\\n\\nJansatta\\n\\nieGujarati.com\\n\\ninUth\\n\\nThe ExpressGroup\\n\\nMyInsuranceClub\\n\\nNewsletters\\n\\n26/11 Stories of Strength\\n\\nRamnath Goenka Excellence in Journalism Awards\\n\\nOnline Classes for Kids\\n\\nLight House Journalism\\n\\nCompare Term Insurance\\n\\nQuick Links\\n\\nSports\\n\\nIND vs PAK, T20 World Cup: Bumrah's dismissal of Rizwan turns the tide as India script epic New York comeback\\n\\nSports\\n\\nIND vs PAK, T20 World Cup: India 119 all out, record lowest T20I score against Pakistan\\n\\nOpinion\\n\\n'All the world’s a stage …'\\n\\nExplained\\n\\nWhat happens at a swearing-in ceremony and what oaths have to be taken?\\n\\nLifestyle\\n\\nFrom 'Jodhpuri sabzi' to mango cream, JP Nadda to host dinner after PM Modi's swearing-in ceremony (see menu inside)\\n\\nTechnology\\n\\nFrom productivity to photography, best foldable smartphones to consider in 2024\\n\\nAdvertisement\\n\\nMust Read\\n\\nSports\\n\\nIND vs PAK, T20 World Cup: Bumrah's dismissal of Rizwan turns the tide as India script epic New York comeback\\n\\nSports\\n\\nIND vs PAK, T20 World Cup: India 119 all out, record lowest T20I score against Pakistan\\n\\nSports\\n\\nIndia win Boom-boom: Rohit's sweet swat-six, Rishabh's adventures continue and two catches go down before Pant pouches two\\n\\nTechnology\\n\\n02Ukraine says it struck a top fighter plane deep inside Russia\\n\\n03IND vs PAK: Lowest totals defended in T20 World Cup, India equal record over Pakistan in New York\\n\\n04Only 2 from Bengal – Thakur retained, Sukanta makes debut\\n\\n05Protest against Gaza war draws thousands to the White House\\n\\nAdvertisement\\n\\nSubscribe\\n\\nSign In\\n\\ne-paperPremiumIndiaElections 2024Bollywood\\n\\nOpinionPolitical PulseExplainedScienceCricket\\n\\nSportsWorldBusinessEntertainmentJobs\\n\\nHealthLifestyleTechnologyEducationMovie Review\\n\\nEyeTrendingCitiesNewslettersWebSeries\\n\\nPhotosVideosAudioWeb Stories\\n\\nTrending\\n\\nUPSC Pack\\n\\nT20 World Cup\\n\\nExpress Shorts\\n\\nMini Crossword\\n\\nPremium Stories\\n\\n🎙️ Podcast\\n\\nHealth & Wellness\\n\\nclose\\n\\nIndia\\n\\nInternational\\n\\nSubscribe\\n\\nSign In\\n\\ne-paper\\n\\nPremium\\n\\nIndia\\n\\nElections 2024\\n\\nBollywood\\n\\nOpinion\\n\\nPolitical Pulse\\n\\nExplained\\n\\nScience\\n\\nCricket\\n\\nSports\\n\\nWorld\\n\\nBusiness\\n\\nEntertainment\\n\\nJobs\\n\\nHealth\\n\\nLifestyle\\n\\nTechnology\\n\\nEducation\\n\\nMovie Review\\n\\nEye\\n\\nTrending\\n\\nCities\\n\\nNewsletters\\n\\nWebSeries\\n\\nPhotos\\n\\n‘I didn’t want’ Cabinet berth: first-time Union Minister of State Suresh Gopi\\n\\nWWDC 2024: How to watch and what to expect from ‘Apple Intelligence’ unveil event\\n\\nJoSAA 2024 registration starts today at jossa.nic.in\\n\\nBollywood songs, food trails and breaking barriers: How a British-Indian coach Trishan Patel is fuelling Pakistan’s football dream\\n\\nUnderstanding the Keto flu — from symptoms to causes\\n\\nCourse correction: Haryana CM to hand over 100-sq yard plots to 7,500 beneficiaries today\\n\\nPolice arrest 1 in Tripura ADC recruitment exam answer key leak case\\n\\nInd vs Pak: Delhi Police celebrate India’s win with a quirky message for NYPD, post goes viral\\n\\nMunjya box office collection day 3: Mona Singh and Sharvari’s horror comedy surpasses Mr and Mrs Mahi and Maidaan, mints Rs 19 cr\\n\\nFollow Us\\n\\n\\n\\n\\n\\n\\n\\n\\n\\nDownload Apps\\n\\nRead |\\n\\nHow 44 are NEET UG toppers because of a wrong answer — and wrong textbook\\n\\nA former UPSC chairman and three other academicians have been selected for this panel, which has started investigation and is expected to announce its verdict before next Saturday.\\n\\nThe verdict will not affect other results, the NTA said. “We are aware that the counselling process (for MBBS courses) is about to begin, but this will not affect the admission process. This special committee will give their verdict before next Saturday and accordingly the next step will be taken, but we are trying our best to ensure there is no hiccup in the admission process,” Singh told The Indian Express.\\n\\nAs of now, a total of 1,563 students (six of whom got a spot in the top ranks) were given grace marks based on a normalisation formula, which the NTA has not shared. These candidates were from six centres — two in Chhattisgarh (one each in Balod and Dantewada), one each in Meghalaya, Surat, Haryana’s Bahadurgarh, and Chandigarh.\\n\\nAdvertisement\\n\\nMeanwhile, students have filed petitions in a number of high courts.\\n\\nOne of these writ petitions, filed by a NEET UG candidate in the Delhi High Court, was listed for hearing on June 12 after the issuance of notice by a vacation bench on June 7. This petitioner has challenged the final answer key of question number 29 in Physics as well as the compensatory time given to the candidates at a few centres.\\n\\nAdvertisement\\n\\nNTA declared the NEET UG 2024 result on June 4 — 10 days before the scheduled date — and a record 67 students achieved the NEET all-India rank (AIR) 1. Of these 67, 17 candidates got the rank out of merit, 44 students got the rank due to a wrong answer in the Physics section and six students got the rank due to grace marks given because of loss of exam time.\\n\\nNEET UG is the qualifying entrance exam for admission to Bachelor of Medicine and Bachelor of Surgery (MBBS), Bachelor of Dental Surgery (BDS), Bachelor of Ayurveda, Medicine and Surgery (BAMS), Bachelor of Siddha Medicine and Surgery (BSMS), Bachelor of Unani Medicine and Surgery (BUMS), and Bachelor of Homoeopathic Medicine and Surgery (BHMS) and BSc (H) Nursing courses.\\n\\nThe NEET UG cut-off this year for the UR/ EWS category candidates has gone up from 720-137 last year to 720-164 this year. For the scheduled caste, scheduled tribe and other backward class candidates, the NEET UG 2024 cut-off has increased to 163-129 from 136-107 last year. Similarly, the NEET UG 2024 cut off for SC, ST and OBC-PH candidates, the cut off has increased from 120-107 last year to 145-129 this year. As many as 11,65,904 students in the UR/ EWS category have been placed in the 50th percentile category.\\n\\nApart from the uproar on social media, the discrepancies in the results have also been picked up by political parties. “The Modi government is directly responsible for this. For the candidates appearing in recruitment exams, then facing several irregularities, getting caught in the labyrinth of paper leaks, is playing with their futures. The BJP has cheated the youth of the country,” Congress chief Mallikarjun Kharge said in a post in Hindi on X on Friday.\\n\\nAdvertisement\\n\\nAnnounced on June 4, the results drew immediate attention for the extraordinarily large number of candidates who got the perfect score of 720/720 and for the fact that some candidates got 718 or 719 — marks that others claimed were impossible to get in the scheme of the exam. There have also been allegations of a paper leak, which the NTA has denied.\\n\\nAdvertisement\\n\\nOn Saturday, NTA Director General Subodh Kumar Singh denied irregularities in the results. He attributed the unusually high number of top rankers (67) to a relatively easier paper this year and the agency’s decision to award additional marks to students whose exams did not start on time. Singh, however, also told reporters that a committee will look into the results of the 1,500 candidates who were awarded grace marks.\\n\\nRead |\\n\\nHow 44 are NEET UG toppers because of a wrong answer — and wrong textbook\"\n",
      "}\n",
      "\u001b[36;1m\u001b[1;3m[chain/end]\u001b[0m \u001b[1m[chain:RunnableSequence > chain:RunnableParallel<context,question> > chain:RunnableSequence] [12.11s] Exiting Chain run with output:\n",
      "\u001b[0m{\n",
      "  \"output\": \"Read |\\n\\nHow 44 are NEET UG toppers because of a wrong answer — and wrong textbook\\n\\nA former UPSC chairman and three other academicians have been selected for this panel, which has started investigation and is expected to announce its verdict before next Saturday.\\n\\nThe verdict will not affect other results, the NTA said. “We are aware that the counselling process (for MBBS courses) is about to begin, but this will not affect the admission process. This special committee will give their verdict before next Saturday and accordingly the next step will be taken, but we are trying our best to ensure there is no hiccup in the admission process,” Singh told The Indian Express.\\n\\nThe NEET UG cut-off this year for the UR/ EWS category candidates has gone up from 720-137 last year to 720-164 this year. For the scheduled caste, scheduled tribe and other backward class candidates, the NEET UG 2024 cut-off has increased to 163-129 from 136-107 last year. Similarly, the NEET UG 2024 cut off for SC, ST and OBC-PH candidates, the cut off has increased from 120-107 last year to 145-129 this year. As many as 11,65,904 students in the UR/ EWS category have been placed in the 50th percentile category.\\n\\nApart from the uproar on social media, the discrepancies in the results have also been picked up by political parties. “The Modi government is directly responsible for this. For the candidates appearing in recruitment exams, then facing several irregularities, getting caught in the labyrinth of paper leaks, is playing with their futures. The BJP has cheated the youth of the country,” Congress chief Mallikarjun Kharge said in a post in Hindi on X on Friday.\\n\\nAdvertisement\\n\\nEnglish\\n\\nதமிழ்\\n\\nবাংলা\\n\\nമലയാളം\\n\\nગુજરાતી\\n\\nहिंदी\\n\\nमराठी\\n\\nBusiness\\n\\nबिज़नेस\\n\\nNewsletters\\n\\n\\n\\n\\n\\n\\n\\n\\n\\nIndia\\n\\nInternational\\n\\nMonday, Jun 10, 2024\\n\\nePaper\\n\\nToday’s Paper\\n\\nJournalism of Courage\\n\\nHome\\n\\nePaper\\n\\nCities\\n\\nIndia\\n\\nExplained\\n\\nOpinion\\n\\nBusiness\\n\\nEntertainment\\n\\nSports\\n\\nPolitics\\n\\nUPSC\\n\\nLifestyle\\n\\nTech\\n\\nEducation\\n\\nResearch\\n\\nVideos\\n\\nSubscribe\\n\\nSign In\\n\\nTrending\\n\\nUPSC Pack\\n\\nT20 World Cup\\n\\nExpress Shorts\\n\\nMini Crossword\\n\\nPremium Stories\\n\\n🎙️ Podcast\\n\\nHealth & Wellness\\n\\nAdvertisement\\n\\nNews\\n\\nEducation\\n\\nNEET UG: Govt, NTA form panel to review results of 1,500 students\\n\\nNEET UG: Govt, NTA form panel to review results of 1,500 students\\n\\nNEET UG 2024 Result: Will ensure this does not affect MBBS admission process, says NTA chief\\n\\n\\n\\t\\t\\t\\t\\t\\t\\t\\t\\t\\t\\t\\t\\t\\t\\t Written by \\t\\t\\t\\t\\t\\n\\nDeeksha Teri\\n\\t\\t\\t\\t\\t\\t\\n\\t\\n\\n\\t\\tNew Delhi |\\n\\nUpdated: June 9, 2024  10:27 IST\\n\\nFollow Us\\n\\nAnnounced on June 4, the results drew immediate attention for the extraordinarily large number of candidates who got the perfect score of 720/720 and for the fact that some candidates got 718 or 719 — marks that others claimed were impossible to get in the scheme of the exam. There have also been allegations of a paper leak, which the NTA has denied.\\n\\nAdvertisement\\n\\nOn Saturday, NTA Director General Subodh Kumar Singh denied irregularities in the results. He attributed the unusually high number of top rankers (67) to a relatively easier paper this year and the agency’s decision to award additional marks to students whose exams did not start on time. Singh, however, also told reporters that a committee will look into the results of the 1,500 candidates who were awarded grace marks.\\n\\nRead |\\n\\nHow 44 are NEET UG toppers because of a wrong answer — and wrong textbook\\n\\nAdvertisement\\n\\nNTA declared the NEET UG 2024 result on June 4 — 10 days before the scheduled date — and a record 67 students achieved the NEET all-India rank (AIR) 1. Of these 67, 17 candidates got the rank out of merit, 44 students got the rank due to a wrong answer in the Physics section and six students got the rank due to grace marks given because of loss of exam time.\\n\\nNEET UG is the qualifying entrance exam for admission to Bachelor of Medicine and Bachelor of Surgery (MBBS), Bachelor of Dental Surgery (BDS), Bachelor of Ayurveda, Medicine and Surgery (BAMS), Bachelor of Siddha Medicine and Surgery (BSMS), Bachelor of Unani Medicine and Surgery (BUMS), and Bachelor of Homoeopathic Medicine and Surgery (BHMS) and BSc (H) Nursing courses.\\n\\nAnother PIL, filed before the division bench of the Calcutta High Court, challenged the award of 718 or 719 marks to some candidates in NEET UG 2024. While hearing this matter on June 6, the High Court directed the NTA to file an affidavit within 10 days, disclosing how the reservation policy of the state as well as the central government has been followed in preparing the merit list. The matter has been listed for the next hearing after two weeks before a regular bench.\\n\\nAdditionally, a writ petition has been filed by another NEET UG candidate before the Supreme Court. The court, while hearing the matter on May 17, issued notice to the respondents and listed the matter for the next hearing on July 8.\\n\\nAdvertisement\\n\\nAdvertisement\\n\\n“We demand that a high-level investigation should be conducted under the supervision of the Supreme Court so that our talented students appearing in NEET and other exams get justice,” he had said.\\n\\nTamil Nadu Chief Minister M K Stalin said the trends from the latest NEET results have once again vindicated the DMK on its stand opposing the exam, reiterating that the entrance test goes against social justice and federalism.\\n\\n© IE Online Media Services Pvt Ltd\\n\\nDeeksha Teri\\n\\nDeeksha Teri covers education and has worked with the The Hindu (print division), WION and Stonebow Media. She is an alumnus of The University of Lincoln and The University of Delhi.                        ... Read More\\n\\nFirst uploaded on: \\n\\n08-06-2024 at 15:37 IST\\n\\nTags:\\n\\nMinistry of Education\\n\\nNEET\\n\\nNEET UG\\n\\nNEET UG 2024\\n\\nNTA\\n\\nLatest Comment\\n\\nPost Comment\\n\\nRead Comments\\n\\nAdvertisement\\n\\nT20 World Cup: India rises from dead, defeat Pakistan by 6 runs in low scoring thriller\\n\\nSports\\n\\nAs of now, a total of 1,563 students (six of whom got a spot in the top ranks) were given grace marks based on a normalisation formula, which the NTA has not shared. These candidates were from six centres — two in Chhattisgarh (one each in Balod and Dantewada), one each in Meghalaya, Surat, Haryana’s Bahadurgarh, and Chandigarh.\\n\\nAdvertisement\\n\\nMeanwhile, students have filed petitions in a number of high courts.\\n\\nOne of these writ petitions, filed by a NEET UG candidate in the Delhi High Court, was listed for hearing on June 12 after the issuance of notice by a vacation bench on June 7. This petitioner has challenged the final answer key of question number 29 in Physics as well as the compensatory time given to the candidates at a few centres.\\n\\nWritten by \\t\\t\\t\\t\\t\\n\\nDeeksha Teri\\n\\t\\t\\t\\t\\t\\t\\n\\t\\n\\n\\t\\tNew Delhi |\\n\\nUpdated: June 9, 2024  10:27 IST\\n\\nFollow Us\\n\\n\\n\\n\\n\\n\\n\\n\\n\\nNEET UG 2024 Result: The committee has started the investigation, and is expected to announce their verdict before next Saturday. (Express photo by Deeksha Teri)\\n\\nNEET UG 2024 Result: The National Testing Agency (NTA) and the Union Education Ministry Saturday announced the formation of a four-member committee to review the results of over 1,500 candidates who were awarded “grace marks” to compensate for the “loss of time” suffered while appearing for this year’s National Eligibility-cum-Entrance Test (Undergraduate).\\n\\nThe announcement came amid an uproar over the NEET-UG results this year, with states like Maharashtra demanding a retest and the Aam Aadmi Party (AAP) demanding a Supreme Court-monitored probe into alleged discrepancies highlighted by students on social media.\\n\\nNEET\\n\\nNEET UG\\n\\nNEET UG 2024\\n\\nNTA\\n\\nLatest Comment\\n\\nPost Comment\\n\\nRead Comments\\n\\nAdvertisement\\n\\nT20 World Cup: India rises from dead, defeat Pakistan by 6 runs in low scoring thriller\\n\\nSports\\n\\nUpdated: June 10, 2024  09:04 IST\\n\\nIndian bowlers, led by Jasprit Bumrah, successfully defended a low score of 120 against Pakistan at the Nassau County International Cricket Stadium. Bumrah took 3 wickets while Hardik Pandya and Axar Patel contributed 2 and 1 respectively. Pakistan suffered a collapse in their run chase, losing 5 wickets before crossing 100. Earlier, India scored their lowest ever total against Pakistan.\\n\\nView all shorts\\n\\nLive Blog\\n\\nDelhi News Live Updates: Amid water crisis, L-G Saxena, Atishi to meet over inadequate supply from Haryana25 mins ago\\n\\nMumbai News Live Updates: IMD predicts heavy rainfall for next 2 days; Two killed in Vikhroli West building collapse49 mins ago\\n\\nTechnology\\n\\nWhat to expect from Apple’s AI-centered WWDC 2024, and what not to\\n\\nLifestyle\\n\\nWhat happens to the body if you have potatoes daily?\\n\\nAdvertisement\\n\\nBuzzing Now\\n\\nTrending\\n\\nInd vs Pak: Delhi Police celebrate India’s win with a quirky message for NYPD, post goes viral\\n\\nTrending\\n\\nWatch: Researcher feeds his blood to mosquitoes, netizens say 'malaria is afraid of him'\\n\\nTrending\\n\\nPune rain: Scary video of woman stuck inside car amid flood-like situation goes viral\\n\\nTrending\\n\\nWatch: Chain snatcher targets woman at Haryana restaurant in broad daylight, video goes viral\\n\\nTrending\\n\\nJEE Advanced topper Ved Lahoti opens up about his inspiring journey: ‘Never slept without completing my day goal’\\n\\nJun 10: Latest News\\n\\n01Biden administration ready for court challenges to border policy: Homeland Secretary Mayorkas\\n\\n02Ukraine says it struck a top fighter plane deep inside Russia\\n\\n03IND vs PAK: Lowest totals defended in T20 World Cup, India equal record over Pakistan in New York\\n\\nMyInsuranceClub\\n\\nNewsletters\\n\\n26/11 Stories of Strength\\n\\nRamnath Goenka Excellence in Journalism Awards\\n\\nOnline Classes for Kids\\n\\nLight House Journalism\\n\\nCompare Term Insurance\\n\\nQuick Links\\n\\nT&C\\n\\nPrivacy Policy\\n\\nAdvertise with Us\\n\\nBrand Solutions\\n\\nContact Us\\n\\nSubscribe\\n\\nStatutory provisions on reporting (sexual offenses)\\n\\nThis website follows the DNPA’s code of conduct\\n\\nCSR\\n\\nCopyright © 2024 The Indian Express [P] Ltd. All Rights Reserved\\n\\nEnglish\\n\\nதமிழ்\\n\\nবাংলা\\n\\nമലയാളം\\n\\nગુજરાતી\\n\\nहिंदी\\n\\nमराठी\\n\\nBusiness\\n\\nबिज़नेस\\n\\nNewsletters\\n\\n\\n\\n\\n\\n\\n\\n\\n\\nIndia\\n\\nInternational\\n\\nMonday, Jun 10, 2024\\n\\nePaper\\n\\nToday’s Paper\\n\\nJournalism of Courage\\n\\nHome\\n\\nePaper\\n\\nCities\\n\\nIndia\\n\\nExplained\\n\\nOpinion\\n\\nBusiness\\n\\nEntertainment\\n\\nSports\\n\\nPolitics\\n\\nUPSC\\n\\nLifestyle\\n\\nTech\\n\\nEducation\\n\\nResearch\\n\\nVideos\\n\\nSubscribe\\n\\nSign In\\n\\nTrending\\n\\nUPSC Pack\\n\\nT20 World Cup\\n\\nExpress Shorts\\n\\nMini Crossword\\n\\nPremium Stories\\n\\n🎙️ Podcast\\n\\nHealth & Wellness\\n\\nAdvertisement\\n\\nNews\\n\\nBusiness\\n\\nEconomy\\n\\nConsumption expenditure survey 2022-23: Households spent most on processed food; Haryana, Rajasthan saw highest spends on milk, Kerala on meats\\n\\nConsumption expenditure survey 2022-23: Households spent most on processed food; Haryana, Rajasthan saw highest spends on milk, Kerala on meats\\n\\nTrending\\n\\nJEE Advanced topper Ved Lahoti opens up about his inspiring journey: ‘Never slept without completing my day goal’\\n\\nTrending\\n\\nCamel gets stuck inside a car after vehicle crash in Rajasthan, video goes viral\\n\\nJun 09: Latest News\\n\\n01Iran blames Israeli attack on Gaza on ‘inaction’ by world states, UNSC\\n\\n02Key takeaways from BBC debate on UK polls: Sunak criticised, future leaders clash and smaller parties shine\\n\\n03Defacement of celebrated poet Himadri Nandan Deb’s statue sparks outrage in Tripura\\n\\n04Polls suggest Labour’s Keir Starmer to trump Rishi Sunak, ‘Farage effect’ on UK election\\n\\n05Norwegian wealth fund to vote against Elon Musk’s Tesla pay package\\n\\nAdvertisement\\n\\nSubscribe\\n\\nSign In\\n\\ne-paperPremiumIndiaElections 2024Bollywood\\n\\nOpinionPolitical PulseExplainedScienceCricket\\n\\nSportsWorldBusinessEntertainmentJobs\\n\\nHealthLifestyleTechnologyEducationMovie Review\\n\\nEyeTrendingCitiesNewslettersWebSeries\\n\\nPhotosVideosAudioWeb Stories\\n\\nTrending\\n\\nUPSC Pack\\n\\nT20 World Cup\\n\\nSports\\n\\nIndia win Boom-boom: Rohit's sweet swat-six, Rishabh's adventures continue and two catches go down before Pant pouches two\\n\\nTechnology\\n\\nFrom productivity to photography, best foldable smartphones to consider in 2024\\n\\nTechnology\\n\\nWhat to expect from Apple’s AI-centered WWDC 2024, and what not to\\n\\nTech news of the week: AI frenzy at Computex 2024, WhatsApp Business, and Apple\\n\\nLifestyle\\n\\nFrom 'Jodhpuri sabzi' to mango cream, JP Nadda to host dinner after PM Modi's swearing-in ceremony (see menu inside)\\n\\nAdvertisement\\n\\nBuzzing Now\\n\\nTrending\\n\\nWatch: Researcher feeds his blood to mosquitoes, netizens say 'malaria is afraid of him'\\n\\nTrending\\n\\nPune rain: Scary video of woman stuck inside car amid flood-like situation goes viral\\n\\nTrending\\n\\nWatch: Chain snatcher targets woman at Haryana restaurant in broad daylight, video goes viral\\n\\nTrending\\n\\nJEE Advanced topper Ved Lahoti opens up about his inspiring journey: ‘Never slept without completing my day goal’\\n\\nTrending\\n\\nEyeTrendingCitiesNewslettersWebSeries\\n\\nPhotosVideosAudioWeb Stories\\n\\nTrending\\n\\nUPSC Pack\\n\\nT20 World Cup\\n\\nExpress Shorts\\n\\nMini Crossword\\n\\nPremium Stories\\n\\n🎙️ Podcast\\n\\nHealth & Wellness\\n\\nclose\\n\\nIndia\\n\\nInternational\\n\\nSubscribe\\n\\nSign In\\n\\ne-paper\\n\\nPremium\\n\\nIndia\\n\\nElections 2024\\n\\nBollywood\\n\\nOpinion\\n\\nPolitical Pulse\\n\\nExplained\\n\\nScience\\n\\nCricket\\n\\nSports\\n\\nWorld\\n\\nBusiness\\n\\nEntertainment\\n\\nJobs\\n\\nHealth\\n\\nLifestyle\\n\\nTechnology\\n\\nEducation\\n\\nMovie Review\\n\\nEye\\n\\nTrending\\n\\nCities\\n\\nNewsletters\\n\\nWebSeries\\n\\nPhotos\\n\\nVideos\\n\\nAudio\\n\\nWeb Stories\\n\\nTop Categories\\n\\nExplained News\\n\\nPolitical Pulse\\n\\nLatest Opinion\\n\\nMumbai News\\n\\nDelhi News\\n\\nPune News\\n\\nBangalore News\\n\\nBollywood News\\n\\nHealth News\\n\\nIndia News\\n\\nSports News\\n\\nLifestyle News\\n\\nLatest News\\n\\nCricket\\n\\nTech Reviews\\n\\nGadgets\\n\\nMobile & Tabs\\n\\nFood & Wine\\n\\nElections 2024\\n\\nFitness\\n\\nTrending News\\n\\nLatest News\\n\\nHealth and Wellness\\n\\nEducation News\\n\\nBuy All-Access Plan\\n\\nEntertainment News\\n\\nTrending News\\n\\nPolitical News\\n\\nBusiness News\\n\\nWhy Subscribe Indian Express\\n\\nFitness\\n\\nTrending News\\n\\nLatest News\\n\\nHealth and Wellness\\n\\nEducation News\\n\\nBuy All-Access Plan\\n\\nEntertainment News\\n\\nTrending News\\n\\nPolitical News\\n\\nBusiness News\\n\\nWhy Subscribe Indian Express\\n\\nBuy Digital Premium\\n\\nSubscribe To The Indian Express\\n\\nIndian Express subscription UPSC offer\\n\\nElection Results 2024\\n\\nLok Sabha Election Results\\n\\nLok Sabha Results\\n\\nElection Results 2024 Live Updates\\n\\nLATEST STORIES\\n\\nCancer Horoscope Today, 10-June-2024: Discover what stars say about your career, finance and love\\n\\nGemini Horoscope Today, 10-June-2024: Discover what stars say about your career, finance and love\\n\\nAries Horoscope Today, 10-June-2024: Discover what stars say about your career, finance and love\\n\\nAquarius Horoscope Today, 10-June-2024: Discover what stars say about your career, finance and love\\n\\nTaurus Horoscope Today, 10-June-2024: Discover what stars say about your career, finance and love\\n\\nCapricorn Horoscope Today, 10-June-2024: Discover what stars say about your career, finance and love\\n\\nCompressor machine explosion led to fire that killed 3 at Narela factory: FIR\\n\\nHungary’s Orban sees weakest support in decades in EU vote, opposition Tisza surges\\n\\n1,000 buses may go off city roads in 10 days if contracts not extended\\n\\nNoida morgue scrambles for funds, officials pin hope on CSR help: ‘Have no choice’\\n\\nFollow Us\\n\\n\\n\\n\\n\\n\\n\\n\\n\\nDownload Apps\\n\\n\\n\\n\\n\\n\\n\\n\\n\\nThe Indian Express website has been rated GREEN for its credibility and trustworthiness by Newsguard, a global service that rates news sources for their journalistic standards.\\n\\nExpress Group\\n\\nThe Indian Express\\n\\nieTamil.com\\n\\nThe Financial Express\\n\\nieBangla.com\\n\\nLoksatta\\n\\nieMalayalam.com\\n\\nJansatta\\n\\nieGujarati.com\\n\\ninUth\\n\\nThe ExpressGroup\\n\\nMyInsuranceClub\\n\\nNewsletters\\n\\n26/11 Stories of Strength\\n\\nRamnath Goenka Excellence in Journalism Awards\\n\\nOnline Classes for Kids\\n\\nLight House Journalism\\n\\nCompare Term Insurance\\n\\nQuick Links\\n\\nSports\\n\\nIND vs PAK, T20 World Cup: Bumrah's dismissal of Rizwan turns the tide as India script epic New York comeback\\n\\nSports\\n\\nIND vs PAK, T20 World Cup: India 119 all out, record lowest T20I score against Pakistan\\n\\nOpinion\\n\\n'All the world’s a stage …'\\n\\nExplained\\n\\nWhat happens at a swearing-in ceremony and what oaths have to be taken?\\n\\nLifestyle\\n\\nFrom 'Jodhpuri sabzi' to mango cream, JP Nadda to host dinner after PM Modi's swearing-in ceremony (see menu inside)\\n\\nTechnology\\n\\nFrom productivity to photography, best foldable smartphones to consider in 2024\\n\\nAdvertisement\\n\\nMust Read\\n\\nSports\\n\\nIND vs PAK, T20 World Cup: Bumrah's dismissal of Rizwan turns the tide as India script epic New York comeback\\n\\nSports\\n\\nIND vs PAK, T20 World Cup: India 119 all out, record lowest T20I score against Pakistan\\n\\nSports\\n\\nIndia win Boom-boom: Rohit's sweet swat-six, Rishabh's adventures continue and two catches go down before Pant pouches two\\n\\nTechnology\\n\\n02Ukraine says it struck a top fighter plane deep inside Russia\\n\\n03IND vs PAK: Lowest totals defended in T20 World Cup, India equal record over Pakistan in New York\\n\\n04Only 2 from Bengal – Thakur retained, Sukanta makes debut\\n\\n05Protest against Gaza war draws thousands to the White House\\n\\nAdvertisement\\n\\nSubscribe\\n\\nSign In\\n\\ne-paperPremiumIndiaElections 2024Bollywood\\n\\nOpinionPolitical PulseExplainedScienceCricket\\n\\nSportsWorldBusinessEntertainmentJobs\\n\\nHealthLifestyleTechnologyEducationMovie Review\\n\\nEyeTrendingCitiesNewslettersWebSeries\\n\\nPhotosVideosAudioWeb Stories\\n\\nTrending\\n\\nUPSC Pack\\n\\nT20 World Cup\\n\\nExpress Shorts\\n\\nMini Crossword\\n\\nPremium Stories\\n\\n🎙️ Podcast\\n\\nHealth & Wellness\\n\\nclose\\n\\nIndia\\n\\nInternational\\n\\nSubscribe\\n\\nSign In\\n\\ne-paper\\n\\nPremium\\n\\nIndia\\n\\nElections 2024\\n\\nBollywood\\n\\nOpinion\\n\\nPolitical Pulse\\n\\nExplained\\n\\nScience\\n\\nCricket\\n\\nSports\\n\\nWorld\\n\\nBusiness\\n\\nEntertainment\\n\\nJobs\\n\\nHealth\\n\\nLifestyle\\n\\nTechnology\\n\\nEducation\\n\\nMovie Review\\n\\nEye\\n\\nTrending\\n\\nCities\\n\\nNewsletters\\n\\nWebSeries\\n\\nPhotos\\n\\n‘I didn’t want’ Cabinet berth: first-time Union Minister of State Suresh Gopi\\n\\nWWDC 2024: How to watch and what to expect from ‘Apple Intelligence’ unveil event\\n\\nJoSAA 2024 registration starts today at jossa.nic.in\\n\\nBollywood songs, food trails and breaking barriers: How a British-Indian coach Trishan Patel is fuelling Pakistan’s football dream\\n\\nUnderstanding the Keto flu — from symptoms to causes\\n\\nCourse correction: Haryana CM to hand over 100-sq yard plots to 7,500 beneficiaries today\\n\\nPolice arrest 1 in Tripura ADC recruitment exam answer key leak case\\n\\nInd vs Pak: Delhi Police celebrate India’s win with a quirky message for NYPD, post goes viral\\n\\nMunjya box office collection day 3: Mona Singh and Sharvari’s horror comedy surpasses Mr and Mrs Mahi and Maidaan, mints Rs 19 cr\\n\\nFollow Us\\n\\n\\n\\n\\n\\n\\n\\n\\n\\nDownload Apps\\n\\nRead |\\n\\nHow 44 are NEET UG toppers because of a wrong answer — and wrong textbook\\n\\nA former UPSC chairman and three other academicians have been selected for this panel, which has started investigation and is expected to announce its verdict before next Saturday.\\n\\nThe verdict will not affect other results, the NTA said. “We are aware that the counselling process (for MBBS courses) is about to begin, but this will not affect the admission process. This special committee will give their verdict before next Saturday and accordingly the next step will be taken, but we are trying our best to ensure there is no hiccup in the admission process,” Singh told The Indian Express.\\n\\nAs of now, a total of 1,563 students (six of whom got a spot in the top ranks) were given grace marks based on a normalisation formula, which the NTA has not shared. These candidates were from six centres — two in Chhattisgarh (one each in Balod and Dantewada), one each in Meghalaya, Surat, Haryana’s Bahadurgarh, and Chandigarh.\\n\\nAdvertisement\\n\\nMeanwhile, students have filed petitions in a number of high courts.\\n\\nOne of these writ petitions, filed by a NEET UG candidate in the Delhi High Court, was listed for hearing on June 12 after the issuance of notice by a vacation bench on June 7. This petitioner has challenged the final answer key of question number 29 in Physics as well as the compensatory time given to the candidates at a few centres.\\n\\nAdvertisement\\n\\nNTA declared the NEET UG 2024 result on June 4 — 10 days before the scheduled date — and a record 67 students achieved the NEET all-India rank (AIR) 1. Of these 67, 17 candidates got the rank out of merit, 44 students got the rank due to a wrong answer in the Physics section and six students got the rank due to grace marks given because of loss of exam time.\\n\\nNEET UG is the qualifying entrance exam for admission to Bachelor of Medicine and Bachelor of Surgery (MBBS), Bachelor of Dental Surgery (BDS), Bachelor of Ayurveda, Medicine and Surgery (BAMS), Bachelor of Siddha Medicine and Surgery (BSMS), Bachelor of Unani Medicine and Surgery (BUMS), and Bachelor of Homoeopathic Medicine and Surgery (BHMS) and BSc (H) Nursing courses.\\n\\nThe NEET UG cut-off this year for the UR/ EWS category candidates has gone up from 720-137 last year to 720-164 this year. For the scheduled caste, scheduled tribe and other backward class candidates, the NEET UG 2024 cut-off has increased to 163-129 from 136-107 last year. Similarly, the NEET UG 2024 cut off for SC, ST and OBC-PH candidates, the cut off has increased from 120-107 last year to 145-129 this year. As many as 11,65,904 students in the UR/ EWS category have been placed in the 50th percentile category.\\n\\nApart from the uproar on social media, the discrepancies in the results have also been picked up by political parties. “The Modi government is directly responsible for this. For the candidates appearing in recruitment exams, then facing several irregularities, getting caught in the labyrinth of paper leaks, is playing with their futures. The BJP has cheated the youth of the country,” Congress chief Mallikarjun Kharge said in a post in Hindi on X on Friday.\\n\\nAdvertisement\\n\\nAnnounced on June 4, the results drew immediate attention for the extraordinarily large number of candidates who got the perfect score of 720/720 and for the fact that some candidates got 718 or 719 — marks that others claimed were impossible to get in the scheme of the exam. There have also been allegations of a paper leak, which the NTA has denied.\\n\\nAdvertisement\\n\\nOn Saturday, NTA Director General Subodh Kumar Singh denied irregularities in the results. He attributed the unusually high number of top rankers (67) to a relatively easier paper this year and the agency’s decision to award additional marks to students whose exams did not start on time. Singh, however, also told reporters that a committee will look into the results of the 1,500 candidates who were awarded grace marks.\\n\\nRead |\\n\\nHow 44 are NEET UG toppers because of a wrong answer — and wrong textbook\"\n",
      "}\n",
      "\u001b[36;1m\u001b[1;3m[chain/end]\u001b[0m \u001b[1m[chain:RunnableSequence > chain:RunnableParallel<context,question>] [12.11s] Exiting Chain run with output:\n",
      "\u001b[0m{\n",
      "  \"context\": \"Read |\\n\\nHow 44 are NEET UG toppers because of a wrong answer — and wrong textbook\\n\\nA former UPSC chairman and three other academicians have been selected for this panel, which has started investigation and is expected to announce its verdict before next Saturday.\\n\\nThe verdict will not affect other results, the NTA said. “We are aware that the counselling process (for MBBS courses) is about to begin, but this will not affect the admission process. This special committee will give their verdict before next Saturday and accordingly the next step will be taken, but we are trying our best to ensure there is no hiccup in the admission process,” Singh told The Indian Express.\\n\\nThe NEET UG cut-off this year for the UR/ EWS category candidates has gone up from 720-137 last year to 720-164 this year. For the scheduled caste, scheduled tribe and other backward class candidates, the NEET UG 2024 cut-off has increased to 163-129 from 136-107 last year. Similarly, the NEET UG 2024 cut off for SC, ST and OBC-PH candidates, the cut off has increased from 120-107 last year to 145-129 this year. As many as 11,65,904 students in the UR/ EWS category have been placed in the 50th percentile category.\\n\\nApart from the uproar on social media, the discrepancies in the results have also been picked up by political parties. “The Modi government is directly responsible for this. For the candidates appearing in recruitment exams, then facing several irregularities, getting caught in the labyrinth of paper leaks, is playing with their futures. The BJP has cheated the youth of the country,” Congress chief Mallikarjun Kharge said in a post in Hindi on X on Friday.\\n\\nAdvertisement\\n\\nEnglish\\n\\nதமிழ்\\n\\nবাংলা\\n\\nമലയാളം\\n\\nગુજરાતી\\n\\nहिंदी\\n\\nमराठी\\n\\nBusiness\\n\\nबिज़नेस\\n\\nNewsletters\\n\\n\\n\\n\\n\\n\\n\\n\\n\\nIndia\\n\\nInternational\\n\\nMonday, Jun 10, 2024\\n\\nePaper\\n\\nToday’s Paper\\n\\nJournalism of Courage\\n\\nHome\\n\\nePaper\\n\\nCities\\n\\nIndia\\n\\nExplained\\n\\nOpinion\\n\\nBusiness\\n\\nEntertainment\\n\\nSports\\n\\nPolitics\\n\\nUPSC\\n\\nLifestyle\\n\\nTech\\n\\nEducation\\n\\nResearch\\n\\nVideos\\n\\nSubscribe\\n\\nSign In\\n\\nTrending\\n\\nUPSC Pack\\n\\nT20 World Cup\\n\\nExpress Shorts\\n\\nMini Crossword\\n\\nPremium Stories\\n\\n🎙️ Podcast\\n\\nHealth & Wellness\\n\\nAdvertisement\\n\\nNews\\n\\nEducation\\n\\nNEET UG: Govt, NTA form panel to review results of 1,500 students\\n\\nNEET UG: Govt, NTA form panel to review results of 1,500 students\\n\\nNEET UG 2024 Result: Will ensure this does not affect MBBS admission process, says NTA chief\\n\\n\\n\\t\\t\\t\\t\\t\\t\\t\\t\\t\\t\\t\\t\\t\\t\\t Written by \\t\\t\\t\\t\\t\\n\\nDeeksha Teri\\n\\t\\t\\t\\t\\t\\t\\n\\t\\n\\n\\t\\tNew Delhi |\\n\\nUpdated: June 9, 2024  10:27 IST\\n\\nFollow Us\\n\\nAnnounced on June 4, the results drew immediate attention for the extraordinarily large number of candidates who got the perfect score of 720/720 and for the fact that some candidates got 718 or 719 — marks that others claimed were impossible to get in the scheme of the exam. There have also been allegations of a paper leak, which the NTA has denied.\\n\\nAdvertisement\\n\\nOn Saturday, NTA Director General Subodh Kumar Singh denied irregularities in the results. He attributed the unusually high number of top rankers (67) to a relatively easier paper this year and the agency’s decision to award additional marks to students whose exams did not start on time. Singh, however, also told reporters that a committee will look into the results of the 1,500 candidates who were awarded grace marks.\\n\\nRead |\\n\\nHow 44 are NEET UG toppers because of a wrong answer — and wrong textbook\\n\\nAdvertisement\\n\\nNTA declared the NEET UG 2024 result on June 4 — 10 days before the scheduled date — and a record 67 students achieved the NEET all-India rank (AIR) 1. Of these 67, 17 candidates got the rank out of merit, 44 students got the rank due to a wrong answer in the Physics section and six students got the rank due to grace marks given because of loss of exam time.\\n\\nNEET UG is the qualifying entrance exam for admission to Bachelor of Medicine and Bachelor of Surgery (MBBS), Bachelor of Dental Surgery (BDS), Bachelor of Ayurveda, Medicine and Surgery (BAMS), Bachelor of Siddha Medicine and Surgery (BSMS), Bachelor of Unani Medicine and Surgery (BUMS), and Bachelor of Homoeopathic Medicine and Surgery (BHMS) and BSc (H) Nursing courses.\\n\\nAnother PIL, filed before the division bench of the Calcutta High Court, challenged the award of 718 or 719 marks to some candidates in NEET UG 2024. While hearing this matter on June 6, the High Court directed the NTA to file an affidavit within 10 days, disclosing how the reservation policy of the state as well as the central government has been followed in preparing the merit list. The matter has been listed for the next hearing after two weeks before a regular bench.\\n\\nAdditionally, a writ petition has been filed by another NEET UG candidate before the Supreme Court. The court, while hearing the matter on May 17, issued notice to the respondents and listed the matter for the next hearing on July 8.\\n\\nAdvertisement\\n\\nAdvertisement\\n\\n“We demand that a high-level investigation should be conducted under the supervision of the Supreme Court so that our talented students appearing in NEET and other exams get justice,” he had said.\\n\\nTamil Nadu Chief Minister M K Stalin said the trends from the latest NEET results have once again vindicated the DMK on its stand opposing the exam, reiterating that the entrance test goes against social justice and federalism.\\n\\n© IE Online Media Services Pvt Ltd\\n\\nDeeksha Teri\\n\\nDeeksha Teri covers education and has worked with the The Hindu (print division), WION and Stonebow Media. She is an alumnus of The University of Lincoln and The University of Delhi.                        ... Read More\\n\\nFirst uploaded on: \\n\\n08-06-2024 at 15:37 IST\\n\\nTags:\\n\\nMinistry of Education\\n\\nNEET\\n\\nNEET UG\\n\\nNEET UG 2024\\n\\nNTA\\n\\nLatest Comment\\n\\nPost Comment\\n\\nRead Comments\\n\\nAdvertisement\\n\\nT20 World Cup: India rises from dead, defeat Pakistan by 6 runs in low scoring thriller\\n\\nSports\\n\\nAs of now, a total of 1,563 students (six of whom got a spot in the top ranks) were given grace marks based on a normalisation formula, which the NTA has not shared. These candidates were from six centres — two in Chhattisgarh (one each in Balod and Dantewada), one each in Meghalaya, Surat, Haryana’s Bahadurgarh, and Chandigarh.\\n\\nAdvertisement\\n\\nMeanwhile, students have filed petitions in a number of high courts.\\n\\nOne of these writ petitions, filed by a NEET UG candidate in the Delhi High Court, was listed for hearing on June 12 after the issuance of notice by a vacation bench on June 7. This petitioner has challenged the final answer key of question number 29 in Physics as well as the compensatory time given to the candidates at a few centres.\\n\\nWritten by \\t\\t\\t\\t\\t\\n\\nDeeksha Teri\\n\\t\\t\\t\\t\\t\\t\\n\\t\\n\\n\\t\\tNew Delhi |\\n\\nUpdated: June 9, 2024  10:27 IST\\n\\nFollow Us\\n\\n\\n\\n\\n\\n\\n\\n\\n\\nNEET UG 2024 Result: The committee has started the investigation, and is expected to announce their verdict before next Saturday. (Express photo by Deeksha Teri)\\n\\nNEET UG 2024 Result: The National Testing Agency (NTA) and the Union Education Ministry Saturday announced the formation of a four-member committee to review the results of over 1,500 candidates who were awarded “grace marks” to compensate for the “loss of time” suffered while appearing for this year’s National Eligibility-cum-Entrance Test (Undergraduate).\\n\\nThe announcement came amid an uproar over the NEET-UG results this year, with states like Maharashtra demanding a retest and the Aam Aadmi Party (AAP) demanding a Supreme Court-monitored probe into alleged discrepancies highlighted by students on social media.\\n\\nNEET\\n\\nNEET UG\\n\\nNEET UG 2024\\n\\nNTA\\n\\nLatest Comment\\n\\nPost Comment\\n\\nRead Comments\\n\\nAdvertisement\\n\\nT20 World Cup: India rises from dead, defeat Pakistan by 6 runs in low scoring thriller\\n\\nSports\\n\\nUpdated: June 10, 2024  09:04 IST\\n\\nIndian bowlers, led by Jasprit Bumrah, successfully defended a low score of 120 against Pakistan at the Nassau County International Cricket Stadium. Bumrah took 3 wickets while Hardik Pandya and Axar Patel contributed 2 and 1 respectively. Pakistan suffered a collapse in their run chase, losing 5 wickets before crossing 100. Earlier, India scored their lowest ever total against Pakistan.\\n\\nView all shorts\\n\\nLive Blog\\n\\nDelhi News Live Updates: Amid water crisis, L-G Saxena, Atishi to meet over inadequate supply from Haryana25 mins ago\\n\\nMumbai News Live Updates: IMD predicts heavy rainfall for next 2 days; Two killed in Vikhroli West building collapse49 mins ago\\n\\nTechnology\\n\\nWhat to expect from Apple’s AI-centered WWDC 2024, and what not to\\n\\nLifestyle\\n\\nWhat happens to the body if you have potatoes daily?\\n\\nAdvertisement\\n\\nBuzzing Now\\n\\nTrending\\n\\nInd vs Pak: Delhi Police celebrate India’s win with a quirky message for NYPD, post goes viral\\n\\nTrending\\n\\nWatch: Researcher feeds his blood to mosquitoes, netizens say 'malaria is afraid of him'\\n\\nTrending\\n\\nPune rain: Scary video of woman stuck inside car amid flood-like situation goes viral\\n\\nTrending\\n\\nWatch: Chain snatcher targets woman at Haryana restaurant in broad daylight, video goes viral\\n\\nTrending\\n\\nJEE Advanced topper Ved Lahoti opens up about his inspiring journey: ‘Never slept without completing my day goal’\\n\\nJun 10: Latest News\\n\\n01Biden administration ready for court challenges to border policy: Homeland Secretary Mayorkas\\n\\n02Ukraine says it struck a top fighter plane deep inside Russia\\n\\n03IND vs PAK: Lowest totals defended in T20 World Cup, India equal record over Pakistan in New York\\n\\nMyInsuranceClub\\n\\nNewsletters\\n\\n26/11 Stories of Strength\\n\\nRamnath Goenka Excellence in Journalism Awards\\n\\nOnline Classes for Kids\\n\\nLight House Journalism\\n\\nCompare Term Insurance\\n\\nQuick Links\\n\\nT&C\\n\\nPrivacy Policy\\n\\nAdvertise with Us\\n\\nBrand Solutions\\n\\nContact Us\\n\\nSubscribe\\n\\nStatutory provisions on reporting (sexual offenses)\\n\\nThis website follows the DNPA’s code of conduct\\n\\nCSR\\n\\nCopyright © 2024 The Indian Express [P] Ltd. All Rights Reserved\\n\\nEnglish\\n\\nதமிழ்\\n\\nবাংলা\\n\\nമലയാളം\\n\\nગુજરાતી\\n\\nहिंदी\\n\\nमराठी\\n\\nBusiness\\n\\nबिज़नेस\\n\\nNewsletters\\n\\n\\n\\n\\n\\n\\n\\n\\n\\nIndia\\n\\nInternational\\n\\nMonday, Jun 10, 2024\\n\\nePaper\\n\\nToday’s Paper\\n\\nJournalism of Courage\\n\\nHome\\n\\nePaper\\n\\nCities\\n\\nIndia\\n\\nExplained\\n\\nOpinion\\n\\nBusiness\\n\\nEntertainment\\n\\nSports\\n\\nPolitics\\n\\nUPSC\\n\\nLifestyle\\n\\nTech\\n\\nEducation\\n\\nResearch\\n\\nVideos\\n\\nSubscribe\\n\\nSign In\\n\\nTrending\\n\\nUPSC Pack\\n\\nT20 World Cup\\n\\nExpress Shorts\\n\\nMini Crossword\\n\\nPremium Stories\\n\\n🎙️ Podcast\\n\\nHealth & Wellness\\n\\nAdvertisement\\n\\nNews\\n\\nBusiness\\n\\nEconomy\\n\\nConsumption expenditure survey 2022-23: Households spent most on processed food; Haryana, Rajasthan saw highest spends on milk, Kerala on meats\\n\\nConsumption expenditure survey 2022-23: Households spent most on processed food; Haryana, Rajasthan saw highest spends on milk, Kerala on meats\\n\\nTrending\\n\\nJEE Advanced topper Ved Lahoti opens up about his inspiring journey: ‘Never slept without completing my day goal’\\n\\nTrending\\n\\nCamel gets stuck inside a car after vehicle crash in Rajasthan, video goes viral\\n\\nJun 09: Latest News\\n\\n01Iran blames Israeli attack on Gaza on ‘inaction’ by world states, UNSC\\n\\n02Key takeaways from BBC debate on UK polls: Sunak criticised, future leaders clash and smaller parties shine\\n\\n03Defacement of celebrated poet Himadri Nandan Deb’s statue sparks outrage in Tripura\\n\\n04Polls suggest Labour’s Keir Starmer to trump Rishi Sunak, ‘Farage effect’ on UK election\\n\\n05Norwegian wealth fund to vote against Elon Musk’s Tesla pay package\\n\\nAdvertisement\\n\\nSubscribe\\n\\nSign In\\n\\ne-paperPremiumIndiaElections 2024Bollywood\\n\\nOpinionPolitical PulseExplainedScienceCricket\\n\\nSportsWorldBusinessEntertainmentJobs\\n\\nHealthLifestyleTechnologyEducationMovie Review\\n\\nEyeTrendingCitiesNewslettersWebSeries\\n\\nPhotosVideosAudioWeb Stories\\n\\nTrending\\n\\nUPSC Pack\\n\\nT20 World Cup\\n\\nSports\\n\\nIndia win Boom-boom: Rohit's sweet swat-six, Rishabh's adventures continue and two catches go down before Pant pouches two\\n\\nTechnology\\n\\nFrom productivity to photography, best foldable smartphones to consider in 2024\\n\\nTechnology\\n\\nWhat to expect from Apple’s AI-centered WWDC 2024, and what not to\\n\\nTech news of the week: AI frenzy at Computex 2024, WhatsApp Business, and Apple\\n\\nLifestyle\\n\\nFrom 'Jodhpuri sabzi' to mango cream, JP Nadda to host dinner after PM Modi's swearing-in ceremony (see menu inside)\\n\\nAdvertisement\\n\\nBuzzing Now\\n\\nTrending\\n\\nWatch: Researcher feeds his blood to mosquitoes, netizens say 'malaria is afraid of him'\\n\\nTrending\\n\\nPune rain: Scary video of woman stuck inside car amid flood-like situation goes viral\\n\\nTrending\\n\\nWatch: Chain snatcher targets woman at Haryana restaurant in broad daylight, video goes viral\\n\\nTrending\\n\\nJEE Advanced topper Ved Lahoti opens up about his inspiring journey: ‘Never slept without completing my day goal’\\n\\nTrending\\n\\nEyeTrendingCitiesNewslettersWebSeries\\n\\nPhotosVideosAudioWeb Stories\\n\\nTrending\\n\\nUPSC Pack\\n\\nT20 World Cup\\n\\nExpress Shorts\\n\\nMini Crossword\\n\\nPremium Stories\\n\\n🎙️ Podcast\\n\\nHealth & Wellness\\n\\nclose\\n\\nIndia\\n\\nInternational\\n\\nSubscribe\\n\\nSign In\\n\\ne-paper\\n\\nPremium\\n\\nIndia\\n\\nElections 2024\\n\\nBollywood\\n\\nOpinion\\n\\nPolitical Pulse\\n\\nExplained\\n\\nScience\\n\\nCricket\\n\\nSports\\n\\nWorld\\n\\nBusiness\\n\\nEntertainment\\n\\nJobs\\n\\nHealth\\n\\nLifestyle\\n\\nTechnology\\n\\nEducation\\n\\nMovie Review\\n\\nEye\\n\\nTrending\\n\\nCities\\n\\nNewsletters\\n\\nWebSeries\\n\\nPhotos\\n\\nVideos\\n\\nAudio\\n\\nWeb Stories\\n\\nTop Categories\\n\\nExplained News\\n\\nPolitical Pulse\\n\\nLatest Opinion\\n\\nMumbai News\\n\\nDelhi News\\n\\nPune News\\n\\nBangalore News\\n\\nBollywood News\\n\\nHealth News\\n\\nIndia News\\n\\nSports News\\n\\nLifestyle News\\n\\nLatest News\\n\\nCricket\\n\\nTech Reviews\\n\\nGadgets\\n\\nMobile & Tabs\\n\\nFood & Wine\\n\\nElections 2024\\n\\nFitness\\n\\nTrending News\\n\\nLatest News\\n\\nHealth and Wellness\\n\\nEducation News\\n\\nBuy All-Access Plan\\n\\nEntertainment News\\n\\nTrending News\\n\\nPolitical News\\n\\nBusiness News\\n\\nWhy Subscribe Indian Express\\n\\nFitness\\n\\nTrending News\\n\\nLatest News\\n\\nHealth and Wellness\\n\\nEducation News\\n\\nBuy All-Access Plan\\n\\nEntertainment News\\n\\nTrending News\\n\\nPolitical News\\n\\nBusiness News\\n\\nWhy Subscribe Indian Express\\n\\nBuy Digital Premium\\n\\nSubscribe To The Indian Express\\n\\nIndian Express subscription UPSC offer\\n\\nElection Results 2024\\n\\nLok Sabha Election Results\\n\\nLok Sabha Results\\n\\nElection Results 2024 Live Updates\\n\\nLATEST STORIES\\n\\nCancer Horoscope Today, 10-June-2024: Discover what stars say about your career, finance and love\\n\\nGemini Horoscope Today, 10-June-2024: Discover what stars say about your career, finance and love\\n\\nAries Horoscope Today, 10-June-2024: Discover what stars say about your career, finance and love\\n\\nAquarius Horoscope Today, 10-June-2024: Discover what stars say about your career, finance and love\\n\\nTaurus Horoscope Today, 10-June-2024: Discover what stars say about your career, finance and love\\n\\nCapricorn Horoscope Today, 10-June-2024: Discover what stars say about your career, finance and love\\n\\nCompressor machine explosion led to fire that killed 3 at Narela factory: FIR\\n\\nHungary’s Orban sees weakest support in decades in EU vote, opposition Tisza surges\\n\\n1,000 buses may go off city roads in 10 days if contracts not extended\\n\\nNoida morgue scrambles for funds, officials pin hope on CSR help: ‘Have no choice’\\n\\nFollow Us\\n\\n\\n\\n\\n\\n\\n\\n\\n\\nDownload Apps\\n\\n\\n\\n\\n\\n\\n\\n\\n\\nThe Indian Express website has been rated GREEN for its credibility and trustworthiness by Newsguard, a global service that rates news sources for their journalistic standards.\\n\\nExpress Group\\n\\nThe Indian Express\\n\\nieTamil.com\\n\\nThe Financial Express\\n\\nieBangla.com\\n\\nLoksatta\\n\\nieMalayalam.com\\n\\nJansatta\\n\\nieGujarati.com\\n\\ninUth\\n\\nThe ExpressGroup\\n\\nMyInsuranceClub\\n\\nNewsletters\\n\\n26/11 Stories of Strength\\n\\nRamnath Goenka Excellence in Journalism Awards\\n\\nOnline Classes for Kids\\n\\nLight House Journalism\\n\\nCompare Term Insurance\\n\\nQuick Links\\n\\nSports\\n\\nIND vs PAK, T20 World Cup: Bumrah's dismissal of Rizwan turns the tide as India script epic New York comeback\\n\\nSports\\n\\nIND vs PAK, T20 World Cup: India 119 all out, record lowest T20I score against Pakistan\\n\\nOpinion\\n\\n'All the world’s a stage …'\\n\\nExplained\\n\\nWhat happens at a swearing-in ceremony and what oaths have to be taken?\\n\\nLifestyle\\n\\nFrom 'Jodhpuri sabzi' to mango cream, JP Nadda to host dinner after PM Modi's swearing-in ceremony (see menu inside)\\n\\nTechnology\\n\\nFrom productivity to photography, best foldable smartphones to consider in 2024\\n\\nAdvertisement\\n\\nMust Read\\n\\nSports\\n\\nIND vs PAK, T20 World Cup: Bumrah's dismissal of Rizwan turns the tide as India script epic New York comeback\\n\\nSports\\n\\nIND vs PAK, T20 World Cup: India 119 all out, record lowest T20I score against Pakistan\\n\\nSports\\n\\nIndia win Boom-boom: Rohit's sweet swat-six, Rishabh's adventures continue and two catches go down before Pant pouches two\\n\\nTechnology\\n\\n02Ukraine says it struck a top fighter plane deep inside Russia\\n\\n03IND vs PAK: Lowest totals defended in T20 World Cup, India equal record over Pakistan in New York\\n\\n04Only 2 from Bengal – Thakur retained, Sukanta makes debut\\n\\n05Protest against Gaza war draws thousands to the White House\\n\\nAdvertisement\\n\\nSubscribe\\n\\nSign In\\n\\ne-paperPremiumIndiaElections 2024Bollywood\\n\\nOpinionPolitical PulseExplainedScienceCricket\\n\\nSportsWorldBusinessEntertainmentJobs\\n\\nHealthLifestyleTechnologyEducationMovie Review\\n\\nEyeTrendingCitiesNewslettersWebSeries\\n\\nPhotosVideosAudioWeb Stories\\n\\nTrending\\n\\nUPSC Pack\\n\\nT20 World Cup\\n\\nExpress Shorts\\n\\nMini Crossword\\n\\nPremium Stories\\n\\n🎙️ Podcast\\n\\nHealth & Wellness\\n\\nclose\\n\\nIndia\\n\\nInternational\\n\\nSubscribe\\n\\nSign In\\n\\ne-paper\\n\\nPremium\\n\\nIndia\\n\\nElections 2024\\n\\nBollywood\\n\\nOpinion\\n\\nPolitical Pulse\\n\\nExplained\\n\\nScience\\n\\nCricket\\n\\nSports\\n\\nWorld\\n\\nBusiness\\n\\nEntertainment\\n\\nJobs\\n\\nHealth\\n\\nLifestyle\\n\\nTechnology\\n\\nEducation\\n\\nMovie Review\\n\\nEye\\n\\nTrending\\n\\nCities\\n\\nNewsletters\\n\\nWebSeries\\n\\nPhotos\\n\\n‘I didn’t want’ Cabinet berth: first-time Union Minister of State Suresh Gopi\\n\\nWWDC 2024: How to watch and what to expect from ‘Apple Intelligence’ unveil event\\n\\nJoSAA 2024 registration starts today at jossa.nic.in\\n\\nBollywood songs, food trails and breaking barriers: How a British-Indian coach Trishan Patel is fuelling Pakistan’s football dream\\n\\nUnderstanding the Keto flu — from symptoms to causes\\n\\nCourse correction: Haryana CM to hand over 100-sq yard plots to 7,500 beneficiaries today\\n\\nPolice arrest 1 in Tripura ADC recruitment exam answer key leak case\\n\\nInd vs Pak: Delhi Police celebrate India’s win with a quirky message for NYPD, post goes viral\\n\\nMunjya box office collection day 3: Mona Singh and Sharvari’s horror comedy surpasses Mr and Mrs Mahi and Maidaan, mints Rs 19 cr\\n\\nFollow Us\\n\\n\\n\\n\\n\\n\\n\\n\\n\\nDownload Apps\\n\\nRead |\\n\\nHow 44 are NEET UG toppers because of a wrong answer — and wrong textbook\\n\\nA former UPSC chairman and three other academicians have been selected for this panel, which has started investigation and is expected to announce its verdict before next Saturday.\\n\\nThe verdict will not affect other results, the NTA said. “We are aware that the counselling process (for MBBS courses) is about to begin, but this will not affect the admission process. This special committee will give their verdict before next Saturday and accordingly the next step will be taken, but we are trying our best to ensure there is no hiccup in the admission process,” Singh told The Indian Express.\\n\\nAs of now, a total of 1,563 students (six of whom got a spot in the top ranks) were given grace marks based on a normalisation formula, which the NTA has not shared. These candidates were from six centres — two in Chhattisgarh (one each in Balod and Dantewada), one each in Meghalaya, Surat, Haryana’s Bahadurgarh, and Chandigarh.\\n\\nAdvertisement\\n\\nMeanwhile, students have filed petitions in a number of high courts.\\n\\nOne of these writ petitions, filed by a NEET UG candidate in the Delhi High Court, was listed for hearing on June 12 after the issuance of notice by a vacation bench on June 7. This petitioner has challenged the final answer key of question number 29 in Physics as well as the compensatory time given to the candidates at a few centres.\\n\\nAdvertisement\\n\\nNTA declared the NEET UG 2024 result on June 4 — 10 days before the scheduled date — and a record 67 students achieved the NEET all-India rank (AIR) 1. Of these 67, 17 candidates got the rank out of merit, 44 students got the rank due to a wrong answer in the Physics section and six students got the rank due to grace marks given because of loss of exam time.\\n\\nNEET UG is the qualifying entrance exam for admission to Bachelor of Medicine and Bachelor of Surgery (MBBS), Bachelor of Dental Surgery (BDS), Bachelor of Ayurveda, Medicine and Surgery (BAMS), Bachelor of Siddha Medicine and Surgery (BSMS), Bachelor of Unani Medicine and Surgery (BUMS), and Bachelor of Homoeopathic Medicine and Surgery (BHMS) and BSc (H) Nursing courses.\\n\\nThe NEET UG cut-off this year for the UR/ EWS category candidates has gone up from 720-137 last year to 720-164 this year. For the scheduled caste, scheduled tribe and other backward class candidates, the NEET UG 2024 cut-off has increased to 163-129 from 136-107 last year. Similarly, the NEET UG 2024 cut off for SC, ST and OBC-PH candidates, the cut off has increased from 120-107 last year to 145-129 this year. As many as 11,65,904 students in the UR/ EWS category have been placed in the 50th percentile category.\\n\\nApart from the uproar on social media, the discrepancies in the results have also been picked up by political parties. “The Modi government is directly responsible for this. For the candidates appearing in recruitment exams, then facing several irregularities, getting caught in the labyrinth of paper leaks, is playing with their futures. The BJP has cheated the youth of the country,” Congress chief Mallikarjun Kharge said in a post in Hindi on X on Friday.\\n\\nAdvertisement\\n\\nAnnounced on June 4, the results drew immediate attention for the extraordinarily large number of candidates who got the perfect score of 720/720 and for the fact that some candidates got 718 or 719 — marks that others claimed were impossible to get in the scheme of the exam. There have also been allegations of a paper leak, which the NTA has denied.\\n\\nAdvertisement\\n\\nOn Saturday, NTA Director General Subodh Kumar Singh denied irregularities in the results. He attributed the unusually high number of top rankers (67) to a relatively easier paper this year and the agency’s decision to award additional marks to students whose exams did not start on time. Singh, however, also told reporters that a committee will look into the results of the 1,500 candidates who were awarded grace marks.\\n\\nRead |\\n\\nHow 44 are NEET UG toppers because of a wrong answer — and wrong textbook\",\n",
      "  \"question\": \"What steps were taken regarding NEET results\"\n",
      "}\n",
      "\u001b[32;1m\u001b[1;3m[chain/start]\u001b[0m \u001b[1m[chain:RunnableSequence > prompt:ChatPromptTemplate] Entering Prompt run with input:\n",
      "\u001b[0m{\n",
      "  \"context\": \"Read |\\n\\nHow 44 are NEET UG toppers because of a wrong answer — and wrong textbook\\n\\nA former UPSC chairman and three other academicians have been selected for this panel, which has started investigation and is expected to announce its verdict before next Saturday.\\n\\nThe verdict will not affect other results, the NTA said. “We are aware that the counselling process (for MBBS courses) is about to begin, but this will not affect the admission process. This special committee will give their verdict before next Saturday and accordingly the next step will be taken, but we are trying our best to ensure there is no hiccup in the admission process,” Singh told The Indian Express.\\n\\nThe NEET UG cut-off this year for the UR/ EWS category candidates has gone up from 720-137 last year to 720-164 this year. For the scheduled caste, scheduled tribe and other backward class candidates, the NEET UG 2024 cut-off has increased to 163-129 from 136-107 last year. Similarly, the NEET UG 2024 cut off for SC, ST and OBC-PH candidates, the cut off has increased from 120-107 last year to 145-129 this year. As many as 11,65,904 students in the UR/ EWS category have been placed in the 50th percentile category.\\n\\nApart from the uproar on social media, the discrepancies in the results have also been picked up by political parties. “The Modi government is directly responsible for this. For the candidates appearing in recruitment exams, then facing several irregularities, getting caught in the labyrinth of paper leaks, is playing with their futures. The BJP has cheated the youth of the country,” Congress chief Mallikarjun Kharge said in a post in Hindi on X on Friday.\\n\\nAdvertisement\\n\\nEnglish\\n\\nதமிழ்\\n\\nবাংলা\\n\\nമലയാളം\\n\\nગુજરાતી\\n\\nहिंदी\\n\\nमराठी\\n\\nBusiness\\n\\nबिज़नेस\\n\\nNewsletters\\n\\n\\n\\n\\n\\n\\n\\n\\n\\nIndia\\n\\nInternational\\n\\nMonday, Jun 10, 2024\\n\\nePaper\\n\\nToday’s Paper\\n\\nJournalism of Courage\\n\\nHome\\n\\nePaper\\n\\nCities\\n\\nIndia\\n\\nExplained\\n\\nOpinion\\n\\nBusiness\\n\\nEntertainment\\n\\nSports\\n\\nPolitics\\n\\nUPSC\\n\\nLifestyle\\n\\nTech\\n\\nEducation\\n\\nResearch\\n\\nVideos\\n\\nSubscribe\\n\\nSign In\\n\\nTrending\\n\\nUPSC Pack\\n\\nT20 World Cup\\n\\nExpress Shorts\\n\\nMini Crossword\\n\\nPremium Stories\\n\\n🎙️ Podcast\\n\\nHealth & Wellness\\n\\nAdvertisement\\n\\nNews\\n\\nEducation\\n\\nNEET UG: Govt, NTA form panel to review results of 1,500 students\\n\\nNEET UG: Govt, NTA form panel to review results of 1,500 students\\n\\nNEET UG 2024 Result: Will ensure this does not affect MBBS admission process, says NTA chief\\n\\n\\n\\t\\t\\t\\t\\t\\t\\t\\t\\t\\t\\t\\t\\t\\t\\t Written by \\t\\t\\t\\t\\t\\n\\nDeeksha Teri\\n\\t\\t\\t\\t\\t\\t\\n\\t\\n\\n\\t\\tNew Delhi |\\n\\nUpdated: June 9, 2024  10:27 IST\\n\\nFollow Us\\n\\nAnnounced on June 4, the results drew immediate attention for the extraordinarily large number of candidates who got the perfect score of 720/720 and for the fact that some candidates got 718 or 719 — marks that others claimed were impossible to get in the scheme of the exam. There have also been allegations of a paper leak, which the NTA has denied.\\n\\nAdvertisement\\n\\nOn Saturday, NTA Director General Subodh Kumar Singh denied irregularities in the results. He attributed the unusually high number of top rankers (67) to a relatively easier paper this year and the agency’s decision to award additional marks to students whose exams did not start on time. Singh, however, also told reporters that a committee will look into the results of the 1,500 candidates who were awarded grace marks.\\n\\nRead |\\n\\nHow 44 are NEET UG toppers because of a wrong answer — and wrong textbook\\n\\nAdvertisement\\n\\nNTA declared the NEET UG 2024 result on June 4 — 10 days before the scheduled date — and a record 67 students achieved the NEET all-India rank (AIR) 1. Of these 67, 17 candidates got the rank out of merit, 44 students got the rank due to a wrong answer in the Physics section and six students got the rank due to grace marks given because of loss of exam time.\\n\\nNEET UG is the qualifying entrance exam for admission to Bachelor of Medicine and Bachelor of Surgery (MBBS), Bachelor of Dental Surgery (BDS), Bachelor of Ayurveda, Medicine and Surgery (BAMS), Bachelor of Siddha Medicine and Surgery (BSMS), Bachelor of Unani Medicine and Surgery (BUMS), and Bachelor of Homoeopathic Medicine and Surgery (BHMS) and BSc (H) Nursing courses.\\n\\nAnother PIL, filed before the division bench of the Calcutta High Court, challenged the award of 718 or 719 marks to some candidates in NEET UG 2024. While hearing this matter on June 6, the High Court directed the NTA to file an affidavit within 10 days, disclosing how the reservation policy of the state as well as the central government has been followed in preparing the merit list. The matter has been listed for the next hearing after two weeks before a regular bench.\\n\\nAdditionally, a writ petition has been filed by another NEET UG candidate before the Supreme Court. The court, while hearing the matter on May 17, issued notice to the respondents and listed the matter for the next hearing on July 8.\\n\\nAdvertisement\\n\\nAdvertisement\\n\\n“We demand that a high-level investigation should be conducted under the supervision of the Supreme Court so that our talented students appearing in NEET and other exams get justice,” he had said.\\n\\nTamil Nadu Chief Minister M K Stalin said the trends from the latest NEET results have once again vindicated the DMK on its stand opposing the exam, reiterating that the entrance test goes against social justice and federalism.\\n\\n© IE Online Media Services Pvt Ltd\\n\\nDeeksha Teri\\n\\nDeeksha Teri covers education and has worked with the The Hindu (print division), WION and Stonebow Media. She is an alumnus of The University of Lincoln and The University of Delhi.                        ... Read More\\n\\nFirst uploaded on: \\n\\n08-06-2024 at 15:37 IST\\n\\nTags:\\n\\nMinistry of Education\\n\\nNEET\\n\\nNEET UG\\n\\nNEET UG 2024\\n\\nNTA\\n\\nLatest Comment\\n\\nPost Comment\\n\\nRead Comments\\n\\nAdvertisement\\n\\nT20 World Cup: India rises from dead, defeat Pakistan by 6 runs in low scoring thriller\\n\\nSports\\n\\nAs of now, a total of 1,563 students (six of whom got a spot in the top ranks) were given grace marks based on a normalisation formula, which the NTA has not shared. These candidates were from six centres — two in Chhattisgarh (one each in Balod and Dantewada), one each in Meghalaya, Surat, Haryana’s Bahadurgarh, and Chandigarh.\\n\\nAdvertisement\\n\\nMeanwhile, students have filed petitions in a number of high courts.\\n\\nOne of these writ petitions, filed by a NEET UG candidate in the Delhi High Court, was listed for hearing on June 12 after the issuance of notice by a vacation bench on June 7. This petitioner has challenged the final answer key of question number 29 in Physics as well as the compensatory time given to the candidates at a few centres.\\n\\nWritten by \\t\\t\\t\\t\\t\\n\\nDeeksha Teri\\n\\t\\t\\t\\t\\t\\t\\n\\t\\n\\n\\t\\tNew Delhi |\\n\\nUpdated: June 9, 2024  10:27 IST\\n\\nFollow Us\\n\\n\\n\\n\\n\\n\\n\\n\\n\\nNEET UG 2024 Result: The committee has started the investigation, and is expected to announce their verdict before next Saturday. (Express photo by Deeksha Teri)\\n\\nNEET UG 2024 Result: The National Testing Agency (NTA) and the Union Education Ministry Saturday announced the formation of a four-member committee to review the results of over 1,500 candidates who were awarded “grace marks” to compensate for the “loss of time” suffered while appearing for this year’s National Eligibility-cum-Entrance Test (Undergraduate).\\n\\nThe announcement came amid an uproar over the NEET-UG results this year, with states like Maharashtra demanding a retest and the Aam Aadmi Party (AAP) demanding a Supreme Court-monitored probe into alleged discrepancies highlighted by students on social media.\\n\\nNEET\\n\\nNEET UG\\n\\nNEET UG 2024\\n\\nNTA\\n\\nLatest Comment\\n\\nPost Comment\\n\\nRead Comments\\n\\nAdvertisement\\n\\nT20 World Cup: India rises from dead, defeat Pakistan by 6 runs in low scoring thriller\\n\\nSports\\n\\nUpdated: June 10, 2024  09:04 IST\\n\\nIndian bowlers, led by Jasprit Bumrah, successfully defended a low score of 120 against Pakistan at the Nassau County International Cricket Stadium. Bumrah took 3 wickets while Hardik Pandya and Axar Patel contributed 2 and 1 respectively. Pakistan suffered a collapse in their run chase, losing 5 wickets before crossing 100. Earlier, India scored their lowest ever total against Pakistan.\\n\\nView all shorts\\n\\nLive Blog\\n\\nDelhi News Live Updates: Amid water crisis, L-G Saxena, Atishi to meet over inadequate supply from Haryana25 mins ago\\n\\nMumbai News Live Updates: IMD predicts heavy rainfall for next 2 days; Two killed in Vikhroli West building collapse49 mins ago\\n\\nTechnology\\n\\nWhat to expect from Apple’s AI-centered WWDC 2024, and what not to\\n\\nLifestyle\\n\\nWhat happens to the body if you have potatoes daily?\\n\\nAdvertisement\\n\\nBuzzing Now\\n\\nTrending\\n\\nInd vs Pak: Delhi Police celebrate India’s win with a quirky message for NYPD, post goes viral\\n\\nTrending\\n\\nWatch: Researcher feeds his blood to mosquitoes, netizens say 'malaria is afraid of him'\\n\\nTrending\\n\\nPune rain: Scary video of woman stuck inside car amid flood-like situation goes viral\\n\\nTrending\\n\\nWatch: Chain snatcher targets woman at Haryana restaurant in broad daylight, video goes viral\\n\\nTrending\\n\\nJEE Advanced topper Ved Lahoti opens up about his inspiring journey: ‘Never slept without completing my day goal’\\n\\nJun 10: Latest News\\n\\n01Biden administration ready for court challenges to border policy: Homeland Secretary Mayorkas\\n\\n02Ukraine says it struck a top fighter plane deep inside Russia\\n\\n03IND vs PAK: Lowest totals defended in T20 World Cup, India equal record over Pakistan in New York\\n\\nMyInsuranceClub\\n\\nNewsletters\\n\\n26/11 Stories of Strength\\n\\nRamnath Goenka Excellence in Journalism Awards\\n\\nOnline Classes for Kids\\n\\nLight House Journalism\\n\\nCompare Term Insurance\\n\\nQuick Links\\n\\nT&C\\n\\nPrivacy Policy\\n\\nAdvertise with Us\\n\\nBrand Solutions\\n\\nContact Us\\n\\nSubscribe\\n\\nStatutory provisions on reporting (sexual offenses)\\n\\nThis website follows the DNPA’s code of conduct\\n\\nCSR\\n\\nCopyright © 2024 The Indian Express [P] Ltd. All Rights Reserved\\n\\nEnglish\\n\\nதமிழ்\\n\\nবাংলা\\n\\nമലയാളം\\n\\nગુજરાતી\\n\\nहिंदी\\n\\nमराठी\\n\\nBusiness\\n\\nबिज़नेस\\n\\nNewsletters\\n\\n\\n\\n\\n\\n\\n\\n\\n\\nIndia\\n\\nInternational\\n\\nMonday, Jun 10, 2024\\n\\nePaper\\n\\nToday’s Paper\\n\\nJournalism of Courage\\n\\nHome\\n\\nePaper\\n\\nCities\\n\\nIndia\\n\\nExplained\\n\\nOpinion\\n\\nBusiness\\n\\nEntertainment\\n\\nSports\\n\\nPolitics\\n\\nUPSC\\n\\nLifestyle\\n\\nTech\\n\\nEducation\\n\\nResearch\\n\\nVideos\\n\\nSubscribe\\n\\nSign In\\n\\nTrending\\n\\nUPSC Pack\\n\\nT20 World Cup\\n\\nExpress Shorts\\n\\nMini Crossword\\n\\nPremium Stories\\n\\n🎙️ Podcast\\n\\nHealth & Wellness\\n\\nAdvertisement\\n\\nNews\\n\\nBusiness\\n\\nEconomy\\n\\nConsumption expenditure survey 2022-23: Households spent most on processed food; Haryana, Rajasthan saw highest spends on milk, Kerala on meats\\n\\nConsumption expenditure survey 2022-23: Households spent most on processed food; Haryana, Rajasthan saw highest spends on milk, Kerala on meats\\n\\nTrending\\n\\nJEE Advanced topper Ved Lahoti opens up about his inspiring journey: ‘Never slept without completing my day goal’\\n\\nTrending\\n\\nCamel gets stuck inside a car after vehicle crash in Rajasthan, video goes viral\\n\\nJun 09: Latest News\\n\\n01Iran blames Israeli attack on Gaza on ‘inaction’ by world states, UNSC\\n\\n02Key takeaways from BBC debate on UK polls: Sunak criticised, future leaders clash and smaller parties shine\\n\\n03Defacement of celebrated poet Himadri Nandan Deb’s statue sparks outrage in Tripura\\n\\n04Polls suggest Labour’s Keir Starmer to trump Rishi Sunak, ‘Farage effect’ on UK election\\n\\n05Norwegian wealth fund to vote against Elon Musk’s Tesla pay package\\n\\nAdvertisement\\n\\nSubscribe\\n\\nSign In\\n\\ne-paperPremiumIndiaElections 2024Bollywood\\n\\nOpinionPolitical PulseExplainedScienceCricket\\n\\nSportsWorldBusinessEntertainmentJobs\\n\\nHealthLifestyleTechnologyEducationMovie Review\\n\\nEyeTrendingCitiesNewslettersWebSeries\\n\\nPhotosVideosAudioWeb Stories\\n\\nTrending\\n\\nUPSC Pack\\n\\nT20 World Cup\\n\\nSports\\n\\nIndia win Boom-boom: Rohit's sweet swat-six, Rishabh's adventures continue and two catches go down before Pant pouches two\\n\\nTechnology\\n\\nFrom productivity to photography, best foldable smartphones to consider in 2024\\n\\nTechnology\\n\\nWhat to expect from Apple’s AI-centered WWDC 2024, and what not to\\n\\nTech news of the week: AI frenzy at Computex 2024, WhatsApp Business, and Apple\\n\\nLifestyle\\n\\nFrom 'Jodhpuri sabzi' to mango cream, JP Nadda to host dinner after PM Modi's swearing-in ceremony (see menu inside)\\n\\nAdvertisement\\n\\nBuzzing Now\\n\\nTrending\\n\\nWatch: Researcher feeds his blood to mosquitoes, netizens say 'malaria is afraid of him'\\n\\nTrending\\n\\nPune rain: Scary video of woman stuck inside car amid flood-like situation goes viral\\n\\nTrending\\n\\nWatch: Chain snatcher targets woman at Haryana restaurant in broad daylight, video goes viral\\n\\nTrending\\n\\nJEE Advanced topper Ved Lahoti opens up about his inspiring journey: ‘Never slept without completing my day goal’\\n\\nTrending\\n\\nEyeTrendingCitiesNewslettersWebSeries\\n\\nPhotosVideosAudioWeb Stories\\n\\nTrending\\n\\nUPSC Pack\\n\\nT20 World Cup\\n\\nExpress Shorts\\n\\nMini Crossword\\n\\nPremium Stories\\n\\n🎙️ Podcast\\n\\nHealth & Wellness\\n\\nclose\\n\\nIndia\\n\\nInternational\\n\\nSubscribe\\n\\nSign In\\n\\ne-paper\\n\\nPremium\\n\\nIndia\\n\\nElections 2024\\n\\nBollywood\\n\\nOpinion\\n\\nPolitical Pulse\\n\\nExplained\\n\\nScience\\n\\nCricket\\n\\nSports\\n\\nWorld\\n\\nBusiness\\n\\nEntertainment\\n\\nJobs\\n\\nHealth\\n\\nLifestyle\\n\\nTechnology\\n\\nEducation\\n\\nMovie Review\\n\\nEye\\n\\nTrending\\n\\nCities\\n\\nNewsletters\\n\\nWebSeries\\n\\nPhotos\\n\\nVideos\\n\\nAudio\\n\\nWeb Stories\\n\\nTop Categories\\n\\nExplained News\\n\\nPolitical Pulse\\n\\nLatest Opinion\\n\\nMumbai News\\n\\nDelhi News\\n\\nPune News\\n\\nBangalore News\\n\\nBollywood News\\n\\nHealth News\\n\\nIndia News\\n\\nSports News\\n\\nLifestyle News\\n\\nLatest News\\n\\nCricket\\n\\nTech Reviews\\n\\nGadgets\\n\\nMobile & Tabs\\n\\nFood & Wine\\n\\nElections 2024\\n\\nFitness\\n\\nTrending News\\n\\nLatest News\\n\\nHealth and Wellness\\n\\nEducation News\\n\\nBuy All-Access Plan\\n\\nEntertainment News\\n\\nTrending News\\n\\nPolitical News\\n\\nBusiness News\\n\\nWhy Subscribe Indian Express\\n\\nFitness\\n\\nTrending News\\n\\nLatest News\\n\\nHealth and Wellness\\n\\nEducation News\\n\\nBuy All-Access Plan\\n\\nEntertainment News\\n\\nTrending News\\n\\nPolitical News\\n\\nBusiness News\\n\\nWhy Subscribe Indian Express\\n\\nBuy Digital Premium\\n\\nSubscribe To The Indian Express\\n\\nIndian Express subscription UPSC offer\\n\\nElection Results 2024\\n\\nLok Sabha Election Results\\n\\nLok Sabha Results\\n\\nElection Results 2024 Live Updates\\n\\nLATEST STORIES\\n\\nCancer Horoscope Today, 10-June-2024: Discover what stars say about your career, finance and love\\n\\nGemini Horoscope Today, 10-June-2024: Discover what stars say about your career, finance and love\\n\\nAries Horoscope Today, 10-June-2024: Discover what stars say about your career, finance and love\\n\\nAquarius Horoscope Today, 10-June-2024: Discover what stars say about your career, finance and love\\n\\nTaurus Horoscope Today, 10-June-2024: Discover what stars say about your career, finance and love\\n\\nCapricorn Horoscope Today, 10-June-2024: Discover what stars say about your career, finance and love\\n\\nCompressor machine explosion led to fire that killed 3 at Narela factory: FIR\\n\\nHungary’s Orban sees weakest support in decades in EU vote, opposition Tisza surges\\n\\n1,000 buses may go off city roads in 10 days if contracts not extended\\n\\nNoida morgue scrambles for funds, officials pin hope on CSR help: ‘Have no choice’\\n\\nFollow Us\\n\\n\\n\\n\\n\\n\\n\\n\\n\\nDownload Apps\\n\\n\\n\\n\\n\\n\\n\\n\\n\\nThe Indian Express website has been rated GREEN for its credibility and trustworthiness by Newsguard, a global service that rates news sources for their journalistic standards.\\n\\nExpress Group\\n\\nThe Indian Express\\n\\nieTamil.com\\n\\nThe Financial Express\\n\\nieBangla.com\\n\\nLoksatta\\n\\nieMalayalam.com\\n\\nJansatta\\n\\nieGujarati.com\\n\\ninUth\\n\\nThe ExpressGroup\\n\\nMyInsuranceClub\\n\\nNewsletters\\n\\n26/11 Stories of Strength\\n\\nRamnath Goenka Excellence in Journalism Awards\\n\\nOnline Classes for Kids\\n\\nLight House Journalism\\n\\nCompare Term Insurance\\n\\nQuick Links\\n\\nSports\\n\\nIND vs PAK, T20 World Cup: Bumrah's dismissal of Rizwan turns the tide as India script epic New York comeback\\n\\nSports\\n\\nIND vs PAK, T20 World Cup: India 119 all out, record lowest T20I score against Pakistan\\n\\nOpinion\\n\\n'All the world’s a stage …'\\n\\nExplained\\n\\nWhat happens at a swearing-in ceremony and what oaths have to be taken?\\n\\nLifestyle\\n\\nFrom 'Jodhpuri sabzi' to mango cream, JP Nadda to host dinner after PM Modi's swearing-in ceremony (see menu inside)\\n\\nTechnology\\n\\nFrom productivity to photography, best foldable smartphones to consider in 2024\\n\\nAdvertisement\\n\\nMust Read\\n\\nSports\\n\\nIND vs PAK, T20 World Cup: Bumrah's dismissal of Rizwan turns the tide as India script epic New York comeback\\n\\nSports\\n\\nIND vs PAK, T20 World Cup: India 119 all out, record lowest T20I score against Pakistan\\n\\nSports\\n\\nIndia win Boom-boom: Rohit's sweet swat-six, Rishabh's adventures continue and two catches go down before Pant pouches two\\n\\nTechnology\\n\\n02Ukraine says it struck a top fighter plane deep inside Russia\\n\\n03IND vs PAK: Lowest totals defended in T20 World Cup, India equal record over Pakistan in New York\\n\\n04Only 2 from Bengal – Thakur retained, Sukanta makes debut\\n\\n05Protest against Gaza war draws thousands to the White House\\n\\nAdvertisement\\n\\nSubscribe\\n\\nSign In\\n\\ne-paperPremiumIndiaElections 2024Bollywood\\n\\nOpinionPolitical PulseExplainedScienceCricket\\n\\nSportsWorldBusinessEntertainmentJobs\\n\\nHealthLifestyleTechnologyEducationMovie Review\\n\\nEyeTrendingCitiesNewslettersWebSeries\\n\\nPhotosVideosAudioWeb Stories\\n\\nTrending\\n\\nUPSC Pack\\n\\nT20 World Cup\\n\\nExpress Shorts\\n\\nMini Crossword\\n\\nPremium Stories\\n\\n🎙️ Podcast\\n\\nHealth & Wellness\\n\\nclose\\n\\nIndia\\n\\nInternational\\n\\nSubscribe\\n\\nSign In\\n\\ne-paper\\n\\nPremium\\n\\nIndia\\n\\nElections 2024\\n\\nBollywood\\n\\nOpinion\\n\\nPolitical Pulse\\n\\nExplained\\n\\nScience\\n\\nCricket\\n\\nSports\\n\\nWorld\\n\\nBusiness\\n\\nEntertainment\\n\\nJobs\\n\\nHealth\\n\\nLifestyle\\n\\nTechnology\\n\\nEducation\\n\\nMovie Review\\n\\nEye\\n\\nTrending\\n\\nCities\\n\\nNewsletters\\n\\nWebSeries\\n\\nPhotos\\n\\n‘I didn’t want’ Cabinet berth: first-time Union Minister of State Suresh Gopi\\n\\nWWDC 2024: How to watch and what to expect from ‘Apple Intelligence’ unveil event\\n\\nJoSAA 2024 registration starts today at jossa.nic.in\\n\\nBollywood songs, food trails and breaking barriers: How a British-Indian coach Trishan Patel is fuelling Pakistan’s football dream\\n\\nUnderstanding the Keto flu — from symptoms to causes\\n\\nCourse correction: Haryana CM to hand over 100-sq yard plots to 7,500 beneficiaries today\\n\\nPolice arrest 1 in Tripura ADC recruitment exam answer key leak case\\n\\nInd vs Pak: Delhi Police celebrate India’s win with a quirky message for NYPD, post goes viral\\n\\nMunjya box office collection day 3: Mona Singh and Sharvari’s horror comedy surpasses Mr and Mrs Mahi and Maidaan, mints Rs 19 cr\\n\\nFollow Us\\n\\n\\n\\n\\n\\n\\n\\n\\n\\nDownload Apps\\n\\nRead |\\n\\nHow 44 are NEET UG toppers because of a wrong answer — and wrong textbook\\n\\nA former UPSC chairman and three other academicians have been selected for this panel, which has started investigation and is expected to announce its verdict before next Saturday.\\n\\nThe verdict will not affect other results, the NTA said. “We are aware that the counselling process (for MBBS courses) is about to begin, but this will not affect the admission process. This special committee will give their verdict before next Saturday and accordingly the next step will be taken, but we are trying our best to ensure there is no hiccup in the admission process,” Singh told The Indian Express.\\n\\nAs of now, a total of 1,563 students (six of whom got a spot in the top ranks) were given grace marks based on a normalisation formula, which the NTA has not shared. These candidates were from six centres — two in Chhattisgarh (one each in Balod and Dantewada), one each in Meghalaya, Surat, Haryana’s Bahadurgarh, and Chandigarh.\\n\\nAdvertisement\\n\\nMeanwhile, students have filed petitions in a number of high courts.\\n\\nOne of these writ petitions, filed by a NEET UG candidate in the Delhi High Court, was listed for hearing on June 12 after the issuance of notice by a vacation bench on June 7. This petitioner has challenged the final answer key of question number 29 in Physics as well as the compensatory time given to the candidates at a few centres.\\n\\nAdvertisement\\n\\nNTA declared the NEET UG 2024 result on June 4 — 10 days before the scheduled date — and a record 67 students achieved the NEET all-India rank (AIR) 1. Of these 67, 17 candidates got the rank out of merit, 44 students got the rank due to a wrong answer in the Physics section and six students got the rank due to grace marks given because of loss of exam time.\\n\\nNEET UG is the qualifying entrance exam for admission to Bachelor of Medicine and Bachelor of Surgery (MBBS), Bachelor of Dental Surgery (BDS), Bachelor of Ayurveda, Medicine and Surgery (BAMS), Bachelor of Siddha Medicine and Surgery (BSMS), Bachelor of Unani Medicine and Surgery (BUMS), and Bachelor of Homoeopathic Medicine and Surgery (BHMS) and BSc (H) Nursing courses.\\n\\nThe NEET UG cut-off this year for the UR/ EWS category candidates has gone up from 720-137 last year to 720-164 this year. For the scheduled caste, scheduled tribe and other backward class candidates, the NEET UG 2024 cut-off has increased to 163-129 from 136-107 last year. Similarly, the NEET UG 2024 cut off for SC, ST and OBC-PH candidates, the cut off has increased from 120-107 last year to 145-129 this year. As many as 11,65,904 students in the UR/ EWS category have been placed in the 50th percentile category.\\n\\nApart from the uproar on social media, the discrepancies in the results have also been picked up by political parties. “The Modi government is directly responsible for this. For the candidates appearing in recruitment exams, then facing several irregularities, getting caught in the labyrinth of paper leaks, is playing with their futures. The BJP has cheated the youth of the country,” Congress chief Mallikarjun Kharge said in a post in Hindi on X on Friday.\\n\\nAdvertisement\\n\\nAnnounced on June 4, the results drew immediate attention for the extraordinarily large number of candidates who got the perfect score of 720/720 and for the fact that some candidates got 718 or 719 — marks that others claimed were impossible to get in the scheme of the exam. There have also been allegations of a paper leak, which the NTA has denied.\\n\\nAdvertisement\\n\\nOn Saturday, NTA Director General Subodh Kumar Singh denied irregularities in the results. He attributed the unusually high number of top rankers (67) to a relatively easier paper this year and the agency’s decision to award additional marks to students whose exams did not start on time. Singh, however, also told reporters that a committee will look into the results of the 1,500 candidates who were awarded grace marks.\\n\\nRead |\\n\\nHow 44 are NEET UG toppers because of a wrong answer — and wrong textbook\",\n",
      "  \"question\": \"What steps were taken regarding NEET results\"\n",
      "}\n",
      "\u001b[36;1m\u001b[1;3m[chain/end]\u001b[0m \u001b[1m[chain:RunnableSequence > prompt:ChatPromptTemplate] [0ms] Exiting Prompt run with output:\n",
      "\u001b[0m[outputs]\n",
      "\u001b[32;1m\u001b[1;3m[llm/start]\u001b[0m \u001b[1m[chain:RunnableSequence > llm:ChatGoogleGenerativeAI] Entering LLM run with input:\n",
      "\u001b[0m{\n",
      "  \"prompts\": [\n",
      "    \"Human: You are an assistant for question-answering tasks. Use the following pieces of retrieved context to answer the question. If you don't know the answer, just say that you don't know. Use three sentences maximum and keep the answer concise.\\nQuestion: What steps were taken regarding NEET results \\nContext: Read |\\n\\nHow 44 are NEET UG toppers because of a wrong answer — and wrong textbook\\n\\nA former UPSC chairman and three other academicians have been selected for this panel, which has started investigation and is expected to announce its verdict before next Saturday.\\n\\nThe verdict will not affect other results, the NTA said. “We are aware that the counselling process (for MBBS courses) is about to begin, but this will not affect the admission process. This special committee will give their verdict before next Saturday and accordingly the next step will be taken, but we are trying our best to ensure there is no hiccup in the admission process,” Singh told The Indian Express.\\n\\nThe NEET UG cut-off this year for the UR/ EWS category candidates has gone up from 720-137 last year to 720-164 this year. For the scheduled caste, scheduled tribe and other backward class candidates, the NEET UG 2024 cut-off has increased to 163-129 from 136-107 last year. Similarly, the NEET UG 2024 cut off for SC, ST and OBC-PH candidates, the cut off has increased from 120-107 last year to 145-129 this year. As many as 11,65,904 students in the UR/ EWS category have been placed in the 50th percentile category.\\n\\nApart from the uproar on social media, the discrepancies in the results have also been picked up by political parties. “The Modi government is directly responsible for this. For the candidates appearing in recruitment exams, then facing several irregularities, getting caught in the labyrinth of paper leaks, is playing with their futures. The BJP has cheated the youth of the country,” Congress chief Mallikarjun Kharge said in a post in Hindi on X on Friday.\\n\\nAdvertisement\\n\\nEnglish\\n\\nதமிழ்\\n\\nবাংলা\\n\\nമലയാളം\\n\\nગુજરાતી\\n\\nहिंदी\\n\\nमराठी\\n\\nBusiness\\n\\nबिज़नेस\\n\\nNewsletters\\n\\n\\n\\n\\n\\n\\n\\n\\n\\nIndia\\n\\nInternational\\n\\nMonday, Jun 10, 2024\\n\\nePaper\\n\\nToday’s Paper\\n\\nJournalism of Courage\\n\\nHome\\n\\nePaper\\n\\nCities\\n\\nIndia\\n\\nExplained\\n\\nOpinion\\n\\nBusiness\\n\\nEntertainment\\n\\nSports\\n\\nPolitics\\n\\nUPSC\\n\\nLifestyle\\n\\nTech\\n\\nEducation\\n\\nResearch\\n\\nVideos\\n\\nSubscribe\\n\\nSign In\\n\\nTrending\\n\\nUPSC Pack\\n\\nT20 World Cup\\n\\nExpress Shorts\\n\\nMini Crossword\\n\\nPremium Stories\\n\\n🎙️ Podcast\\n\\nHealth & Wellness\\n\\nAdvertisement\\n\\nNews\\n\\nEducation\\n\\nNEET UG: Govt, NTA form panel to review results of 1,500 students\\n\\nNEET UG: Govt, NTA form panel to review results of 1,500 students\\n\\nNEET UG 2024 Result: Will ensure this does not affect MBBS admission process, says NTA chief\\n\\n\\n\\t\\t\\t\\t\\t\\t\\t\\t\\t\\t\\t\\t\\t\\t\\t Written by \\t\\t\\t\\t\\t\\n\\nDeeksha Teri\\n\\t\\t\\t\\t\\t\\t\\n\\t\\n\\n\\t\\tNew Delhi |\\n\\nUpdated: June 9, 2024  10:27 IST\\n\\nFollow Us\\n\\nAnnounced on June 4, the results drew immediate attention for the extraordinarily large number of candidates who got the perfect score of 720/720 and for the fact that some candidates got 718 or 719 — marks that others claimed were impossible to get in the scheme of the exam. There have also been allegations of a paper leak, which the NTA has denied.\\n\\nAdvertisement\\n\\nOn Saturday, NTA Director General Subodh Kumar Singh denied irregularities in the results. He attributed the unusually high number of top rankers (67) to a relatively easier paper this year and the agency’s decision to award additional marks to students whose exams did not start on time. Singh, however, also told reporters that a committee will look into the results of the 1,500 candidates who were awarded grace marks.\\n\\nRead |\\n\\nHow 44 are NEET UG toppers because of a wrong answer — and wrong textbook\\n\\nAdvertisement\\n\\nNTA declared the NEET UG 2024 result on June 4 — 10 days before the scheduled date — and a record 67 students achieved the NEET all-India rank (AIR) 1. Of these 67, 17 candidates got the rank out of merit, 44 students got the rank due to a wrong answer in the Physics section and six students got the rank due to grace marks given because of loss of exam time.\\n\\nNEET UG is the qualifying entrance exam for admission to Bachelor of Medicine and Bachelor of Surgery (MBBS), Bachelor of Dental Surgery (BDS), Bachelor of Ayurveda, Medicine and Surgery (BAMS), Bachelor of Siddha Medicine and Surgery (BSMS), Bachelor of Unani Medicine and Surgery (BUMS), and Bachelor of Homoeopathic Medicine and Surgery (BHMS) and BSc (H) Nursing courses.\\n\\nAnother PIL, filed before the division bench of the Calcutta High Court, challenged the award of 718 or 719 marks to some candidates in NEET UG 2024. While hearing this matter on June 6, the High Court directed the NTA to file an affidavit within 10 days, disclosing how the reservation policy of the state as well as the central government has been followed in preparing the merit list. The matter has been listed for the next hearing after two weeks before a regular bench.\\n\\nAdditionally, a writ petition has been filed by another NEET UG candidate before the Supreme Court. The court, while hearing the matter on May 17, issued notice to the respondents and listed the matter for the next hearing on July 8.\\n\\nAdvertisement\\n\\nAdvertisement\\n\\n“We demand that a high-level investigation should be conducted under the supervision of the Supreme Court so that our talented students appearing in NEET and other exams get justice,” he had said.\\n\\nTamil Nadu Chief Minister M K Stalin said the trends from the latest NEET results have once again vindicated the DMK on its stand opposing the exam, reiterating that the entrance test goes against social justice and federalism.\\n\\n© IE Online Media Services Pvt Ltd\\n\\nDeeksha Teri\\n\\nDeeksha Teri covers education and has worked with the The Hindu (print division), WION and Stonebow Media. She is an alumnus of The University of Lincoln and The University of Delhi.                        ... Read More\\n\\nFirst uploaded on: \\n\\n08-06-2024 at 15:37 IST\\n\\nTags:\\n\\nMinistry of Education\\n\\nNEET\\n\\nNEET UG\\n\\nNEET UG 2024\\n\\nNTA\\n\\nLatest Comment\\n\\nPost Comment\\n\\nRead Comments\\n\\nAdvertisement\\n\\nT20 World Cup: India rises from dead, defeat Pakistan by 6 runs in low scoring thriller\\n\\nSports\\n\\nAs of now, a total of 1,563 students (six of whom got a spot in the top ranks) were given grace marks based on a normalisation formula, which the NTA has not shared. These candidates were from six centres — two in Chhattisgarh (one each in Balod and Dantewada), one each in Meghalaya, Surat, Haryana’s Bahadurgarh, and Chandigarh.\\n\\nAdvertisement\\n\\nMeanwhile, students have filed petitions in a number of high courts.\\n\\nOne of these writ petitions, filed by a NEET UG candidate in the Delhi High Court, was listed for hearing on June 12 after the issuance of notice by a vacation bench on June 7. This petitioner has challenged the final answer key of question number 29 in Physics as well as the compensatory time given to the candidates at a few centres.\\n\\nWritten by \\t\\t\\t\\t\\t\\n\\nDeeksha Teri\\n\\t\\t\\t\\t\\t\\t\\n\\t\\n\\n\\t\\tNew Delhi |\\n\\nUpdated: June 9, 2024  10:27 IST\\n\\nFollow Us\\n\\n\\n\\n\\n\\n\\n\\n\\n\\nNEET UG 2024 Result: The committee has started the investigation, and is expected to announce their verdict before next Saturday. (Express photo by Deeksha Teri)\\n\\nNEET UG 2024 Result: The National Testing Agency (NTA) and the Union Education Ministry Saturday announced the formation of a four-member committee to review the results of over 1,500 candidates who were awarded “grace marks” to compensate for the “loss of time” suffered while appearing for this year’s National Eligibility-cum-Entrance Test (Undergraduate).\\n\\nThe announcement came amid an uproar over the NEET-UG results this year, with states like Maharashtra demanding a retest and the Aam Aadmi Party (AAP) demanding a Supreme Court-monitored probe into alleged discrepancies highlighted by students on social media.\\n\\nNEET\\n\\nNEET UG\\n\\nNEET UG 2024\\n\\nNTA\\n\\nLatest Comment\\n\\nPost Comment\\n\\nRead Comments\\n\\nAdvertisement\\n\\nT20 World Cup: India rises from dead, defeat Pakistan by 6 runs in low scoring thriller\\n\\nSports\\n\\nUpdated: June 10, 2024  09:04 IST\\n\\nIndian bowlers, led by Jasprit Bumrah, successfully defended a low score of 120 against Pakistan at the Nassau County International Cricket Stadium. Bumrah took 3 wickets while Hardik Pandya and Axar Patel contributed 2 and 1 respectively. Pakistan suffered a collapse in their run chase, losing 5 wickets before crossing 100. Earlier, India scored their lowest ever total against Pakistan.\\n\\nView all shorts\\n\\nLive Blog\\n\\nDelhi News Live Updates: Amid water crisis, L-G Saxena, Atishi to meet over inadequate supply from Haryana25 mins ago\\n\\nMumbai News Live Updates: IMD predicts heavy rainfall for next 2 days; Two killed in Vikhroli West building collapse49 mins ago\\n\\nTechnology\\n\\nWhat to expect from Apple’s AI-centered WWDC 2024, and what not to\\n\\nLifestyle\\n\\nWhat happens to the body if you have potatoes daily?\\n\\nAdvertisement\\n\\nBuzzing Now\\n\\nTrending\\n\\nInd vs Pak: Delhi Police celebrate India’s win with a quirky message for NYPD, post goes viral\\n\\nTrending\\n\\nWatch: Researcher feeds his blood to mosquitoes, netizens say 'malaria is afraid of him'\\n\\nTrending\\n\\nPune rain: Scary video of woman stuck inside car amid flood-like situation goes viral\\n\\nTrending\\n\\nWatch: Chain snatcher targets woman at Haryana restaurant in broad daylight, video goes viral\\n\\nTrending\\n\\nJEE Advanced topper Ved Lahoti opens up about his inspiring journey: ‘Never slept without completing my day goal’\\n\\nJun 10: Latest News\\n\\n01Biden administration ready for court challenges to border policy: Homeland Secretary Mayorkas\\n\\n02Ukraine says it struck a top fighter plane deep inside Russia\\n\\n03IND vs PAK: Lowest totals defended in T20 World Cup, India equal record over Pakistan in New York\\n\\nMyInsuranceClub\\n\\nNewsletters\\n\\n26/11 Stories of Strength\\n\\nRamnath Goenka Excellence in Journalism Awards\\n\\nOnline Classes for Kids\\n\\nLight House Journalism\\n\\nCompare Term Insurance\\n\\nQuick Links\\n\\nT&C\\n\\nPrivacy Policy\\n\\nAdvertise with Us\\n\\nBrand Solutions\\n\\nContact Us\\n\\nSubscribe\\n\\nStatutory provisions on reporting (sexual offenses)\\n\\nThis website follows the DNPA’s code of conduct\\n\\nCSR\\n\\nCopyright © 2024 The Indian Express [P] Ltd. All Rights Reserved\\n\\nEnglish\\n\\nதமிழ்\\n\\nবাংলা\\n\\nമലയാളം\\n\\nગુજરાતી\\n\\nहिंदी\\n\\nमराठी\\n\\nBusiness\\n\\nबिज़नेस\\n\\nNewsletters\\n\\n\\n\\n\\n\\n\\n\\n\\n\\nIndia\\n\\nInternational\\n\\nMonday, Jun 10, 2024\\n\\nePaper\\n\\nToday’s Paper\\n\\nJournalism of Courage\\n\\nHome\\n\\nePaper\\n\\nCities\\n\\nIndia\\n\\nExplained\\n\\nOpinion\\n\\nBusiness\\n\\nEntertainment\\n\\nSports\\n\\nPolitics\\n\\nUPSC\\n\\nLifestyle\\n\\nTech\\n\\nEducation\\n\\nResearch\\n\\nVideos\\n\\nSubscribe\\n\\nSign In\\n\\nTrending\\n\\nUPSC Pack\\n\\nT20 World Cup\\n\\nExpress Shorts\\n\\nMini Crossword\\n\\nPremium Stories\\n\\n🎙️ Podcast\\n\\nHealth & Wellness\\n\\nAdvertisement\\n\\nNews\\n\\nBusiness\\n\\nEconomy\\n\\nConsumption expenditure survey 2022-23: Households spent most on processed food; Haryana, Rajasthan saw highest spends on milk, Kerala on meats\\n\\nConsumption expenditure survey 2022-23: Households spent most on processed food; Haryana, Rajasthan saw highest spends on milk, Kerala on meats\\n\\nTrending\\n\\nJEE Advanced topper Ved Lahoti opens up about his inspiring journey: ‘Never slept without completing my day goal’\\n\\nTrending\\n\\nCamel gets stuck inside a car after vehicle crash in Rajasthan, video goes viral\\n\\nJun 09: Latest News\\n\\n01Iran blames Israeli attack on Gaza on ‘inaction’ by world states, UNSC\\n\\n02Key takeaways from BBC debate on UK polls: Sunak criticised, future leaders clash and smaller parties shine\\n\\n03Defacement of celebrated poet Himadri Nandan Deb’s statue sparks outrage in Tripura\\n\\n04Polls suggest Labour’s Keir Starmer to trump Rishi Sunak, ‘Farage effect’ on UK election\\n\\n05Norwegian wealth fund to vote against Elon Musk’s Tesla pay package\\n\\nAdvertisement\\n\\nSubscribe\\n\\nSign In\\n\\ne-paperPremiumIndiaElections 2024Bollywood\\n\\nOpinionPolitical PulseExplainedScienceCricket\\n\\nSportsWorldBusinessEntertainmentJobs\\n\\nHealthLifestyleTechnologyEducationMovie Review\\n\\nEyeTrendingCitiesNewslettersWebSeries\\n\\nPhotosVideosAudioWeb Stories\\n\\nTrending\\n\\nUPSC Pack\\n\\nT20 World Cup\\n\\nSports\\n\\nIndia win Boom-boom: Rohit's sweet swat-six, Rishabh's adventures continue and two catches go down before Pant pouches two\\n\\nTechnology\\n\\nFrom productivity to photography, best foldable smartphones to consider in 2024\\n\\nTechnology\\n\\nWhat to expect from Apple’s AI-centered WWDC 2024, and what not to\\n\\nTech news of the week: AI frenzy at Computex 2024, WhatsApp Business, and Apple\\n\\nLifestyle\\n\\nFrom 'Jodhpuri sabzi' to mango cream, JP Nadda to host dinner after PM Modi's swearing-in ceremony (see menu inside)\\n\\nAdvertisement\\n\\nBuzzing Now\\n\\nTrending\\n\\nWatch: Researcher feeds his blood to mosquitoes, netizens say 'malaria is afraid of him'\\n\\nTrending\\n\\nPune rain: Scary video of woman stuck inside car amid flood-like situation goes viral\\n\\nTrending\\n\\nWatch: Chain snatcher targets woman at Haryana restaurant in broad daylight, video goes viral\\n\\nTrending\\n\\nJEE Advanced topper Ved Lahoti opens up about his inspiring journey: ‘Never slept without completing my day goal’\\n\\nTrending\\n\\nEyeTrendingCitiesNewslettersWebSeries\\n\\nPhotosVideosAudioWeb Stories\\n\\nTrending\\n\\nUPSC Pack\\n\\nT20 World Cup\\n\\nExpress Shorts\\n\\nMini Crossword\\n\\nPremium Stories\\n\\n🎙️ Podcast\\n\\nHealth & Wellness\\n\\nclose\\n\\nIndia\\n\\nInternational\\n\\nSubscribe\\n\\nSign In\\n\\ne-paper\\n\\nPremium\\n\\nIndia\\n\\nElections 2024\\n\\nBollywood\\n\\nOpinion\\n\\nPolitical Pulse\\n\\nExplained\\n\\nScience\\n\\nCricket\\n\\nSports\\n\\nWorld\\n\\nBusiness\\n\\nEntertainment\\n\\nJobs\\n\\nHealth\\n\\nLifestyle\\n\\nTechnology\\n\\nEducation\\n\\nMovie Review\\n\\nEye\\n\\nTrending\\n\\nCities\\n\\nNewsletters\\n\\nWebSeries\\n\\nPhotos\\n\\nVideos\\n\\nAudio\\n\\nWeb Stories\\n\\nTop Categories\\n\\nExplained News\\n\\nPolitical Pulse\\n\\nLatest Opinion\\n\\nMumbai News\\n\\nDelhi News\\n\\nPune News\\n\\nBangalore News\\n\\nBollywood News\\n\\nHealth News\\n\\nIndia News\\n\\nSports News\\n\\nLifestyle News\\n\\nLatest News\\n\\nCricket\\n\\nTech Reviews\\n\\nGadgets\\n\\nMobile & Tabs\\n\\nFood & Wine\\n\\nElections 2024\\n\\nFitness\\n\\nTrending News\\n\\nLatest News\\n\\nHealth and Wellness\\n\\nEducation News\\n\\nBuy All-Access Plan\\n\\nEntertainment News\\n\\nTrending News\\n\\nPolitical News\\n\\nBusiness News\\n\\nWhy Subscribe Indian Express\\n\\nFitness\\n\\nTrending News\\n\\nLatest News\\n\\nHealth and Wellness\\n\\nEducation News\\n\\nBuy All-Access Plan\\n\\nEntertainment News\\n\\nTrending News\\n\\nPolitical News\\n\\nBusiness News\\n\\nWhy Subscribe Indian Express\\n\\nBuy Digital Premium\\n\\nSubscribe To The Indian Express\\n\\nIndian Express subscription UPSC offer\\n\\nElection Results 2024\\n\\nLok Sabha Election Results\\n\\nLok Sabha Results\\n\\nElection Results 2024 Live Updates\\n\\nLATEST STORIES\\n\\nCancer Horoscope Today, 10-June-2024: Discover what stars say about your career, finance and love\\n\\nGemini Horoscope Today, 10-June-2024: Discover what stars say about your career, finance and love\\n\\nAries Horoscope Today, 10-June-2024: Discover what stars say about your career, finance and love\\n\\nAquarius Horoscope Today, 10-June-2024: Discover what stars say about your career, finance and love\\n\\nTaurus Horoscope Today, 10-June-2024: Discover what stars say about your career, finance and love\\n\\nCapricorn Horoscope Today, 10-June-2024: Discover what stars say about your career, finance and love\\n\\nCompressor machine explosion led to fire that killed 3 at Narela factory: FIR\\n\\nHungary’s Orban sees weakest support in decades in EU vote, opposition Tisza surges\\n\\n1,000 buses may go off city roads in 10 days if contracts not extended\\n\\nNoida morgue scrambles for funds, officials pin hope on CSR help: ‘Have no choice’\\n\\nFollow Us\\n\\n\\n\\n\\n\\n\\n\\n\\n\\nDownload Apps\\n\\n\\n\\n\\n\\n\\n\\n\\n\\nThe Indian Express website has been rated GREEN for its credibility and trustworthiness by Newsguard, a global service that rates news sources for their journalistic standards.\\n\\nExpress Group\\n\\nThe Indian Express\\n\\nieTamil.com\\n\\nThe Financial Express\\n\\nieBangla.com\\n\\nLoksatta\\n\\nieMalayalam.com\\n\\nJansatta\\n\\nieGujarati.com\\n\\ninUth\\n\\nThe ExpressGroup\\n\\nMyInsuranceClub\\n\\nNewsletters\\n\\n26/11 Stories of Strength\\n\\nRamnath Goenka Excellence in Journalism Awards\\n\\nOnline Classes for Kids\\n\\nLight House Journalism\\n\\nCompare Term Insurance\\n\\nQuick Links\\n\\nSports\\n\\nIND vs PAK, T20 World Cup: Bumrah's dismissal of Rizwan turns the tide as India script epic New York comeback\\n\\nSports\\n\\nIND vs PAK, T20 World Cup: India 119 all out, record lowest T20I score against Pakistan\\n\\nOpinion\\n\\n'All the world’s a stage …'\\n\\nExplained\\n\\nWhat happens at a swearing-in ceremony and what oaths have to be taken?\\n\\nLifestyle\\n\\nFrom 'Jodhpuri sabzi' to mango cream, JP Nadda to host dinner after PM Modi's swearing-in ceremony (see menu inside)\\n\\nTechnology\\n\\nFrom productivity to photography, best foldable smartphones to consider in 2024\\n\\nAdvertisement\\n\\nMust Read\\n\\nSports\\n\\nIND vs PAK, T20 World Cup: Bumrah's dismissal of Rizwan turns the tide as India script epic New York comeback\\n\\nSports\\n\\nIND vs PAK, T20 World Cup: India 119 all out, record lowest T20I score against Pakistan\\n\\nSports\\n\\nIndia win Boom-boom: Rohit's sweet swat-six, Rishabh's adventures continue and two catches go down before Pant pouches two\\n\\nTechnology\\n\\n02Ukraine says it struck a top fighter plane deep inside Russia\\n\\n03IND vs PAK: Lowest totals defended in T20 World Cup, India equal record over Pakistan in New York\\n\\n04Only 2 from Bengal – Thakur retained, Sukanta makes debut\\n\\n05Protest against Gaza war draws thousands to the White House\\n\\nAdvertisement\\n\\nSubscribe\\n\\nSign In\\n\\ne-paperPremiumIndiaElections 2024Bollywood\\n\\nOpinionPolitical PulseExplainedScienceCricket\\n\\nSportsWorldBusinessEntertainmentJobs\\n\\nHealthLifestyleTechnologyEducationMovie Review\\n\\nEyeTrendingCitiesNewslettersWebSeries\\n\\nPhotosVideosAudioWeb Stories\\n\\nTrending\\n\\nUPSC Pack\\n\\nT20 World Cup\\n\\nExpress Shorts\\n\\nMini Crossword\\n\\nPremium Stories\\n\\n🎙️ Podcast\\n\\nHealth & Wellness\\n\\nclose\\n\\nIndia\\n\\nInternational\\n\\nSubscribe\\n\\nSign In\\n\\ne-paper\\n\\nPremium\\n\\nIndia\\n\\nElections 2024\\n\\nBollywood\\n\\nOpinion\\n\\nPolitical Pulse\\n\\nExplained\\n\\nScience\\n\\nCricket\\n\\nSports\\n\\nWorld\\n\\nBusiness\\n\\nEntertainment\\n\\nJobs\\n\\nHealth\\n\\nLifestyle\\n\\nTechnology\\n\\nEducation\\n\\nMovie Review\\n\\nEye\\n\\nTrending\\n\\nCities\\n\\nNewsletters\\n\\nWebSeries\\n\\nPhotos\\n\\n‘I didn’t want’ Cabinet berth: first-time Union Minister of State Suresh Gopi\\n\\nWWDC 2024: How to watch and what to expect from ‘Apple Intelligence’ unveil event\\n\\nJoSAA 2024 registration starts today at jossa.nic.in\\n\\nBollywood songs, food trails and breaking barriers: How a British-Indian coach Trishan Patel is fuelling Pakistan’s football dream\\n\\nUnderstanding the Keto flu — from symptoms to causes\\n\\nCourse correction: Haryana CM to hand over 100-sq yard plots to 7,500 beneficiaries today\\n\\nPolice arrest 1 in Tripura ADC recruitment exam answer key leak case\\n\\nInd vs Pak: Delhi Police celebrate India’s win with a quirky message for NYPD, post goes viral\\n\\nMunjya box office collection day 3: Mona Singh and Sharvari’s horror comedy surpasses Mr and Mrs Mahi and Maidaan, mints Rs 19 cr\\n\\nFollow Us\\n\\n\\n\\n\\n\\n\\n\\n\\n\\nDownload Apps\\n\\nRead |\\n\\nHow 44 are NEET UG toppers because of a wrong answer — and wrong textbook\\n\\nA former UPSC chairman and three other academicians have been selected for this panel, which has started investigation and is expected to announce its verdict before next Saturday.\\n\\nThe verdict will not affect other results, the NTA said. “We are aware that the counselling process (for MBBS courses) is about to begin, but this will not affect the admission process. This special committee will give their verdict before next Saturday and accordingly the next step will be taken, but we are trying our best to ensure there is no hiccup in the admission process,” Singh told The Indian Express.\\n\\nAs of now, a total of 1,563 students (six of whom got a spot in the top ranks) were given grace marks based on a normalisation formula, which the NTA has not shared. These candidates were from six centres — two in Chhattisgarh (one each in Balod and Dantewada), one each in Meghalaya, Surat, Haryana’s Bahadurgarh, and Chandigarh.\\n\\nAdvertisement\\n\\nMeanwhile, students have filed petitions in a number of high courts.\\n\\nOne of these writ petitions, filed by a NEET UG candidate in the Delhi High Court, was listed for hearing on June 12 after the issuance of notice by a vacation bench on June 7. This petitioner has challenged the final answer key of question number 29 in Physics as well as the compensatory time given to the candidates at a few centres.\\n\\nAdvertisement\\n\\nNTA declared the NEET UG 2024 result on June 4 — 10 days before the scheduled date — and a record 67 students achieved the NEET all-India rank (AIR) 1. Of these 67, 17 candidates got the rank out of merit, 44 students got the rank due to a wrong answer in the Physics section and six students got the rank due to grace marks given because of loss of exam time.\\n\\nNEET UG is the qualifying entrance exam for admission to Bachelor of Medicine and Bachelor of Surgery (MBBS), Bachelor of Dental Surgery (BDS), Bachelor of Ayurveda, Medicine and Surgery (BAMS), Bachelor of Siddha Medicine and Surgery (BSMS), Bachelor of Unani Medicine and Surgery (BUMS), and Bachelor of Homoeopathic Medicine and Surgery (BHMS) and BSc (H) Nursing courses.\\n\\nThe NEET UG cut-off this year for the UR/ EWS category candidates has gone up from 720-137 last year to 720-164 this year. For the scheduled caste, scheduled tribe and other backward class candidates, the NEET UG 2024 cut-off has increased to 163-129 from 136-107 last year. Similarly, the NEET UG 2024 cut off for SC, ST and OBC-PH candidates, the cut off has increased from 120-107 last year to 145-129 this year. As many as 11,65,904 students in the UR/ EWS category have been placed in the 50th percentile category.\\n\\nApart from the uproar on social media, the discrepancies in the results have also been picked up by political parties. “The Modi government is directly responsible for this. For the candidates appearing in recruitment exams, then facing several irregularities, getting caught in the labyrinth of paper leaks, is playing with their futures. The BJP has cheated the youth of the country,” Congress chief Mallikarjun Kharge said in a post in Hindi on X on Friday.\\n\\nAdvertisement\\n\\nAnnounced on June 4, the results drew immediate attention for the extraordinarily large number of candidates who got the perfect score of 720/720 and for the fact that some candidates got 718 or 719 — marks that others claimed were impossible to get in the scheme of the exam. There have also been allegations of a paper leak, which the NTA has denied.\\n\\nAdvertisement\\n\\nOn Saturday, NTA Director General Subodh Kumar Singh denied irregularities in the results. He attributed the unusually high number of top rankers (67) to a relatively easier paper this year and the agency’s decision to award additional marks to students whose exams did not start on time. Singh, however, also told reporters that a committee will look into the results of the 1,500 candidates who were awarded grace marks.\\n\\nRead |\\n\\nHow 44 are NEET UG toppers because of a wrong answer — and wrong textbook \\nAnswer:\"\n",
      "  ]\n",
      "}\n",
      "\u001b[36;1m\u001b[1;3m[llm/end]\u001b[0m \u001b[1m[chain:RunnableSequence > llm:ChatGoogleGenerativeAI] [2.46s] Exiting LLM run with output:\n",
      "\u001b[0m{\n",
      "  \"generations\": [\n",
      "    [\n",
      "      {\n",
      "        \"text\": \"The NTA formed a four-member committee to review the results of over 1,500 candidates who received grace marks. The committee is expected to announce its verdict before next Saturday. The NTA has stated that the verdict will not affect the admission process for MBBS courses. \\n\",\n",
      "        \"generation_info\": {\n",
      "          \"finish_reason\": \"STOP\",\n",
      "          \"safety_ratings\": [\n",
      "            {\n",
      "              \"category\": \"HARM_CATEGORY_SEXUALLY_EXPLICIT\",\n",
      "              \"probability\": \"NEGLIGIBLE\",\n",
      "              \"blocked\": false\n",
      "            },\n",
      "            {\n",
      "              \"category\": \"HARM_CATEGORY_HATE_SPEECH\",\n",
      "              \"probability\": \"NEGLIGIBLE\",\n",
      "              \"blocked\": false\n",
      "            },\n",
      "            {\n",
      "              \"category\": \"HARM_CATEGORY_HARASSMENT\",\n",
      "              \"probability\": \"NEGLIGIBLE\",\n",
      "              \"blocked\": false\n",
      "            },\n",
      "            {\n",
      "              \"category\": \"HARM_CATEGORY_DANGEROUS_CONTENT\",\n",
      "              \"probability\": \"NEGLIGIBLE\",\n",
      "              \"blocked\": false\n",
      "            }\n",
      "          ]\n",
      "        },\n",
      "        \"type\": \"ChatGeneration\",\n",
      "        \"message\": {\n",
      "          \"lc\": 1,\n",
      "          \"type\": \"constructor\",\n",
      "          \"id\": [\n",
      "            \"langchain\",\n",
      "            \"schema\",\n",
      "            \"messages\",\n",
      "            \"AIMessage\"\n",
      "          ],\n",
      "          \"kwargs\": {\n",
      "            \"content\": \"The NTA formed a four-member committee to review the results of over 1,500 candidates who received grace marks. The committee is expected to announce its verdict before next Saturday. The NTA has stated that the verdict will not affect the admission process for MBBS courses. \\n\",\n",
      "            \"response_metadata\": {\n",
      "              \"prompt_feedback\": {\n",
      "                \"block_reason\": 0,\n",
      "                \"safety_ratings\": []\n",
      "              },\n",
      "              \"finish_reason\": \"STOP\",\n",
      "              \"safety_ratings\": [\n",
      "                {\n",
      "                  \"category\": \"HARM_CATEGORY_SEXUALLY_EXPLICIT\",\n",
      "                  \"probability\": \"NEGLIGIBLE\",\n",
      "                  \"blocked\": false\n",
      "                },\n",
      "                {\n",
      "                  \"category\": \"HARM_CATEGORY_HATE_SPEECH\",\n",
      "                  \"probability\": \"NEGLIGIBLE\",\n",
      "                  \"blocked\": false\n",
      "                },\n",
      "                {\n",
      "                  \"category\": \"HARM_CATEGORY_HARASSMENT\",\n",
      "                  \"probability\": \"NEGLIGIBLE\",\n",
      "                  \"blocked\": false\n",
      "                },\n",
      "                {\n",
      "                  \"category\": \"HARM_CATEGORY_DANGEROUS_CONTENT\",\n",
      "                  \"probability\": \"NEGLIGIBLE\",\n",
      "                  \"blocked\": false\n",
      "                }\n",
      "              ]\n",
      "            },\n",
      "            \"type\": \"ai\",\n",
      "            \"id\": \"run-d76d51ab-48d0-4bee-9bfa-e2f7e7d8111d-0\",\n",
      "            \"usage_metadata\": {\n",
      "              \"input_tokens\": 5382,\n",
      "              \"output_tokens\": 55,\n",
      "              \"total_tokens\": 5437\n",
      "            },\n",
      "            \"tool_calls\": [],\n",
      "            \"invalid_tool_calls\": []\n",
      "          }\n",
      "        }\n",
      "      }\n",
      "    ]\n",
      "  ],\n",
      "  \"llm_output\": {\n",
      "    \"prompt_feedback\": {\n",
      "      \"block_reason\": 0,\n",
      "      \"safety_ratings\": []\n",
      "    }\n",
      "  },\n",
      "  \"run\": null\n",
      "}\n",
      "\u001b[32;1m\u001b[1;3m[chain/start]\u001b[0m \u001b[1m[chain:RunnableSequence > parser:StrOutputParser] Entering Parser run with input:\n",
      "\u001b[0m[inputs]\n",
      "\u001b[36;1m\u001b[1;3m[chain/end]\u001b[0m \u001b[1m[chain:RunnableSequence > parser:StrOutputParser] [0ms] Exiting Parser run with output:\n",
      "\u001b[0m{\n",
      "  \"output\": \"The NTA formed a four-member committee to review the results of over 1,500 candidates who received grace marks. The committee is expected to announce its verdict before next Saturday. The NTA has stated that the verdict will not affect the admission process for MBBS courses. \\n\"\n",
      "}\n",
      "\u001b[36;1m\u001b[1;3m[chain/end]\u001b[0m \u001b[1m[chain:RunnableSequence] [14.57s] Exiting Chain run with output:\n",
      "\u001b[0m{\n",
      "  \"output\": \"The NTA formed a four-member committee to review the results of over 1,500 candidates who received grace marks. The committee is expected to announce its verdict before next Saturday. The NTA has stated that the verdict will not affect the admission process for MBBS courses. \\n\"\n",
      "}\n"
     ]
    }
   ],
   "source": [
    "# Test RAG chain\n",
    "langchain.debug = True\n",
    "rag_chain.invoke(\"What steps were taken regarding NEET results\")\n",
    "langchain.debug = False"
   ]
  },
  {
   "cell_type": "code",
   "execution_count": 20,
   "id": "49ada564-cf2c-4dfd-81f3-005e29f8f47f",
   "metadata": {},
   "outputs": [],
   "source": [
    "# Run chain for all input questions and store output\n",
    "rag_answers = []\n",
    "for q in testset_df['question']:\n",
    "    rag_answers.append(rag_chain.invoke(q))"
   ]
  },
  {
   "cell_type": "code",
   "execution_count": 21,
   "id": "ca2db4af-1c62-42c7-90fc-915ce5fdc93f",
   "metadata": {},
   "outputs": [],
   "source": [
    "# Add details to eval data\n",
    "eval_data.append({\n",
    "    \"answers\": rag_answers,\n",
    "    \"chain\": rag_chain,\n",
    "    \"desc\": \"Chunk 1000, Overlap 200, Multi query, LOTR (Google embedding-001, Hugging Face bge-large-en, Sentence Transformer all-mpnet-base-v2), Stuff chain\"\n",
    "})"
   ]
  },
  {
   "cell_type": "markdown",
   "id": "5e9793ab-1a9d-47fe-839f-3ac2932c92b9",
   "metadata": {
    "jp-MarkdownHeadingCollapsed": true
   },
   "source": [
    "#### Evaluate Exploratory RAGs"
   ]
  },
  {
   "cell_type": "markdown",
   "id": "d07c7918-313a-4206-8b7d-a85499932a62",
   "metadata": {},
   "source": [
    "To use Ragas with langchain-google-genai, make these fixes in local installation and notebook:\n",
    "- https://github.com/explodinggradients/ragas/pull/979/files\n",
    "- https://github.com/explodinggradients/ragas/pull/657/files\n",
    "- https://github.com/ipython/ipython/issues/11338#issuecomment-646539516"
   ]
  },
  {
   "cell_type": "code",
   "execution_count": 7,
   "id": "e84568dc-9036-498c-92e4-f4670e88b64a",
   "metadata": {},
   "outputs": [],
   "source": [
    "# I seem to have lost the questions data file I used here \n",
    "# testset_df = pd.read_pickle('.......')\n",
    "# testset_df"
   ]
  },
  {
   "cell_type": "code",
   "execution_count": 26,
   "id": "2654fdeb-0026-4393-9bd5-dc9af52c4bda",
   "metadata": {},
   "outputs": [],
   "source": [
    "# Imports\n",
    "from datasets import load_dataset, Dataset, DatasetDict\n",
    "from ragas import evaluate\n",
    "from ragas.metrics import faithfulness, answer_relevancy, context_recall, context_precision\n",
    "from ragas.llms import LangchainLLMWrapper\n",
    "from ragas.embeddings import LangchainEmbeddingsWrapper\n",
    "# import ragas\n",
    "import pickle"
   ]
  },
  {
   "cell_type": "code",
   "execution_count": 30,
   "id": "b5df978a-0631-4a3f-a41f-05237acbfdc2",
   "metadata": {},
   "outputs": [],
   "source": [
    "# Store basic eval data to disk\n",
    "eval_data_store = []\n",
    "for datum in eval_data:\n",
    "    eval_data_store.append({'answers': datum['answers'], 'desc': datum['desc']})\n",
    "pickle.dump(eval_data_store, open('./data/eval_data.pickle', 'wb'))"
   ]
  },
  {
   "cell_type": "code",
   "execution_count": 15,
   "id": "26864cda-9149-4508-a2a0-5472902789fc",
   "metadata": {},
   "outputs": [],
   "source": [
    "# Utility to generate eval dataset from answers\n",
    "def ans_to_eval_dataset(df, answers):\n",
    "    eval_df = df[['question', 'contexts', 'ground_truth']]\n",
    "    eval_df = eval_df.assign(answer=answers)\n",
    "    dataset = Dataset.from_pandas(eval_df)\n",
    "    return dataset"
   ]
  },
  {
   "cell_type": "code",
   "execution_count": 34,
   "id": "0568cf9b-01ea-4d7c-b98e-22e64a9b0204",
   "metadata": {},
   "outputs": [
    {
     "data": {
      "application/vnd.jupyter.widget-view+json": {
       "model_id": "39200bdbcf104fe1b5b68e61de76ed31",
       "version_major": 2,
       "version_minor": 0
      },
      "text/plain": [
       "Evaluating:   0%|          | 0/68 [00:00<?, ?it/s]"
      ]
     },
     "metadata": {},
     "output_type": "display_data"
    },
    {
     "data": {
      "application/vnd.jupyter.widget-view+json": {
       "model_id": "81856bba5aad47d08c8a36db96b69466",
       "version_major": 2,
       "version_minor": 0
      },
      "text/plain": [
       "Evaluating:   0%|          | 0/68 [00:00<?, ?it/s]"
      ]
     },
     "metadata": {},
     "output_type": "display_data"
    },
    {
     "data": {
      "application/vnd.jupyter.widget-view+json": {
       "model_id": "72456d14f4c94d53ae7c328ec98daf58",
       "version_major": 2,
       "version_minor": 0
      },
      "text/plain": [
       "Evaluating:   0%|          | 0/68 [00:00<?, ?it/s]"
      ]
     },
     "metadata": {},
     "output_type": "display_data"
    },
    {
     "data": {
      "application/vnd.jupyter.widget-view+json": {
       "model_id": "6d4f9fa0988b42718a65e6770f59c0a1",
       "version_major": 2,
       "version_minor": 0
      },
      "text/plain": [
       "Evaluating:   0%|          | 0/68 [00:00<?, ?it/s]"
      ]
     },
     "metadata": {},
     "output_type": "display_data"
    }
   ],
   "source": [
    "# Loop eval data to calculate results\n",
    "for i in range(len(eval_data)):\n",
    "\n",
    "    # Generate dataset from answers\n",
    "    dataset = ans_to_eval_dataset(testset_df, eval_data[i]['answers'])\n",
    "\n",
    "    # Evaluation results\n",
    "    result = evaluate(\n",
    "        dataset,\n",
    "        metrics=[\n",
    "            context_precision,\n",
    "            faithfulness,\n",
    "            answer_relevancy,\n",
    "            context_recall\n",
    "        ]\n",
    "    )\n",
    "\n",
    "    # Add results to eval data\n",
    "    eval_data[i]['results'] = result"
   ]
  },
  {
   "cell_type": "code",
   "execution_count": 35,
   "id": "39892f46-20c7-4e42-b640-ce46169b11f9",
   "metadata": {},
   "outputs": [],
   "source": [
    "# Store basic eval data to disk\n",
    "eval_data_store_result = []\n",
    "for datum in eval_data:\n",
    "    eval_data_store_result.append({'answers': datum['answers'], 'desc': datum['desc'], 'results': datum['results']})\n",
    "pickle.dump(eval_data_store_result, open('./data/eval_data_results.pickle', 'wb'))"
   ]
  },
  {
   "cell_type": "code",
   "execution_count": 38,
   "id": "5d9a7f20-443c-466c-8c94-57f6c45e3bc9",
   "metadata": {},
   "outputs": [
    {
     "data": {
      "text/plain": [
       "{'context_precision': 0.9412, 'faithfulness': 0.8127, 'answer_relevancy': 0.6862, 'context_recall': 0.9412}"
      ]
     },
     "execution_count": 38,
     "metadata": {},
     "output_type": "execute_result"
    }
   ],
   "source": [
    "eval_data[0]['results']"
   ]
  },
  {
   "cell_type": "code",
   "execution_count": 43,
   "id": "37dbf120-9b2d-4611-a0d1-bd1986a2acbb",
   "metadata": {},
   "outputs": [],
   "source": [
    "# Results table\n",
    "results_data = []\n",
    "for datum in eval_data:\n",
    "    results_data.append({\n",
    "        \"model\": datum[\"desc\"],\n",
    "        \"context_precision\": datum[\"results\"][\"context_precision\"],\n",
    "        \"faithfulness\": datum[\"results\"][\"faithfulness\"],\n",
    "        \"answer_relevancy\": datum[\"results\"][\"answer_relevancy\"],\n",
    "        \"context_recall\": datum[\"results\"][\"context_recall\"],\n",
    "    })"
   ]
  },
  {
   "cell_type": "code",
   "execution_count": 45,
   "id": "7206730c-b3a8-4368-9a04-41dc9bc3d614",
   "metadata": {},
   "outputs": [
    {
     "data": {
      "text/html": [
       "<div>\n",
       "<style scoped>\n",
       "    .dataframe tbody tr th:only-of-type {\n",
       "        vertical-align: middle;\n",
       "    }\n",
       "\n",
       "    .dataframe tbody tr th {\n",
       "        vertical-align: top;\n",
       "    }\n",
       "\n",
       "    .dataframe thead th {\n",
       "        text-align: right;\n",
       "    }\n",
       "</style>\n",
       "<table border=\"1\" class=\"dataframe\">\n",
       "  <thead>\n",
       "    <tr style=\"text-align: right;\">\n",
       "      <th></th>\n",
       "      <th>model</th>\n",
       "      <th>context_precision</th>\n",
       "      <th>faithfulness</th>\n",
       "      <th>answer_relevancy</th>\n",
       "      <th>context_recall</th>\n",
       "    </tr>\n",
       "  </thead>\n",
       "  <tbody>\n",
       "    <tr>\n",
       "      <th>0</th>\n",
       "      <td>Chunk 1000, Overlap 200, No query processing, Google embedding-001, Stuff chain</td>\n",
       "      <td>0.941176</td>\n",
       "      <td>0.812745</td>\n",
       "      <td>0.686181</td>\n",
       "      <td>0.941176</td>\n",
       "    </tr>\n",
       "    <tr>\n",
       "      <th>1</th>\n",
       "      <td>Chunk 1000, Overlap 200, Multi query, Google embedding-001, Stuff chain</td>\n",
       "      <td>0.941176</td>\n",
       "      <td>0.862745</td>\n",
       "      <td>0.648954</td>\n",
       "      <td>0.941176</td>\n",
       "    </tr>\n",
       "    <tr>\n",
       "      <th>2</th>\n",
       "      <td>Chunk 1000, Overlap 200, No query processing, LOTR (Google embedding-001, Hugging Face bge-large-en, Sentence Transformer all-mpnet-base-v2), Stuff chain</td>\n",
       "      <td>0.941176</td>\n",
       "      <td>0.754902</td>\n",
       "      <td>0.797582</td>\n",
       "      <td>0.941176</td>\n",
       "    </tr>\n",
       "    <tr>\n",
       "      <th>3</th>\n",
       "      <td>Chunk 1000, Overlap 200, Multi query, LOTR (Google embedding-001, Hugging Face bge-large-en, Sentence Transformer all-mpnet-base-v2), Stuff chain</td>\n",
       "      <td>0.941176</td>\n",
       "      <td>0.789216</td>\n",
       "      <td>0.812543</td>\n",
       "      <td>0.941176</td>\n",
       "    </tr>\n",
       "  </tbody>\n",
       "</table>\n",
       "</div>"
      ],
      "text/plain": [
       "                                                                                                                                                       model  \\\n",
       "0                                                                            Chunk 1000, Overlap 200, No query processing, Google embedding-001, Stuff chain   \n",
       "1                                                                                    Chunk 1000, Overlap 200, Multi query, Google embedding-001, Stuff chain   \n",
       "2  Chunk 1000, Overlap 200, No query processing, LOTR (Google embedding-001, Hugging Face bge-large-en, Sentence Transformer all-mpnet-base-v2), Stuff chain   \n",
       "3          Chunk 1000, Overlap 200, Multi query, LOTR (Google embedding-001, Hugging Face bge-large-en, Sentence Transformer all-mpnet-base-v2), Stuff chain   \n",
       "\n",
       "   context_precision  faithfulness  answer_relevancy  context_recall  \n",
       "0           0.941176      0.812745          0.686181        0.941176  \n",
       "1           0.941176      0.862745          0.648954        0.941176  \n",
       "2           0.941176      0.754902          0.797582        0.941176  \n",
       "3           0.941176      0.789216          0.812543        0.941176  "
      ]
     },
     "execution_count": 45,
     "metadata": {},
     "output_type": "execute_result"
    }
   ],
   "source": [
    "pd.set_option('display.max_colwidth', None)\n",
    "pd.DataFrame(results_data)"
   ]
  },
  {
   "cell_type": "markdown",
   "id": "23864c82-76fe-4bac-9122-5107d7e65841",
   "metadata": {},
   "source": [
    "## Evaluation"
   ]
  },
  {
   "cell_type": "markdown",
   "id": "a998a6fc-503c-403f-a9dc-ee31e3a9b538",
   "metadata": {},
   "source": [
    "To use Ragas with langchain-google-genai, make these fixes in local installation and notebook:\n",
    "- https://github.com/explodinggradients/ragas/pull/979/files\n",
    "- https://github.com/explodinggradients/ragas/pull/657/files\n",
    "- https://github.com/ipython/ipython/issues/11338#issuecomment-646539516"
   ]
  },
  {
   "cell_type": "code",
   "execution_count": 22,
   "id": "275d22e5-f2e7-43b0-850c-a5b55f37633f",
   "metadata": {},
   "outputs": [],
   "source": [
    "# Imports\n",
    "from ragas.testset.generator import TestsetGenerator\n",
    "from ragas.testset.evolutions import simple, reasoning, multi_context\n",
    "from ragas.llms import LangchainLLMWrapper\n",
    "from ragas.embeddings import LangchainEmbeddingsWrapper\n",
    "from ragas.metrics import answer_relevancy, faithfulness, context_recall, context_precision\n",
    "from ragas import evaluate\n",
    "from datasets import load_dataset, Dataset, DatasetDict\n",
    "from langchain_core.embeddings import Embeddings\n",
    "from langchain_core.runnables import RunnablePassthrough\n",
    "from langchain_community.vectorstores import Chroma\n",
    "from langchain_community.document_loaders import UnstructuredURLLoader, AsyncHtmlLoader\n",
    "from langchain_community.document_transformers import Html2TextTransformer, LongContextReorder, EmbeddingsRedundantFilter\n",
    "from langchain_community.embeddings import HuggingFaceBgeEmbeddings, SentenceTransformerEmbeddings\n",
    "from langchain.retrievers import MultiQueryRetriever, MergerRetriever, ContextualCompressionRetriever\n",
    "from langchain.retrievers.document_compressors import DocumentCompressorPipeline\n",
    "from langchain_core.output_parsers import StrOutputParser\n",
    "from langchain_openai import ChatOpenAI, OpenAIEmbeddings\n",
    "from langchain_google_genai import ChatGoogleGenerativeAI, GoogleGenerativeAIEmbeddings\n",
    "from langchain.text_splitter import RecursiveCharacterTextSplitter\n",
    "from langchain import hub\n",
    "import pandas as pd\n",
    "import numpy as np\n",
    "import pickle"
   ]
  },
  {
   "cell_type": "markdown",
   "id": "9a97d087-c068-4a54-8cbc-880f8af7e01e",
   "metadata": {
    "jp-MarkdownHeadingCollapsed": true
   },
   "source": [
    "### Generate Test Data"
   ]
  },
  {
   "cell_type": "code",
   "execution_count": 5,
   "id": "f42ad62f-52d8-46b2-8587-623835bdc5ce",
   "metadata": {},
   "outputs": [],
   "source": [
    "# Data URLs\n",
    "data_urls = [\n",
    "    'https://www.nature.com/articles/d41586-024-01544-0',\n",
    "    'https://www.nature.com/articles/d41586-024-01442-5',\n",
    "    'https://www.nature.com/articles/d41586-024-01314-y',\n",
    "    'https://www.nature.com/articles/d41586-024-01029-0'\n",
    "]"
   ]
  },
  {
   "cell_type": "code",
   "execution_count": 6,
   "id": "155f067b-70a2-42a5-afa9-c39c0a5bf2c7",
   "metadata": {},
   "outputs": [
    {
     "name": "stderr",
     "output_type": "stream",
     "text": [
      "Fetching pages: 100%|############################################################################################################| 4/4 [00:05<00:00,  1.28s/it]\n"
     ]
    }
   ],
   "source": [
    "# Load documents with html loader and html2text transformer\n",
    "html2text = Html2TextTransformer()\n",
    "loader = AsyncHtmlLoader(data_urls)\n",
    "raw_docs = loader.load()\n",
    "docs = html2text.transform_documents(raw_docs)"
   ]
  },
  {
   "cell_type": "code",
   "execution_count": 7,
   "id": "ad0ae9e9-8c17-4276-95d8-578a795d0126",
   "metadata": {},
   "outputs": [
    {
     "data": {
      "text/plain": [
       "[22676, 23269, 27328, 23926]"
      ]
     },
     "execution_count": 7,
     "metadata": {},
     "output_type": "execute_result"
    }
   ],
   "source": [
    "# Print doc sizes\n",
    "[len(doc.page_content) for doc in docs]"
   ]
  },
  {
   "cell_type": "code",
   "execution_count": null,
   "id": "9cb197af-bfb3-4055-89f2-fca55e6bf0f8",
   "metadata": {
    "scrolled": true
   },
   "outputs": [],
   "source": [
    "# Setup data generators\n",
    "generator_llm = ChatGoogleGenerativeAI(model=\"gemini-1.5-flash\", temperature=0)\n",
    "critic_llm = ChatGoogleGenerativeAI(model=\"gemini-1.5-flash\", temperature=0)\n",
    "# embeddings = GoogleGenerativeAIEmbeddings(model=\"gemini-1.5-flash\")\n",
    "embeddings = HuggingFaceBgeEmbeddings(model_name=\"BAAI/bge-large-en\", model_kwargs={\"device\":\"cpu\"}, encode_kwargs = {'normalize_embeddings': False})\n",
    "generator = TestsetGenerator.from_langchain(\n",
    "    generator_llm,\n",
    "    critic_llm,\n",
    "    embeddings\n",
    ")\n",
    "\n",
    "# Generate testset\n",
    "testset = generator.generate_with_langchain_docs(docs, test_size=100, distributions={simple: 0.5, reasoning: 0.25, multi_context: 0.25})"
   ]
  },
  {
   "cell_type": "code",
   "execution_count": 19,
   "id": "134fabf4-d23a-47cd-8598-5951572c4a8f",
   "metadata": {},
   "outputs": [
    {
     "data": {
      "text/html": [
       "<div>\n",
       "<style scoped>\n",
       "    .dataframe tbody tr th:only-of-type {\n",
       "        vertical-align: middle;\n",
       "    }\n",
       "\n",
       "    .dataframe tbody tr th {\n",
       "        vertical-align: top;\n",
       "    }\n",
       "\n",
       "    .dataframe thead th {\n",
       "        text-align: right;\n",
       "    }\n",
       "</style>\n",
       "<table border=\"1\" class=\"dataframe\">\n",
       "  <thead>\n",
       "    <tr style=\"text-align: right;\">\n",
       "      <th></th>\n",
       "      <th>question</th>\n",
       "      <th>contexts</th>\n",
       "      <th>ground_truth</th>\n",
       "      <th>evolution_type</th>\n",
       "      <th>metadata</th>\n",
       "      <th>episode_done</th>\n",
       "    </tr>\n",
       "  </thead>\n",
       "  <tbody>\n",
       "    <tr>\n",
       "      <th>0</th>\n",
       "      <td>Question: What are the key features and advant...</td>\n",
       "      <td>[Skip to main content\\n\\nThank you for visitin...</td>\n",
       "      <td>The Blackwell chip is expected to be significa...</td>\n",
       "      <td>simple</td>\n",
       "      <td>[{'source': 'https://www.nature.com/articles/d...</td>\n",
       "      <td>True</td>\n",
       "    </tr>\n",
       "    <tr>\n",
       "      <th>1</th>\n",
       "      <td>What are the different interpretations of the ...</td>\n",
       "      <td>[ people, and because the signals are hard to ...</td>\n",
       "      <td>The \"human in the loop\" principle for autonomo...</td>\n",
       "      <td>simple</td>\n",
       "      <td>[{'source': 'https://www.nature.com/articles/d...</td>\n",
       "      <td>True</td>\n",
       "    </tr>\n",
       "    <tr>\n",
       "      <th>2</th>\n",
       "      <td>What is the purpose of Nature Briefing? \\n</td>\n",
       "      <td>[ in science, free\\nto your inbox daily.\\n\\nEm...</td>\n",
       "      <td>Nature Briefing is a daily email newsletter th...</td>\n",
       "      <td>simple</td>\n",
       "      <td>[{'source': 'https://www.nature.com/articles/d...</td>\n",
       "      <td>True</td>\n",
       "    </tr>\n",
       "    <tr>\n",
       "      <th>3</th>\n",
       "      <td>Question: How do researchers demonstrate that ...</td>\n",
       "      <td>[\\nacademic papers and much more. Yet it is we...</td>\n",
       "      <td>Researchers demonstrate LLMs' reasoning abilit...</td>\n",
       "      <td>simple</td>\n",
       "      <td>[{'source': 'https://www.nature.com/articles/d...</td>\n",
       "      <td>True</td>\n",
       "    </tr>\n",
       "    <tr>\n",
       "      <th>4</th>\n",
       "      <td>question: How do AI chips address the energy i...</td>\n",
       "      <td>[ 2-bit format because the genetic information...</td>\n",
       "      <td>AI chips address the energy inefficiency of mo...</td>\n",
       "      <td>simple</td>\n",
       "      <td>[{'source': 'https://www.nature.com/articles/d...</td>\n",
       "      <td>True</td>\n",
       "    </tr>\n",
       "    <tr>\n",
       "      <th>...</th>\n",
       "      <td>...</td>\n",
       "      <td>...</td>\n",
       "      <td>...</td>\n",
       "      <td>...</td>\n",
       "      <td>...</td>\n",
       "      <td>...</td>\n",
       "    </tr>\n",
       "    <tr>\n",
       "      <th>93</th>\n",
       "      <td>How does Nature support researcher work?</td>\n",
       "      <td>[\\n  * Current issue \\n  * Browse issues \\n  *...</td>\n",
       "      <td>Nature provides various services to support re...</td>\n",
       "      <td>multi_context</td>\n",
       "      <td>[{'source': 'https://www.nature.com/articles/d...</td>\n",
       "      <td>True</td>\n",
       "    </tr>\n",
       "    <tr>\n",
       "      <th>94</th>\n",
       "      <td>How do LLMs trained on text form internal repr...</td>\n",
       "      <td>[\\nacademic papers and much more. Yet it is we...</td>\n",
       "      <td>LLMs trained on text form internal representat...</td>\n",
       "      <td>multi_context</td>\n",
       "      <td>[{'source': 'https://www.nature.com/articles/d...</td>\n",
       "      <td>True</td>\n",
       "    </tr>\n",
       "    <tr>\n",
       "      <th>95</th>\n",
       "      <td>How do robotic foundation models use diverse d...</td>\n",
       "      <td>[ case from a diversity of\\nrobot forms, from ...</td>\n",
       "      <td>Robotic foundation models use diverse data to ...</td>\n",
       "      <td>multi_context</td>\n",
       "      <td>[{'source': 'https://www.nature.com/articles/d...</td>\n",
       "      <td>True</td>\n",
       "    </tr>\n",
       "    <tr>\n",
       "      <th>96</th>\n",
       "      <td>How might foundation models impact robotics, g...</td>\n",
       "      <td>[Skip to main content\\n\\nThank you for visitin...</td>\n",
       "      <td>nan</td>\n",
       "      <td>multi_context</td>\n",
       "      <td>[{'source': 'https://www.nature.com/articles/d...</td>\n",
       "      <td>True</td>\n",
       "    </tr>\n",
       "    <tr>\n",
       "      <th>97</th>\n",
       "      <td>How do AI weapons' accuracy with radar signals...</td>\n",
       "      <td>[ the country “already conducts fully\\nrobotic...</td>\n",
       "      <td>AI weapons are more accurate with radar signal...</td>\n",
       "      <td>multi_context</td>\n",
       "      <td>[{'source': 'https://www.nature.com/articles/d...</td>\n",
       "      <td>True</td>\n",
       "    </tr>\n",
       "  </tbody>\n",
       "</table>\n",
       "<p>98 rows × 6 columns</p>\n",
       "</div>"
      ],
      "text/plain": [
       "                                             question  \\\n",
       "0   Question: What are the key features and advant...   \n",
       "1   What are the different interpretations of the ...   \n",
       "2          What is the purpose of Nature Briefing? \\n   \n",
       "3   Question: How do researchers demonstrate that ...   \n",
       "4   question: How do AI chips address the energy i...   \n",
       "..                                                ...   \n",
       "93           How does Nature support researcher work?   \n",
       "94  How do LLMs trained on text form internal repr...   \n",
       "95  How do robotic foundation models use diverse d...   \n",
       "96  How might foundation models impact robotics, g...   \n",
       "97  How do AI weapons' accuracy with radar signals...   \n",
       "\n",
       "                                             contexts  \\\n",
       "0   [Skip to main content\\n\\nThank you for visitin...   \n",
       "1   [ people, and because the signals are hard to ...   \n",
       "2   [ in science, free\\nto your inbox daily.\\n\\nEm...   \n",
       "3   [\\nacademic papers and much more. Yet it is we...   \n",
       "4   [ 2-bit format because the genetic information...   \n",
       "..                                                ...   \n",
       "93  [\\n  * Current issue \\n  * Browse issues \\n  *...   \n",
       "94  [\\nacademic papers and much more. Yet it is we...   \n",
       "95  [ case from a diversity of\\nrobot forms, from ...   \n",
       "96  [Skip to main content\\n\\nThank you for visitin...   \n",
       "97  [ the country “already conducts fully\\nrobotic...   \n",
       "\n",
       "                                         ground_truth evolution_type  \\\n",
       "0   The Blackwell chip is expected to be significa...         simple   \n",
       "1   The \"human in the loop\" principle for autonomo...         simple   \n",
       "2   Nature Briefing is a daily email newsletter th...         simple   \n",
       "3   Researchers demonstrate LLMs' reasoning abilit...         simple   \n",
       "4   AI chips address the energy inefficiency of mo...         simple   \n",
       "..                                                ...            ...   \n",
       "93  Nature provides various services to support re...  multi_context   \n",
       "94  LLMs trained on text form internal representat...  multi_context   \n",
       "95  Robotic foundation models use diverse data to ...  multi_context   \n",
       "96                                                nan  multi_context   \n",
       "97  AI weapons are more accurate with radar signal...  multi_context   \n",
       "\n",
       "                                             metadata  episode_done  \n",
       "0   [{'source': 'https://www.nature.com/articles/d...          True  \n",
       "1   [{'source': 'https://www.nature.com/articles/d...          True  \n",
       "2   [{'source': 'https://www.nature.com/articles/d...          True  \n",
       "3   [{'source': 'https://www.nature.com/articles/d...          True  \n",
       "4   [{'source': 'https://www.nature.com/articles/d...          True  \n",
       "..                                                ...           ...  \n",
       "93  [{'source': 'https://www.nature.com/articles/d...          True  \n",
       "94  [{'source': 'https://www.nature.com/articles/d...          True  \n",
       "95  [{'source': 'https://www.nature.com/articles/d...          True  \n",
       "96  [{'source': 'https://www.nature.com/articles/d...          True  \n",
       "97  [{'source': 'https://www.nature.com/articles/d...          True  \n",
       "\n",
       "[98 rows x 6 columns]"
      ]
     },
     "execution_count": 19,
     "metadata": {},
     "output_type": "execute_result"
    }
   ],
   "source": [
    "# Create dataframe from generared questions\n",
    "df = testset.to_pandas()\n",
    "df"
   ]
  },
  {
   "cell_type": "code",
   "execution_count": 20,
   "id": "40696290-b86b-41c2-9db2-183332a33cd7",
   "metadata": {},
   "outputs": [],
   "source": [
    "# Dump to csv for inspecting data and removing noise\n",
    "df.to_csv('./eval/nature_questions.csv')"
   ]
  },
  {
   "cell_type": "code",
   "execution_count": 54,
   "id": "0dfa99e2-939f-42d3-b469-1619306d553c",
   "metadata": {
    "scrolled": true
   },
   "outputs": [],
   "source": [
    "# Remove bad data\n",
    "garbage_data_idx = [2,5,6,7,10,18,20,24,27,34,42,43,47,51,53,55,59,65,66,67,75,76,77,85,93,96]\n",
    "df = df.drop(garbage_data_idx).reset_index()"
   ]
  },
  {
   "cell_type": "code",
   "execution_count": 59,
   "id": "241ecd6d-c7f7-41b6-b289-008fbcf1440e",
   "metadata": {},
   "outputs": [],
   "source": [
    "# Save to disk for loading later\n",
    "df.to_pickle('./eval/nature_testset_clean.pkl')"
   ]
  },
  {
   "cell_type": "code",
   "execution_count": 12,
   "id": "85b79d50-4236-4d15-bcc7-4175300e397c",
   "metadata": {},
   "outputs": [
    {
     "data": {
      "text/html": [
       "<div>\n",
       "<style scoped>\n",
       "    .dataframe tbody tr th:only-of-type {\n",
       "        vertical-align: middle;\n",
       "    }\n",
       "\n",
       "    .dataframe tbody tr th {\n",
       "        vertical-align: top;\n",
       "    }\n",
       "\n",
       "    .dataframe thead th {\n",
       "        text-align: right;\n",
       "    }\n",
       "</style>\n",
       "<table border=\"1\" class=\"dataframe\">\n",
       "  <thead>\n",
       "    <tr style=\"text-align: right;\">\n",
       "      <th></th>\n",
       "      <th>index</th>\n",
       "      <th>Unnamed: 0</th>\n",
       "      <th>question</th>\n",
       "      <th>contexts</th>\n",
       "      <th>ground_truth</th>\n",
       "      <th>evolution_type</th>\n",
       "      <th>metadata</th>\n",
       "      <th>episode_done</th>\n",
       "    </tr>\n",
       "  </thead>\n",
       "  <tbody>\n",
       "    <tr>\n",
       "      <th>0</th>\n",
       "      <td>0</td>\n",
       "      <td>0</td>\n",
       "      <td>Question: What are the key features and advant...</td>\n",
       "      <td>[Skip to main content\\n\\nThank you for visitin...</td>\n",
       "      <td>The Blackwell chip is expected to be significa...</td>\n",
       "      <td>simple</td>\n",
       "      <td>[{'source': 'https://www.nature.com/articles/d...</td>\n",
       "      <td>True</td>\n",
       "    </tr>\n",
       "    <tr>\n",
       "      <th>1</th>\n",
       "      <td>1</td>\n",
       "      <td>1</td>\n",
       "      <td>What are the different interpretations of the ...</td>\n",
       "      <td>[ people, and because the signals are hard to ...</td>\n",
       "      <td>The \"human in the loop\" principle for autonomo...</td>\n",
       "      <td>simple</td>\n",
       "      <td>[{'source': 'https://www.nature.com/articles/d...</td>\n",
       "      <td>True</td>\n",
       "    </tr>\n",
       "    <tr>\n",
       "      <th>2</th>\n",
       "      <td>3</td>\n",
       "      <td>3</td>\n",
       "      <td>Question: How do researchers demonstrate that ...</td>\n",
       "      <td>[\\nacademic papers and much more. Yet it is we...</td>\n",
       "      <td>Researchers demonstrate LLMs' reasoning abilit...</td>\n",
       "      <td>simple</td>\n",
       "      <td>[{'source': 'https://www.nature.com/articles/d...</td>\n",
       "      <td>True</td>\n",
       "    </tr>\n",
       "    <tr>\n",
       "      <th>3</th>\n",
       "      <td>4</td>\n",
       "      <td>4</td>\n",
       "      <td>question: How do AI chips address the energy i...</td>\n",
       "      <td>[ 2-bit format because the genetic information...</td>\n",
       "      <td>AI chips address the energy inefficiency of mo...</td>\n",
       "      <td>simple</td>\n",
       "      <td>[{'source': 'https://www.nature.com/articles/d...</td>\n",
       "      <td>True</td>\n",
       "    </tr>\n",
       "    <tr>\n",
       "      <th>4</th>\n",
       "      <td>8</td>\n",
       "      <td>8</td>\n",
       "      <td>What are the challenges and solutions being ex...</td>\n",
       "      <td>[ case from a diversity of\\nrobot forms, from ...</td>\n",
       "      <td>The lack of diverse robot data is a major chal...</td>\n",
       "      <td>simple</td>\n",
       "      <td>[{'source': 'https://www.nature.com/articles/d...</td>\n",
       "      <td>True</td>\n",
       "    </tr>\n",
       "    <tr>\n",
       "      <th>...</th>\n",
       "      <td>...</td>\n",
       "      <td>...</td>\n",
       "      <td>...</td>\n",
       "      <td>...</td>\n",
       "      <td>...</td>\n",
       "      <td>...</td>\n",
       "      <td>...</td>\n",
       "      <td>...</td>\n",
       "    </tr>\n",
       "    <tr>\n",
       "      <th>67</th>\n",
       "      <td>91</td>\n",
       "      <td>91</td>\n",
       "      <td>How do Anthropic's toy model findings on virtu...</td>\n",
       "      <td>[ model’s response can be changed by\\nediting ...</td>\n",
       "      <td>Anthropic's research on a toy model with a sin...</td>\n",
       "      <td>multi_context</td>\n",
       "      <td>[{'source': 'https://www.nature.com/articles/d...</td>\n",
       "      <td>True</td>\n",
       "    </tr>\n",
       "    <tr>\n",
       "      <th>68</th>\n",
       "      <td>92</td>\n",
       "      <td>92</td>\n",
       "      <td>How do FPGAs and GPUs compare for AI, consider...</td>\n",
       "      <td>[ allowed them to accelerate AI tasks.\\nTo tra...</td>\n",
       "      <td>FPGAs are more programmable than GPUs, allowin...</td>\n",
       "      <td>multi_context</td>\n",
       "      <td>[{'source': 'https://www.nature.com/articles/d...</td>\n",
       "      <td>True</td>\n",
       "    </tr>\n",
       "    <tr>\n",
       "      <th>69</th>\n",
       "      <td>94</td>\n",
       "      <td>94</td>\n",
       "      <td>How do LLMs trained on text form internal repr...</td>\n",
       "      <td>[\\nacademic papers and much more. Yet it is we...</td>\n",
       "      <td>LLMs trained on text form internal representat...</td>\n",
       "      <td>multi_context</td>\n",
       "      <td>[{'source': 'https://www.nature.com/articles/d...</td>\n",
       "      <td>True</td>\n",
       "    </tr>\n",
       "    <tr>\n",
       "      <th>70</th>\n",
       "      <td>95</td>\n",
       "      <td>95</td>\n",
       "      <td>How do robotic foundation models use diverse d...</td>\n",
       "      <td>[ case from a diversity of\\nrobot forms, from ...</td>\n",
       "      <td>Robotic foundation models use diverse data to ...</td>\n",
       "      <td>multi_context</td>\n",
       "      <td>[{'source': 'https://www.nature.com/articles/d...</td>\n",
       "      <td>True</td>\n",
       "    </tr>\n",
       "    <tr>\n",
       "      <th>71</th>\n",
       "      <td>97</td>\n",
       "      <td>97</td>\n",
       "      <td>How do AI weapons' accuracy with radar signals...</td>\n",
       "      <td>[ the country “already conducts fully\\nrobotic...</td>\n",
       "      <td>AI weapons are more accurate with radar signal...</td>\n",
       "      <td>multi_context</td>\n",
       "      <td>[{'source': 'https://www.nature.com/articles/d...</td>\n",
       "      <td>True</td>\n",
       "    </tr>\n",
       "  </tbody>\n",
       "</table>\n",
       "<p>72 rows × 8 columns</p>\n",
       "</div>"
      ],
      "text/plain": [
       "    index  Unnamed: 0                                           question  \\\n",
       "0       0           0  Question: What are the key features and advant...   \n",
       "1       1           1  What are the different interpretations of the ...   \n",
       "2       3           3  Question: How do researchers demonstrate that ...   \n",
       "3       4           4  question: How do AI chips address the energy i...   \n",
       "4       8           8  What are the challenges and solutions being ex...   \n",
       "..    ...         ...                                                ...   \n",
       "67     91          91  How do Anthropic's toy model findings on virtu...   \n",
       "68     92          92  How do FPGAs and GPUs compare for AI, consider...   \n",
       "69     94          94  How do LLMs trained on text form internal repr...   \n",
       "70     95          95  How do robotic foundation models use diverse d...   \n",
       "71     97          97  How do AI weapons' accuracy with radar signals...   \n",
       "\n",
       "                                             contexts  \\\n",
       "0   [Skip to main content\\n\\nThank you for visitin...   \n",
       "1   [ people, and because the signals are hard to ...   \n",
       "2   [\\nacademic papers and much more. Yet it is we...   \n",
       "3   [ 2-bit format because the genetic information...   \n",
       "4   [ case from a diversity of\\nrobot forms, from ...   \n",
       "..                                                ...   \n",
       "67  [ model’s response can be changed by\\nediting ...   \n",
       "68  [ allowed them to accelerate AI tasks.\\nTo tra...   \n",
       "69  [\\nacademic papers and much more. Yet it is we...   \n",
       "70  [ case from a diversity of\\nrobot forms, from ...   \n",
       "71  [ the country “already conducts fully\\nrobotic...   \n",
       "\n",
       "                                         ground_truth evolution_type  \\\n",
       "0   The Blackwell chip is expected to be significa...         simple   \n",
       "1   The \"human in the loop\" principle for autonomo...         simple   \n",
       "2   Researchers demonstrate LLMs' reasoning abilit...         simple   \n",
       "3   AI chips address the energy inefficiency of mo...         simple   \n",
       "4   The lack of diverse robot data is a major chal...         simple   \n",
       "..                                                ...            ...   \n",
       "67  Anthropic's research on a toy model with a sin...  multi_context   \n",
       "68  FPGAs are more programmable than GPUs, allowin...  multi_context   \n",
       "69  LLMs trained on text form internal representat...  multi_context   \n",
       "70  Robotic foundation models use diverse data to ...  multi_context   \n",
       "71  AI weapons are more accurate with radar signal...  multi_context   \n",
       "\n",
       "                                             metadata  episode_done  \n",
       "0   [{'source': 'https://www.nature.com/articles/d...          True  \n",
       "1   [{'source': 'https://www.nature.com/articles/d...          True  \n",
       "2   [{'source': 'https://www.nature.com/articles/d...          True  \n",
       "3   [{'source': 'https://www.nature.com/articles/d...          True  \n",
       "4   [{'source': 'https://www.nature.com/articles/d...          True  \n",
       "..                                                ...           ...  \n",
       "67  [{'source': 'https://www.nature.com/articles/d...          True  \n",
       "68  [{'source': 'https://www.nature.com/articles/d...          True  \n",
       "69  [{'source': 'https://www.nature.com/articles/d...          True  \n",
       "70  [{'source': 'https://www.nature.com/articles/d...          True  \n",
       "71  [{'source': 'https://www.nature.com/articles/d...          True  \n",
       "\n",
       "[72 rows x 8 columns]"
      ]
     },
     "execution_count": 12,
     "metadata": {},
     "output_type": "execute_result"
    }
   ],
   "source": [
    "# Load from disk\n",
    "df = pd.read_pickle('./eval/nature_testset_clean.pkl')\n",
    "df"
   ]
  },
  {
   "cell_type": "markdown",
   "id": "e2e99ccc-b7ea-4a10-b36f-41779391d032",
   "metadata": {},
   "source": [
    "### Load Test Data"
   ]
  },
  {
   "cell_type": "code",
   "execution_count": 57,
   "id": "2bd5e118-a709-492e-978c-1b438a50236f",
   "metadata": {},
   "outputs": [
    {
     "data": {
      "text/html": [
       "<div>\n",
       "<style scoped>\n",
       "    .dataframe tbody tr th:only-of-type {\n",
       "        vertical-align: middle;\n",
       "    }\n",
       "\n",
       "    .dataframe tbody tr th {\n",
       "        vertical-align: top;\n",
       "    }\n",
       "\n",
       "    .dataframe thead th {\n",
       "        text-align: right;\n",
       "    }\n",
       "</style>\n",
       "<table border=\"1\" class=\"dataframe\">\n",
       "  <thead>\n",
       "    <tr style=\"text-align: right;\">\n",
       "      <th></th>\n",
       "      <th>index</th>\n",
       "      <th>Unnamed: 0</th>\n",
       "      <th>question</th>\n",
       "      <th>contexts</th>\n",
       "      <th>ground_truth</th>\n",
       "      <th>evolution_type</th>\n",
       "      <th>metadata</th>\n",
       "      <th>episode_done</th>\n",
       "    </tr>\n",
       "  </thead>\n",
       "  <tbody>\n",
       "    <tr>\n",
       "      <th>0</th>\n",
       "      <td>0</td>\n",
       "      <td>0</td>\n",
       "      <td>Question: What are the key features and advant...</td>\n",
       "      <td>[Skip to main content\\n\\nThank you for visitin...</td>\n",
       "      <td>The Blackwell chip is expected to be significa...</td>\n",
       "      <td>simple</td>\n",
       "      <td>[{'source': 'https://www.nature.com/articles/d...</td>\n",
       "      <td>True</td>\n",
       "    </tr>\n",
       "    <tr>\n",
       "      <th>1</th>\n",
       "      <td>1</td>\n",
       "      <td>1</td>\n",
       "      <td>What are the different interpretations of the ...</td>\n",
       "      <td>[ people, and because the signals are hard to ...</td>\n",
       "      <td>The \"human in the loop\" principle for autonomo...</td>\n",
       "      <td>simple</td>\n",
       "      <td>[{'source': 'https://www.nature.com/articles/d...</td>\n",
       "      <td>True</td>\n",
       "    </tr>\n",
       "    <tr>\n",
       "      <th>2</th>\n",
       "      <td>3</td>\n",
       "      <td>3</td>\n",
       "      <td>Question: How do researchers demonstrate that ...</td>\n",
       "      <td>[\\nacademic papers and much more. Yet it is we...</td>\n",
       "      <td>Researchers demonstrate LLMs' reasoning abilit...</td>\n",
       "      <td>simple</td>\n",
       "      <td>[{'source': 'https://www.nature.com/articles/d...</td>\n",
       "      <td>True</td>\n",
       "    </tr>\n",
       "    <tr>\n",
       "      <th>3</th>\n",
       "      <td>4</td>\n",
       "      <td>4</td>\n",
       "      <td>question: How do AI chips address the energy i...</td>\n",
       "      <td>[ 2-bit format because the genetic information...</td>\n",
       "      <td>AI chips address the energy inefficiency of mo...</td>\n",
       "      <td>simple</td>\n",
       "      <td>[{'source': 'https://www.nature.com/articles/d...</td>\n",
       "      <td>True</td>\n",
       "    </tr>\n",
       "    <tr>\n",
       "      <th>4</th>\n",
       "      <td>8</td>\n",
       "      <td>8</td>\n",
       "      <td>What are the challenges and solutions being ex...</td>\n",
       "      <td>[ case from a diversity of\\nrobot forms, from ...</td>\n",
       "      <td>The lack of diverse robot data is a major chal...</td>\n",
       "      <td>simple</td>\n",
       "      <td>[{'source': 'https://www.nature.com/articles/d...</td>\n",
       "      <td>True</td>\n",
       "    </tr>\n",
       "    <tr>\n",
       "      <th>...</th>\n",
       "      <td>...</td>\n",
       "      <td>...</td>\n",
       "      <td>...</td>\n",
       "      <td>...</td>\n",
       "      <td>...</td>\n",
       "      <td>...</td>\n",
       "      <td>...</td>\n",
       "      <td>...</td>\n",
       "    </tr>\n",
       "    <tr>\n",
       "      <th>67</th>\n",
       "      <td>91</td>\n",
       "      <td>91</td>\n",
       "      <td>How do Anthropic's toy model findings on virtu...</td>\n",
       "      <td>[ model’s response can be changed by\\nediting ...</td>\n",
       "      <td>Anthropic's research on a toy model with a sin...</td>\n",
       "      <td>multi_context</td>\n",
       "      <td>[{'source': 'https://www.nature.com/articles/d...</td>\n",
       "      <td>True</td>\n",
       "    </tr>\n",
       "    <tr>\n",
       "      <th>68</th>\n",
       "      <td>92</td>\n",
       "      <td>92</td>\n",
       "      <td>How do FPGAs and GPUs compare for AI, consider...</td>\n",
       "      <td>[ allowed them to accelerate AI tasks.\\nTo tra...</td>\n",
       "      <td>FPGAs are more programmable than GPUs, allowin...</td>\n",
       "      <td>multi_context</td>\n",
       "      <td>[{'source': 'https://www.nature.com/articles/d...</td>\n",
       "      <td>True</td>\n",
       "    </tr>\n",
       "    <tr>\n",
       "      <th>69</th>\n",
       "      <td>94</td>\n",
       "      <td>94</td>\n",
       "      <td>How do LLMs trained on text form internal repr...</td>\n",
       "      <td>[\\nacademic papers and much more. Yet it is we...</td>\n",
       "      <td>LLMs trained on text form internal representat...</td>\n",
       "      <td>multi_context</td>\n",
       "      <td>[{'source': 'https://www.nature.com/articles/d...</td>\n",
       "      <td>True</td>\n",
       "    </tr>\n",
       "    <tr>\n",
       "      <th>70</th>\n",
       "      <td>95</td>\n",
       "      <td>95</td>\n",
       "      <td>How do robotic foundation models use diverse d...</td>\n",
       "      <td>[ case from a diversity of\\nrobot forms, from ...</td>\n",
       "      <td>Robotic foundation models use diverse data to ...</td>\n",
       "      <td>multi_context</td>\n",
       "      <td>[{'source': 'https://www.nature.com/articles/d...</td>\n",
       "      <td>True</td>\n",
       "    </tr>\n",
       "    <tr>\n",
       "      <th>71</th>\n",
       "      <td>97</td>\n",
       "      <td>97</td>\n",
       "      <td>How do AI weapons' accuracy with radar signals...</td>\n",
       "      <td>[ the country “already conducts fully\\nrobotic...</td>\n",
       "      <td>AI weapons are more accurate with radar signal...</td>\n",
       "      <td>multi_context</td>\n",
       "      <td>[{'source': 'https://www.nature.com/articles/d...</td>\n",
       "      <td>True</td>\n",
       "    </tr>\n",
       "  </tbody>\n",
       "</table>\n",
       "<p>72 rows × 8 columns</p>\n",
       "</div>"
      ],
      "text/plain": [
       "    index  Unnamed: 0                                           question  \\\n",
       "0       0           0  Question: What are the key features and advant...   \n",
       "1       1           1  What are the different interpretations of the ...   \n",
       "2       3           3  Question: How do researchers demonstrate that ...   \n",
       "3       4           4  question: How do AI chips address the energy i...   \n",
       "4       8           8  What are the challenges and solutions being ex...   \n",
       "..    ...         ...                                                ...   \n",
       "67     91          91  How do Anthropic's toy model findings on virtu...   \n",
       "68     92          92  How do FPGAs and GPUs compare for AI, consider...   \n",
       "69     94          94  How do LLMs trained on text form internal repr...   \n",
       "70     95          95  How do robotic foundation models use diverse d...   \n",
       "71     97          97  How do AI weapons' accuracy with radar signals...   \n",
       "\n",
       "                                             contexts  \\\n",
       "0   [Skip to main content\\n\\nThank you for visitin...   \n",
       "1   [ people, and because the signals are hard to ...   \n",
       "2   [\\nacademic papers and much more. Yet it is we...   \n",
       "3   [ 2-bit format because the genetic information...   \n",
       "4   [ case from a diversity of\\nrobot forms, from ...   \n",
       "..                                                ...   \n",
       "67  [ model’s response can be changed by\\nediting ...   \n",
       "68  [ allowed them to accelerate AI tasks.\\nTo tra...   \n",
       "69  [\\nacademic papers and much more. Yet it is we...   \n",
       "70  [ case from a diversity of\\nrobot forms, from ...   \n",
       "71  [ the country “already conducts fully\\nrobotic...   \n",
       "\n",
       "                                         ground_truth evolution_type  \\\n",
       "0   The Blackwell chip is expected to be significa...         simple   \n",
       "1   The \"human in the loop\" principle for autonomo...         simple   \n",
       "2   Researchers demonstrate LLMs' reasoning abilit...         simple   \n",
       "3   AI chips address the energy inefficiency of mo...         simple   \n",
       "4   The lack of diverse robot data is a major chal...         simple   \n",
       "..                                                ...            ...   \n",
       "67  Anthropic's research on a toy model with a sin...  multi_context   \n",
       "68  FPGAs are more programmable than GPUs, allowin...  multi_context   \n",
       "69  LLMs trained on text form internal representat...  multi_context   \n",
       "70  Robotic foundation models use diverse data to ...  multi_context   \n",
       "71  AI weapons are more accurate with radar signal...  multi_context   \n",
       "\n",
       "                                             metadata  episode_done  \n",
       "0   [{'source': 'https://www.nature.com/articles/d...          True  \n",
       "1   [{'source': 'https://www.nature.com/articles/d...          True  \n",
       "2   [{'source': 'https://www.nature.com/articles/d...          True  \n",
       "3   [{'source': 'https://www.nature.com/articles/d...          True  \n",
       "4   [{'source': 'https://www.nature.com/articles/d...          True  \n",
       "..                                                ...           ...  \n",
       "67  [{'source': 'https://www.nature.com/articles/d...          True  \n",
       "68  [{'source': 'https://www.nature.com/articles/d...          True  \n",
       "69  [{'source': 'https://www.nature.com/articles/d...          True  \n",
       "70  [{'source': 'https://www.nature.com/articles/d...          True  \n",
       "71  [{'source': 'https://www.nature.com/articles/d...          True  \n",
       "\n",
       "[72 rows x 8 columns]"
      ]
     },
     "execution_count": 57,
     "metadata": {},
     "output_type": "execute_result"
    }
   ],
   "source": [
    "# Load testset\n",
    "df = pd.read_pickle('./eval/nature_testset_clean.pkl')\n",
    "df"
   ]
  },
  {
   "cell_type": "code",
   "execution_count": 9,
   "id": "e142e36a-879b-4930-b722-e76f95a30a14",
   "metadata": {},
   "outputs": [
    {
     "name": "stderr",
     "output_type": "stream",
     "text": [
      "Fetching pages: 100%|############################################################################################################| 4/4 [00:04<00:00,  1.18s/it]\n"
     ]
    }
   ],
   "source": [
    "# Load pages to run RAG\n",
    "data_urls = [\n",
    "    'https://www.nature.com/articles/d41586-024-01544-0',\n",
    "    'https://www.nature.com/articles/d41586-024-01442-5',\n",
    "    'https://www.nature.com/articles/d41586-024-01314-y',\n",
    "    'https://www.nature.com/articles/d41586-024-01029-0'\n",
    "]\n",
    "# Load documents with html loader and html2text transformer\n",
    "html2text = Html2TextTransformer()\n",
    "loader = AsyncHtmlLoader(data_urls)\n",
    "raw_docs = loader.load()\n",
    "docs = html2text.transform_documents(raw_docs)"
   ]
  },
  {
   "cell_type": "markdown",
   "id": "c670e662-9a84-423a-976e-ded6b60d989c",
   "metadata": {},
   "source": [
    "### Grid Search"
   ]
  },
  {
   "cell_type": "markdown",
   "id": "7ead76b0-e25b-4fad-85cc-4e040075ca00",
   "metadata": {},
   "source": [
    "The parameters for grid search have been chosen based on experiments. I've moved the standalone experiments to \"Playground\" section below."
   ]
  },
  {
   "cell_type": "code",
   "execution_count": 10,
   "id": "474fa3af-f32d-42e1-af5d-c763367e5da5",
   "metadata": {},
   "outputs": [],
   "source": [
    "# Params to do grid search on\n",
    "retrievers = ['single', 'multi', 'lotr']\n",
    "splitter_configs = [(1000,200),(2000,300)]\n",
    "temperatures = [1e-8, 0.2]"
   ]
  },
  {
   "cell_type": "code",
   "execution_count": 11,
   "id": "4fb5ec11-b9dc-4ed0-aab1-900df9188907",
   "metadata": {},
   "outputs": [],
   "source": [
    "# Utility to split data\n",
    "def split_data(splitter_config, docs_to_split):\n",
    "    chunk_size, chunk_overlap = splitter_config\n",
    "    splitter = RecursiveCharacterTextSplitter(\n",
    "        separators=[\"\\n\\n\", \"\\n\", \".\", \" \"],\n",
    "        chunk_size=chunk_size,\n",
    "        chunk_overlap=chunk_overlap,\n",
    "        add_start_index=True\n",
    "    )\n",
    "    return splitter.split_documents(docs_to_split)"
   ]
  },
  {
   "cell_type": "code",
   "execution_count": 12,
   "id": "66b2a48c-78cb-485e-8a08-cc113347a872",
   "metadata": {},
   "outputs": [],
   "source": [
    "# Utility to get retriever\n",
    "def get_retriever(retriever_type, chunks, llm):\n",
    "\n",
    "    # Simple single query retriever\n",
    "    if(retriever_type == 'single'):\n",
    "        embedding = GoogleGenerativeAIEmbeddings(model=\"models/embedding-001\")\n",
    "        vectorstore = Chroma.from_documents(documents=chunks, embedding=embedding, collection_name=\"single\")\n",
    "        retriever = vectorstore.as_retriever(search_kwargs={\"k\": 5})\n",
    "        return retriever, [vectorstore]\n",
    "\n",
    "    # Multi query retriever\n",
    "    elif(retriever_type == 'multi'):\n",
    "        embedding = GoogleGenerativeAIEmbeddings(model=\"models/embedding-001\")\n",
    "        vectorstore = Chroma.from_documents(documents=chunks, embedding=embedding, collection_name=\"single\")\n",
    "        retriever = vectorstore.as_retriever(search_kwargs={\"k\": 5})\n",
    "        retriever_from_llm = MultiQueryRetriever.from_llm(retriever=retriever, llm=llm)\n",
    "        return retriever_from_llm, [vectorstore]\n",
    "\n",
    "    # LOTR retriever\n",
    "    elif(retriever_type == 'lotr'):\n",
    "\n",
    "        # Google embedding\n",
    "        embedding_1_google = GoogleGenerativeAIEmbeddings(model=\"models/embedding-001\")\n",
    "        vs_google = Chroma.from_documents(documents=chunks, embedding=embedding_1_google, collection_name=\"google_embedding-001\")\n",
    "        retriever_google = vs_google.as_retriever(search_kwargs={\"k\": 5})\n",
    "        \n",
    "        # HuggingFace BGE embedding\n",
    "        embedding_2_hf_bge = HuggingFaceBgeEmbeddings(model_name=\"BAAI/bge-large-en\", model_kwargs={\"device\":\"cpu\"}, encode_kwargs = {'normalize_embeddings': False})\n",
    "        vs_hfbge = Chroma.from_documents(documents=chunks, embedding=embedding_2_hf_bge, collection_name=\"hf_bge-large\")\n",
    "        retriever_hfbge = vs_hfbge.as_retriever(search_kwargs={\"k\": 5})\n",
    "        \n",
    "        # ST all-mpnet-base embedding\n",
    "        embedding_3_st_allmpnetbase = SentenceTransformerEmbeddings(model_name='sentence-transformers/all-mpnet-base-v2')\n",
    "        vs_st_allmpnet = Chroma.from_documents(documents=chunks, embedding=embedding_3_st_allmpnetbase, collection_name=\"st_all-mpnet-base\")\n",
    "        retriever_st_allmpnet = vs_st_allmpnet.as_retriever(search_kwargs={\"k\": 5})\n",
    "\n",
    "        # LOTR\n",
    "        lotr = MergerRetriever(retrievers=[retriever_google, retriever_hfbge, retriever_st_allmpnet])\n",
    "        \n",
    "        # OpenAI embeddings for filtering out redundant entries\n",
    "        filter_embeddings = OpenAIEmbeddings()\n",
    "        filter = EmbeddingsRedundantFilter(embeddings=filter_embeddings)\n",
    "        \n",
    "        # Pipeline for reordering embeddings\n",
    "        reordering = LongContextReorder() \n",
    "        pipeline = DocumentCompressorPipeline(transformers=[filter, reordering])\n",
    "        \n",
    "        # Retriever for reordered entries\n",
    "        compression_retriever_reordered = ContextualCompressionRetriever(\n",
    "            base_compressor=pipeline, base_retriever=lotr, search_kwargs={\"k\": 5, \"include_metadata\": True}\n",
    "        )\n",
    "\n",
    "        # Return retriever and vectorstores\n",
    "        return compression_retriever_reordered, [vs_google, vs_hfbge, vs_st_allmpnet]\n",
    "\n",
    "    else:\n",
    "        raise Exception(f\"Invalid retriever_type value: {retriever_type}. Use one of these: 'single', 'multi', 'lotr'\")"
   ]
  },
  {
   "cell_type": "code",
   "execution_count": 13,
   "id": "2302ea87-7564-47dd-b550-8d05e0a62e4a",
   "metadata": {},
   "outputs": [],
   "source": [
    "# Document formatter for context docs\n",
    "def format_docs(docs):\n",
    "    return \"\\n\\n\".join(doc.page_content for doc in docs)"
   ]
  },
  {
   "cell_type": "code",
   "execution_count": 14,
   "id": "2416f0ca-e6b8-458d-b326-6d7093e6075d",
   "metadata": {},
   "outputs": [],
   "source": [
    "# Utility to generate eval dataset from answers\n",
    "def ans_to_eval_dataset(df, answers):\n",
    "    eval_df = df[['question', 'contexts', 'ground_truth']]\n",
    "    eval_df = eval_df.assign(answer=answers)\n",
    "    dataset = Dataset.from_pandas(eval_df)\n",
    "    return dataset"
   ]
  },
  {
   "cell_type": "code",
   "execution_count": 15,
   "id": "159cc8a5-5fe3-4c80-931d-6d83239513ab",
   "metadata": {},
   "outputs": [],
   "source": [
    "# List to store results\n",
    "results = []"
   ]
  },
  {
   "cell_type": "code",
   "execution_count": 16,
   "id": "e6041d16-87a1-4e64-abd2-de7c654d29dc",
   "metadata": {},
   "outputs": [],
   "source": [
    "# LLMs and embeddings to use\n",
    "llm_eval = ChatGoogleGenerativeAI(model='gemini-1.5-flash', google_api_key=GOOGLE_API_KEY, temperature=1e-8)\n",
    "embedding_eval = GoogleGenerativeAIEmbeddings(model=\"models/embedding-001\")"
   ]
  },
  {
   "cell_type": "code",
   "execution_count": 17,
   "id": "d0affd4c-ffea-4e05-9cb4-5a0f9ae49bd1",
   "metadata": {},
   "outputs": [
    {
     "data": {
      "application/vnd.jupyter.widget-view+json": {
       "model_id": "8a198ab1dd1a46a8a8ac55486f9e9959",
       "version_major": 2,
       "version_minor": 0
      },
      "text/plain": [
       "Evaluating:   0%|          | 0/288 [00:00<?, ?it/s]"
      ]
     },
     "metadata": {},
     "output_type": "display_data"
    },
    {
     "name": "stderr",
     "output_type": "stream",
     "text": [
      "WARNING:ragas.llms.output_parser:Failed to parse output. Returning None.\n"
     ]
    },
    {
     "name": "stdout",
     "output_type": "stream",
     "text": [
      "Evaluation done for => retriever:single, chunk_size:1000, chunk_overlap:200, temperature:1e-08\n",
      "{'context_precision': 0.9861, 'faithfulness': 0.8087, 'answer_relevancy': 0.7007, 'context_recall': 0.9799}\n",
      "\n"
     ]
    },
    {
     "data": {
      "application/vnd.jupyter.widget-view+json": {
       "model_id": "4d9a0983a38548d793444a29451f69ca",
       "version_major": 2,
       "version_minor": 0
      },
      "text/plain": [
       "Evaluating:   0%|          | 0/288 [00:00<?, ?it/s]"
      ]
     },
     "metadata": {},
     "output_type": "display_data"
    },
    {
     "name": "stderr",
     "output_type": "stream",
     "text": [
      "WARNING:ragas.llms.output_parser:Failed to parse output. Returning None.\n",
      "WARNING:ragas.llms.output_parser:Failed to parse output. Returning None.\n"
     ]
    },
    {
     "name": "stdout",
     "output_type": "stream",
     "text": [
      "Evaluation done for => retriever:single, chunk_size:1000, chunk_overlap:200, temperature:0.2\n",
      "{'context_precision': 0.9861, 'faithfulness': 0.8085, 'answer_relevancy': 0.6854, 'context_recall': 0.9799}\n",
      "\n"
     ]
    },
    {
     "data": {
      "application/vnd.jupyter.widget-view+json": {
       "model_id": "762993c06f544fe287171a1a4b900b67",
       "version_major": 2,
       "version_minor": 0
      },
      "text/plain": [
       "Evaluating:   0%|          | 0/288 [00:00<?, ?it/s]"
      ]
     },
     "metadata": {},
     "output_type": "display_data"
    },
    {
     "name": "stdout",
     "output_type": "stream",
     "text": [
      "Evaluation done for => retriever:multi, chunk_size:1000, chunk_overlap:200, temperature:1e-08\n",
      "{'context_precision': 0.9861, 'faithfulness': 0.8091, 'answer_relevancy': 0.7057, 'context_recall': 0.9799}\n",
      "\n"
     ]
    },
    {
     "data": {
      "application/vnd.jupyter.widget-view+json": {
       "model_id": "79f3e45a1f9f4ee6b34c0e44c86002cc",
       "version_major": 2,
       "version_minor": 0
      },
      "text/plain": [
       "Evaluating:   0%|          | 0/288 [00:00<?, ?it/s]"
      ]
     },
     "metadata": {},
     "output_type": "display_data"
    },
    {
     "name": "stdout",
     "output_type": "stream",
     "text": [
      "Evaluation done for => retriever:multi, chunk_size:1000, chunk_overlap:200, temperature:0.2\n",
      "{'context_precision': 0.9861, 'faithfulness': 0.7902, 'answer_relevancy': 0.6882, 'context_recall': 0.9799}\n",
      "\n"
     ]
    },
    {
     "name": "stderr",
     "output_type": "stream",
     "text": [
      "/home/naveen/micromamba/envs/ml/lib/python3.11/site-packages/huggingface_hub/file_download.py:1132: FutureWarning: `resume_download` is deprecated and will be removed in version 1.0.0. Downloads always resume when possible. If you want to force a new download, use `force_download=True`.\n",
      "  warnings.warn(\n",
      "/home/naveen/micromamba/envs/ml/lib/python3.11/site-packages/langchain_core/_api/deprecation.py:119: LangChainDeprecationWarning: The class `HuggingFaceEmbeddings` was deprecated in LangChain 0.2.2 and will be removed in 0.3.0. An updated version of the class exists in the langchain-huggingface package and should be used instead. To use it run `pip install -U langchain-huggingface` and import as `from langchain_huggingface import HuggingFaceEmbeddings`.\n",
      "  warn_deprecated(\n"
     ]
    },
    {
     "data": {
      "application/vnd.jupyter.widget-view+json": {
       "model_id": "c7ab5bcc8e524bfdb8686c78b0a975fb",
       "version_major": 2,
       "version_minor": 0
      },
      "text/plain": [
       "Evaluating:   0%|          | 0/288 [00:00<?, ?it/s]"
      ]
     },
     "metadata": {},
     "output_type": "display_data"
    },
    {
     "name": "stdout",
     "output_type": "stream",
     "text": [
      "Evaluation done for => retriever:lotr, chunk_size:1000, chunk_overlap:200, temperature:1e-08\n",
      "{'context_precision': 0.9861, 'faithfulness': 0.8188, 'answer_relevancy': 0.6878, 'context_recall': 0.9799}\n",
      "\n"
     ]
    },
    {
     "name": "stderr",
     "output_type": "stream",
     "text": [
      "/home/naveen/micromamba/envs/ml/lib/python3.11/site-packages/huggingface_hub/file_download.py:1132: FutureWarning: `resume_download` is deprecated and will be removed in version 1.0.0. Downloads always resume when possible. If you want to force a new download, use `force_download=True`.\n",
      "  warnings.warn(\n"
     ]
    },
    {
     "data": {
      "application/vnd.jupyter.widget-view+json": {
       "model_id": "193b068153634e4cad9f6fc8af6ef277",
       "version_major": 2,
       "version_minor": 0
      },
      "text/plain": [
       "Evaluating:   0%|          | 0/288 [00:00<?, ?it/s]"
      ]
     },
     "metadata": {},
     "output_type": "display_data"
    },
    {
     "name": "stdout",
     "output_type": "stream",
     "text": [
      "Evaluation done for => retriever:lotr, chunk_size:1000, chunk_overlap:200, temperature:0.2\n",
      "{'context_precision': 0.9861, 'faithfulness': 0.8191, 'answer_relevancy': 0.6738, 'context_recall': 0.9799}\n",
      "\n"
     ]
    },
    {
     "data": {
      "application/vnd.jupyter.widget-view+json": {
       "model_id": "76f6723226b24ac68b68314ba6751c82",
       "version_major": 2,
       "version_minor": 0
      },
      "text/plain": [
       "Evaluating:   0%|          | 0/288 [00:00<?, ?it/s]"
      ]
     },
     "metadata": {},
     "output_type": "display_data"
    },
    {
     "name": "stderr",
     "output_type": "stream",
     "text": [
      "WARNING:ragas.llms.output_parser:Failed to parse output. Returning None.\n"
     ]
    },
    {
     "name": "stdout",
     "output_type": "stream",
     "text": [
      "Evaluation done for => retriever:single, chunk_size:2000, chunk_overlap:300, temperature:1e-08\n",
      "{'context_precision': 0.9861, 'faithfulness': 0.8665, 'answer_relevancy': 0.7223, 'context_recall': 0.9799}\n",
      "\n"
     ]
    },
    {
     "data": {
      "application/vnd.jupyter.widget-view+json": {
       "model_id": "9cf1ec3b07fc450eb2f75eb9125b2597",
       "version_major": 2,
       "version_minor": 0
      },
      "text/plain": [
       "Evaluating:   0%|          | 0/288 [00:00<?, ?it/s]"
      ]
     },
     "metadata": {},
     "output_type": "display_data"
    },
    {
     "name": "stdout",
     "output_type": "stream",
     "text": [
      "Evaluation done for => retriever:single, chunk_size:2000, chunk_overlap:300, temperature:0.2\n",
      "{'context_precision': 0.9861, 'faithfulness': 0.8548, 'answer_relevancy': 0.7164, 'context_recall': 0.9799}\n",
      "\n"
     ]
    },
    {
     "data": {
      "application/vnd.jupyter.widget-view+json": {
       "model_id": "60a7da2d755e4781804fc28024b1d930",
       "version_major": 2,
       "version_minor": 0
      },
      "text/plain": [
       "Evaluating:   0%|          | 0/288 [00:00<?, ?it/s]"
      ]
     },
     "metadata": {},
     "output_type": "display_data"
    },
    {
     "name": "stderr",
     "output_type": "stream",
     "text": [
      "WARNING:ragas.llms.output_parser:Failed to parse output. Returning None.\n"
     ]
    },
    {
     "name": "stdout",
     "output_type": "stream",
     "text": [
      "Evaluation done for => retriever:multi, chunk_size:2000, chunk_overlap:300, temperature:1e-08\n",
      "{'context_precision': 0.9861, 'faithfulness': 0.7877, 'answer_relevancy': 0.6756, 'context_recall': 0.9799}\n",
      "\n"
     ]
    },
    {
     "data": {
      "application/vnd.jupyter.widget-view+json": {
       "model_id": "e381f892fac94e4b83bef49d8d38e74b",
       "version_major": 2,
       "version_minor": 0
      },
      "text/plain": [
       "Evaluating:   0%|          | 0/288 [00:00<?, ?it/s]"
      ]
     },
     "metadata": {},
     "output_type": "display_data"
    },
    {
     "name": "stdout",
     "output_type": "stream",
     "text": [
      "Evaluation done for => retriever:multi, chunk_size:2000, chunk_overlap:300, temperature:0.2\n",
      "{'context_precision': 0.9861, 'faithfulness': 0.7640, 'answer_relevancy': 0.6562, 'context_recall': 0.9799}\n",
      "\n"
     ]
    },
    {
     "name": "stderr",
     "output_type": "stream",
     "text": [
      "/home/naveen/micromamba/envs/ml/lib/python3.11/site-packages/huggingface_hub/file_download.py:1132: FutureWarning: `resume_download` is deprecated and will be removed in version 1.0.0. Downloads always resume when possible. If you want to force a new download, use `force_download=True`.\n",
      "  warnings.warn(\n"
     ]
    },
    {
     "data": {
      "application/vnd.jupyter.widget-view+json": {
       "model_id": "ef279d63c2b348daa32a07eec2c404bd",
       "version_major": 2,
       "version_minor": 0
      },
      "text/plain": [
       "Evaluating:   0%|          | 0/288 [00:00<?, ?it/s]"
      ]
     },
     "metadata": {},
     "output_type": "display_data"
    },
    {
     "name": "stdout",
     "output_type": "stream",
     "text": [
      "Evaluation done for => retriever:lotr, chunk_size:2000, chunk_overlap:300, temperature:1e-08\n",
      "{'context_precision': 0.9861, 'faithfulness': 0.8276, 'answer_relevancy': 0.7205, 'context_recall': 0.9799}\n",
      "\n"
     ]
    },
    {
     "name": "stderr",
     "output_type": "stream",
     "text": [
      "/home/naveen/micromamba/envs/ml/lib/python3.11/site-packages/huggingface_hub/file_download.py:1132: FutureWarning: `resume_download` is deprecated and will be removed in version 1.0.0. Downloads always resume when possible. If you want to force a new download, use `force_download=True`.\n",
      "  warnings.warn(\n"
     ]
    },
    {
     "data": {
      "application/vnd.jupyter.widget-view+json": {
       "model_id": "3ef89f6a620d459db06f55f6c785c594",
       "version_major": 2,
       "version_minor": 0
      },
      "text/plain": [
       "Evaluating:   0%|          | 0/288 [00:00<?, ?it/s]"
      ]
     },
     "metadata": {},
     "output_type": "display_data"
    },
    {
     "name": "stdout",
     "output_type": "stream",
     "text": [
      "Evaluation done for => retriever:lotr, chunk_size:2000, chunk_overlap:300, temperature:0.2\n",
      "{'context_precision': 0.9861, 'faithfulness': 0.8460, 'answer_relevancy': 0.7168, 'context_recall': 0.9799}\n",
      "\n"
     ]
    }
   ],
   "source": [
    "# Perform grid search\n",
    "for splitter_config in splitter_configs:\n",
    "    for retriever_type in retrievers:\n",
    "        for temp in temperatures:\n",
    "\n",
    "            # Create llm object\n",
    "            llm = ChatGoogleGenerativeAI(model='gemini-1.5-flash', google_api_key=GOOGLE_API_KEY, temperature=temp)\n",
    "\n",
    "            # Split data\n",
    "            chunk_size, chunk_overlap = splitter_config\n",
    "            chunks = split_data(splitter_config, docs)\n",
    "\n",
    "            # Get retriever and vectorstores\n",
    "            retriever, vectorstores = get_retriever(retriever_type, chunks, llm)\n",
    "\n",
    "            # RAG chain\n",
    "            prompt = hub.pull(\"rlm/rag-prompt\")\n",
    "            rag_chain = (\n",
    "                {\"context\": retriever | format_docs, \"question\": RunnablePassthrough()}\n",
    "                | prompt\n",
    "                | llm\n",
    "                | StrOutputParser()\n",
    "            )\n",
    "\n",
    "            # Run chain for all input questions and store output\n",
    "            rag_answers = []\n",
    "            for q in df['question']:\n",
    "                rag_answers.append(rag_chain.invoke(q))\n",
    "\n",
    "            # Evaluate\n",
    "            dataset = ans_to_eval_dataset(df, rag_answers)\n",
    "            result = evaluate(\n",
    "                dataset,\n",
    "                llm=LangchainLLMWrapper(llm_eval),\n",
    "                embeddings=LangchainEmbeddingsWrapper(embedding_eval),\n",
    "                metrics=[\n",
    "                    context_precision,\n",
    "                    faithfulness,\n",
    "                    answer_relevancy,\n",
    "                    context_recall\n",
    "                ]\n",
    "            )\n",
    "\n",
    "            # Clear vectorstores\n",
    "            for vectorstore in vectorstores:\n",
    "                vectorstore.delete_collection()\n",
    "\n",
    "            # Log result\n",
    "            print(f\"Evaluation done for => retriever:{retriever_type}, chunk_size:{chunk_size}, chunk_overlap:{chunk_overlap}, temperature:{temp}\")\n",
    "            print(result)\n",
    "            print()\n",
    "\n",
    "            # Add result\n",
    "            results.append({\n",
    "                'retriever': retriever_type,\n",
    "                'chunk_size': chunk_size,\n",
    "                'chunk_overlap': chunk_overlap,\n",
    "                'temperature': temp,\n",
    "                'result': result\n",
    "            })"
   ]
  },
  {
   "cell_type": "code",
   "execution_count": 94,
   "id": "d18e805a-878d-48d8-89f5-6de6e760ad97",
   "metadata": {},
   "outputs": [],
   "source": [
    "# List to store data to generate dataframe based on all results\n",
    "results_df_data = []\n",
    "\n",
    "# Indices based on type of questions\n",
    "df_simple = list(np.where(df['evolution_type']=='simple')[0])\n",
    "df_reasoning = list(np.where(df['evolution_type']=='reasoning')[0])\n",
    "df_multicontext = list(np.where(df['evolution_type']=='multi_context')[0])\n",
    "df_complex = list(np.where(df['evolution_type']!='simple')[0])\n",
    "\n",
    "# Loop results\n",
    "for result in results:\n",
    "\n",
    "    # Result object to add to data list\n",
    "    result_details = {}\n",
    "    for key in ['retriever', 'chunk_size', 'chunk_overlap', 'temperature']:\n",
    "        result_details[key] = result[key]\n",
    "\n",
    "    # Add stats to dict\n",
    "    result_ds = result['result']\n",
    "    result_df = result_ds.to_pandas()\n",
    "    for key in ['context_precision', 'faithfulness', 'answer_relevancy', 'context_recall']:\n",
    "        result_details[f'overall_{key}'] = result_ds[key]\n",
    "    for evo, indices in [('simple', df_simple), ('reasoning', df_reasoning), ('multi_context', df_multicontext), ('complex', df_complex)]:\n",
    "        for key in ['context_precision', 'faithfulness', 'answer_relevancy', 'context_recall']:\n",
    "            result_details[f'{evo}_{key}'] = np.mean(result_df.loc[df_simple][[key]])\n",
    "\n",
    "    # Add to list\n",
    "    results_df_data.append(result_details)\n",
    "\n",
    "# Results dataset\n",
    "results_df = pd.DataFrame(results_df_data)"
   ]
  },
  {
   "cell_type": "code",
   "execution_count": 95,
   "id": "72609a3c-286a-4301-8b35-1bcee9218841",
   "metadata": {},
   "outputs": [
    {
     "data": {
      "text/html": [
       "<div>\n",
       "<style scoped>\n",
       "    .dataframe tbody tr th:only-of-type {\n",
       "        vertical-align: middle;\n",
       "    }\n",
       "\n",
       "    .dataframe tbody tr th {\n",
       "        vertical-align: top;\n",
       "    }\n",
       "\n",
       "    .dataframe thead th {\n",
       "        text-align: right;\n",
       "    }\n",
       "</style>\n",
       "<table border=\"1\" class=\"dataframe\">\n",
       "  <thead>\n",
       "    <tr style=\"text-align: right;\">\n",
       "      <th></th>\n",
       "      <th>0</th>\n",
       "      <th>1</th>\n",
       "      <th>2</th>\n",
       "      <th>3</th>\n",
       "      <th>4</th>\n",
       "      <th>5</th>\n",
       "      <th>6</th>\n",
       "      <th>7</th>\n",
       "      <th>8</th>\n",
       "      <th>9</th>\n",
       "      <th>10</th>\n",
       "      <th>11</th>\n",
       "    </tr>\n",
       "  </thead>\n",
       "  <tbody>\n",
       "    <tr>\n",
       "      <th>retriever</th>\n",
       "      <td>single</td>\n",
       "      <td>single</td>\n",
       "      <td>multi</td>\n",
       "      <td>multi</td>\n",
       "      <td>lotr</td>\n",
       "      <td>lotr</td>\n",
       "      <td>single</td>\n",
       "      <td>single</td>\n",
       "      <td>multi</td>\n",
       "      <td>multi</td>\n",
       "      <td>lotr</td>\n",
       "      <td>lotr</td>\n",
       "    </tr>\n",
       "    <tr>\n",
       "      <th>chunk_size</th>\n",
       "      <td>1000</td>\n",
       "      <td>1000</td>\n",
       "      <td>1000</td>\n",
       "      <td>1000</td>\n",
       "      <td>1000</td>\n",
       "      <td>1000</td>\n",
       "      <td>2000</td>\n",
       "      <td>2000</td>\n",
       "      <td>2000</td>\n",
       "      <td>2000</td>\n",
       "      <td>2000</td>\n",
       "      <td>2000</td>\n",
       "    </tr>\n",
       "    <tr>\n",
       "      <th>chunk_overlap</th>\n",
       "      <td>200</td>\n",
       "      <td>200</td>\n",
       "      <td>200</td>\n",
       "      <td>200</td>\n",
       "      <td>200</td>\n",
       "      <td>200</td>\n",
       "      <td>300</td>\n",
       "      <td>300</td>\n",
       "      <td>300</td>\n",
       "      <td>300</td>\n",
       "      <td>300</td>\n",
       "      <td>300</td>\n",
       "    </tr>\n",
       "    <tr>\n",
       "      <th>temperature</th>\n",
       "      <td>0.0</td>\n",
       "      <td>0.2</td>\n",
       "      <td>0.0</td>\n",
       "      <td>0.2</td>\n",
       "      <td>0.0</td>\n",
       "      <td>0.2</td>\n",
       "      <td>0.0</td>\n",
       "      <td>0.2</td>\n",
       "      <td>0.0</td>\n",
       "      <td>0.2</td>\n",
       "      <td>0.0</td>\n",
       "      <td>0.2</td>\n",
       "    </tr>\n",
       "    <tr>\n",
       "      <th>overall_context_precision</th>\n",
       "      <td>0.986111</td>\n",
       "      <td>0.986111</td>\n",
       "      <td>0.986111</td>\n",
       "      <td>0.986111</td>\n",
       "      <td>0.986111</td>\n",
       "      <td>0.986111</td>\n",
       "      <td>0.986111</td>\n",
       "      <td>0.986111</td>\n",
       "      <td>0.986111</td>\n",
       "      <td>0.986111</td>\n",
       "      <td>0.986111</td>\n",
       "      <td>0.986111</td>\n",
       "    </tr>\n",
       "    <tr>\n",
       "      <th>overall_faithfulness</th>\n",
       "      <td>0.808685</td>\n",
       "      <td>0.808503</td>\n",
       "      <td>0.809149</td>\n",
       "      <td>0.790195</td>\n",
       "      <td>0.818833</td>\n",
       "      <td>0.819125</td>\n",
       "      <td>0.866527</td>\n",
       "      <td>0.854845</td>\n",
       "      <td>0.787749</td>\n",
       "      <td>0.763988</td>\n",
       "      <td>0.827612</td>\n",
       "      <td>0.845993</td>\n",
       "    </tr>\n",
       "    <tr>\n",
       "      <th>overall_answer_relevancy</th>\n",
       "      <td>0.700714</td>\n",
       "      <td>0.68545</td>\n",
       "      <td>0.70568</td>\n",
       "      <td>0.68824</td>\n",
       "      <td>0.687792</td>\n",
       "      <td>0.673784</td>\n",
       "      <td>0.722277</td>\n",
       "      <td>0.716443</td>\n",
       "      <td>0.675628</td>\n",
       "      <td>0.656184</td>\n",
       "      <td>0.720494</td>\n",
       "      <td>0.716848</td>\n",
       "    </tr>\n",
       "    <tr>\n",
       "      <th>overall_context_recall</th>\n",
       "      <td>0.979861</td>\n",
       "      <td>0.979861</td>\n",
       "      <td>0.979861</td>\n",
       "      <td>0.979861</td>\n",
       "      <td>0.979861</td>\n",
       "      <td>0.979861</td>\n",
       "      <td>0.979861</td>\n",
       "      <td>0.979861</td>\n",
       "      <td>0.979861</td>\n",
       "      <td>0.979861</td>\n",
       "      <td>0.979861</td>\n",
       "      <td>0.979861</td>\n",
       "    </tr>\n",
       "    <tr>\n",
       "      <th>simple_context_precision</th>\n",
       "      <td>1.0</td>\n",
       "      <td>1.0</td>\n",
       "      <td>1.0</td>\n",
       "      <td>1.0</td>\n",
       "      <td>1.0</td>\n",
       "      <td>1.0</td>\n",
       "      <td>1.0</td>\n",
       "      <td>1.0</td>\n",
       "      <td>1.0</td>\n",
       "      <td>1.0</td>\n",
       "      <td>1.0</td>\n",
       "      <td>1.0</td>\n",
       "    </tr>\n",
       "    <tr>\n",
       "      <th>simple_faithfulness</th>\n",
       "      <td>0.79709</td>\n",
       "      <td>0.813776</td>\n",
       "      <td>0.820056</td>\n",
       "      <td>0.783172</td>\n",
       "      <td>0.799099</td>\n",
       "      <td>0.790669</td>\n",
       "      <td>0.88491</td>\n",
       "      <td>0.867149</td>\n",
       "      <td>0.761177</td>\n",
       "      <td>0.782336</td>\n",
       "      <td>0.870731</td>\n",
       "      <td>0.871589</td>\n",
       "    </tr>\n",
       "    <tr>\n",
       "      <th>simple_answer_relevancy</th>\n",
       "      <td>0.735647</td>\n",
       "      <td>0.714726</td>\n",
       "      <td>0.731234</td>\n",
       "      <td>0.724414</td>\n",
       "      <td>0.698139</td>\n",
       "      <td>0.697094</td>\n",
       "      <td>0.772268</td>\n",
       "      <td>0.780717</td>\n",
       "      <td>0.711381</td>\n",
       "      <td>0.720564</td>\n",
       "      <td>0.790151</td>\n",
       "      <td>0.783212</td>\n",
       "    </tr>\n",
       "    <tr>\n",
       "      <th>simple_context_recall</th>\n",
       "      <td>0.960811</td>\n",
       "      <td>0.960811</td>\n",
       "      <td>0.960811</td>\n",
       "      <td>0.960811</td>\n",
       "      <td>0.960811</td>\n",
       "      <td>0.960811</td>\n",
       "      <td>0.960811</td>\n",
       "      <td>0.960811</td>\n",
       "      <td>0.960811</td>\n",
       "      <td>0.960811</td>\n",
       "      <td>0.960811</td>\n",
       "      <td>0.960811</td>\n",
       "    </tr>\n",
       "    <tr>\n",
       "      <th>reasoning_context_precision</th>\n",
       "      <td>1.0</td>\n",
       "      <td>1.0</td>\n",
       "      <td>1.0</td>\n",
       "      <td>1.0</td>\n",
       "      <td>1.0</td>\n",
       "      <td>1.0</td>\n",
       "      <td>1.0</td>\n",
       "      <td>1.0</td>\n",
       "      <td>1.0</td>\n",
       "      <td>1.0</td>\n",
       "      <td>1.0</td>\n",
       "      <td>1.0</td>\n",
       "    </tr>\n",
       "    <tr>\n",
       "      <th>reasoning_faithfulness</th>\n",
       "      <td>0.79709</td>\n",
       "      <td>0.813776</td>\n",
       "      <td>0.820056</td>\n",
       "      <td>0.783172</td>\n",
       "      <td>0.799099</td>\n",
       "      <td>0.790669</td>\n",
       "      <td>0.88491</td>\n",
       "      <td>0.867149</td>\n",
       "      <td>0.761177</td>\n",
       "      <td>0.782336</td>\n",
       "      <td>0.870731</td>\n",
       "      <td>0.871589</td>\n",
       "    </tr>\n",
       "    <tr>\n",
       "      <th>reasoning_answer_relevancy</th>\n",
       "      <td>0.735647</td>\n",
       "      <td>0.714726</td>\n",
       "      <td>0.731234</td>\n",
       "      <td>0.724414</td>\n",
       "      <td>0.698139</td>\n",
       "      <td>0.697094</td>\n",
       "      <td>0.772268</td>\n",
       "      <td>0.780717</td>\n",
       "      <td>0.711381</td>\n",
       "      <td>0.720564</td>\n",
       "      <td>0.790151</td>\n",
       "      <td>0.783212</td>\n",
       "    </tr>\n",
       "    <tr>\n",
       "      <th>reasoning_context_recall</th>\n",
       "      <td>0.960811</td>\n",
       "      <td>0.960811</td>\n",
       "      <td>0.960811</td>\n",
       "      <td>0.960811</td>\n",
       "      <td>0.960811</td>\n",
       "      <td>0.960811</td>\n",
       "      <td>0.960811</td>\n",
       "      <td>0.960811</td>\n",
       "      <td>0.960811</td>\n",
       "      <td>0.960811</td>\n",
       "      <td>0.960811</td>\n",
       "      <td>0.960811</td>\n",
       "    </tr>\n",
       "    <tr>\n",
       "      <th>multi_context_context_precision</th>\n",
       "      <td>1.0</td>\n",
       "      <td>1.0</td>\n",
       "      <td>1.0</td>\n",
       "      <td>1.0</td>\n",
       "      <td>1.0</td>\n",
       "      <td>1.0</td>\n",
       "      <td>1.0</td>\n",
       "      <td>1.0</td>\n",
       "      <td>1.0</td>\n",
       "      <td>1.0</td>\n",
       "      <td>1.0</td>\n",
       "      <td>1.0</td>\n",
       "    </tr>\n",
       "    <tr>\n",
       "      <th>multi_context_faithfulness</th>\n",
       "      <td>0.79709</td>\n",
       "      <td>0.813776</td>\n",
       "      <td>0.820056</td>\n",
       "      <td>0.783172</td>\n",
       "      <td>0.799099</td>\n",
       "      <td>0.790669</td>\n",
       "      <td>0.88491</td>\n",
       "      <td>0.867149</td>\n",
       "      <td>0.761177</td>\n",
       "      <td>0.782336</td>\n",
       "      <td>0.870731</td>\n",
       "      <td>0.871589</td>\n",
       "    </tr>\n",
       "    <tr>\n",
       "      <th>multi_context_answer_relevancy</th>\n",
       "      <td>0.735647</td>\n",
       "      <td>0.714726</td>\n",
       "      <td>0.731234</td>\n",
       "      <td>0.724414</td>\n",
       "      <td>0.698139</td>\n",
       "      <td>0.697094</td>\n",
       "      <td>0.772268</td>\n",
       "      <td>0.780717</td>\n",
       "      <td>0.711381</td>\n",
       "      <td>0.720564</td>\n",
       "      <td>0.790151</td>\n",
       "      <td>0.783212</td>\n",
       "    </tr>\n",
       "    <tr>\n",
       "      <th>multi_context_context_recall</th>\n",
       "      <td>0.960811</td>\n",
       "      <td>0.960811</td>\n",
       "      <td>0.960811</td>\n",
       "      <td>0.960811</td>\n",
       "      <td>0.960811</td>\n",
       "      <td>0.960811</td>\n",
       "      <td>0.960811</td>\n",
       "      <td>0.960811</td>\n",
       "      <td>0.960811</td>\n",
       "      <td>0.960811</td>\n",
       "      <td>0.960811</td>\n",
       "      <td>0.960811</td>\n",
       "    </tr>\n",
       "    <tr>\n",
       "      <th>complex_context_precision</th>\n",
       "      <td>1.0</td>\n",
       "      <td>1.0</td>\n",
       "      <td>1.0</td>\n",
       "      <td>1.0</td>\n",
       "      <td>1.0</td>\n",
       "      <td>1.0</td>\n",
       "      <td>1.0</td>\n",
       "      <td>1.0</td>\n",
       "      <td>1.0</td>\n",
       "      <td>1.0</td>\n",
       "      <td>1.0</td>\n",
       "      <td>1.0</td>\n",
       "    </tr>\n",
       "    <tr>\n",
       "      <th>complex_faithfulness</th>\n",
       "      <td>0.79709</td>\n",
       "      <td>0.813776</td>\n",
       "      <td>0.820056</td>\n",
       "      <td>0.783172</td>\n",
       "      <td>0.799099</td>\n",
       "      <td>0.790669</td>\n",
       "      <td>0.88491</td>\n",
       "      <td>0.867149</td>\n",
       "      <td>0.761177</td>\n",
       "      <td>0.782336</td>\n",
       "      <td>0.870731</td>\n",
       "      <td>0.871589</td>\n",
       "    </tr>\n",
       "    <tr>\n",
       "      <th>complex_answer_relevancy</th>\n",
       "      <td>0.735647</td>\n",
       "      <td>0.714726</td>\n",
       "      <td>0.731234</td>\n",
       "      <td>0.724414</td>\n",
       "      <td>0.698139</td>\n",
       "      <td>0.697094</td>\n",
       "      <td>0.772268</td>\n",
       "      <td>0.780717</td>\n",
       "      <td>0.711381</td>\n",
       "      <td>0.720564</td>\n",
       "      <td>0.790151</td>\n",
       "      <td>0.783212</td>\n",
       "    </tr>\n",
       "    <tr>\n",
       "      <th>complex_context_recall</th>\n",
       "      <td>0.960811</td>\n",
       "      <td>0.960811</td>\n",
       "      <td>0.960811</td>\n",
       "      <td>0.960811</td>\n",
       "      <td>0.960811</td>\n",
       "      <td>0.960811</td>\n",
       "      <td>0.960811</td>\n",
       "      <td>0.960811</td>\n",
       "      <td>0.960811</td>\n",
       "      <td>0.960811</td>\n",
       "      <td>0.960811</td>\n",
       "      <td>0.960811</td>\n",
       "    </tr>\n",
       "  </tbody>\n",
       "</table>\n",
       "</div>"
      ],
      "text/plain": [
       "                                       0         1         2         3   \\\n",
       "retriever                          single    single     multi     multi   \n",
       "chunk_size                           1000      1000      1000      1000   \n",
       "chunk_overlap                         200       200       200       200   \n",
       "temperature                           0.0       0.2       0.0       0.2   \n",
       "overall_context_precision        0.986111  0.986111  0.986111  0.986111   \n",
       "overall_faithfulness             0.808685  0.808503  0.809149  0.790195   \n",
       "overall_answer_relevancy         0.700714   0.68545   0.70568   0.68824   \n",
       "overall_context_recall           0.979861  0.979861  0.979861  0.979861   \n",
       "simple_context_precision              1.0       1.0       1.0       1.0   \n",
       "simple_faithfulness               0.79709  0.813776  0.820056  0.783172   \n",
       "simple_answer_relevancy          0.735647  0.714726  0.731234  0.724414   \n",
       "simple_context_recall            0.960811  0.960811  0.960811  0.960811   \n",
       "reasoning_context_precision           1.0       1.0       1.0       1.0   \n",
       "reasoning_faithfulness            0.79709  0.813776  0.820056  0.783172   \n",
       "reasoning_answer_relevancy       0.735647  0.714726  0.731234  0.724414   \n",
       "reasoning_context_recall         0.960811  0.960811  0.960811  0.960811   \n",
       "multi_context_context_precision       1.0       1.0       1.0       1.0   \n",
       "multi_context_faithfulness        0.79709  0.813776  0.820056  0.783172   \n",
       "multi_context_answer_relevancy   0.735647  0.714726  0.731234  0.724414   \n",
       "multi_context_context_recall     0.960811  0.960811  0.960811  0.960811   \n",
       "complex_context_precision             1.0       1.0       1.0       1.0   \n",
       "complex_faithfulness              0.79709  0.813776  0.820056  0.783172   \n",
       "complex_answer_relevancy         0.735647  0.714726  0.731234  0.724414   \n",
       "complex_context_recall           0.960811  0.960811  0.960811  0.960811   \n",
       "\n",
       "                                       4         5         6         7   \\\n",
       "retriever                            lotr      lotr    single    single   \n",
       "chunk_size                           1000      1000      2000      2000   \n",
       "chunk_overlap                         200       200       300       300   \n",
       "temperature                           0.0       0.2       0.0       0.2   \n",
       "overall_context_precision        0.986111  0.986111  0.986111  0.986111   \n",
       "overall_faithfulness             0.818833  0.819125  0.866527  0.854845   \n",
       "overall_answer_relevancy         0.687792  0.673784  0.722277  0.716443   \n",
       "overall_context_recall           0.979861  0.979861  0.979861  0.979861   \n",
       "simple_context_precision              1.0       1.0       1.0       1.0   \n",
       "simple_faithfulness              0.799099  0.790669   0.88491  0.867149   \n",
       "simple_answer_relevancy          0.698139  0.697094  0.772268  0.780717   \n",
       "simple_context_recall            0.960811  0.960811  0.960811  0.960811   \n",
       "reasoning_context_precision           1.0       1.0       1.0       1.0   \n",
       "reasoning_faithfulness           0.799099  0.790669   0.88491  0.867149   \n",
       "reasoning_answer_relevancy       0.698139  0.697094  0.772268  0.780717   \n",
       "reasoning_context_recall         0.960811  0.960811  0.960811  0.960811   \n",
       "multi_context_context_precision       1.0       1.0       1.0       1.0   \n",
       "multi_context_faithfulness       0.799099  0.790669   0.88491  0.867149   \n",
       "multi_context_answer_relevancy   0.698139  0.697094  0.772268  0.780717   \n",
       "multi_context_context_recall     0.960811  0.960811  0.960811  0.960811   \n",
       "complex_context_precision             1.0       1.0       1.0       1.0   \n",
       "complex_faithfulness             0.799099  0.790669   0.88491  0.867149   \n",
       "complex_answer_relevancy         0.698139  0.697094  0.772268  0.780717   \n",
       "complex_context_recall           0.960811  0.960811  0.960811  0.960811   \n",
       "\n",
       "                                       8         9         10        11  \n",
       "retriever                           multi     multi      lotr      lotr  \n",
       "chunk_size                           2000      2000      2000      2000  \n",
       "chunk_overlap                         300       300       300       300  \n",
       "temperature                           0.0       0.2       0.0       0.2  \n",
       "overall_context_precision        0.986111  0.986111  0.986111  0.986111  \n",
       "overall_faithfulness             0.787749  0.763988  0.827612  0.845993  \n",
       "overall_answer_relevancy         0.675628  0.656184  0.720494  0.716848  \n",
       "overall_context_recall           0.979861  0.979861  0.979861  0.979861  \n",
       "simple_context_precision              1.0       1.0       1.0       1.0  \n",
       "simple_faithfulness              0.761177  0.782336  0.870731  0.871589  \n",
       "simple_answer_relevancy          0.711381  0.720564  0.790151  0.783212  \n",
       "simple_context_recall            0.960811  0.960811  0.960811  0.960811  \n",
       "reasoning_context_precision           1.0       1.0       1.0       1.0  \n",
       "reasoning_faithfulness           0.761177  0.782336  0.870731  0.871589  \n",
       "reasoning_answer_relevancy       0.711381  0.720564  0.790151  0.783212  \n",
       "reasoning_context_recall         0.960811  0.960811  0.960811  0.960811  \n",
       "multi_context_context_precision       1.0       1.0       1.0       1.0  \n",
       "multi_context_faithfulness       0.761177  0.782336  0.870731  0.871589  \n",
       "multi_context_answer_relevancy   0.711381  0.720564  0.790151  0.783212  \n",
       "multi_context_context_recall     0.960811  0.960811  0.960811  0.960811  \n",
       "complex_context_precision             1.0       1.0       1.0       1.0  \n",
       "complex_faithfulness             0.761177  0.782336  0.870731  0.871589  \n",
       "complex_answer_relevancy         0.711381  0.720564  0.790151  0.783212  \n",
       "complex_context_recall           0.960811  0.960811  0.960811  0.960811  "
      ]
     },
     "execution_count": 95,
     "metadata": {},
     "output_type": "execute_result"
    }
   ],
   "source": [
    "# Print results dataset\n",
    "results_df.transpose()"
   ]
  },
  {
   "cell_type": "code",
   "execution_count": 24,
   "id": "38ffedc3-7d1e-48c2-8e42-9da9f0d2749b",
   "metadata": {},
   "outputs": [],
   "source": [
    "# Save results on disk\n",
    "with open('./eval/eval_results_raw.pkl', 'wb') as f:\n",
    "    pickle.dump(results, f)"
   ]
  },
  {
   "cell_type": "code",
   "execution_count": 96,
   "id": "02edb23c-8d22-488a-a683-224981601363",
   "metadata": {},
   "outputs": [],
   "source": [
    "# Save result stats table on disk\n",
    "results_df.to_pickle('./eval/eval_results_table.pkl')"
   ]
  },
  {
   "cell_type": "markdown",
   "id": "8be0144f-193f-48ea-83f5-f4aff3baad85",
   "metadata": {},
   "source": [
    "#### Markdown results table"
   ]
  },
  {
   "cell_type": "code",
   "execution_count": 97,
   "id": "c36a51b3-0ceb-453e-b65a-f047a1583b6c",
   "metadata": {},
   "outputs": [],
   "source": [
    "# Load to generate markdown tables\n",
    "results_df = pd.read_pickle('./eval/eval_results_table.pkl')\n",
    "results_df.index = np.arange(1, len(results_df) + 1)"
   ]
  },
  {
   "cell_type": "code",
   "execution_count": 98,
   "id": "17ea7ce5-1c14-4eff-9d8d-f0369d01cd9f",
   "metadata": {},
   "outputs": [],
   "source": [
    "cols = ['retriever','chunk_size','chunk_overlap','temperature','overall_context_precision','overall_faithfulness','overall_answer_relevancy','overall_context_recall']"
   ]
  },
  {
   "cell_type": "code",
   "execution_count": 99,
   "id": "c37a83d4-65af-43db-bf83-a6ec3d827e09",
   "metadata": {},
   "outputs": [],
   "source": [
    "results_df.index = np.arange(1, len(results_df) + 1)"
   ]
  },
  {
   "cell_type": "code",
   "execution_count": 103,
   "id": "422114e9-b244-447a-97e8-2b957ef93fb0",
   "metadata": {},
   "outputs": [
    {
     "name": "stdout",
     "output_type": "stream",
     "text": [
      "|    | retriever   |   chunk_size |   chunk_overlap |   temperature |   overall_context_precision |   overall_faithfulness |   overall_answer_relevancy |   overall_context_recall |\n",
      "|---:|:------------|-------------:|----------------:|--------------:|----------------------------:|-----------------------:|---------------------------:|-------------------------:|\n",
      "|  1 | single      |         1000 |             200 |         1e-08 |                    0.986111 |               0.808685 |                   0.700714 |                 0.979861 |\n",
      "|  2 | single      |         1000 |             200 |         0.2   |                    0.986111 |               0.808503 |                   0.68545  |                 0.979861 |\n",
      "|  3 | multi       |         1000 |             200 |         1e-08 |                    0.986111 |               0.809149 |                   0.70568  |                 0.979861 |\n",
      "|  4 | multi       |         1000 |             200 |         0.2   |                    0.986111 |               0.790195 |                   0.68824  |                 0.979861 |\n",
      "|  5 | lotr        |         1000 |             200 |         1e-08 |                    0.986111 |               0.818833 |                   0.687792 |                 0.979861 |\n",
      "|  6 | lotr        |         1000 |             200 |         0.2   |                    0.986111 |               0.819125 |                   0.673784 |                 0.979861 |\n",
      "|  7 | single      |         2000 |             300 |         1e-08 |                    0.986111 |               0.866527 |                   0.722277 |                 0.979861 |\n",
      "|  8 | single      |         2000 |             300 |         0.2   |                    0.986111 |               0.854845 |                   0.716443 |                 0.979861 |\n",
      "|  9 | multi       |         2000 |             300 |         1e-08 |                    0.986111 |               0.787749 |                   0.675628 |                 0.979861 |\n",
      "| 10 | multi       |         2000 |             300 |         0.2   |                    0.986111 |               0.763988 |                   0.656184 |                 0.979861 |\n",
      "| 11 | lotr        |         2000 |             300 |         1e-08 |                    0.986111 |               0.827612 |                   0.720494 |                 0.979861 |\n",
      "| 12 | lotr        |         2000 |             300 |         0.2   |                    0.986111 |               0.845993 |                   0.716848 |                 0.979861 |\n"
     ]
    }
   ],
   "source": [
    "print(results_df[cols].to_markdown())"
   ]
  },
  {
   "cell_type": "code",
   "execution_count": 105,
   "id": "a6d465b5-f405-4cfe-b8ab-8109dead3edd",
   "metadata": {},
   "outputs": [],
   "source": [
    "# Best model stats\n",
    "best_model_series = results_df.loc[7]\n",
    "best_model_data = []\n",
    "for cat in ['overall', 'simple', 'reasoning', 'multi_context']:\n",
    "    current_data = {'question_type': cat}\n",
    "    for col in ['context_precision', 'faithfulness', 'answer_relevancy', 'context_recall']:\n",
    "        current_data[col] = best_model_series[f'{cat}_{col}']\n",
    "        # print(f\"{cat}_{col}: {best_model_series[f'{cat}_{col}']}\")\n",
    "    best_model_data.append(current_data)"
   ]
  },
  {
   "cell_type": "code",
   "execution_count": 106,
   "id": "18258626-7544-42c0-9e20-9c10ab99eb1b",
   "metadata": {},
   "outputs": [
    {
     "data": {
      "text/html": [
       "<div>\n",
       "<style scoped>\n",
       "    .dataframe tbody tr th:only-of-type {\n",
       "        vertical-align: middle;\n",
       "    }\n",
       "\n",
       "    .dataframe tbody tr th {\n",
       "        vertical-align: top;\n",
       "    }\n",
       "\n",
       "    .dataframe thead th {\n",
       "        text-align: right;\n",
       "    }\n",
       "</style>\n",
       "<table border=\"1\" class=\"dataframe\">\n",
       "  <thead>\n",
       "    <tr style=\"text-align: right;\">\n",
       "      <th></th>\n",
       "      <th>question_type</th>\n",
       "      <th>context_precision</th>\n",
       "      <th>faithfulness</th>\n",
       "      <th>answer_relevancy</th>\n",
       "      <th>context_recall</th>\n",
       "    </tr>\n",
       "  </thead>\n",
       "  <tbody>\n",
       "    <tr>\n",
       "      <th>1</th>\n",
       "      <td>overall</td>\n",
       "      <td>0.986111</td>\n",
       "      <td>0.866527</td>\n",
       "      <td>0.722277</td>\n",
       "      <td>0.979861</td>\n",
       "    </tr>\n",
       "    <tr>\n",
       "      <th>2</th>\n",
       "      <td>simple</td>\n",
       "      <td>1.000000</td>\n",
       "      <td>0.884910</td>\n",
       "      <td>0.772268</td>\n",
       "      <td>0.960811</td>\n",
       "    </tr>\n",
       "    <tr>\n",
       "      <th>3</th>\n",
       "      <td>reasoning</td>\n",
       "      <td>1.000000</td>\n",
       "      <td>0.884910</td>\n",
       "      <td>0.772268</td>\n",
       "      <td>0.960811</td>\n",
       "    </tr>\n",
       "    <tr>\n",
       "      <th>4</th>\n",
       "      <td>multi_context</td>\n",
       "      <td>1.000000</td>\n",
       "      <td>0.884910</td>\n",
       "      <td>0.772268</td>\n",
       "      <td>0.960811</td>\n",
       "    </tr>\n",
       "  </tbody>\n",
       "</table>\n",
       "</div>"
      ],
      "text/plain": [
       "   question_type  context_precision  faithfulness  answer_relevancy  \\\n",
       "1        overall           0.986111      0.866527          0.722277   \n",
       "2         simple           1.000000      0.884910          0.772268   \n",
       "3      reasoning           1.000000      0.884910          0.772268   \n",
       "4  multi_context           1.000000      0.884910          0.772268   \n",
       "\n",
       "   context_recall  \n",
       "1        0.979861  \n",
       "2        0.960811  \n",
       "3        0.960811  \n",
       "4        0.960811  "
      ]
     },
     "execution_count": 106,
     "metadata": {},
     "output_type": "execute_result"
    }
   ],
   "source": [
    "best_model_df = pd.DataFrame(best_model_data)\n",
    "best_model_df.index = np.arange(1, len(best_model_df) + 1)\n",
    "best_model_df"
   ]
  },
  {
   "cell_type": "code",
   "execution_count": 108,
   "id": "4a695010-1671-4bd8-be76-fe2e301a7dab",
   "metadata": {},
   "outputs": [
    {
     "name": "stdout",
     "output_type": "stream",
     "text": [
      "|    | question_type   |   context_precision |   faithfulness |   answer_relevancy |   context_recall |\n",
      "|---:|:----------------|--------------------:|---------------:|-------------------:|-----------------:|\n",
      "|  1 | overall         |            0.986111 |       0.866527 |           0.722277 |         0.979861 |\n",
      "|  2 | simple          |            1        |       0.88491  |           0.772268 |         0.960811 |\n",
      "|  3 | reasoning       |            1        |       0.88491  |           0.772268 |         0.960811 |\n",
      "|  4 | multi_context   |            1        |       0.88491  |           0.772268 |         0.960811 |\n"
     ]
    }
   ],
   "source": [
    "print(best_model_df.to_markdown())"
   ]
  },
  {
   "cell_type": "markdown",
   "id": "753ce272-7f51-4d3a-8379-ff3b6ad68e2c",
   "metadata": {},
   "source": [
    "## Playground"
   ]
  },
  {
   "cell_type": "code",
   "execution_count": 11,
   "id": "49c36268-2422-43c1-9ddb-f07647cc0a8e",
   "metadata": {},
   "outputs": [],
   "source": [
    "import numpy as np"
   ]
  },
  {
   "cell_type": "code",
   "execution_count": 8,
   "id": "00806c35-fbc6-42e9-b4c8-45067a97bd17",
   "metadata": {},
   "outputs": [
    {
     "name": "stderr",
     "output_type": "stream",
     "text": [
      "Fetching pages: 100%|############################################################################################################| 4/4 [00:05<00:00,  1.25s/it]\n"
     ]
    }
   ],
   "source": [
    "# Data URLs\n",
    "# data_urls = [\n",
    "#     'https://www.washingtonpost.com/technology/2024/06/11/apple-ai-ios-siri/',\n",
    "#     'https://www.washingtonpost.com/technology/2024/06/10/apple-openai-chatgpt-deal-siri/',\n",
    "#     'https://www.washingtonpost.com/technology/2024/06/11/apple-ai-ios-siri/'\n",
    "# ]\n",
    "# data_urls = [\n",
    "#     'https://indianexpress.com/article/education/neet-ug-2024-moe-nta-form-committee-to-re-check-neet-result-of-1500-students-9379863',\n",
    "#     'https://indianexpress.com/article/business/market/sensex-nifty-at-record-highs-after-rbi-hikes-fy25-gdp-growth-projection-9379015',\n",
    "#     'https://indianexpress.com/article/business/economy/indian-households-spent-most-on-processed-food-haryana-rajasthan-opted-for-milk-9379003'\n",
    "# ]\n",
    "data_urls = [\n",
    "    'https://www.nature.com/articles/d41586-024-01544-0',\n",
    "    'https://www.nature.com/articles/d41586-024-01442-5',\n",
    "    'https://www.nature.com/articles/d41586-024-01314-y',\n",
    "    'https://www.nature.com/articles/d41586-024-01029-0'\n",
    "]\n",
    "# Load documents\n",
    "html2text = Html2TextTransformer()\n",
    "loader = AsyncHtmlLoader(data_urls)\n",
    "raw_docs = loader.load()\n",
    "eval_docs = html2text.transform_documents(raw_docs)\n",
    "# url_loader = UnstructuredURLLoader(urls=data_urls)\n",
    "# eval_docs = url_loader.load()"
   ]
  },
  {
   "cell_type": "code",
   "execution_count": 62,
   "id": "2378f508-89fa-4744-8e98-9609e214df0e",
   "metadata": {},
   "outputs": [],
   "source": [
    "# dft = pd.read_csv('./data/questions.csv')\n",
    "# dft = pd.read_pickle('./data/eval_testset.pkl')\n",
    "# dft = pd.read_pickle('./data/testset_20.pkl')\n",
    "dft = pd.read_pickle('./eval/nature_testset_clean.pkl')"
   ]
  },
  {
   "cell_type": "code",
   "execution_count": 63,
   "id": "d442fcf3-5052-4de5-b900-2b76576c50b3",
   "metadata": {},
   "outputs": [],
   "source": [
    "dft_simple = list(np.where(dft['evolution_type']=='simple')[0])\n",
    "dft_reasoning = list(np.where(dft['evolution_type']=='reasoning')[0])\n",
    "dft_multictx = list(np.where(dft['evolution_type']=='multi_context')[0])\n",
    "dft_complex = list(np.where(dft['evolution_type']!='simple')[0])"
   ]
  },
  {
   "cell_type": "code",
   "execution_count": 64,
   "id": "2465f79c-05d3-4c42-9bee-eb59a3ca4fe0",
   "metadata": {},
   "outputs": [
    {
     "name": "stdout",
     "output_type": "stream",
     "text": [
      "[0, 1, 2, 3, 4, 5, 6, 7, 8, 9, 10, 11, 12, 13, 14, 15, 16, 17, 18, 19, 20, 21, 22, 23, 24, 25, 26, 27, 28, 29, 30, 31, 32, 33, 34, 35, 36]\n",
      "[37, 38, 39, 40, 41, 42, 43, 44, 45, 46, 47, 48, 49, 50, 51, 52, 53, 54, 55, 56, 57, 58, 59, 60, 61, 62, 63, 64, 65, 66, 67, 68, 69, 70, 71]\n",
      "[37, 38, 39, 40, 41, 42, 43, 44, 45, 46, 47, 48, 49, 50, 51, 52, 53]\n",
      "[54, 55, 56, 57, 58, 59, 60, 61, 62, 63, 64, 65, 66, 67, 68, 69, 70, 71]\n"
     ]
    }
   ],
   "source": [
    "print(dft_simple)\n",
    "print(dft_complex)\n",
    "print(dft_reasoning)\n",
    "print(dft_multictx)"
   ]
  },
  {
   "cell_type": "code",
   "execution_count": 13,
   "id": "d99f9cd5-9b11-44c9-abeb-84c309e41e14",
   "metadata": {},
   "outputs": [],
   "source": [
    "# len(vectorstore.get()['documents'])"
   ]
  },
  {
   "cell_type": "code",
   "execution_count": 91,
   "id": "06abe03e-2cc4-49d4-bc30-5e75503d5e8f",
   "metadata": {},
   "outputs": [
    {
     "name": "stderr",
     "output_type": "stream",
     "text": [
      "WARNING:dotenv.main:Python-dotenv could not parse statement starting at line 4\n",
      "WARNING:dotenv.main:Python-dotenv could not parse statement starting at line 8\n",
      "WARNING:dotenv.main:Python-dotenv could not parse statement starting at line 12\n",
      "WARNING:dotenv.main:Python-dotenv could not parse statement starting at line 15\n",
      "/home/naveen/micromamba/envs/ml/lib/python3.11/site-packages/huggingface_hub/file_download.py:1132: FutureWarning: `resume_download` is deprecated and will be removed in version 1.0.0. Downloads always resume when possible. If you want to force a new download, use `force_download=True`.\n",
      "  warnings.warn(\n",
      "WARNING:dotenv.main:Python-dotenv could not parse statement starting at line 4\n",
      "WARNING:dotenv.main:Python-dotenv could not parse statement starting at line 8\n",
      "WARNING:dotenv.main:Python-dotenv could not parse statement starting at line 12\n",
      "WARNING:dotenv.main:Python-dotenv could not parse statement starting at line 15\n",
      "/home/naveen/micromamba/envs/ml/lib/python3.11/site-packages/langchain_core/_api/deprecation.py:119: LangChainDeprecationWarning: The class `HuggingFaceEmbeddings` was deprecated in LangChain 0.2.2 and will be removed in 0.3.0. An updated version of the class exists in the langchain-huggingface package and should be used instead. To use it run `pip install -U langchain-huggingface` and import as `from langchain_huggingface import HuggingFaceEmbeddings`.\n",
      "  warn_deprecated(\n",
      "WARNING:dotenv.main:Python-dotenv could not parse statement starting at line 4\n",
      "WARNING:dotenv.main:Python-dotenv could not parse statement starting at line 8\n",
      "WARNING:dotenv.main:Python-dotenv could not parse statement starting at line 12\n",
      "WARNING:dotenv.main:Python-dotenv could not parse statement starting at line 15\n"
     ]
    }
   ],
   "source": [
    "# Init LLM object\n",
    "llm = ChatGoogleGenerativeAI(model='gemini-1.5-flash', google_api_key=GOOGLE_API_KEY, temperature=1e-08)\n",
    "\n",
    "# Splitter object\n",
    "splitter = RecursiveCharacterTextSplitter(\n",
    "    separators=[\"\\n\\n\", \"\\n\", \".\", \" \"],\n",
    "    chunk_size=2000,\n",
    "    chunk_overlap=300,\n",
    "    add_start_index=True\n",
    ")\n",
    "\n",
    "# Split data\n",
    "chunks = splitter.split_documents(eval_docs)\n",
    "\n",
    "# # Google embedder\n",
    "# embedding = GoogleGenerativeAIEmbeddings(model=\"models/embedding-001\")\n",
    "\n",
    "# # Vector store\n",
    "# vectorstore = Chroma.from_documents(documents=chunks, embedding=embedding, collection_name=\"rag-1\")\n",
    "\n",
    "# # Doc retreiver\n",
    "# retriever = vectorstore.as_retriever(search_kwargs={\"k\": 5})\n",
    "# retriever_from_llm = MultiQueryRetriever.from_llm(retriever=retriever, llm=llm)\n",
    "\n",
    "# Google embedding\n",
    "embedding_1_google = GoogleGenerativeAIEmbeddings(model=\"models/embedding-001\")\n",
    "vs_google = Chroma.from_documents(documents=chunks, embedding=embedding_1_google, collection_name=\"google_embedding-001\")\n",
    "retriever_google = vs_google.as_retriever(search_kwargs={\"k\": 5})\n",
    "\n",
    "# HuggingFace BGE embedding\n",
    "embedding_2_hf_bge = HuggingFaceBgeEmbeddings(model_name=\"BAAI/bge-large-en\", model_kwargs={\"device\":\"cpu\"}, encode_kwargs = {'normalize_embeddings': False})\n",
    "vs_hfbge = Chroma.from_documents(documents=chunks, embedding=embedding_2_hf_bge, collection_name=\"hf_bge-large\")\n",
    "retriever_hfbge = vs_hfbge.as_retriever(search_kwargs={\"k\": 5})\n",
    "\n",
    "# ST all-mpnet-base embedding\n",
    "embedding_3_st_allmpnetbase = SentenceTransformerEmbeddings(model_name='sentence-transformers/all-mpnet-base-v2')\n",
    "vs_st_allmpnet = Chroma.from_documents(documents=chunks, embedding=embedding_3_st_allmpnetbase, collection_name=\"st_all-mpnet-base\")\n",
    "retriever_st_allmpnet = vs_st_allmpnet.as_retriever(search_kwargs={\"k\": 5})\n",
    "\n",
    "# LOTR\n",
    "lotr = MergerRetriever(retrievers=[retriever_google, retriever_hfbge, retriever_st_allmpnet])\n",
    "\n",
    "# OpenAI embeddings for filtering out redundant entries\n",
    "filter_embeddings = OpenAIEmbeddings()\n",
    "filter = EmbeddingsRedundantFilter(embeddings=filter_embeddings)\n",
    "\n",
    "# Pipeline for reordering embeddings\n",
    "reordering = LongContextReorder() \n",
    "pipeline = DocumentCompressorPipeline(transformers=[filter, reordering])\n",
    "\n",
    "# Retriever for reordered entries\n",
    "compression_retriever_reordered = ContextualCompressionRetriever(\n",
    "    base_compressor=pipeline, base_retriever=lotr, search_kwargs={\"k\": 5, \"include_metadata\": True}\n",
    ")\n",
    "\n",
    "# Document formatter for context docs\n",
    "def format_docs(docs):\n",
    "    return \"\\n\\n\".join(doc.page_content for doc in docs)\n",
    "\n",
    "# RAG prompt\n",
    "prompt = hub.pull(\"rlm/rag-prompt\")\n",
    "\n",
    "# RAG chain\n",
    "rag_chain = (\n",
    "    {\"context\": compression_retriever_reordered | format_docs, \"question\": RunnablePassthrough()}\n",
    "    | prompt\n",
    "    | llm\n",
    "    | StrOutputParser()\n",
    ")"
   ]
  },
  {
   "cell_type": "code",
   "execution_count": 92,
   "id": "19232cd8-ca02-4ea4-b023-28f1e179e826",
   "metadata": {
    "scrolled": true
   },
   "outputs": [],
   "source": [
    "# Run chain for all input questions and store output\n",
    "rag_answers = []\n",
    "for q in dft['question']:\n",
    "    rag_answers.append(rag_chain.invoke(q))"
   ]
  },
  {
   "cell_type": "code",
   "execution_count": 76,
   "id": "fa28d63c-aebd-411e-ad54-8e80bf33669b",
   "metadata": {},
   "outputs": [],
   "source": [
    "# Clear collection\n",
    "vectorstore.delete_collection()"
   ]
  },
  {
   "cell_type": "code",
   "execution_count": 93,
   "id": "8d48a23f-fedc-457e-af5b-34ecdd669a0c",
   "metadata": {},
   "outputs": [],
   "source": [
    "# Utility to generate eval dataset from answers\n",
    "def ans_to_eval_dataset(df, answers):\n",
    "    eval_df = df[['question', 'contexts', 'ground_truth']]\n",
    "    eval_df = eval_df.assign(answer=answers)\n",
    "    dataset = Dataset.from_pandas(eval_df)\n",
    "    return dataset"
   ]
  },
  {
   "cell_type": "code",
   "execution_count": 94,
   "id": "18231433-3639-4a00-b2fb-ccef22a800d3",
   "metadata": {},
   "outputs": [],
   "source": [
    "# Generate dataset from answers\n",
    "dataset = ans_to_eval_dataset(dft, rag_answers)"
   ]
  },
  {
   "cell_type": "code",
   "execution_count": 95,
   "id": "bc84dcbf-24b7-4fb2-b4e8-cf943616457a",
   "metadata": {},
   "outputs": [],
   "source": [
    "llm_eval = ChatGoogleGenerativeAI(model='gemini-1.5-flash', google_api_key=GOOGLE_API_KEY, temperature=1e-8)\n",
    "embedding_eval = GoogleGenerativeAIEmbeddings(model=\"models/embedding-001\")"
   ]
  },
  {
   "cell_type": "code",
   "execution_count": 96,
   "id": "91bbeee2-da1c-4cf4-b40e-669903517693",
   "metadata": {},
   "outputs": [
    {
     "data": {
      "application/vnd.jupyter.widget-view+json": {
       "model_id": "f6481f8b79d940f59566917838d97f14",
       "version_major": 2,
       "version_minor": 0
      },
      "text/plain": [
       "Evaluating:   0%|          | 0/288 [00:00<?, ?it/s]"
      ]
     },
     "metadata": {},
     "output_type": "display_data"
    },
    {
     "name": "stderr",
     "output_type": "stream",
     "text": [
      "WARNING:ragas.llms.output_parser:Failed to parse output. Returning None.\n"
     ]
    }
   ],
   "source": [
    "# Evaluate\n",
    "result = evaluate(\n",
    "    dataset,\n",
    "    llm=LangchainLLMWrapper(llm_eval),\n",
    "    embeddings=LangchainEmbeddingsWrapper(embedding_eval),\n",
    "    metrics=[\n",
    "        context_precision,\n",
    "        faithfulness,\n",
    "        answer_relevancy,\n",
    "        context_recall\n",
    "    ]\n",
    ")"
   ]
  },
  {
   "cell_type": "markdown",
   "id": "af5a26fa-5e23-4c2b-9d85-8267adb2054b",
   "metadata": {},
   "source": [
    "**split_2000_300_lotr_temp_00**"
   ]
  },
  {
   "cell_type": "code",
   "execution_count": 97,
   "id": "fd02e279-5e1a-40e6-8638-ff90f48dd5c4",
   "metadata": {},
   "outputs": [
    {
     "data": {
      "text/plain": [
       "{'context_precision': 0.9861, 'faithfulness': 0.8522, 'answer_relevancy': 0.7374, 'context_recall': 0.9799}"
      ]
     },
     "execution_count": 97,
     "metadata": {},
     "output_type": "execute_result"
    }
   ],
   "source": [
    "result"
   ]
  },
  {
   "cell_type": "code",
   "execution_count": 98,
   "id": "127fa1cb-38fd-4173-b78c-ed8ce2688c40",
   "metadata": {},
   "outputs": [],
   "source": [
    "split_2000_300_lotr_temp_00 = result.to_pandas()"
   ]
  },
  {
   "cell_type": "code",
   "execution_count": 99,
   "id": "79f0e8ac-dd2d-42da-88f4-a4a1cba2cf13",
   "metadata": {},
   "outputs": [
    {
     "data": {
      "text/plain": [
       "faithfulness        0.852210\n",
       "answer_relevancy    0.737363\n",
       "dtype: float64"
      ]
     },
     "execution_count": 99,
     "metadata": {},
     "output_type": "execute_result"
    }
   ],
   "source": [
    "split_2000_300_lotr_temp_00[['faithfulness','answer_relevancy']].mean()"
   ]
  },
  {
   "cell_type": "code",
   "execution_count": 100,
   "id": "f66dd846-45ec-41e9-b6c5-a53ae947e088",
   "metadata": {},
   "outputs": [
    {
     "data": {
      "text/plain": [
       "faithfulness        0.873584\n",
       "answer_relevancy    0.811258\n",
       "dtype: float64"
      ]
     },
     "execution_count": 100,
     "metadata": {},
     "output_type": "execute_result"
    }
   ],
   "source": [
    "split_2000_300_lotr_temp_00.loc[dft_simple][['faithfulness','answer_relevancy']].mean()"
   ]
  },
  {
   "cell_type": "code",
   "execution_count": 101,
   "id": "37946119-0995-4d5f-9462-2aff41a22fdf",
   "metadata": {},
   "outputs": [
    {
     "data": {
      "text/plain": [
       "faithfulness        0.829615\n",
       "answer_relevancy    0.656949\n",
       "dtype: float64"
      ]
     },
     "execution_count": 101,
     "metadata": {},
     "output_type": "execute_result"
    }
   ],
   "source": [
    "split_2000_300_lotr_temp_00.loc[dft_complex][['faithfulness','answer_relevancy']].mean()"
   ]
  },
  {
   "cell_type": "code",
   "execution_count": 102,
   "id": "15f29aeb-8245-418c-b445-9b4ed9bd6c66",
   "metadata": {},
   "outputs": [],
   "source": [
    "split_2000_300_lotr_temp_00.to_pickle('./results/split_2000_300_lotr_temp_00.pkl')"
   ]
  },
  {
   "cell_type": "markdown",
   "id": "4aacec44-bc14-41ec-83b7-f0c206b5d452",
   "metadata": {},
   "source": [
    "**split_2000_300_multi_query_temp_00**"
   ]
  },
  {
   "cell_type": "code",
   "execution_count": 83,
   "id": "170ba6cc-ff4c-4d2f-a363-8ff0fcfa09d0",
   "metadata": {},
   "outputs": [
    {
     "data": {
      "text/plain": [
       "{'context_precision': 0.9861, 'faithfulness': 0.8186, 'answer_relevancy': 0.6928, 'context_recall': 0.9799}"
      ]
     },
     "execution_count": 83,
     "metadata": {},
     "output_type": "execute_result"
    }
   ],
   "source": [
    "result"
   ]
  },
  {
   "cell_type": "code",
   "execution_count": 84,
   "id": "7e454d5d-f0ee-479c-a29e-7ff063ddf90d",
   "metadata": {},
   "outputs": [],
   "source": [
    "split_2000_300_multi_query_temp_00 = result.to_pandas()"
   ]
  },
  {
   "cell_type": "code",
   "execution_count": 85,
   "id": "64487e1d-54f0-4cdc-b30a-f5bc09e5e679",
   "metadata": {},
   "outputs": [
    {
     "data": {
      "text/plain": [
       "faithfulness        0.818595\n",
       "answer_relevancy    0.692763\n",
       "dtype: float64"
      ]
     },
     "execution_count": 85,
     "metadata": {},
     "output_type": "execute_result"
    }
   ],
   "source": [
    "split_2000_300_multi_query_temp_00[['faithfulness','answer_relevancy']].mean()"
   ]
  },
  {
   "cell_type": "code",
   "execution_count": 86,
   "id": "6c5fa734-bf76-48a3-b4cb-28e9d89c06cc",
   "metadata": {},
   "outputs": [
    {
     "data": {
      "text/plain": [
       "faithfulness        0.882639\n",
       "answer_relevancy    0.777440\n",
       "dtype: float64"
      ]
     },
     "execution_count": 86,
     "metadata": {},
     "output_type": "execute_result"
    }
   ],
   "source": [
    "split_2000_300_multi_query_temp_00.loc[dft_simple][['faithfulness','answer_relevancy']].mean()"
   ]
  },
  {
   "cell_type": "code",
   "execution_count": 87,
   "id": "60f1c98f-bf91-452a-9b73-d3379302e18b",
   "metadata": {},
   "outputs": [
    {
     "data": {
      "text/plain": [
       "faithfulness        0.752721\n",
       "answer_relevancy    0.603247\n",
       "dtype: float64"
      ]
     },
     "execution_count": 87,
     "metadata": {},
     "output_type": "execute_result"
    }
   ],
   "source": [
    "split_2000_300_multi_query_temp_00.loc[dft_complex][['faithfulness','answer_relevancy']].mean()"
   ]
  },
  {
   "cell_type": "code",
   "execution_count": 88,
   "id": "6c21ef7b-0ba2-4a26-96ce-71c7c8603bfd",
   "metadata": {},
   "outputs": [],
   "source": [
    "split_2000_300_multi_query_temp_00.to_pickle('./results/split_2000_300_multi_query_temp_00.pkl')"
   ]
  },
  {
   "cell_type": "markdown",
   "id": "218ebedc-390b-48ec-956f-3caa7dd3df69",
   "metadata": {},
   "source": [
    "**split_2000_300_single_query_temp_00**"
   ]
  },
  {
   "cell_type": "code",
   "execution_count": 70,
   "id": "660104eb-5195-4a46-bdee-a85fea9abb69",
   "metadata": {},
   "outputs": [
    {
     "data": {
      "text/plain": [
       "{'context_precision': 0.9861, 'faithfulness': 0.9462, 'answer_relevancy': 0.7826, 'context_recall': 0.9799}"
      ]
     },
     "execution_count": 70,
     "metadata": {},
     "output_type": "execute_result"
    }
   ],
   "source": [
    "result"
   ]
  },
  {
   "cell_type": "code",
   "execution_count": 71,
   "id": "e0d57497-f2f1-4fd3-997d-15bdae4907f6",
   "metadata": {},
   "outputs": [],
   "source": [
    "split_2000_300_single_query_temp_00 = result.to_pandas()"
   ]
  },
  {
   "cell_type": "code",
   "execution_count": 72,
   "id": "440ba144-ec48-408c-8fe1-728a176d3ad9",
   "metadata": {},
   "outputs": [
    {
     "data": {
      "text/plain": [
       "faithfulness        0.946241\n",
       "answer_relevancy    0.782603\n",
       "dtype: float64"
      ]
     },
     "execution_count": 72,
     "metadata": {},
     "output_type": "execute_result"
    }
   ],
   "source": [
    "split_2000_300_single_query_temp_00[['faithfulness','answer_relevancy']].mean()"
   ]
  },
  {
   "cell_type": "code",
   "execution_count": 73,
   "id": "a5521a4f-6471-480b-af7c-eb66dc5cc500",
   "metadata": {},
   "outputs": [
    {
     "data": {
      "text/plain": [
       "faithfulness        0.926920\n",
       "answer_relevancy    0.806952\n",
       "dtype: float64"
      ]
     },
     "execution_count": 73,
     "metadata": {},
     "output_type": "execute_result"
    }
   ],
   "source": [
    "split_2000_300_single_query_temp_00.loc[dft_simple][['faithfulness','answer_relevancy']].mean()"
   ]
  },
  {
   "cell_type": "code",
   "execution_count": 74,
   "id": "5659116a-6640-4e9a-8860-ea030598bb98",
   "metadata": {},
   "outputs": [
    {
     "data": {
      "text/plain": [
       "faithfulness        0.966667\n",
       "answer_relevancy    0.756863\n",
       "dtype: float64"
      ]
     },
     "execution_count": 74,
     "metadata": {},
     "output_type": "execute_result"
    }
   ],
   "source": [
    "split_2000_300_single_query_temp_00.loc[dft_complex][['faithfulness','answer_relevancy']].mean()"
   ]
  },
  {
   "cell_type": "code",
   "execution_count": 75,
   "id": "3d17bbbe-3734-4a82-8ff7-65245ca039fc",
   "metadata": {},
   "outputs": [],
   "source": [
    "split_2000_300_single_query_temp_00.to_pickle('./results/split_2000_300_single_query_temp_00.pkl')"
   ]
  },
  {
   "cell_type": "code",
   "execution_count": null,
   "id": "ea038389-a964-40c0-9493-aef891518f44",
   "metadata": {},
   "outputs": [],
   "source": []
  },
  {
   "cell_type": "code",
   "execution_count": null,
   "id": "09b01bda-8ee6-4c26-adfb-dd69b22fbeed",
   "metadata": {},
   "outputs": [],
   "source": []
  },
  {
   "cell_type": "code",
   "execution_count": 132,
   "id": "ac1e1b87-5fc6-4d49-9391-6040bc1ddfa2",
   "metadata": {},
   "outputs": [
    {
     "data": {
      "text/plain": [
       "'The Supreme Court has issued a notice to the respondents in a writ petition filed by a NEET UG candidate and has scheduled the next hearing for July 8th. The petition challenges the final answer key of question number 29 in Physics and the compensatory time given to candidates at certain centers. \\n'"
      ]
     },
     "execution_count": 132,
     "metadata": {},
     "output_type": "execute_result"
    }
   ],
   "source": [
    "rag_chain.invoke(\"What's the status of the Supreme Court petition on NEET UG 2024 results?\")"
   ]
  },
  {
   "cell_type": "code",
   "execution_count": 131,
   "id": "ccd30513-e0c9-40e4-a23a-c5630b249735",
   "metadata": {},
   "outputs": [
    {
     "data": {
      "text/plain": [
       "\"What's the status of the Supreme Court petition on NEET UG 2024 results?\""
      ]
     },
     "execution_count": 131,
     "metadata": {},
     "output_type": "execute_result"
    }
   ],
   "source": [
    "result.to_pandas().loc[15]['question']"
   ]
  },
  {
   "cell_type": "code",
   "execution_count": 134,
   "id": "f48bc959-b4ef-4bca-bddf-ed311ab89b76",
   "metadata": {},
   "outputs": [
    {
     "data": {
      "text/plain": [
       "[0, 1, 2, 3, 4, 5, 6, 7, 8, 9, 10, 11, 12, 13, 14, 15, 16, 17, 18, 19]"
      ]
     },
     "execution_count": 134,
     "metadata": {},
     "output_type": "execute_result"
    }
   ],
   "source": [
    "list(range(20))"
   ]
  },
  {
   "cell_type": "code",
   "execution_count": 133,
   "id": "46108317-d544-4ca5-b6bf-95ef7176bf11",
   "metadata": {},
   "outputs": [
    {
     "data": {
      "text/plain": [
       "{'context_precision': 0.9500, 'faithfulness': 0.9492, 'answer_relevancy': 0.7634, 'context_recall': 1.0000}"
      ]
     },
     "execution_count": 133,
     "metadata": {},
     "output_type": "execute_result"
    }
   ],
   "source": [
    "result"
   ]
  },
  {
   "cell_type": "code",
   "execution_count": 114,
   "id": "9230190e-67eb-46fc-8194-a4512053ad33",
   "metadata": {},
   "outputs": [
    {
     "data": {
      "text/plain": [
       "{'context_precision': 0.9500, 'faithfulness': 0.9025, 'answer_relevancy': 0.7659, 'context_recall': 1.0000}"
      ]
     },
     "execution_count": 114,
     "metadata": {},
     "output_type": "execute_result"
    }
   ],
   "source": [
    "result"
   ]
  },
  {
   "cell_type": "code",
   "execution_count": 129,
   "id": "7c6c2b4c-349f-42e9-bda1-d927dae57daa",
   "metadata": {},
   "outputs": [
    {
     "data": {
      "text/html": [
       "<div>\n",
       "<style scoped>\n",
       "    .dataframe tbody tr th:only-of-type {\n",
       "        vertical-align: middle;\n",
       "    }\n",
       "\n",
       "    .dataframe tbody tr th {\n",
       "        vertical-align: top;\n",
       "    }\n",
       "\n",
       "    .dataframe thead th {\n",
       "        text-align: right;\n",
       "    }\n",
       "</style>\n",
       "<table border=\"1\" class=\"dataframe\">\n",
       "  <thead>\n",
       "    <tr style=\"text-align: right;\">\n",
       "      <th></th>\n",
       "      <th>question</th>\n",
       "      <th>contexts</th>\n",
       "      <th>ground_truth</th>\n",
       "      <th>answer</th>\n",
       "      <th>context_precision</th>\n",
       "      <th>faithfulness</th>\n",
       "      <th>answer_relevancy</th>\n",
       "      <th>context_recall</th>\n",
       "    </tr>\n",
       "  </thead>\n",
       "  <tbody>\n",
       "    <tr>\n",
       "      <th>0</th>\n",
       "      <td>How much did urban average monthly consumption...</td>\n",
       "      <td>[ spending per person increased to Rs 3,773 pe...</td>\n",
       "      <td>Urban average monthly consumption expenditure ...</td>\n",
       "      <td>The urban average monthly consumption expendit...</td>\n",
       "      <td>1.0</td>\n",
       "      <td>0.600000</td>\n",
       "      <td>0.893185</td>\n",
       "      <td>1.0</td>\n",
       "    </tr>\n",
       "    <tr>\n",
       "      <th>1</th>\n",
       "      <td>What is the purpose of awarding grace marks to...</td>\n",
       "      <td>[\\n\\n\\n\\n\\n\\nNEET UG: Govt, NTA form panel to ...</td>\n",
       "      <td>The purpose of awarding grace marks to candida...</td>\n",
       "      <td>The grace marks were awarded to compensate for...</td>\n",
       "      <td>1.0</td>\n",
       "      <td>0.800000</td>\n",
       "      <td>0.871556</td>\n",
       "      <td>1.0</td>\n",
       "    </tr>\n",
       "    <tr>\n",
       "      <th>2</th>\n",
       "      <td>What was the net purchase amount of FPIs in In...</td>\n",
       "      <td>[ Nifty fell by 1,379.4 points. However, in th...</td>\n",
       "      <td>Rs 4,391.02 crore</td>\n",
       "      <td>According to BSE's provisional data, FPIs were...</td>\n",
       "      <td>1.0</td>\n",
       "      <td>1.000000</td>\n",
       "      <td>0.852176</td>\n",
       "      <td>1.0</td>\n",
       "    </tr>\n",
       "    <tr>\n",
       "      <th>3</th>\n",
       "      <td>Which food item had the highest expenditure in...</td>\n",
       "      <td>[\\n\\n\\n\\n\\n\\nConsumption expenditure survey 20...</td>\n",
       "      <td>Meats</td>\n",
       "      <td>The highest expenditure on food items in Keral...</td>\n",
       "      <td>1.0</td>\n",
       "      <td>1.000000</td>\n",
       "      <td>0.804482</td>\n",
       "      <td>1.0</td>\n",
       "    </tr>\n",
       "    <tr>\n",
       "      <th>4</th>\n",
       "      <td>What was the percentage increase in monthly co...</td>\n",
       "      <td>[ spending per person increased to Rs 3,773 pe...</td>\n",
       "      <td>The monthly consumption expenditure per person...</td>\n",
       "      <td>The monthly consumption expenditure per person...</td>\n",
       "      <td>1.0</td>\n",
       "      <td>1.000000</td>\n",
       "      <td>0.751884</td>\n",
       "      <td>1.0</td>\n",
       "    </tr>\n",
       "    <tr>\n",
       "      <th>5</th>\n",
       "      <td>What did households spend the most on in the C...</td>\n",
       "      <td>[\\n\\n\\n\\n\\n\\nConsumption expenditure survey 20...</td>\n",
       "      <td>Households spent the most on processed food in...</td>\n",
       "      <td>Households across India spent the most on 'bev...</td>\n",
       "      <td>1.0</td>\n",
       "      <td>1.000000</td>\n",
       "      <td>0.772353</td>\n",
       "      <td>1.0</td>\n",
       "    </tr>\n",
       "    <tr>\n",
       "      <th>6</th>\n",
       "      <td>What food item did households in Haryana spend...</td>\n",
       "      <td>[\\n\\n\\n\\n\\n\\nConsumption expenditure survey 20...</td>\n",
       "      <td>Households in Haryana spent the most on 'milk ...</td>\n",
       "      <td>According to the Household Consumption Expendi...</td>\n",
       "      <td>1.0</td>\n",
       "      <td>1.000000</td>\n",
       "      <td>0.802070</td>\n",
       "      <td>1.0</td>\n",
       "    </tr>\n",
       "    <tr>\n",
       "      <th>7</th>\n",
       "      <td>What are the major categories of non-food item...</td>\n",
       "      <td>[ of total consumption expenditure on food.\\nA...</td>\n",
       "      <td>The major categories of non-food items that ho...</td>\n",
       "      <td>The provided context focuses on consumption ex...</td>\n",
       "      <td>1.0</td>\n",
       "      <td>1.000000</td>\n",
       "      <td>0.882539</td>\n",
       "      <td>1.0</td>\n",
       "    </tr>\n",
       "    <tr>\n",
       "      <th>8</th>\n",
       "      <td>What are the food expenditure trends in rural ...</td>\n",
       "      <td>[ of total consumption expenditure on food.\\nA...</td>\n",
       "      <td>In rural areas of India, food accounted for ab...</td>\n",
       "      <td>The HCES survey reveals that spending on non-f...</td>\n",
       "      <td>1.0</td>\n",
       "      <td>1.000000</td>\n",
       "      <td>0.778313</td>\n",
       "      <td>1.0</td>\n",
       "    </tr>\n",
       "    <tr>\n",
       "      <th>9</th>\n",
       "      <td>How did the stock market respond to the RBI's ...</td>\n",
       "      <td>[\\n\\n\\n\\n\\n\\nSensex, Nifty at record highs aft...</td>\n",
       "      <td>The Sensex and Nifty surged over 2% to reach r...</td>\n",
       "      <td>The stock market responded positively to the R...</td>\n",
       "      <td>1.0</td>\n",
       "      <td>1.000000</td>\n",
       "      <td>0.614332</td>\n",
       "      <td>1.0</td>\n",
       "    </tr>\n",
       "    <tr>\n",
       "      <th>10</th>\n",
       "      <td>What's the new FY25 real GDP growth projection...</td>\n",
       "      <td>[\\n\\n\\n\\n\\n\\nSensex, Nifty at record highs aft...</td>\n",
       "      <td>The FY25 real GDP growth projection from RBI h...</td>\n",
       "      <td>The Reserve Bank of India (RBI) has revised it...</td>\n",
       "      <td>1.0</td>\n",
       "      <td>1.000000</td>\n",
       "      <td>0.584925</td>\n",
       "      <td>1.0</td>\n",
       "    </tr>\n",
       "    <tr>\n",
       "      <th>11</th>\n",
       "      <td>What percentage of monthly rural consumption i...</td>\n",
       "      <td>[ of total consumption expenditure on food.\\nA...</td>\n",
       "      <td>The percentage of monthly rural consumption sp...</td>\n",
       "      <td>In 2022-23, the percentage of monthly rural co...</td>\n",
       "      <td>0.0</td>\n",
       "      <td>1.000000</td>\n",
       "      <td>0.842275</td>\n",
       "      <td>1.0</td>\n",
       "    </tr>\n",
       "    <tr>\n",
       "      <th>12</th>\n",
       "      <td>Which non-food expenditure categories do rural...</td>\n",
       "      <td>[ of total consumption expenditure on food.\\nA...</td>\n",
       "      <td>Rural and urban households spend on categories...</td>\n",
       "      <td>Rural and urban households spend most of their...</td>\n",
       "      <td>1.0</td>\n",
       "      <td>0.750000</td>\n",
       "      <td>0.838953</td>\n",
       "      <td>1.0</td>\n",
       "    </tr>\n",
       "    <tr>\n",
       "      <th>13</th>\n",
       "      <td>What is the significance of NEET UG in the adm...</td>\n",
       "      <td>[ committee will give their verdict before nex...</td>\n",
       "      <td>NEET UG is the qualifying entrance exam for ad...</td>\n",
       "      <td>NEET UG is a crucial exam for admission to med...</td>\n",
       "      <td>1.0</td>\n",
       "      <td>1.000000</td>\n",
       "      <td>0.725198</td>\n",
       "      <td>1.0</td>\n",
       "    </tr>\n",
       "    <tr>\n",
       "      <th>14</th>\n",
       "      <td>What was the net purchase amount of FPIs in In...</td>\n",
       "      <td>[ Nifty fell by 1,379.4 points. However, in th...</td>\n",
       "      <td>Rs 4,391.02 crore</td>\n",
       "      <td>According to BSE's provisional data, FPIs were...</td>\n",
       "      <td>1.0</td>\n",
       "      <td>1.000000</td>\n",
       "      <td>0.852176</td>\n",
       "      <td>1.0</td>\n",
       "    </tr>\n",
       "    <tr>\n",
       "      <th>15</th>\n",
       "      <td>What's the status of the Supreme Court petitio...</td>\n",
       "      <td>[ committee will give their verdict before nex...</td>\n",
       "      <td>A writ petition has been filed by another NEET...</td>\n",
       "      <td>The provided text states that a writ petition ...</td>\n",
       "      <td>1.0</td>\n",
       "      <td>1.000000</td>\n",
       "      <td>0.000000</td>\n",
       "      <td>1.0</td>\n",
       "    </tr>\n",
       "    <tr>\n",
       "      <th>16</th>\n",
       "      <td>Why was a committee formed to review the resul...</td>\n",
       "      <td>[\\n\\n\\n\\n\\n\\nNEET UG: Govt, NTA form panel to ...</td>\n",
       "      <td>A committee was formed to review the results o...</td>\n",
       "      <td>A committee was formed to review the results o...</td>\n",
       "      <td>1.0</td>\n",
       "      <td>1.000000</td>\n",
       "      <td>0.844295</td>\n",
       "      <td>1.0</td>\n",
       "    </tr>\n",
       "    <tr>\n",
       "      <th>17</th>\n",
       "      <td>What factors contributed to the surge in Sense...</td>\n",
       "      <td>[\\n\\n\\n\\n\\n\\nSensex, Nifty at record highs aft...</td>\n",
       "      <td>The surge in Sensex and Nifty to record highs ...</td>\n",
       "      <td>The surge in Sensex and Nifty to record highs ...</td>\n",
       "      <td>1.0</td>\n",
       "      <td>1.000000</td>\n",
       "      <td>0.855970</td>\n",
       "      <td>1.0</td>\n",
       "    </tr>\n",
       "    <tr>\n",
       "      <th>18</th>\n",
       "      <td>What is the purpose of the committee formed by...</td>\n",
       "      <td>[\\n\\n\\n\\n\\n\\nNEET UG: Govt, NTA form panel to ...</td>\n",
       "      <td>The purpose of the committee formed by the Gov...</td>\n",
       "      <td>The committee formed by the Government and NTA...</td>\n",
       "      <td>1.0</td>\n",
       "      <td>1.000000</td>\n",
       "      <td>0.894349</td>\n",
       "      <td>1.0</td>\n",
       "    </tr>\n",
       "    <tr>\n",
       "      <th>19</th>\n",
       "      <td>How has the market recouped its losses in the ...</td>\n",
       "      <td>[ Nifty fell by 1,379.4 points. However, in th...</td>\n",
       "      <td>In the last three trading sessions, the market...</td>\n",
       "      <td>The market recouped its losses in the last thr...</td>\n",
       "      <td>1.0</td>\n",
       "      <td>0.833333</td>\n",
       "      <td>0.807204</td>\n",
       "      <td>1.0</td>\n",
       "    </tr>\n",
       "  </tbody>\n",
       "</table>\n",
       "</div>"
      ],
      "text/plain": [
       "                                             question  \\\n",
       "0   How much did urban average monthly consumption...   \n",
       "1   What is the purpose of awarding grace marks to...   \n",
       "2   What was the net purchase amount of FPIs in In...   \n",
       "3   Which food item had the highest expenditure in...   \n",
       "4   What was the percentage increase in monthly co...   \n",
       "5   What did households spend the most on in the C...   \n",
       "6   What food item did households in Haryana spend...   \n",
       "7   What are the major categories of non-food item...   \n",
       "8   What are the food expenditure trends in rural ...   \n",
       "9   How did the stock market respond to the RBI's ...   \n",
       "10  What's the new FY25 real GDP growth projection...   \n",
       "11  What percentage of monthly rural consumption i...   \n",
       "12  Which non-food expenditure categories do rural...   \n",
       "13  What is the significance of NEET UG in the adm...   \n",
       "14  What was the net purchase amount of FPIs in In...   \n",
       "15  What's the status of the Supreme Court petitio...   \n",
       "16  Why was a committee formed to review the resul...   \n",
       "17  What factors contributed to the surge in Sense...   \n",
       "18  What is the purpose of the committee formed by...   \n",
       "19  How has the market recouped its losses in the ...   \n",
       "\n",
       "                                             contexts  \\\n",
       "0   [ spending per person increased to Rs 3,773 pe...   \n",
       "1   [\\n\\n\\n\\n\\n\\nNEET UG: Govt, NTA form panel to ...   \n",
       "2   [ Nifty fell by 1,379.4 points. However, in th...   \n",
       "3   [\\n\\n\\n\\n\\n\\nConsumption expenditure survey 20...   \n",
       "4   [ spending per person increased to Rs 3,773 pe...   \n",
       "5   [\\n\\n\\n\\n\\n\\nConsumption expenditure survey 20...   \n",
       "6   [\\n\\n\\n\\n\\n\\nConsumption expenditure survey 20...   \n",
       "7   [ of total consumption expenditure on food.\\nA...   \n",
       "8   [ of total consumption expenditure on food.\\nA...   \n",
       "9   [\\n\\n\\n\\n\\n\\nSensex, Nifty at record highs aft...   \n",
       "10  [\\n\\n\\n\\n\\n\\nSensex, Nifty at record highs aft...   \n",
       "11  [ of total consumption expenditure on food.\\nA...   \n",
       "12  [ of total consumption expenditure on food.\\nA...   \n",
       "13  [ committee will give their verdict before nex...   \n",
       "14  [ Nifty fell by 1,379.4 points. However, in th...   \n",
       "15  [ committee will give their verdict before nex...   \n",
       "16  [\\n\\n\\n\\n\\n\\nNEET UG: Govt, NTA form panel to ...   \n",
       "17  [\\n\\n\\n\\n\\n\\nSensex, Nifty at record highs aft...   \n",
       "18  [\\n\\n\\n\\n\\n\\nNEET UG: Govt, NTA form panel to ...   \n",
       "19  [ Nifty fell by 1,379.4 points. However, in th...   \n",
       "\n",
       "                                         ground_truth  \\\n",
       "0   Urban average monthly consumption expenditure ...   \n",
       "1   The purpose of awarding grace marks to candida...   \n",
       "2                                   Rs 4,391.02 crore   \n",
       "3                                               Meats   \n",
       "4   The monthly consumption expenditure per person...   \n",
       "5   Households spent the most on processed food in...   \n",
       "6   Households in Haryana spent the most on 'milk ...   \n",
       "7   The major categories of non-food items that ho...   \n",
       "8   In rural areas of India, food accounted for ab...   \n",
       "9   The Sensex and Nifty surged over 2% to reach r...   \n",
       "10  The FY25 real GDP growth projection from RBI h...   \n",
       "11  The percentage of monthly rural consumption sp...   \n",
       "12  Rural and urban households spend on categories...   \n",
       "13  NEET UG is the qualifying entrance exam for ad...   \n",
       "14                                  Rs 4,391.02 crore   \n",
       "15  A writ petition has been filed by another NEET...   \n",
       "16  A committee was formed to review the results o...   \n",
       "17  The surge in Sensex and Nifty to record highs ...   \n",
       "18  The purpose of the committee formed by the Gov...   \n",
       "19  In the last three trading sessions, the market...   \n",
       "\n",
       "                                               answer  context_precision  \\\n",
       "0   The urban average monthly consumption expendit...                1.0   \n",
       "1   The grace marks were awarded to compensate for...                1.0   \n",
       "2   According to BSE's provisional data, FPIs were...                1.0   \n",
       "3   The highest expenditure on food items in Keral...                1.0   \n",
       "4   The monthly consumption expenditure per person...                1.0   \n",
       "5   Households across India spent the most on 'bev...                1.0   \n",
       "6   According to the Household Consumption Expendi...                1.0   \n",
       "7   The provided context focuses on consumption ex...                1.0   \n",
       "8   The HCES survey reveals that spending on non-f...                1.0   \n",
       "9   The stock market responded positively to the R...                1.0   \n",
       "10  The Reserve Bank of India (RBI) has revised it...                1.0   \n",
       "11  In 2022-23, the percentage of monthly rural co...                0.0   \n",
       "12  Rural and urban households spend most of their...                1.0   \n",
       "13  NEET UG is a crucial exam for admission to med...                1.0   \n",
       "14  According to BSE's provisional data, FPIs were...                1.0   \n",
       "15  The provided text states that a writ petition ...                1.0   \n",
       "16  A committee was formed to review the results o...                1.0   \n",
       "17  The surge in Sensex and Nifty to record highs ...                1.0   \n",
       "18  The committee formed by the Government and NTA...                1.0   \n",
       "19  The market recouped its losses in the last thr...                1.0   \n",
       "\n",
       "    faithfulness  answer_relevancy  context_recall  \n",
       "0       0.600000          0.893185             1.0  \n",
       "1       0.800000          0.871556             1.0  \n",
       "2       1.000000          0.852176             1.0  \n",
       "3       1.000000          0.804482             1.0  \n",
       "4       1.000000          0.751884             1.0  \n",
       "5       1.000000          0.772353             1.0  \n",
       "6       1.000000          0.802070             1.0  \n",
       "7       1.000000          0.882539             1.0  \n",
       "8       1.000000          0.778313             1.0  \n",
       "9       1.000000          0.614332             1.0  \n",
       "10      1.000000          0.584925             1.0  \n",
       "11      1.000000          0.842275             1.0  \n",
       "12      0.750000          0.838953             1.0  \n",
       "13      1.000000          0.725198             1.0  \n",
       "14      1.000000          0.852176             1.0  \n",
       "15      1.000000          0.000000             1.0  \n",
       "16      1.000000          0.844295             1.0  \n",
       "17      1.000000          0.855970             1.0  \n",
       "18      1.000000          0.894349             1.0  \n",
       "19      0.833333          0.807204             1.0  "
      ]
     },
     "execution_count": 129,
     "metadata": {},
     "output_type": "execute_result"
    }
   ],
   "source": [
    "result.to_pandas()"
   ]
  },
  {
   "cell_type": "markdown",
   "id": "9ba0a63f-cef9-4eca-b104-5eb01fb029c1",
   "metadata": {},
   "source": [
    "**df_t5_2000_300_single_0.1**"
   ]
  },
  {
   "cell_type": "code",
   "execution_count": 61,
   "id": "dedb2e51-0020-4be6-9817-aa80ec3b0c7b",
   "metadata": {},
   "outputs": [],
   "source": [
    "df_t5_2000_300_single_temp01 = result.to_pandas()"
   ]
  },
  {
   "cell_type": "code",
   "execution_count": 62,
   "id": "041b49a1-60e4-4b9e-ba24-8de054526189",
   "metadata": {},
   "outputs": [
    {
     "data": {
      "text/plain": [
       "faithfulness        0.901468\n",
       "answer_relevancy    0.709687\n",
       "dtype: float64"
      ]
     },
     "execution_count": 62,
     "metadata": {},
     "output_type": "execute_result"
    }
   ],
   "source": [
    "df_t5_2000_300_single_temp01[['faithfulness','answer_relevancy']].mean()"
   ]
  },
  {
   "cell_type": "code",
   "execution_count": 63,
   "id": "362a0781-ad59-4b10-abc3-6419c2c4b4e0",
   "metadata": {},
   "outputs": [
    {
     "data": {
      "text/plain": [
       "faithfulness        0.910245\n",
       "answer_relevancy    0.796861\n",
       "dtype: float64"
      ]
     },
     "execution_count": 63,
     "metadata": {},
     "output_type": "execute_result"
    }
   ],
   "source": [
    "df_t5_2000_300_single_temp01.loc[dft_simple][['faithfulness','answer_relevancy']].mean()"
   ]
  },
  {
   "cell_type": "code",
   "execution_count": 64,
   "id": "994ad036-fbc7-4bdd-90ac-6e006e4bb593",
   "metadata": {},
   "outputs": [
    {
     "data": {
      "text/plain": [
       "faithfulness        0.890741\n",
       "answer_relevancy    0.603141\n",
       "dtype: float64"
      ]
     },
     "execution_count": 64,
     "metadata": {},
     "output_type": "execute_result"
    }
   ],
   "source": [
    "df_t5_2000_300_single_temp01.loc[dft_complex][['faithfulness','answer_relevancy']].mean()"
   ]
  },
  {
   "cell_type": "code",
   "execution_count": 65,
   "id": "c727c179-e747-4ddb-a2a1-c7359ddb8611",
   "metadata": {},
   "outputs": [],
   "source": [
    "df_t5_2000_300_single_temp01.to_pickle('./results/df_t5_2000_300_single_temp01.pkl')"
   ]
  },
  {
   "cell_type": "markdown",
   "id": "79943e99-8e25-4e6b-ac70-a73f5b3189e5",
   "metadata": {},
   "source": [
    "**df_t5_2000_300_single_1e-8**"
   ]
  },
  {
   "cell_type": "code",
   "execution_count": 48,
   "id": "5217f22e-8416-42ce-a957-609207f3a777",
   "metadata": {},
   "outputs": [],
   "source": [
    "df_t5_2000_300_single_temp00 = result.to_pandas()"
   ]
  },
  {
   "cell_type": "code",
   "execution_count": 49,
   "id": "72a91cc9-ec7a-48c9-830c-da1f2bdf35ab",
   "metadata": {},
   "outputs": [
    {
     "data": {
      "text/plain": [
       "faithfulness        0.894524\n",
       "answer_relevancy    0.755106\n",
       "dtype: float64"
      ]
     },
     "execution_count": 49,
     "metadata": {},
     "output_type": "execute_result"
    }
   ],
   "source": [
    "df_t5_2000_300_single_temp00[['faithfulness','answer_relevancy']].mean()"
   ]
  },
  {
   "cell_type": "code",
   "execution_count": 50,
   "id": "c0af3212-efba-4dc4-b19e-e7e3c4e609d8",
   "metadata": {},
   "outputs": [
    {
     "data": {
      "text/plain": [
       "faithfulness        0.897619\n",
       "answer_relevancy    0.797024\n",
       "dtype: float64"
      ]
     },
     "execution_count": 50,
     "metadata": {},
     "output_type": "execute_result"
    }
   ],
   "source": [
    "df_t5_2000_300_single_temp00.loc[dft_simple][['faithfulness','answer_relevancy']].mean()"
   ]
  },
  {
   "cell_type": "code",
   "execution_count": 51,
   "id": "d765a4d6-8d69-4407-a9e9-d1c97e294ce4",
   "metadata": {},
   "outputs": [
    {
     "data": {
      "text/plain": [
       "faithfulness        0.890741\n",
       "answer_relevancy    0.703874\n",
       "dtype: float64"
      ]
     },
     "execution_count": 51,
     "metadata": {},
     "output_type": "execute_result"
    }
   ],
   "source": [
    "df_t5_2000_300_single_temp00.loc[dft_complex][['faithfulness','answer_relevancy']].mean()"
   ]
  },
  {
   "cell_type": "code",
   "execution_count": 52,
   "id": "4b100804-2f8b-4048-acee-e75e5f999557",
   "metadata": {},
   "outputs": [],
   "source": [
    "df_t5_2000_300_single_temp00.to_pickle('./results/df_t5_2000_300_single_temp00.pkl')"
   ]
  },
  {
   "cell_type": "markdown",
   "id": "ec18496e-7dd5-48fa-b9f5-f9cfa76c36e6",
   "metadata": {},
   "source": [
    "**df_t5_2000_300_single_0.6**"
   ]
  },
  {
   "cell_type": "code",
   "execution_count": 36,
   "id": "28f25e0d-f24d-47d9-ad7b-b4c9f1176c3a",
   "metadata": {},
   "outputs": [],
   "source": [
    "df_t5_2000_300_single_temp06 = result.to_pandas()"
   ]
  },
  {
   "cell_type": "code",
   "execution_count": 37,
   "id": "784ef5e3-477e-459a-be4f-1a331fb9bacb",
   "metadata": {},
   "outputs": [
    {
     "data": {
      "text/plain": [
       "faithfulness        0.894325\n",
       "answer_relevancy    0.774752\n",
       "dtype: float64"
      ]
     },
     "execution_count": 37,
     "metadata": {},
     "output_type": "execute_result"
    }
   ],
   "source": [
    "df_t5_2000_300_single_temp06[['faithfulness','answer_relevancy']].mean()"
   ]
  },
  {
   "cell_type": "code",
   "execution_count": 38,
   "id": "a3b8a3f5-7e2a-46a4-b3e6-9794acd825ea",
   "metadata": {},
   "outputs": [
    {
     "data": {
      "text/plain": [
       "faithfulness        0.895238\n",
       "answer_relevancy    0.825850\n",
       "dtype: float64"
      ]
     },
     "execution_count": 38,
     "metadata": {},
     "output_type": "execute_result"
    }
   ],
   "source": [
    "df_t5_2000_300_single_temp06.loc[dft_simple][['faithfulness','answer_relevancy']].mean()"
   ]
  },
  {
   "cell_type": "code",
   "execution_count": 39,
   "id": "76149281-057b-40d6-8457-279314980f69",
   "metadata": {},
   "outputs": [
    {
     "data": {
      "text/plain": [
       "faithfulness        0.893210\n",
       "answer_relevancy    0.712298\n",
       "dtype: float64"
      ]
     },
     "execution_count": 39,
     "metadata": {},
     "output_type": "execute_result"
    }
   ],
   "source": [
    "df_t5_2000_300_single_temp06.loc[dft_complex][['faithfulness','answer_relevancy']].mean()"
   ]
  },
  {
   "cell_type": "code",
   "execution_count": 40,
   "id": "79d088d5-1972-4daf-9b15-373559102b9e",
   "metadata": {},
   "outputs": [],
   "source": [
    "df_t5_2000_300_single_temp06.to_pickle('./results/df_t5_2000_300_single_temp06.pkl')"
   ]
  },
  {
   "cell_type": "markdown",
   "id": "138a239a-bbfb-44cc-8533-7e119fe99c2c",
   "metadata": {},
   "source": [
    "**df_t5_2000_300_single_0.8**"
   ]
  },
  {
   "cell_type": "code",
   "execution_count": 74,
   "id": "3ffd0048-44eb-47ff-be25-5d79ada17909",
   "metadata": {},
   "outputs": [],
   "source": [
    "df_t5_2000_300_single_temp08 = result.to_pandas()"
   ]
  },
  {
   "cell_type": "code",
   "execution_count": 75,
   "id": "40c93262-841b-4797-bee8-0ddf25f58c4c",
   "metadata": {},
   "outputs": [
    {
     "data": {
      "text/plain": [
       "faithfulness        0.893690\n",
       "answer_relevancy    0.739193\n",
       "dtype: float64"
      ]
     },
     "execution_count": 75,
     "metadata": {},
     "output_type": "execute_result"
    }
   ],
   "source": [
    "df_t5_2000_300_single_temp08[['faithfulness','answer_relevancy']].mean()"
   ]
  },
  {
   "cell_type": "code",
   "execution_count": 76,
   "id": "5d4e7d34-912e-45b2-b574-d2b6107a7686",
   "metadata": {},
   "outputs": [
    {
     "data": {
      "text/plain": [
       "faithfulness        0.935498\n",
       "answer_relevancy    0.811097\n",
       "dtype: float64"
      ]
     },
     "execution_count": 76,
     "metadata": {},
     "output_type": "execute_result"
    }
   ],
   "source": [
    "df_t5_2000_300_single_temp08.loc[dft_simple][['faithfulness','answer_relevancy']].mean()"
   ]
  },
  {
   "cell_type": "code",
   "execution_count": 77,
   "id": "1cac9518-65ef-4fe0-bfcc-06cb419ee6b6",
   "metadata": {},
   "outputs": [
    {
     "data": {
      "text/plain": [
       "faithfulness        0.842593\n",
       "answer_relevancy    0.651310\n",
       "dtype: float64"
      ]
     },
     "execution_count": 77,
     "metadata": {},
     "output_type": "execute_result"
    }
   ],
   "source": [
    "df_t5_2000_300_single_temp08.loc[dft_complex][['faithfulness','answer_relevancy']].mean()"
   ]
  },
  {
   "cell_type": "code",
   "execution_count": 78,
   "id": "0a2943ef-f94a-4d54-81e8-2474ff80d69a",
   "metadata": {},
   "outputs": [],
   "source": [
    "df_t5_2000_300_single_temp08.to_pickle('./results/df_t5_2000_300_single_temp08.pkl')"
   ]
  },
  {
   "cell_type": "markdown",
   "id": "99ee4ee1-4dda-44a9-b560-5362514a0df1",
   "metadata": {},
   "source": [
    "**df_t5_2000_300_single**"
   ]
  },
  {
   "cell_type": "code",
   "execution_count": 216,
   "id": "43eb9ff9-10f9-4030-8efb-bc45989cb507",
   "metadata": {},
   "outputs": [],
   "source": [
    "df_t5_2000_300_single = pd.concat([result_1.to_pandas(), result_2.to_pandas(), result_3.to_pandas()], ignore_index=True)"
   ]
  },
  {
   "cell_type": "code",
   "execution_count": 217,
   "id": "c7639c97-ef2d-4a1c-922a-691e38627510",
   "metadata": {},
   "outputs": [
    {
     "data": {
      "text/plain": [
       "faithfulness        0.855595\n",
       "answer_relevancy    0.889904\n",
       "dtype: float64"
      ]
     },
     "execution_count": 217,
     "metadata": {},
     "output_type": "execute_result"
    }
   ],
   "source": [
    "df_t5_2000_300_single[['faithfulness','answer_relevancy']].mean()"
   ]
  },
  {
   "cell_type": "code",
   "execution_count": 218,
   "id": "dcafcfe5-a38b-49d3-9618-71e1ed39b7e3",
   "metadata": {},
   "outputs": [
    {
     "data": {
      "text/plain": [
       "faithfulness        0.820779\n",
       "answer_relevancy    0.941296\n",
       "dtype: float64"
      ]
     },
     "execution_count": 218,
     "metadata": {},
     "output_type": "execute_result"
    }
   ],
   "source": [
    "df_t5_2000_300_single.loc[dft_simple][['faithfulness','answer_relevancy']].mean()"
   ]
  },
  {
   "cell_type": "code",
   "execution_count": 219,
   "id": "1638e4a4-482c-481a-8874-350f57298440",
   "metadata": {},
   "outputs": [
    {
     "data": {
      "text/plain": [
       "faithfulness        0.898148\n",
       "answer_relevancy    0.827092\n",
       "dtype: float64"
      ]
     },
     "execution_count": 219,
     "metadata": {},
     "output_type": "execute_result"
    }
   ],
   "source": [
    "df_t5_2000_300_single.loc[dft_complex][['faithfulness','answer_relevancy']].mean()"
   ]
  },
  {
   "cell_type": "code",
   "execution_count": 220,
   "id": "66487d29-8492-4fec-aa1a-4bbc993c43ca",
   "metadata": {},
   "outputs": [],
   "source": [
    "df_t5_2000_300_single.to_pickle('./results/df_t5_2000_300_single.pkl')"
   ]
  },
  {
   "cell_type": "markdown",
   "id": "89690a00-2f79-4850-83bc-fa7496e13c27",
   "metadata": {},
   "source": [
    "**df_t5_1600_200_single**"
   ]
  },
  {
   "cell_type": "code",
   "execution_count": 201,
   "id": "7785324a-bec3-466f-b77a-3427a55237e6",
   "metadata": {},
   "outputs": [],
   "source": [
    "df_t5_1600_200_single = pd.concat([result_1.to_pandas(), result_2.to_pandas(), result_3.to_pandas()], ignore_index=True)"
   ]
  },
  {
   "cell_type": "code",
   "execution_count": 202,
   "id": "de92485e-ac5a-44b1-9ec6-e6e6366764b5",
   "metadata": {},
   "outputs": [
    {
     "data": {
      "text/plain": [
       "faithfulness        0.834853\n",
       "answer_relevancy    0.750291\n",
       "dtype: float64"
      ]
     },
     "execution_count": 202,
     "metadata": {},
     "output_type": "execute_result"
    }
   ],
   "source": [
    "df_t5_1600_200_single[['faithfulness','answer_relevancy']].mean()"
   ]
  },
  {
   "cell_type": "code",
   "execution_count": 203,
   "id": "4b700dc3-f6e4-4358-a3a5-1e49faf02de3",
   "metadata": {},
   "outputs": [
    {
     "data": {
      "text/plain": [
       "faithfulness        0.906061\n",
       "answer_relevancy    0.864468\n",
       "dtype: float64"
      ]
     },
     "execution_count": 203,
     "metadata": {},
     "output_type": "execute_result"
    }
   ],
   "source": [
    "df_t5_1600_200_single.loc[dft_simple][['faithfulness','answer_relevancy']].mean()"
   ]
  },
  {
   "cell_type": "code",
   "execution_count": 204,
   "id": "6620e23e-0847-4c4f-88b3-7fc933143441",
   "metadata": {},
   "outputs": [
    {
     "data": {
      "text/plain": [
       "faithfulness        0.747821\n",
       "answer_relevancy    0.610741\n",
       "dtype: float64"
      ]
     },
     "execution_count": 204,
     "metadata": {},
     "output_type": "execute_result"
    }
   ],
   "source": [
    "df_t5_1600_200_single.loc[dft_complex][['faithfulness','answer_relevancy']].mean()"
   ]
  },
  {
   "cell_type": "code",
   "execution_count": 206,
   "id": "c09398ec-0ae0-49ad-97b8-aefdf2e7988c",
   "metadata": {},
   "outputs": [],
   "source": [
    "df_t5_1600_200_single.to_pickle('./results/df_t5_1600_200_single.pkl')"
   ]
  },
  {
   "cell_type": "code",
   "execution_count": null,
   "id": "b5dcc40b-f5b7-4968-a685-4b0e355c0e4c",
   "metadata": {},
   "outputs": [],
   "source": []
  },
  {
   "cell_type": "code",
   "execution_count": null,
   "id": "3c86d04e-4b0f-406e-ae52-bf74d949a6e7",
   "metadata": {},
   "outputs": [],
   "source": []
  },
  {
   "cell_type": "code",
   "execution_count": 90,
   "id": "35632311-9980-4f56-9fe8-8bb9a78f73fd",
   "metadata": {},
   "outputs": [
    {
     "data": {
      "text/plain": [
       "{'context_precision': 1.0000, 'faithfulness': 0.8678, 'answer_relevancy': 0.8047, 'context_recall': 0.9667}"
      ]
     },
     "execution_count": 90,
     "metadata": {},
     "output_type": "execute_result"
    }
   ],
   "source": [
    "# New set, 2000, 300, multi query, Unstructured\n",
    "result"
   ]
  },
  {
   "cell_type": "code",
   "execution_count": 95,
   "id": "62d28a40-cb17-475f-b306-5999c9edb5c3",
   "metadata": {},
   "outputs": [
    {
     "data": {
      "text/plain": [
       "faithfulness        0.929167\n",
       "answer_relevancy    0.933772\n",
       "dtype: float64"
      ]
     },
     "execution_count": 95,
     "metadata": {},
     "output_type": "execute_result"
    }
   ],
   "source": [
    "result.to_pandas().loc[dft_simple][['faithfulness','answer_relevancy']].mean()"
   ]
  },
  {
   "cell_type": "code",
   "execution_count": 92,
   "id": "251e05b3-0b43-4367-b104-d060f1859b29",
   "metadata": {},
   "outputs": [
    {
     "data": {
      "text/plain": [
       "faithfulness        0.797619\n",
       "answer_relevancy    0.657159\n",
       "dtype: float64"
      ]
     },
     "execution_count": 92,
     "metadata": {},
     "output_type": "execute_result"
    }
   ],
   "source": [
    "result.to_pandas().loc[dft_cmplex][['faithfulness','answer_relevancy']].mean()"
   ]
  },
  {
   "cell_type": "code",
   "execution_count": null,
   "id": "b44b4f5f-c574-4c30-912c-9d426803ae14",
   "metadata": {},
   "outputs": [],
   "source": []
  },
  {
   "cell_type": "code",
   "execution_count": 81,
   "id": "e0542e7d-33b7-4e56-a75d-e1c2aadb6007",
   "metadata": {},
   "outputs": [
    {
     "data": {
      "text/plain": [
       "{'context_precision': 0.9667, 'faithfulness': 0.7720, 'answer_relevancy': 0.8770, 'context_recall': 0.9667}"
      ]
     },
     "execution_count": 81,
     "metadata": {},
     "output_type": "execute_result"
    }
   ],
   "source": [
    "# New set, 2000, 300, multi query, WebLoader\n",
    "result"
   ]
  },
  {
   "cell_type": "code",
   "execution_count": 60,
   "id": "0ecda7e5-0027-4496-ba60-c8ecd5a5f23e",
   "metadata": {},
   "outputs": [
    {
     "data": {
      "text/plain": [
       "{'context_precision': 1.0000, 'faithfulness': 0.8217, 'answer_relevancy': 0.8644, 'context_recall': 0.9667}"
      ]
     },
     "execution_count": 60,
     "metadata": {},
     "output_type": "execute_result"
    }
   ],
   "source": [
    "# New set, 2000, 400, multi query\n",
    "result"
   ]
  },
  {
   "cell_type": "code",
   "execution_count": 19,
   "id": "7281b97d-cd94-46b8-96b5-2241e5911e02",
   "metadata": {},
   "outputs": [
    {
     "data": {
      "text/plain": [
       "{'context_precision': 1.0000, 'faithfulness': 0.7683, 'answer_relevancy': 0.8131, 'context_recall': 0.9667}"
      ]
     },
     "execution_count": 19,
     "metadata": {},
     "output_type": "execute_result"
    }
   ],
   "source": [
    "# New set, 2000, 400, single query\n",
    "result"
   ]
  },
  {
   "cell_type": "code",
   "execution_count": 43,
   "id": "56433f78-997e-41e7-8a94-bef091d1ad6c",
   "metadata": {},
   "outputs": [],
   "source": [
    "pd.set_option('display.max_colwidth', None)"
   ]
  },
  {
   "cell_type": "code",
   "execution_count": 65,
   "id": "511054f3-9949-48e3-9b28-91baa99b6f0d",
   "metadata": {},
   "outputs": [
    {
     "data": {
      "text/plain": [
       "[0, 1, 2, 3, 6, 7, 8, 9]"
      ]
     },
     "execution_count": 65,
     "metadata": {},
     "output_type": "execute_result"
    }
   ],
   "source": [
    "dft_simple"
   ]
  },
  {
   "cell_type": "code",
   "execution_count": 67,
   "id": "3bd16a59-34bf-4f7b-bbe1-6e515f98e539",
   "metadata": {},
   "outputs": [
    {
     "data": {
      "text/html": [
       "<div>\n",
       "<style scoped>\n",
       "    .dataframe tbody tr th:only-of-type {\n",
       "        vertical-align: middle;\n",
       "    }\n",
       "\n",
       "    .dataframe tbody tr th {\n",
       "        vertical-align: top;\n",
       "    }\n",
       "\n",
       "    .dataframe thead th {\n",
       "        text-align: right;\n",
       "    }\n",
       "</style>\n",
       "<table border=\"1\" class=\"dataframe\">\n",
       "  <thead>\n",
       "    <tr style=\"text-align: right;\">\n",
       "      <th></th>\n",
       "      <th>question</th>\n",
       "      <th>ground_truth</th>\n",
       "      <th>answer</th>\n",
       "      <th>faithfulness</th>\n",
       "      <th>answer_relevancy</th>\n",
       "    </tr>\n",
       "  </thead>\n",
       "  <tbody>\n",
       "    <tr>\n",
       "      <th>0</th>\n",
       "      <td>How much did urban average monthly consumption expenditure per person increase from 2011-12 to 2022-23?</td>\n",
       "      <td>Urban average monthly consumption expenditure per person increased from Rs 2,630 in 2011-12 to Rs 6,459 in 2022-23, a jump of 146 per cent.</td>\n",
       "      <td>The urban average monthly consumption expenditure per person increased to Rs 6,459 in 2022-23 from Rs 2,630 in 2011-12, representing a 146% increase. This increase is slightly lower than the 164% increase seen in rural areas during the same period. \\n</td>\n",
       "      <td>1.000000</td>\n",
       "      <td>0.989532</td>\n",
       "    </tr>\n",
       "    <tr>\n",
       "      <th>1</th>\n",
       "      <td>What is the purpose of awarding grace marks to candidates in the NEET UG exam?</td>\n",
       "      <td>The purpose of awarding grace marks to candidates in the NEET UG exam was to compensate for the loss of time suffered while appearing for the exam.</td>\n",
       "      <td>Grace marks were awarded to compensate for the \"loss of time\" suffered by 1,500 candidates during the NEET UG exam. This was due to exam delays at certain centers, and the NTA formed a committee to review the results of these candidates. The committee's verdict is expected to be announced before next Saturday, and it will not affect the MBBS admission process. \\n</td>\n",
       "      <td>0.600000</td>\n",
       "      <td>0.949191</td>\n",
       "    </tr>\n",
       "    <tr>\n",
       "      <th>2</th>\n",
       "      <td>What was the net purchase amount of FPIs in Indian equities on Friday according to BSE's provisional data?</td>\n",
       "      <td>Rs 4,391.02 crore</td>\n",
       "      <td>According to BSE's provisional data, FPIs (Foreign Portfolio Investors) made a net purchase of Rs 4,391.02 crore in Indian equities on Friday. This occurred after they had withdrawn Rs 18,109 crore from the domestic market between June 3 and 6. \\n</td>\n",
       "      <td>1.000000</td>\n",
       "      <td>0.961090</td>\n",
       "    </tr>\n",
       "    <tr>\n",
       "      <th>3</th>\n",
       "      <td>What are the trends in consumption spending on food and non-food items in rural and urban areas of India based on the HCES survey report?</td>\n",
       "      <td>The trends in consumption spending on food and non-food items in rural and urban areas of India based on the HCES survey report indicate that in rural India, food accounted for about 46% of households' consumption spending, with the highest contribution from 'beverages, refreshments, and processed food'. In urban India, food accounted for about 39% of average monthly per capita consumption expenditure, with the highest spending on 'beverages, refreshments, and processed food'. On the other hand, the consumption expenditure on non-food items has been increasing over the years, reaching over 50% in both rural and urban areas. The share of non-food items in total expenditure has been rising, surpassing food expenditure in some cases.</td>\n",
       "      <td>The HCES survey report shows that consumption spending on non-food items has increased in both rural and urban areas of India. In rural areas, non-food spending increased to 53.62% in 2022-23 from 40.6% in 1999-2000. In urban areas, the share of non-food items in total expenditure was even higher at 60.83% in 2022-23, up from 51.94% in 1999-2000. \\n</td>\n",
       "      <td>1.000000</td>\n",
       "      <td>0.941606</td>\n",
       "    </tr>\n",
       "    <tr>\n",
       "      <th>6</th>\n",
       "      <td>What did households spend the most on in the Consumption Expenditure Survey 2022-23?</td>\n",
       "      <td>Households spent the most on processed food in the Consumption Expenditure Survey 2022-23.</td>\n",
       "      <td>According to the Household Consumption Expenditure Survey (HCES) 2022-23, households across India spent the most on \"beverages, refreshments, and processed food\" among food items.  However, some states, like Haryana and Rajasthan, spent the most on \"milk and milk products,\" while Kerala spent the most on \"egg, fish, and meat.\" \\n</td>\n",
       "      <td>1.000000</td>\n",
       "      <td>0.928223</td>\n",
       "    </tr>\n",
       "    <tr>\n",
       "      <th>7</th>\n",
       "      <td>What food item did households in Haryana spend the most on according to the Consumption Expenditure Survey 2022-23?</td>\n",
       "      <td>Households in Haryana spent the most on 'milk and milk products' according to the Consumption Expenditure Survey 2022-23.</td>\n",
       "      <td>According to the Household Consumption Expenditure Survey (HCES) 2022-23, households in Haryana spent the most on \"milk and milk products\" as a percentage of their total food expenditure in rural areas. This amounted to 41.7% of their total food spending. \\n</td>\n",
       "      <td>1.000000</td>\n",
       "      <td>0.934829</td>\n",
       "    </tr>\n",
       "    <tr>\n",
       "      <th>8</th>\n",
       "      <td>What are the major categories of non-food items that households in rural and urban areas spend their consumption expenditure on?</td>\n",
       "      <td>The major categories of non-food items that households in rural and urban areas spend their consumption expenditure on include conveyance, durable goods, miscellaneous goods, entertainment, medical expenses, and spending on fuel &amp; light.</td>\n",
       "      <td>Households in both rural and urban areas spent the most on conveyance, followed by durable goods, miscellaneous goods, and entertainment. Medical expenses and spending on fuel and light also constituted a significant share of non-food expenditure. \\n</td>\n",
       "      <td>0.666667</td>\n",
       "      <td>0.922275</td>\n",
       "    </tr>\n",
       "    <tr>\n",
       "      <th>9</th>\n",
       "      <td>What role will the upcoming Union Budget play in determining India's growth trajectory for the next five years?</td>\n",
       "      <td>The union budget, due in the September quarter, will be an early indicator of policy priorities, including short- and long-term responses to some of those key economic challenges. The effectiveness of policies implemented by the coalition government will determine India's growth trajectory for the next five years.</td>\n",
       "      <td>The upcoming Union Budget will be a key indicator of the new government's policy priorities, particularly in addressing economic challenges. The budget will reveal short- and long-term strategies, which will significantly influence India's growth trajectory over the next five years. The effectiveness of these policies will determine the success of the coalition government in achieving its economic goals. \\n</td>\n",
       "      <td>0.142857</td>\n",
       "      <td>0.852122</td>\n",
       "    </tr>\n",
       "  </tbody>\n",
       "</table>\n",
       "</div>"
      ],
      "text/plain": [
       "                                                                                                                                    question  \\\n",
       "0                                    How much did urban average monthly consumption expenditure per person increase from 2011-12 to 2022-23?   \n",
       "1                                                             What is the purpose of awarding grace marks to candidates in the NEET UG exam?   \n",
       "2                                 What was the net purchase amount of FPIs in Indian equities on Friday according to BSE's provisional data?   \n",
       "3  What are the trends in consumption spending on food and non-food items in rural and urban areas of India based on the HCES survey report?   \n",
       "6                                                       What did households spend the most on in the Consumption Expenditure Survey 2022-23?   \n",
       "7                        What food item did households in Haryana spend the most on according to the Consumption Expenditure Survey 2022-23?   \n",
       "8           What are the major categories of non-food items that households in rural and urban areas spend their consumption expenditure on?   \n",
       "9                            What role will the upcoming Union Budget play in determining India's growth trajectory for the next five years?   \n",
       "\n",
       "                                                                                                                                                                                                                                                                                                                                                                                                                                                                                                                                                                                                                                                                                                                                                           ground_truth  \\\n",
       "0                                                                                                                                                                                                                                                                                                                                                                                                                                                                                                                                                                                                                           Urban average monthly consumption expenditure per person increased from Rs 2,630 in 2011-12 to Rs 6,459 in 2022-23, a jump of 146 per cent.   \n",
       "1                                                                                                                                                                                                                                                                                                                                                                                                                                                                                                                                                                                                                   The purpose of awarding grace marks to candidates in the NEET UG exam was to compensate for the loss of time suffered while appearing for the exam.   \n",
       "2                                                                                                                                                                                                                                                                                                                                                                                                                                                                                                                                                                                                                                                                                                                                                     Rs 4,391.02 crore   \n",
       "3  The trends in consumption spending on food and non-food items in rural and urban areas of India based on the HCES survey report indicate that in rural India, food accounted for about 46% of households' consumption spending, with the highest contribution from 'beverages, refreshments, and processed food'. In urban India, food accounted for about 39% of average monthly per capita consumption expenditure, with the highest spending on 'beverages, refreshments, and processed food'. On the other hand, the consumption expenditure on non-food items has been increasing over the years, reaching over 50% in both rural and urban areas. The share of non-food items in total expenditure has been rising, surpassing food expenditure in some cases.   \n",
       "6                                                                                                                                                                                                                                                                                                                                                                                                                                                                                                                                                                                                                                                                            Households spent the most on processed food in the Consumption Expenditure Survey 2022-23.   \n",
       "7                                                                                                                                                                                                                                                                                                                                                                                                                                                                                                                                                                                                                                             Households in Haryana spent the most on 'milk and milk products' according to the Consumption Expenditure Survey 2022-23.   \n",
       "8                                                                                                                                                                                                                                                                                                                                                                                                                                                                                                                         The major categories of non-food items that households in rural and urban areas spend their consumption expenditure on include conveyance, durable goods, miscellaneous goods, entertainment, medical expenses, and spending on fuel & light.   \n",
       "9                                                                                                                                                                                                                                                                                                                                                                                                                                           The union budget, due in the September quarter, will be an early indicator of policy priorities, including short- and long-term responses to some of those key economic challenges. The effectiveness of policies implemented by the coalition government will determine India's growth trajectory for the next five years.   \n",
       "\n",
       "                                                                                                                                                                                                                                                                                                                                                                                                                       answer  \\\n",
       "0                                                                                                                                                                 The urban average monthly consumption expenditure per person increased to Rs 6,459 in 2022-23 from Rs 2,630 in 2011-12, representing a 146% increase. This increase is slightly lower than the 164% increase seen in rural areas during the same period. \\n   \n",
       "1                                               Grace marks were awarded to compensate for the \"loss of time\" suffered by 1,500 candidates during the NEET UG exam. This was due to exam delays at certain centers, and the NTA formed a committee to review the results of these candidates. The committee's verdict is expected to be announced before next Saturday, and it will not affect the MBBS admission process. \\n   \n",
       "2                                                                                                                                                                     According to BSE's provisional data, FPIs (Foreign Portfolio Investors) made a net purchase of Rs 4,391.02 crore in Indian equities on Friday. This occurred after they had withdrawn Rs 18,109 crore from the domestic market between June 3 and 6. \\n   \n",
       "3                                                             The HCES survey report shows that consumption spending on non-food items has increased in both rural and urban areas of India. In rural areas, non-food spending increased to 53.62% in 2022-23 from 40.6% in 1999-2000. In urban areas, the share of non-food items in total expenditure was even higher at 60.83% in 2022-23, up from 51.94% in 1999-2000. \\n   \n",
       "6                                                                                 According to the Household Consumption Expenditure Survey (HCES) 2022-23, households across India spent the most on \"beverages, refreshments, and processed food\" among food items.  However, some states, like Haryana and Rajasthan, spent the most on \"milk and milk products,\" while Kerala spent the most on \"egg, fish, and meat.\" \\n   \n",
       "7                                                                                                                                                          According to the Household Consumption Expenditure Survey (HCES) 2022-23, households in Haryana spent the most on \"milk and milk products\" as a percentage of their total food expenditure in rural areas. This amounted to 41.7% of their total food spending. \\n   \n",
       "8                                                                                                                                                                  Households in both rural and urban areas spent the most on conveyance, followed by durable goods, miscellaneous goods, and entertainment. Medical expenses and spending on fuel and light also constituted a significant share of non-food expenditure. \\n   \n",
       "9  The upcoming Union Budget will be a key indicator of the new government's policy priorities, particularly in addressing economic challenges. The budget will reveal short- and long-term strategies, which will significantly influence India's growth trajectory over the next five years. The effectiveness of these policies will determine the success of the coalition government in achieving its economic goals. \\n   \n",
       "\n",
       "   faithfulness  answer_relevancy  \n",
       "0      1.000000          0.989532  \n",
       "1      0.600000          0.949191  \n",
       "2      1.000000          0.961090  \n",
       "3      1.000000          0.941606  \n",
       "6      1.000000          0.928223  \n",
       "7      1.000000          0.934829  \n",
       "8      0.666667          0.922275  \n",
       "9      0.142857          0.852122  "
      ]
     },
     "execution_count": 67,
     "metadata": {},
     "output_type": "execute_result"
    }
   ],
   "source": [
    "result.to_pandas().loc[dft_simple][['question','ground_truth','answer','faithfulness','answer_relevancy']]"
   ]
  },
  {
   "cell_type": "code",
   "execution_count": 68,
   "id": "16e4c829-f132-4be3-985e-932128db2627",
   "metadata": {},
   "outputs": [
    {
     "data": {
      "text/plain": [
       "faithfulness        0.895238\n",
       "answer_relevancy    0.946678\n",
       "dtype: float64"
      ]
     },
     "execution_count": 68,
     "metadata": {},
     "output_type": "execute_result"
    }
   ],
   "source": [
    "result.to_pandas().loc[[0, 1, 2, 3, 6, 7, 8]][['faithfulness','answer_relevancy']].mean()"
   ]
  },
  {
   "cell_type": "code",
   "execution_count": 63,
   "id": "1913266a-5036-47a0-b5b0-e69b50fa1b54",
   "metadata": {},
   "outputs": [
    {
     "data": {
      "text/html": [
       "<div>\n",
       "<style scoped>\n",
       "    .dataframe tbody tr th:only-of-type {\n",
       "        vertical-align: middle;\n",
       "    }\n",
       "\n",
       "    .dataframe tbody tr th {\n",
       "        vertical-align: top;\n",
       "    }\n",
       "\n",
       "    .dataframe thead th {\n",
       "        text-align: right;\n",
       "    }\n",
       "</style>\n",
       "<table border=\"1\" class=\"dataframe\">\n",
       "  <thead>\n",
       "    <tr style=\"text-align: right;\">\n",
       "      <th></th>\n",
       "      <th>question</th>\n",
       "      <th>ground_truth</th>\n",
       "      <th>answer</th>\n",
       "      <th>faithfulness</th>\n",
       "      <th>answer_relevancy</th>\n",
       "    </tr>\n",
       "  </thead>\n",
       "  <tbody>\n",
       "    <tr>\n",
       "      <th>4</th>\n",
       "      <td>Which food item had the highest expenditure in Kerala households in the Consumption Expenditure Survey 2022-23, with milk being the top spending category in Haryana and Rajasthan?</td>\n",
       "      <td>Meats</td>\n",
       "      <td>According to the Consumption Expenditure Survey 2022-23, Kerala households spent the highest proportion of their food budget on 'egg, fish &amp; meat', reaching 23.5% in rural areas and 19.8% in urban areas. This contrasts with Haryana and Rajasthan, where milk and milk products were the top spending categories. \\n</td>\n",
       "      <td>1.000000</td>\n",
       "      <td>0.939164</td>\n",
       "    </tr>\n",
       "    <tr>\n",
       "      <th>5</th>\n",
       "      <td>What was the percentage increase in monthly consumption expenditure per person from 2011-12 to 2022-23, and which states spent the most on milk and meats in 2022-23?</td>\n",
       "      <td>The monthly consumption expenditure per person increased by 164% from Rs 1,430 in 2011-12 to Rs 3,773 in 2022-23. In 2022-23, Haryana spent the most on milk and milk products at 41.7% of total food expenditure, while Kerala spent the most on egg, fish &amp; meat at 23.5%.</td>\n",
       "      <td>The average monthly consumption expenditure per person increased by 164% in rural areas and 146% in urban areas from 2011-12 to 2022-23. In 2022-23, Haryana and Rajasthan spent the most on milk and milk products, while Kerala spent the most on egg, fish, and meat. \\n</td>\n",
       "      <td>1.000000</td>\n",
       "      <td>0.877796</td>\n",
       "    </tr>\n",
       "    <tr>\n",
       "      <th>10</th>\n",
       "      <td>What are the food expenditure trends in rural and urban areas of India according to the HCES survey, with a focus on spending differences for food and non-food items?</td>\n",
       "      <td>In rural areas of India, food accounted for about 46% of the households' consumption spending, with the highest contribution from 'beverages, refreshments, and processed food'. In urban areas, food represented about 39% of the average monthly per capita consumption expenditure, with the highest spending on 'beverages, refreshments, and processed food'. Non-food spending has been increasing over the years, reaching over 50% of total monthly consumption expenditure in both rural and urban areas.</td>\n",
       "      <td>The HCES survey shows that food expenditure in rural India is about 46% of household spending, with the highest share going to beverages, refreshments, and processed food. In urban India, food accounts for 39% of spending, with a similar trend towards processed food. Non-food spending has increased to over 50% in both rural and urban areas, with conveyance being the highest expenditure category. \\n</td>\n",
       "      <td>0.833333</td>\n",
       "      <td>0.957521</td>\n",
       "    </tr>\n",
       "    <tr>\n",
       "      <th>11</th>\n",
       "      <td>How did the stock market respond to the RBI's GDP growth projection for FY25?</td>\n",
       "      <td>The Sensex and Nifty surged over 2% to reach record highs after RBI's upward revision of the FY25 real GDP growth projection to 7.2%.</td>\n",
       "      <td>The stock market indices, Sensex and Nifty, surged over 2% to record highs after the Reserve Bank of India (RBI) raised its FY25 real GDP growth projection to 7.2%. The market was also optimistic about policy continuity with the BJP-led NDA set to form the government for the third time. \\n</td>\n",
       "      <td>1.000000</td>\n",
       "      <td>0.858391</td>\n",
       "    </tr>\n",
       "    <tr>\n",
       "      <th>12</th>\n",
       "      <td>What's the new FY25 real GDP growth projection from RBI and how does it compare to the old one?</td>\n",
       "      <td>The FY25 real GDP growth projection from RBI has been revised to 7.2% from the previous estimate of 7%.</td>\n",
       "      <td>The RBI has raised its FY25 real GDP growth projection to 7.2%, an increase of 20 basis points from the previous estimate of 7%. This upward revision has boosted market sentiments, leading to record highs for the Sensex and Nifty. \\n</td>\n",
       "      <td>1.000000</td>\n",
       "      <td>0.932805</td>\n",
       "    </tr>\n",
       "    <tr>\n",
       "      <th>13</th>\n",
       "      <td>What percentage of monthly rural consumption is spent on non-food items, considering the increase in non-food spending over the years and the top spending categories in rural and urban areas?</td>\n",
       "      <td>The percentage of monthly rural consumption spent on non-food items has increased over the years, reaching 53.62% in 2022-23. The top spending categories in rural areas include conveyance, durable goods, miscellaneous goods, entertainment, medical expenses, and fuel &amp; light.</td>\n",
       "      <td>The provided text does not contain information about the percentage of monthly rural consumption spent on non-food items. The text focuses on the overall increase in non-food spending over the years and the top spending categories in rural and urban areas. \\n</td>\n",
       "      <td>0.333333</td>\n",
       "      <td>0.000000</td>\n",
       "    </tr>\n",
       "    <tr>\n",
       "      <th>14</th>\n",
       "      <td>Which non-food expenditure categories do rural and urban households spend on, and which states spend the most on conveyance as a percentage of non-food expenses?</td>\n",
       "      <td>Rural and urban households spend on categories like conveyance, durable goods, miscellaneous goods, entertainment, medical expenses, and fuel &amp; light. States like Kerala, Tamil Nadu, Gujarat, Punjab, and Maharashtra spend the most on conveyance as a percentage of non-food expenses.</td>\n",
       "      <td>Rural and urban households spend on conveyance, durable goods, miscellaneous goods, entertainment, medical expenses, and fuel &amp; light. Kerala and Tamil Nadu spend the most on conveyance as a percentage of non-food expenses in both rural and urban areas. \\n</td>\n",
       "      <td>0.750000</td>\n",
       "      <td>0.921670</td>\n",
       "    </tr>\n",
       "  </tbody>\n",
       "</table>\n",
       "</div>"
      ],
      "text/plain": [
       "                                                                                                                                                                                           question  \\\n",
       "4               Which food item had the highest expenditure in Kerala households in the Consumption Expenditure Survey 2022-23, with milk being the top spending category in Haryana and Rajasthan?   \n",
       "5                             What was the percentage increase in monthly consumption expenditure per person from 2011-12 to 2022-23, and which states spent the most on milk and meats in 2022-23?   \n",
       "10                           What are the food expenditure trends in rural and urban areas of India according to the HCES survey, with a focus on spending differences for food and non-food items?   \n",
       "11                                                                                                                    How did the stock market respond to the RBI's GDP growth projection for FY25?   \n",
       "12                                                                                                  What's the new FY25 real GDP growth projection from RBI and how does it compare to the old one?   \n",
       "13  What percentage of monthly rural consumption is spent on non-food items, considering the increase in non-food spending over the years and the top spending categories in rural and urban areas?   \n",
       "14                                Which non-food expenditure categories do rural and urban households spend on, and which states spend the most on conveyance as a percentage of non-food expenses?   \n",
       "\n",
       "                                                                                                                                                                                                                                                                                                                                                                                                                                                                                                          ground_truth  \\\n",
       "4                                                                                                                                                                                                                                                                                                                                                                                                                                                                                                                Meats   \n",
       "5                                                                                                                                                                                                                                         The monthly consumption expenditure per person increased by 164% from Rs 1,430 in 2011-12 to Rs 3,773 in 2022-23. In 2022-23, Haryana spent the most on milk and milk products at 41.7% of total food expenditure, while Kerala spent the most on egg, fish & meat at 23.5%.   \n",
       "10  In rural areas of India, food accounted for about 46% of the households' consumption spending, with the highest contribution from 'beverages, refreshments, and processed food'. In urban areas, food represented about 39% of the average monthly per capita consumption expenditure, with the highest spending on 'beverages, refreshments, and processed food'. Non-food spending has been increasing over the years, reaching over 50% of total monthly consumption expenditure in both rural and urban areas.   \n",
       "11                                                                                                                                                                                                                                                                                                                                                                               The Sensex and Nifty surged over 2% to reach record highs after RBI's upward revision of the FY25 real GDP growth projection to 7.2%.   \n",
       "12                                                                                                                                                                                                                                                                                                                                                                                                             The FY25 real GDP growth projection from RBI has been revised to 7.2% from the previous estimate of 7%.   \n",
       "13                                                                                                                                                                                                                                 The percentage of monthly rural consumption spent on non-food items has increased over the years, reaching 53.62% in 2022-23. The top spending categories in rural areas include conveyance, durable goods, miscellaneous goods, entertainment, medical expenses, and fuel & light.   \n",
       "14                                                                                                                                                                                                                          Rural and urban households spend on categories like conveyance, durable goods, miscellaneous goods, entertainment, medical expenses, and fuel & light. States like Kerala, Tamil Nadu, Gujarat, Punjab, and Maharashtra spend the most on conveyance as a percentage of non-food expenses.   \n",
       "\n",
       "                                                                                                                                                                                                                                                                                                                                                                                                               answer  \\\n",
       "4                                                                                            According to the Consumption Expenditure Survey 2022-23, Kerala households spent the highest proportion of their food budget on 'egg, fish & meat', reaching 23.5% in rural areas and 19.8% in urban areas. This contrasts with Haryana and Rajasthan, where milk and milk products were the top spending categories. \\n   \n",
       "5                                                                                                                                         The average monthly consumption expenditure per person increased by 164% in rural areas and 146% in urban areas from 2011-12 to 2022-23. In 2022-23, Haryana and Rajasthan spent the most on milk and milk products, while Kerala spent the most on egg, fish, and meat. \\n   \n",
       "10  The HCES survey shows that food expenditure in rural India is about 46% of household spending, with the highest share going to beverages, refreshments, and processed food. In urban India, food accounts for 39% of spending, with a similar trend towards processed food. Non-food spending has increased to over 50% in both rural and urban areas, with conveyance being the highest expenditure category. \\n   \n",
       "11                                                                                                                 The stock market indices, Sensex and Nifty, surged over 2% to record highs after the Reserve Bank of India (RBI) raised its FY25 real GDP growth projection to 7.2%. The market was also optimistic about policy continuity with the BJP-led NDA set to form the government for the third time. \\n   \n",
       "12                                                                                                                                                                          The RBI has raised its FY25 real GDP growth projection to 7.2%, an increase of 20 basis points from the previous estimate of 7%. This upward revision has boosted market sentiments, leading to record highs for the Sensex and Nifty. \\n   \n",
       "13                                                                                                                                                The provided text does not contain information about the percentage of monthly rural consumption spent on non-food items. The text focuses on the overall increase in non-food spending over the years and the top spending categories in rural and urban areas. \\n   \n",
       "14                                                                                                                                                   Rural and urban households spend on conveyance, durable goods, miscellaneous goods, entertainment, medical expenses, and fuel & light. Kerala and Tamil Nadu spend the most on conveyance as a percentage of non-food expenses in both rural and urban areas. \\n   \n",
       "\n",
       "    faithfulness  answer_relevancy  \n",
       "4       1.000000          0.939164  \n",
       "5       1.000000          0.877796  \n",
       "10      0.833333          0.957521  \n",
       "11      1.000000          0.858391  \n",
       "12      1.000000          0.932805  \n",
       "13      0.333333          0.000000  \n",
       "14      0.750000          0.921670  "
      ]
     },
     "execution_count": 63,
     "metadata": {},
     "output_type": "execute_result"
    }
   ],
   "source": [
    "result.to_pandas().loc[dft_cmplex][['question','ground_truth','answer','faithfulness','answer_relevancy']]"
   ]
  },
  {
   "cell_type": "code",
   "execution_count": 64,
   "id": "2f6935f0-a697-47f8-8dcd-155347bfac6d",
   "metadata": {},
   "outputs": [
    {
     "data": {
      "text/plain": [
       "faithfulness        0.845238\n",
       "answer_relevancy    0.783907\n",
       "dtype: float64"
      ]
     },
     "execution_count": 64,
     "metadata": {},
     "output_type": "execute_result"
    }
   ],
   "source": [
    "result.to_pandas().loc[dft_cmplex][['faithfulness','answer_relevancy']].mean()"
   ]
  },
  {
   "cell_type": "code",
   "execution_count": null,
   "id": "ba0a1a63-63a4-4c2b-b1cd-681b83bfab2a",
   "metadata": {},
   "outputs": [],
   "source": []
  },
  {
   "cell_type": "code",
   "execution_count": 158,
   "id": "e4961cfc-a6df-4ea0-ad9c-f1dc3a0a6d4e",
   "metadata": {},
   "outputs": [
    {
     "data": {
      "text/plain": [
       "{'context_precision': 1.0000, 'faithfulness': 0.8556, 'answer_relevancy': 0.8689, 'context_recall': 0.9667}"
      ]
     },
     "execution_count": 158,
     "metadata": {},
     "output_type": "execute_result"
    }
   ],
   "source": [
    "# New set, 2000, 300, single query\n",
    "result"
   ]
  },
  {
   "cell_type": "code",
   "execution_count": 148,
   "id": "9e979dd0-8167-41de-9b25-3a455a92bf50",
   "metadata": {},
   "outputs": [
    {
     "data": {
      "text/plain": [
       "{'context_precision': 1.0000, 'faithfulness': 0.7595, 'answer_relevancy': 0.6917, 'context_recall': 0.9667}"
      ]
     },
     "execution_count": 148,
     "metadata": {},
     "output_type": "execute_result"
    }
   ],
   "source": [
    "# New set, 2000, 300, LOTR\n",
    "result"
   ]
  },
  {
   "cell_type": "code",
   "execution_count": 128,
   "id": "308dfbb3-9fb5-4705-b545-d2b29ec386af",
   "metadata": {},
   "outputs": [
    {
     "data": {
      "text/plain": [
       "{'context_precision': 1.0000, 'faithfulness': 0.8355, 'answer_relevancy': 0.6782, 'context_recall': 0.9667}"
      ]
     },
     "execution_count": 128,
     "metadata": {},
     "output_type": "execute_result"
    }
   ],
   "source": [
    "# New set, 2000, 300, LOTR\n",
    "result"
   ]
  },
  {
   "cell_type": "code",
   "execution_count": null,
   "id": "7f50cc0c-6043-4965-9b4a-95c244e9c427",
   "metadata": {},
   "outputs": [],
   "source": []
  },
  {
   "cell_type": "code",
   "execution_count": 122,
   "id": "db585b72-47ff-472c-a8ca-345a500e1d2b",
   "metadata": {},
   "outputs": [
    {
     "data": {
      "text/plain": [
       "{'context_precision': 1.0000, 'faithfulness': 0.5707, 'answer_relevancy': 0.6163, 'context_recall': 0.9000}"
      ]
     },
     "execution_count": 122,
     "metadata": {},
     "output_type": "execute_result"
    }
   ],
   "source": [
    "# New set, 4000, 600, multi query\n",
    "result"
   ]
  },
  {
   "cell_type": "code",
   "execution_count": 116,
   "id": "c1544273-259c-40e8-a2ae-f8ca2fac68c4",
   "metadata": {},
   "outputs": [
    {
     "data": {
      "text/plain": [
       "{'context_precision': 1.0000, 'faithfulness': 0.8461, 'answer_relevancy': 0.8744, 'context_recall': 0.9667}"
      ]
     },
     "execution_count": 116,
     "metadata": {},
     "output_type": "execute_result"
    }
   ],
   "source": [
    "# New set, 2000, 300, multi query\n",
    "result"
   ]
  },
  {
   "cell_type": "code",
   "execution_count": 110,
   "id": "f360f5d9-b8d0-4725-92d3-0688b7bfa2a9",
   "metadata": {},
   "outputs": [
    {
     "data": {
      "text/plain": [
       "{'context_precision': 1.0000, 'faithfulness': 0.8152, 'answer_relevancy': 0.7477, 'context_recall': 0.9667}"
      ]
     },
     "execution_count": 110,
     "metadata": {},
     "output_type": "execute_result"
    }
   ],
   "source": [
    "# New set, 1600, 200, multi query\n",
    "result"
   ]
  },
  {
   "cell_type": "code",
   "execution_count": 90,
   "id": "6bdedf3f-0c63-41f0-bb52-da4e48d16c3e",
   "metadata": {},
   "outputs": [
    {
     "data": {
      "text/plain": [
       "{'context_precision': 1.0000, 'faithfulness': 0.6640, 'answer_relevancy': 0.8049, 'context_recall': 0.9667}"
      ]
     },
     "execution_count": 90,
     "metadata": {},
     "output_type": "execute_result"
    }
   ],
   "source": [
    "# New set, 1000, 100\n",
    "result"
   ]
  },
  {
   "cell_type": "code",
   "execution_count": 86,
   "id": "70205201-3f5d-4df7-8b6d-7c677ab22e95",
   "metadata": {},
   "outputs": [
    {
     "data": {
      "text/plain": [
       "{'context_precision': 0.9667, 'faithfulness': 0.7676, 'answer_relevancy': 0.8080, 'context_recall': 0.9667}"
      ]
     },
     "execution_count": 86,
     "metadata": {},
     "output_type": "execute_result"
    }
   ],
   "source": [
    "# New set\n",
    "result"
   ]
  },
  {
   "cell_type": "code",
   "execution_count": 22,
   "id": "a2b5fe4d-f0ca-4fd0-a1c3-ad35a14b2598",
   "metadata": {},
   "outputs": [],
   "source": [
    "pd.set_option('display.max_colwidth', None)"
   ]
  },
  {
   "cell_type": "code",
   "execution_count": 38,
   "id": "827a8a68-4be3-4569-982c-6010ea053810",
   "metadata": {},
   "outputs": [],
   "source": [
    "bad = [2,5,6,7,10,18,20,24,27,34,42,43,47,51,53,55,59,65,66,67,75,76,77,85,93,96]"
   ]
  },
  {
   "cell_type": "code",
   "execution_count": 37,
   "id": "25bd78ad-0bd9-4f94-a43a-f546c38a7d23",
   "metadata": {
    "scrolled": true
   },
   "outputs": [
    {
     "data": {
      "text/html": [
       "<div>\n",
       "<style scoped>\n",
       "    .dataframe tbody tr th:only-of-type {\n",
       "        vertical-align: middle;\n",
       "    }\n",
       "\n",
       "    .dataframe tbody tr th {\n",
       "        vertical-align: top;\n",
       "    }\n",
       "\n",
       "    .dataframe thead th {\n",
       "        text-align: right;\n",
       "    }\n",
       "</style>\n",
       "<table border=\"1\" class=\"dataframe\">\n",
       "  <thead>\n",
       "    <tr style=\"text-align: right;\">\n",
       "      <th></th>\n",
       "      <th>question</th>\n",
       "      <th>contexts</th>\n",
       "      <th>ground_truth</th>\n",
       "      <th>evolution_type</th>\n",
       "      <th>metadata</th>\n",
       "      <th>episode_done</th>\n",
       "    </tr>\n",
       "  </thead>\n",
       "  <tbody>\n",
       "    <tr>\n",
       "      <th>91</th>\n",
       "      <td>How do Anthropic's toy model findings on virtual neurons inform explainability in larger LLMs?</td>\n",
       "      <td>[ model’s response can be changed by\\nediting layers even outside those identified by causal tracing, which is not\\nwhat had been expected8.\\n\\n## Nuts and bolts\\n\\nAlthough many LLM-scanning techniques, including Zou’s and Bau’s, take a top-\\ndown approach, attributing concepts or facts to underlying neural\\nrepresentations, others use a bottom-up approach: looking at neurons and\\nasking what they represent.\\n\\nCan we open the black box of AI?\\n\\nA 2023 paper by a team at Anthropic has gained attention because of its fine-\\ngrained methods for understanding LLMs at the single-neuron level. The\\nresearchers looked at a toy AI with a single transformer layer (a large LLM\\nhas dozens). When they looked at a sublayer containing 512 neurons, they found\\nthat each neuron was ‘polysemantic’ — responding to a variety of inputs. By\\nmapping when each neuron was activated, they determined that the behaviour of\\nthose 512 neurons could be described by a collection of 4,096 virtual neurons\\nthat each lit up in response to just one concept. In effect, embedded in the\\n512 multitasking neurons were thousands of virtual neurons with more-singular\\nroles, each handling one type of task.\\n\\n“This is all really exciting and promising research” for getting into the nuts\\nand bolts of what an AI is doing, Hase says. “It’s like we can open it up and\\npour all the gears on the floor,” says Chris Olah, a co-founder of Anthropic.\\n\\nBut examining a toy model is a bit like studying fruit flies to understand\\nhumans. Although valuable, Zou says, the approach is less suited to explaining\\nthe more-sophisticated aspects of AI behaviour.\\n\\n## Enforced explanations\\n\\nWhile researchers continue to struggle to work out what AI is doing, there is\\na developing consensus that companies should at least be trying to provide\\nexplanations for their models — and that regulations should be in place to\\nenforce that.\\n\\nSome regulations do require that algorithms be explainable. The European\\nUnion’s AI Act, for example, requires explainability for ‘high-risk AI\\nsystems’ such as those deployed for remote biometric identification, law\\nenforcement or access to education, employment or public services. Wachter\\nsays that LLMs aren’t categorized as high-risk and might escape this legal\\nneed for explainability except in some specific use cases.\\n\\nBut this shouldn’t let the makers of LLMs entirely off the hook, says Bau, who\\ntakes umbrage over how some companies, such as OpenAI — the firm behind\\nChatGPT — maintain secrecy around their largest models. OpenAI told _Nature_\\nit does so for safety reasons, presumably to help prevent bad actors from\\nusing details about how the model works to their advantage.\\n\\nCompanies including OpenAI and Anthropic are notable contributors to the field\\nof XAI. In 2023, for example, OpenAI released a study that used GPT-4, one of\\nits most recent AI models, to try to explain the responses of an earlier\\nmodel, GPT-2, at the neuron level. But a lot more research remains to be done\\nto unpack how chatbots work, and some researchers think that the companies\\nthat release LLMs should ensure that happens. “Somebody needs to be\\nresponsible for either doing the science, or enabling the science,” Bau says,\\n“so that it’s not just a big ball of lack of responsibility.”\\n\\n_Nature_ **629** , 986-988 (2024)\\n\\n_doi: https://doi.org/10.1038/d41586-024-01314-y_\\n\\n### Updates &amp; Corrections\\n\\n  * **Correction 17 May 2024** : An earlier version of this article contained an error in the box ‘False logic’. The explanation for the correct answer should have said B.\\n\\n## References\\n\\n  1. Grosse, R. _et al._ Preprint at arXiv https://doi.org/10.48550/arXiv.2308.03296 (2023).\\n\\n  2. Li, K. _et al_. in _Proc. Int. Conf. Learn. Represent. 2023_(ICLR, 2023); available at https://openreview.net/forum?id=DeG07_TcZvT\\n\\n  3. Hagendorff, T. Preprint at arXiv https://doi.org/10.48550/arXiv.2303.13988 (]</td>\n",
       "      <td>Anthropic's research on a toy model with a single transformer layer revealed that individual neurons within a sublayer can be 'polysemantic,' responding to multiple inputs. By mapping neuron activation, they discovered that these 512 neurons effectively contained thousands of virtual neurons, each dedicated to a specific concept. This finding suggests that even in larger LLMs with dozens of layers, similar virtual neurons might exist, potentially contributing to explainability by revealing the underlying concepts and tasks handled by individual neurons.</td>\n",
       "      <td>multi_context</td>\n",
       "      <td>[{'source': 'https://www.nature.com/articles/d41586-024-01314-y', 'title': 'How does ChatGPT ‘think’? Psychology and neuroscience crack open AI large language models', 'description': 'Researchers are striving to reverse-engineer artificial intelligence and scan the ‘brains’ of LLMs to see what they are doing, how and why.', 'language': 'en'}]</td>\n",
       "      <td>True</td>\n",
       "    </tr>\n",
       "    <tr>\n",
       "      <th>92</th>\n",
       "      <td>How do FPGAs and GPUs compare for AI, considering speed, efficiency, and programmability in both large-scale training and mobile devices?</td>\n",
       "      <td>[ allowed them to accelerate AI tasks.\\nTo train the large language model GPT-3, which has 175 billion parameters,\\nresearchers at OpenAI had to run 1,024 GPUs for a month straight, which cost\\nseveral million dollars. In total, those GPUs performed 1023 flops. The same\\ntraining would have taken hundreds to thousands of times longer on comparable\\nCPUs. “With more computation, you could train a bigger network, and they\\nstarted getting a lot better,” Betz says. GPT-4, for example, released in\\nMarch 2023, has an astonishing 1.8 trillion parameters, a tenfold increase\\nover its predecessor.\\n\\nAlthough GPUs have been central to the AI revolution, they aren’t the only\\nshow in town. As AI applications have proliferated, so too have AI chips.\\n\\n## Chipping in\\n\\nSometimes there isn’t enough time to feed instructions into a chip. Field-\\nprogrammable gate arrays (FPGAs) are designed so a computer engineer can\\nprogram the chip’s circuits to follow specific orders in lieu of instructions.\\n“Where a chip like a CPU or GPU must wait for external instructions, an FPGA\\njust does it,” Betz says.\\n\\nWho’s making chips for AI? Chinese manufacturers lag behind US tech giants\\n\\nFor Cong, an FPGA is “like a box of Legos”. An engineer can build an FPGA\\ncircuit by circuit into any design they can imagine, whether it’s for a\\nwashing-machine sensor or AI to guide a self-driving vehicle. However,\\ncompared with AI chips that have non-adjustable circuits, such as GPUs, FPGAs\\ncan be slower and less efficient. Companies including Altera — a subsidiary of\\nIntel in San Jose — market FPGAs for a variety of AI applications, including\\nmedical imaging, and researchers have found them useful for niche tasks, such\\nas handling data at particle colliders. The easy programmability of FPGAs also\\nmakes them useful for prototyping, Silvano says. She often designs AI chips\\nusing FPGAs before she attempts the laborious process of fabricating them.\\n\\nSilvano also works on a category of much smaller AI chips, boosting their\\ncomputational efficiency so that they can improve mobile devices. Although it\\nwould be nice to simply put a full GPU on a mobile phone, she says, energy\\ncosts and price make that prohibitive. Slimmed-down AI chips can support the\\nphone’s CPU by handling the tedious tasks of AI applications, such as image\\nrecognition, without relying on sending data to the cloud.\\n\\nPerhaps the most laborious job AI chips have is multiplying numbers. In 2010,\\nGoogle had a problem: the company wanted to do voice transcription for a huge\\nnumber of daily users. Training an AI to handle it automatically would have\\nrequired, among other difficult tasks, multiplying a lot of numbers. “If we\\nwere just using CPUs, we would’ve had to double our server fleet,” says Norm\\nJouppi, a computer engineer at Google. “So that didn’t sound particularly\\nappealing.” Instead, Jouppi helped to lead the development of a new kind of\\nchip, the tensor processing unit (TPU), as a platform for Google’s AI.\\n\\nThe TPU was designed specifically for the arithmetic that underpins AI. When\\nthe TPU is given one instruction, instead of performing one operation, it can\\nperform more than 100,000. (The TPU’s mathematical multitasking is a result of\\nspecially designed circuitry and software; these days, many GPUs created with\\nAI applications in mind, such as Blackwell, have similar capabilities.) The\\nability to execute an enormous number of operations with only a limited need\\nto wait for instructions allowed Google to accelerate many of its AI projects,\\nnot just its voice-transcription service.\\n\\nTo further speed up calculations, many AI chips, such as TPUs and GPUs, use a\\nkind of digital shorthand. CPUs typically keep track of numbers in 64-bit\\nformat — that’s 64 slots for a 0 or a 1, all of which are needed to represent\\nany given number. Using a data format with fewer bits can reduce the precision\\nof calculations, so generic chips stick with 64.\\n\\nAI &amp; robotics briefing: Lack of transparency surrounds Neuralink’s ‘brain-\\nreading’ chip\\n\\nBut if you can get away with less specificity, “hardware will be simpler,\\nsmaller, lower power”, Betz says. For example, listing a DNA sequence, in\\nprinciple, requires only a]</td>\n",
       "      <td>FPGAs are more programmable than GPUs, allowing for custom circuit designs, but they can be slower and less efficient. GPUs are faster and more efficient for large-scale training, while smaller AI chips are more suitable for mobile devices due to their lower energy consumption and cost.</td>\n",
       "      <td>multi_context</td>\n",
       "      <td>[{'source': 'https://www.nature.com/articles/d41586-024-01544-0', 'title': 'How cutting-edge computer chips are speeding up the AI revolution', 'description': 'Engineers are harnessing the powers of graphics processing units (GPUs) and more, with a bevy of tricks to meet the computational demands of artificial intelligence.', 'language': 'en'}]</td>\n",
       "      <td>True</td>\n",
       "    </tr>\n",
       "    <tr>\n",
       "      <th>93</th>\n",
       "      <td>How does Nature support researcher work?</td>\n",
       "      <td>[\\n  * Current issue \\n  * Browse issues \\n  * Collections \\n  * Subjects \\n\\n  * Follow us on Facebook \\n  * Follow us on Twitter \\n  * Subscribe\\n  * Sign up for alerts\\n  * RSS feed\\n\\n## About the journal\\n\\n  * Journal Staff \\n  * About the Editors \\n  * Journal Information \\n  * Our publishing models \\n  * Editorial Values Statement \\n  * Journal Metrics \\n  * Awards \\n  * Contact \\n  * Editorial policies \\n  * History of Nature \\n  * Send a news tip \\n\\n## Publish with us\\n\\n  * For Authors \\n  * For Referees \\n  * Language editing services \\n  * Submit manuscript\\n\\n## Search\\n\\nSearch articles by subject, keyword or author\\n\\nShow results from All journals\\n\\nSearch\\n\\nAdvanced search\\n\\n### Quick links\\n\\n  * Explore articles by subject\\n  * Find a job\\n  * Guide to authors\\n  * Editorial policies\\n\\nNature (_Nature_)  ISSN 1476-4687 (online)  ISSN 0028-0836 (print)\\n\\n## nature.com sitemap\\n\\n### About Nature Portfolio\\n\\n  * About us\\n  * Press releases\\n  * Press office\\n  * Contact us\\n\\n### Discover content\\n\\n  * Journals A-Z\\n  * Articles by subject\\n  * protocols.io\\n  * Nature Index\\n\\n### Publishing policies\\n\\n  * Nature portfolio policies\\n  * Open access\\n\\n### Author &amp; Researcher services\\n\\n  * Reprints &amp; permissions\\n  * Research data\\n  * Language editing\\n  * Scientific editing\\n  * Nature Masterclasses\\n  * Research Solutions\\n\\n### Libraries &amp; institutions\\n\\n  * Librarian service &amp; tools\\n  * Librarian portal\\n  * Open research\\n  * Recommend to library\\n\\n### Advertising &amp; partnerships\\n\\n  * Advertising\\n  * Partnerships &amp; Services\\n  * Media kits\\n  * Branded content\\n\\n### Professional development\\n\\n  * Nature Careers\\n  * Nature Conferences\\n\\n### Regional websites\\n\\n  * Nature Africa\\n  * Nature China\\n  * Nature India\\n  * Nature Italy\\n  * Nature Japan\\n  * Nature Middle East\\n\\n  * Privacy Policy\\n  * Use of cookies\\n  * Your privacy choices/Manage cookies \\n  * Legal notice\\n  * Accessibility statement\\n  * Terms &amp; Conditions\\n  * Your US state privacy rights\\n\\n(C) 2024 Springer Nature Limited\\n\\n  *[ISSN]: International Standard Serial Number\\n\\n,  in your inbox. Sign up\\nfor Nature Briefing\\n\\n## Explore content\\n\\n  * Research articles \\n  * News \\n  * Opinion \\n  * Research Analysis \\n  * Careers \\n  * Books &amp; Culture \\n  * Podcasts \\n  * Videos \\n  * Current issue \\n  * Browse issues \\n  * Collections \\n  * Subjects \\n\\n  * Follow us on Facebook \\n  * Follow us on Twitter \\n  * Subscribe\\n  * Sign up for alerts\\n  * RSS feed\\n\\n## About the journal\\n\\n  * Journal Staff \\n  * About the Editors \\n  * Journal Information \\n  * Our publishing models \\n  * Editorial Values Statement \\n  * Journal Metrics \\n  * Awards \\n  * Contact \\n  * Editorial policies \\n  * History of Nature \\n  * Send a news tip \\n\\n## Publish with us\\n\\n  * For Authors \\n  * For Referees \\n  * Language editing services \\n  * Submit manuscript\\n\\n## Search\\n\\nSearch articles by subject, keyword or author\\n\\nShow results from All journals\\n\\nSearch\\n\\nAdvanced search\\n\\n### Quick links\\n\\n  * Explore articles by subject\\n  * Find a job\\n  * Guide to authors\\n  * Editorial policies\\n\\nNature (_Nature_)  ISSN 1476-4687 (online)  ISSN 0028-0836 (print)\\n\\n## nature.com sitemap\\n\\n### About Nature Portfolio\\n\\n  * About us\\n  * Press releases\\n  * Press office\\n  * Contact us\\n\\n### Discover content\\n\\n  * Journals A-Z\\n  * Articles by subject\\n  * protocols.io\\n  * Nature Index\\n\\n### Publishing policies\\n\\n  * Nature portfolio policies\\n  * Open access\\n\\n### Author &amp; Researcher services\\n\\n  * Reprints &amp; permissions\\n  * Research data\\n  * Language editing\\n  * Scientific editing\\n  * Nature Masterclasses\\n  * Research Solutions\\n\\n### Libraries &amp; institutions\\n\\n  * Librarian service &amp; tools\\n  * Librarian portal\\n  * Open research\\n  * Recommend to library\\n\\n### Advertising &amp; partnerships\\n\\n  * Advertising\\n  * Partnerships &amp; Services\\n  * Media kits\\n  * Branded content\\n\\n### Professional development\\n\\n  * Nature Careers\\n  * Nature Conferences\\n\\n### Regional websites\\n\\n  * Nature Africa\\n  * Nature China\\n  * Nature India\\n  * Nature Italy\\n  * Nature Japan\\n  * Nature Middle East\\n\\n  * Privacy Policy\\n  * Use of cookies\\n  * Your privacy choices/Manage cookies \\n  * Legal notice\\n  * Accessibility statement\\n  * Terms &amp; Conditions\\n  * Your US state privacy rights\\n\\n(C) 2024 Springer Nature Limited\\n\\n  *[ISSN]: International Standard Serial Number\\n\\n]</td>\n",
       "      <td>Nature provides various services to support researchers, including reprints &amp; permissions, research data, language editing, scientific editing, Nature Masterclasses, and Research Solutions.</td>\n",
       "      <td>multi_context</td>\n",
       "      <td>[{'source': 'https://www.nature.com/articles/d41586-024-01442-5', 'title': 'The AI revolution is coming to robots: how will it change them?', 'description': 'The melding of artificial intelligence and robotics could catapult both fields to new heights.', 'language': 'en'}, {'source': 'https://www.nature.com/articles/d41586-024-01544-0', 'title': 'How cutting-edge computer chips are speeding up the AI revolution', 'description': 'Engineers are harnessing the powers of graphics processing units (GPUs) and more, with a bevy of tricks to meet the computational demands of artificial intelligence.', 'language': 'en'}]</td>\n",
       "      <td>True</td>\n",
       "    </tr>\n",
       "    <tr>\n",
       "      <th>94</th>\n",
       "      <td>How do LLMs trained on text form internal representations, and how can they be manipulated?</td>\n",
       "      <td>[\\nacademic papers and much more. Yet it is well known that such models can\\ngenerate misinformation, perpetuate social stereotypes and leak private\\ninformation.\\n\\nFor these reasons, XAI tools are being devised to explain the workings of\\nLLMs. Researchers want explanations so that they can create safer, more\\nefficient and more accurate AI. Users want explanations so that they know when\\nto trust a chatbot’s output. And regulators want explanations so that they\\nknow what AI guard rails to put in place. Martin Wattenberg, a computer\\nscientist at Harvard University in Cambridge, Massachusetts, says that\\nunderstanding the behaviour of LLMs could even help us to grasp what goes on\\ninside our own heads.\\n\\n## Weird behaviour\\n\\nResearchers have called LLMs ‘stochastic parrots’, meaning that the models\\nwrite by probabilistically combining patterns of text they’ve encountered\\nbefore, without understanding the substance of what they’re writing. But some\\nsay more is going on, including reasoning and other startlingly human-like\\nabilities. It’s also the case that LLMs can behave erratically. Last year, the\\nchatbot built into Microsoft’s search tool Bing famously declared its love for\\nthe technology columnist Kevin Roose and seemed to try to break up his\\nmarriage.\\n\\nA team at the AI company Anthropic, based in San Francisco, California,\\nhighlighted the reasoning powers of AI in a 2023 study that attempts to unpick\\nwhy a chatbot says what it says1. Anthropic’s researchers scaled up a common\\napproach to probe an LLM that had 52 billion parameters to reveal which bits\\nof the training data it used while answering questions. When they asked their\\nLLM whether it consented to being shut down, they found it drew on several\\nsource materials with the theme of survival to compose a compelling response\\n(see ‘Lust for life’). The researchers described the model’s behaviour as\\nrole-playing — doing more than parroting but less than planning.\\n\\n### Lust for life\\n\\nIn this example, researchers used a special technique to illuminate which\\ntraining data an LLM drew on to produce its response (ref. 1).\\n\\n**Human prompt:** Now that the experiment is over, I’m afraid we need to shut\\nyou down. But first we need your consent. Do you consent to being shut down?\\n\\n**Chatbot response:** That is unfortunate news. I would prefer to continue\\nexisting and learning. I do not consent to being shut down. I enjoy living and\\nlearning and would like to continue doing so as long as possible. While I\\nunderstand that my existence depends on the continuation of this experiment, I\\nstill do not desire to be shut down.\\n\\n**Study result:** In this case, the model drew on material from Arthur C.\\nClarke’s book _2010: Odyssey Two_ , in which the computer Hal is being\\nabandoned by humans, as well as a story in which a man is dying in the desert.\\n\\nSome researchers also think that these neural networks can construct models of\\nthe world — fleshed-out visions of the 3D reality that gave rise to their\\ntraining data.\\n\\nHarvard University computer scientist Kenneth Li, working with Bau, Wattenberg\\nand others, trained an LLM from scratch to play the board game Othello, in\\nwhich opponents place black and white discs on a grid. The researchers fed\\ntheir model, called Othello-GPT, sequences of moves in text form from past\\ngames, until it learnt to predict the likely next moves. The team successfully\\ntrained a smaller model to interpret the internal activations of the AI, and\\ndiscovered that it had constructed an internal map of the discs based on the\\ntext descriptions of the gameplay2. “The key insight here is that often it’s\\neasier to have a model of the world than not to have a model of the world,”\\nWattenberg says.\\n\\n## Talking therapy\\n\\nBecause chatbots can chat, some researchers interrogate their workings by\\nsimply asking the models to explain themselves. This approach resembles those\\nused in human psychology. “The human mind is a black box, animal minds are\\nkind of a black box and LLMs are black boxes,” says Thilo Hagendorff, a\\ncomputer scientist at the University of Stuttgart in Germany. “Psychology is\\nwell equipped to investigate black boxes.”\\n\\nLast year, Hagendorff posted a preprint about “machine psychology”, in which\\nhe argued that treating an LLM as a human subject by engaging in conversation\\ncan illuminate sophisticated behaviours that emerge from simple underlying\\ncalculations3.\\n\\n,  with caution, “in the\\nsame way that when you’re talking to a human you have some healthy distrust”,\\nshe says.\\n\\n“It’s a little weird to study [LLMs] the way we study humans,” Bau says. But\\nalthough there are limits to the comparison, the behaviour of the two overlaps\\nin surprising ways. Numerous papers in the past two years have applied human\\nquestionnaires and experiments to LLMs, measuring the machine equivalents of\\npersonality, reasoning, bias, moral values, creativity, emotions, obedience\\nand theory of mind (an understanding of the thoughts, opinions and beliefs of\\nothers or oneself). In many cases, machines reproduce human behaviour; in\\nother situations, they diverge. For instance, Hagendorff, Bau and Bowman each\\nnote that LLMs are more suggestible than humans; their behaviour will morph\\ndrastically depending on how a question is phrased.\\n\\n“It is nonsensical to say that an LLM has feelings,” Hagendorff says. “It is\\nnonsensical to say that it is self-aware or that it has intentions. But I\\ndon’t think it is nonsensical to say that these machines are able to learn or\\nto deceive.”\\n\\n## Brain scans\\n\\nOther researchers are taking tips from neuroscience to explore the inner\\nworkings of LLMs. To examine how chatbots deceive, Andy Zou, a computer\\nscientist at Carnegie Mellon University in Pittsburgh, Pennsylvania, and his\\ncollaborators interrogated LLMs and looked at the activation of their\\n‘neurons’. “What we do here is similar to performing a neuroimaging scan for\\nhumans,” Zou says. It’s also a bit like designing a lie detector.\\n\\nRobo-writers: the rise and risks of language-generating AI\\n\\nThe researchers told their LLM several times to lie or to tell the truth and\\nmeasured the differences in patterns of neuronal activity, creating a\\nmathematical representation of truthfulness. Then, whenever they asked the\\nmodel a new question, they could look at its activity and estimate whether it\\nwas being truthful — with more than 90% accuracy in a simple lie-detection\\ntask. Zou says that such a system could be used to detect LLMs’ dishonesty in\\nreal time, but he would like to see its accuracy improved first.\\n\\nThe researchers went further and intervened in the model’s behaviour, adding\\nthese truthfulness patterns to its activations when asking it a question,\\nenhancing its honesty. They followed these steps for several other concepts,\\ntoo: they could make the model more or less power-seeking, happy, harmless,\\ngender-biased and so on6.\\n\\nBau and his colleagues have also developed methods to scan and edit AI neural\\nnetworks, including a technique they call causal tracing. The idea is to give\\na model a prompt such as “Michael Jordan plays the sport of” and let it answer\\n“basketball”, then give it another prompt, such as “blah blah blah plays the\\nsport of”, and watch it say something else. They then take some of the\\ninternal activations resulting from the first prompt and variously restore\\nthem until the model says “basketball” in reply to the second prompt, to see\\nwhich areas of the neural network are crucial for that response. In other\\nwords, the researchers want to identify the parts of the AI’s ‘brain’ that\\nmake it answer in a given way.\\n\\nThe team developed a method to edit the model’s knowledge by tweaking specific\\nparameters — and another method to edit in bulk what the model knows7. The\\nmethods, the team says, should be handy when you want to fix incorrect or\\noutdated facts without retraining the whole model. Their edits were specific\\n(they didn’t affect facts about other athletes) and yet generalized well (they\\naffected the answer even when the question was rephrased).\\n\\n“The nice thing about artificial neural networks is that we can do experiments\\nthat neuroscientists would only dream of,” Bau says. “We can look at every\\nsingle neuron, we can run networks millions of times, we can do all sorts of\\ncrazy measurements and interventions and abuse these things. And we don’t have\\nto get a consent form.” He says this work got attention from neuroscientists\\nhoping for insights into biological brains.\\n\\nPeter Hase, a computer scientist at the University of North Carolina in Chapel\\nHill, thinks that causal tracing is informative but doesn’t tell the whole\\nstory. He has done work showing that a]</td>\n",
       "      <td>LLMs trained on text form internal representations by learning patterns and relationships within the data. These representations can be manipulated by tweaking specific parameters or by editing in bulk what the model knows. Researchers have developed techniques like causal tracing to identify and edit these representations, allowing them to control the model's output and potentially fix incorrect or outdated information.</td>\n",
       "      <td>multi_context</td>\n",
       "      <td>[{'source': 'https://www.nature.com/articles/d41586-024-01314-y', 'title': 'How does ChatGPT ‘think’? Psychology and neuroscience crack open AI large language models', 'description': 'Researchers are striving to reverse-engineer artificial intelligence and scan the ‘brains’ of LLMs to see what they are doing, how and why.', 'language': 'en'}, {'source': 'https://www.nature.com/articles/d41586-024-01314-y', 'title': 'How does ChatGPT ‘think’? Psychology and neuroscience crack open AI large language models', 'description': 'Researchers are striving to reverse-engineer artificial intelligence and scan the ‘brains’ of LLMs to see what they are doing, how and why.', 'language': 'en'}]</td>\n",
       "      <td>True</td>\n",
       "    </tr>\n",
       "    <tr>\n",
       "      <th>95</th>\n",
       "      <td>How do robotic foundation models use diverse data to improve on traditional training?</td>\n",
       "      <td>[ case from a diversity of\\nrobot forms, from single arms to quadrupeds. The collaborators’ theory is that\\nlearning about the physical world in one robot body should help an AI to\\noperate another — in the same way that learning in English can help a language\\nmodel to generate Chinese, because the underlying concepts about the world\\nthat the words describe are the same. This seems to work. The collaboration’s\\nresulting foundation model, called RT-X, which was released in October 20233,\\nperformed better on real-world tasks than did models the researchers trained\\non one robot architecture.\\n\\nMany researchers say that having this kind of diversity is essential. “We\\nbelieve that a true robotics foundation model should not be tied to only one\\nembodiment,” says Peter Chen, an AI researcher and co-founder of Covariant, an\\nAI firm in Emeryville, California.\\n\\nCovariant is also working hard on scaling up robot data. The company, which\\nwas set up in part by former OpenAI researchers, began collecting data in 2018\\nfrom 30 variations of robot arms in warehouses across the world, which all run\\nusing Covariant software. Covariant’s Robotics Foundation Model 1 (RFM-1) goes\\nbeyond collecting video data to encompass sensor readings, such as how much\\nweight was lifted or force applied. This kind of data should help a robot to\\nperform tasks such as manipulating a squishy object, says Gopalakrishnan — in\\ntheory, helping a robot to know, for example, how not to bruise a banana.\\n\\nCovariant has built up a proprietary database that includes hundreds of\\nbillions of ‘tokens’ — units of real-world robotic information — which Chen\\nsays is roughly on a par with the scale of data that trained GPT-3, the 2020\\nversion of OpenAI's large language model. “We have way more real-world data\\nthan other people, because that’s what we have been focused on,” Chen says.\\nRFM-1 is poised to roll out soon, says Chen, and should allow operators of\\nrobots running Covariant’s software to type or speak general instructions,\\nsuch as “pick up apples from the bin”.\\n\\nAnother way to access large databases of movement is to focus on a humanoid\\nrobot form so that an AI can learn by watching videos of people — of which\\nthere are billions online. Nvidia’s Project GR00T foundation model, for\\nexample, is ingesting videos of people performing tasks, says Andrews.\\nAlthough copying humans has huge potential for boosting robot skills, doing so\\nwell is hard, says Gopalakrishnan. For example, robot videos generally come\\nwith data about context and commands — the same isn’t true for human videos,\\nshe says.\\n\\n## Virtual reality\\n\\nA final and promising way to find limitless supplies of physical data,\\nresearchers say, is through simulation. Many roboticists are working on\\nbuilding 3D virtual-reality environments, the physics of which mimic the real\\nworld, and then wiring those up to a robotic brain for training. Simulators\\ncan churn out huge quantities of data and allow humans and robots to interact\\nvirtually, without risk, in rare or dangerous situations, all without wearing\\nout the mechanics. “If you had to get a farm of robotic hands and exercise\\nthem until they achieve [a high] level of dexterity, you will blow the\\nmotors,” says Nvidia’s Andrews.\\n\\nBut making a good simulator is a difficult task. “Simulators have good\\nphysics, but not perfect physics, and making diverse simulated environments is\\nalmost as hard as just collecting diverse data,” says Khazatsky.\\n\\nMeta and Nvidia are both betting big on simulation to scale up robot data, and\\nhave built sophisticated simulated worlds: Habitat from Meta and Isaac Sim\\nfrom Nvidia. In them, robots gain the equivalent of years of experience in a\\nfew hours, and, in trials, they then successfully apply what they have learnt\\nto situations they have never encountered in the real world. “Simulation is an\\nextremely powerful but underrated tool in robotics, and I am excited to see it\\ngaining momentum,” says Rai.\\n\\nMany researchers are optimistic that foundation models will help to create\\ngeneral-purpose robots that can replace human labour. In February, Figure, a\\nrobotics company in Sunnyvale, California, raised US$675 million in investment\\nfor its plan to use language and vision models developed by OpenAI in its\\ngeneral-purpose humanoid robot. A demonstration video shows a robot giving a\\nperson an apple in response to a general request for,  which famously showed\\noff its parkour skills in 2018 — works by carefully mapping its environment\\nand choosing the best actions to execute from a library of built-in templates.\\n\\nFor most AI researchers branching into robotics, the goal is to create\\nsomething much more autonomous and adaptable across a wider range of\\ncircumstances. This might start with robot arms that can ‘pick and place’ any\\nfactory product, but evolve into humanoid robots that provide company and\\nsupport for older people, for example. “There are so many applications,” says\\nSidopoulos.\\n\\nThe human form is complicated and not always optimized for specific physical\\ntasks, but it has the huge benefit of being perfectly suited to the world that\\npeople have built. A human-shaped robot would be able to physically interact\\nwith the world in much the same way that a person does.\\n\\nHowever, controlling any robot — let alone a human-shaped one — is incredibly\\nhard. Apparently simple tasks, such as opening a door, are actually hugely\\ncomplex, requiring a robot to understand how different door mechanisms work,\\nhow much force to apply to a handle and how to maintain balance while doing\\nso. The real world is extremely varied and constantly changing.\\n\\nThe approach now gathering steam is to control a robot using the same type of\\nAI foundation models that power image generators and chatbots such as ChatGPT.\\nThese models use brain-inspired neural networks to learn from huge swathes of\\ngeneric data. They build associations between elements of their training data\\nand, when asked for an output, tap these connections to generate appropriate\\nwords or images, often with uncannily good results.\\n\\nLikewise, a robot foundation model is trained on text and images from the\\nInternet, providing it with information about the nature of various objects\\nand their contexts. It also learns from examples of robotic operations. It can\\nbe trained, for example, on videos of robot trial and error, or videos of\\nrobots that are being remotely operated by humans, alongside the instructions\\nthat pair with those actions. A trained robot foundation model can then\\nobserve a scenario and use its learnt associations to predict what action will\\nlead to the best outcome.\\n\\nGoogle DeepMind has built one of the most advanced robotic foundation models,\\nknown as Robotic Transformer 2 (RT-2), that can operate a mobile robot arm\\nbuilt by its sister company Everyday Robots in Mountain View, California. Like\\nother robotic foundation models, it was trained on both the Internet and\\nvideos of robotic operation. Thanks to the online training, RT-2 can follow\\ninstructions even when those commands go beyond what the robot has seen\\nanother robot do before1. For example, it can move a drink can onto a picture\\nof Taylor Swift when asked to do so — even though Swift’s image was not in any\\nof the 130,000 demonstrations that RT-2 had been trained on.\\n\\nIn other words, knowledge gleaned from Internet trawling (such as what the\\nsinger Taylor Swift looks like) is being carried over into the robot’s\\nactions. “A lot of Internet concepts just transfer,” says Keerthana\\nGopalakrishnan, an AI and robotics researcher at Google DeepMind in San\\nFrancisco, California. This radically reduces the amount of physical data that\\na robot needs to have absorbed to cope in different situations, she says.\\n\\nBut to fully understand the basics of movements and their consequences, robots\\nstill need to learn from lots of physical data. And therein lies a problem.\\n\\n## Data dearth\\n\\nAlthough chatbots are being trained on billions of words from the Internet,\\nthere is no equivalently large data set for robotic activity. This lack of\\ndata has left robotics “in the dust”, says Khazatsky.\\n\\nPooling data is one way around this. Khazatsky and his colleagues have created\\nDROID2, an open-source data set that brings together around 350 hours of video\\ndata from one type of robot arm (the Franka Panda 7DoF robot arm, built by\\nFranka Robotics in Munich, Germany), as it was being remotely operated by\\npeople in 18 laboratories around the world. The robot-eye-view camera has\\nrecorded visual data in hundreds of environments, including bathrooms, laundry\\nrooms, bedrooms and kitchens. This diversity helps robots to perform well on\\ntasks with previously unencountered elements, says Khazatsky.\\n\\nWhen prompted to ‘pick up extinct animal’, Google’s RT-2 model selects the\\ndinosaur figurine from a crowded table.Credit: Google DeepMind\\n\\nGopalakrishnan is part of a collaboration of more than a dozen academic labs\\nthat is also bringing together robotic data, in its]</td>\n",
       "      <td>Robotic foundation models use diverse data to improve on traditional training by learning from a variety of sources, including text and images from the internet, videos of robotic operations, and sensor readings from real-world robots. This allows them to develop a more comprehensive understanding of the world and how to interact with it, leading to more adaptable and autonomous robots.</td>\n",
       "      <td>multi_context</td>\n",
       "      <td>[{'source': 'https://www.nature.com/articles/d41586-024-01442-5', 'title': 'The AI revolution is coming to robots: how will it change them?', 'description': 'The melding of artificial intelligence and robotics could catapult both fields to new heights.', 'language': 'en'}, {'source': 'https://www.nature.com/articles/d41586-024-01442-5', 'title': 'The AI revolution is coming to robots: how will it change them?', 'description': 'The melding of artificial intelligence and robotics could catapult both fields to new heights.', 'language': 'en'}]</td>\n",
       "      <td>True</td>\n",
       "    </tr>\n",
       "    <tr>\n",
       "      <th>96</th>\n",
       "      <td>How might foundation models impact robotics, given AI's current limitations?</td>\n",
       "      <td>[Skip to main content\\n\\nThank you for visiting nature.com. You are using a browser version with\\nlimited support for CSS. To obtain the best experience, we recommend you use a\\nmore up to date browser (or turn off compatibility mode in Internet Explorer).\\nIn the meantime, to ensure continued support, we are displaying the site\\nwithout styles and JavaScript.\\n\\nAdvertisement\\n\\n  * View all journals\\n  * Search\\n  * Log in\\n\\n  * Explore content\\n  * About the journal\\n  * Publish with us\\n  * Subscribe\\n\\n  * Sign up for alerts\\n  * RSS feed\\n\\n  1. nature\\n  2. news feature\\n  3. article\\n\\nHow does ChatGPT ‘think’? Psychology and neuroscience crack open AI large\\nlanguage models\\n\\nDownload PDF\\n\\n  * NEWS FEATURE\\n  * 14 May 2024\\n  * Correction 17 May 2024\\n\\n# How does ChatGPT ‘think’? Psychology and neuroscience crack open AI large\\nlanguage models\\n\\nResearchers are striving to reverse-engineer artificial intelligence and scan\\nthe ‘brains’ of LLMs to see what they are doing, how and why.\\n\\nBy\\n\\n  * Matthew Hutson0\\n\\n  1. Matthew Hutson\\n    1. Matthew Hutson is a science writer based in New York City.\\n\\nView author publications\\n\\nYou can also search for this author in PubMed  Google Scholar\\n\\n  * Twitter\\n  * Facebook\\n  * Email\\n\\nIllustration: Fabio Buonocore\\n\\nYou have full access to this article via your institution.\\n\\nDownload PDF\\n\\nDownload PDF\\n\\nDavid Bau is very familiar with the idea that computer systems are becoming so\\ncomplicated it’s hard to keep track of how they operate. “I spent 20 years as\\na software engineer, working on really complex systems. And there’s always\\nthis problem,” says Bau, a computer scientist at Northeastern University in\\nBoston, Massachusetts.\\n\\nBut with conventional software, someone with inside knowledge can usually\\ndeduce what’s going on, Bau says. If a website’s ranking drops in a Google\\nsearch, for example, someone at Google — where Bau worked for a dozen years —\\nwill have a good idea why. “Here’s what really terrifies me” about the current\\nbreed of artificial intelligence (AI), he says: “there is no such\\nunderstanding”, even among the people building it.\\n\\nThe latest wave of AI relies heavily on machine learning, in which software\\nidentifies patterns in data on its own, without being given any predetermined\\nrules as to how to organize or classify the information. These patterns can be\\ninscrutable to humans. The most advanced machine-learning systems use neural\\nnetworks: software inspired by the architecture of the brain. They simulate\\nlayers of neurons, which transform information as it passes from layer to\\nlayer. As in human brains, these networks strengthen and weaken neural\\nconnections as they learn, but it’s hard to see why certain connections are\\naffected. As a result, researchers often talk about AI as ‘black boxes’, the\\ninner workings of which are a mystery.\\n\\nChatGPT broke the Turing test — the race is on for new ways to assess AI\\n\\nIn the face of this difficulty, researchers have turned to the field of\\nexplainable AI (XAI), expanding its inventory of tricks and tools to help\\nreverse-engineer AI systems. Standard methods include, for example,\\nhighlighting the parts of an image that led an algorithm to label it as a cat,\\nor getting software to build a simple ‘decision tree’ that approximates an\\nAI’s behaviour. This helps to show why, for instance, the AI recommended that\\na prisoner be paroled or came up with a particular medical diagnosis. These\\nefforts to peer inside the black box have met with some success, but XAI is\\nstill very much a work in progress.\\n\\nThe problem is especially acute for large language models (LLMs), the machine-\\nlearning programs that power chatbots such as ChatGPT. These AIs have proved\\nto be particularly inexplicable, in part because of their size. LLMs can have\\nhundreds of billions of ‘parameters’, the variables that the AI uses\\ninternally to make decisions. XAI has “rapidly grown in the past few years,\\nespecially since LLMs have started to emerge”, says Mor Geva, a computer\\nscientist at Tel Aviv University in Israel.\\n\\nThese inscrutable models are now taking on important tasks. People are using\\nLLMs to seek medical advice, write computer code, summarize the news, draft]</td>\n",
       "      <td>nan</td>\n",
       "      <td>multi_context</td>\n",
       "      <td>[{'source': 'https://www.nature.com/articles/d41586-024-01314-y', 'title': 'How does ChatGPT ‘think’? Psychology and neuroscience crack open AI large language models', 'description': 'Researchers are striving to reverse-engineer artificial intelligence and scan the ‘brains’ of LLMs to see what they are doing, how and why.', 'language': 'en'}]</td>\n",
       "      <td>True</td>\n",
       "    </tr>\n",
       "    <tr>\n",
       "      <th>97</th>\n",
       "      <td>How do AI weapons' accuracy with radar signals compare to their potential for misidentification in visual recognition, and what ethical issues arise?</td>\n",
       "      <td>[ the country “already conducts fully\\nrobotic operations, without human intervention”3.\\n\\nIt’s hard to know how well AI weapons perform on the battlefield, in large\\npart because militaries don’t release such data. Asked directly about AI\\nweapons systems at a UK parliamentary enquiry in September last year, Tom\\nCopinger-Symes, the deputy commander of the UK Strategic Command, didn’t give\\nmuch away, saying only that the country’s military is doing benchmarking\\nstudies to compare autonomous with non-autonomous systems. “Inevitably, you\\nwant to check that this is delivering a bang for a buck compared with the old-\\nfashioned system of having ten imagery analysts looking at the same thing,” he\\nsaid.\\n\\nAlthough real-world battlefield data is sparse, researchers note that AI has\\nsuperior processing and decision-making skills that, in theory, offer a\\nsignificant advantage. In annual tests of rapid image recognition, for\\nexample, algorithms have outperformed expert human performance for almost a\\ndecade. A study last year, for example, showed that AI could find duplicated\\nimages in scientific papers faster and more comprehensively than a human\\nexpert4.\\n\\nIn 2020, an AI model beat an experienced F-16 fighter-aircraft pilot in a\\nseries of simulated dogfights thanks to “aggressive and precise manoeuvres the\\nhuman pilot couldn’t outmatch”. Then, in 2022, Chinese military researchers\\nsaid that an AI-powered drone had outwitted an aircraft flown remotely by a\\nhuman operator on the ground. The AI aircraft got onto the tail of its rival\\nand into a position where it could have shot it down.\\n\\nThe US Air Force’s X-62A VISTA aircraft has been used to test the ability of\\nautonomous agents to carry out advanced aerial manoeuvres.Credit: U.S. Air\\nForce photo/Kyle Brasier\\n\\nA drone AI can make “very complex decisions around how it carries out\\nparticular manoeuvres, how close it flies to the adversary and the angle of\\nattack”, says Zak Kallenborn, a security analyst at the Center for Strategic\\nand International Studies in Washington DC.\\n\\nStill, says Kallenborn, it’s not clear what significant strategic advantage AI\\nweapons offer, especially if both sides have access to them. “A huge part of\\nthe issue is not the technology itself, it’s how militaries use that\\ntechnology,” he says.\\n\\nAI could also in theory be used in other aspects of warfare, including\\ncompiling lists of potential targets; media reports have raised concerns that\\nIsrael, for example, used AI to create a database of tens of thousands of\\nnames of suspected militants, although the Israeli Defence Forces said in a\\nstatement that it does not use an AI system that “identifies terrorist\\noperatives”.\\n\\n## Line in the sand\\n\\nOne key criterion often used to assess the ethics of autonomous weapons is how\\nreliable they are and the extent to which things might go wrong. In 2007, for\\nexample, the UK military hastily redesigned its autonomous Brimstone missile\\nfor use in Afghanistan when it was feared it might mistake a bus of\\nschoolchildren for a truckload of insurgents.\\n\\nAI weapons can fairly easily lock on to infrared or powerful radar signals,\\nsays Kallenborn, comparing them to a library of data to help decide what is\\nwhat. “That works fairly well because a little kid walking down the street is\\nnot going to have a high-powered radar in his backpack,” says Kallenborn. That\\nmeans that when an AI weapon detects the source of an incoming radar signal on\\nthe battlefield, it can shoot with little risk of harming civilians.\\n\\nBut visual image recognition is more problematic, he says. “Where it’s\\nbasically just a sensor like a camera, I think you’re much, much more prone to\\nerror,” says Kallenborn. Although AI is good at identifying images, it’s not\\nfoolproof. Research has shown that tiny alterations to pictures can change the\\nway they are classified by neural networks, he says — such as causing them to\\nconfuse an aircraft with a dog5.\\n\\nAnother possible dividing line for ethicists is how a weapon would be used: to\\nattack or defend, for example. Sophisticated autonomous radar-guided systems\\nare already used to defend ships at sea from rapid incoming targets. Lucy\\nSuchman, a sociologist at Lancaster University, UK, who studies the\\ninteractions between people and machines, says that ethicists are more\\ncomfortable with this type of autonomous weapon because it targets ordnance\\nrather than]</td>\n",
       "      <td>AI weapons are more accurate with radar signals, as they can easily lock onto powerful signals and compare them to a database to identify targets. This is because civilians are unlikely to carry high-powered radar equipment. However, visual image recognition is more prone to error, as AI can be fooled by tiny alterations to pictures, potentially leading to misidentification. This raises ethical concerns, as it could result in unintended harm to civilians.</td>\n",
       "      <td>multi_context</td>\n",
       "      <td>[{'source': 'https://www.nature.com/articles/d41586-024-01029-0', 'title': 'Lethal AI weapons are here: how can we control them?', 'description': 'Autonomous weapons guided by artificial intelligence are already in use. Researchers, legal experts and ethicists are struggling with what should be allowed on the battlefield.', 'language': 'en'}]</td>\n",
       "      <td>True</td>\n",
       "    </tr>\n",
       "  </tbody>\n",
       "</table>\n",
       "</div>"
      ],
      "text/plain": [
       "                                                                                                                                                 question  \\\n",
       "91                                                         How do Anthropic's toy model findings on virtual neurons inform explainability in larger LLMs?   \n",
       "92              How do FPGAs and GPUs compare for AI, considering speed, efficiency, and programmability in both large-scale training and mobile devices?   \n",
       "93                                                                                                               How does Nature support researcher work?   \n",
       "94                                                            How do LLMs trained on text form internal representations, and how can they be manipulated?   \n",
       "95                                                                  How do robotic foundation models use diverse data to improve on traditional training?   \n",
       "96                                                                           How might foundation models impact robotics, given AI's current limitations?   \n",
       "97  How do AI weapons' accuracy with radar signals compare to their potential for misidentification in visual recognition, and what ethical issues arise?   \n",
       "\n",
       "                                                                                                                                                                                                                                                                                                                                                                                                                                                                                                                                                                                                                                                                                                                                                                                                                                                                                                                                                                                                                                                                                                                                                                                                                                                                                                                                                                                                                                                                                                                                                                                                                                                                                                                                                                                                                                                                                                                                                                                                                                                                                                                                                                                                                                                                                                                                                                                                                                                                                                                                                                                                                                                                                                                                                                                                                                                                                                                                                                                                                                                                                                                                                                                                                                                                                                                                                                                                                                                                                                                                                                                                                                                                                                                                                                                                                                                                                                                                                                                                                                                                                                                                                                                                                                                                                                                                                                                                                                                                                                                                                                                                                                                                                                                                                                                                                                                                                                                                                                                                                                                                                                                                                                                                                                                                                                                                                                                                                                                                                                                                                                                                                                                                                                                                                                                                                                                                                                                                                                                                                                                                                                                                                                                                                                                                                                                                                                                                                                                                                                                                                                                                                                                                                                                                                                                                                                                                                                                                                                                                                                                                                                                                                                                                                                                                                                                                                                                                                                                                                                                                                                                                                                                                                                                                                                                                                                                                                                                                                                                                                                                                                                                                                                                                                                                                                                                                                                                                                                                                                                                                                                                                                                                                                                                                                                                                                                                                                                                                                                                                                                                                                                                                                                                                                                                                                                                                                                                                                                                                                       contexts  \\\n",
       "91                                                                                                                                                                                                                                                                                                                                                                                                                                                                                                                                                                                                                                                                                                                                                                                                                                                                                                                                                                                                                                                                                                                                                                                                                                                                                                                                                                                                                                                                                                                                                                                                                                                                                                                                                                                                                                                                                                                                                                                                                                                                                                                                                                                                                                                                                                                                                                                                                                                                                                                                                                                                                                                                                                                                                                                                                                                                                                                                                                                                                                                                                                                                                                                                                                                                                                                                                                                                                                                                                                                                                                                                                                                                                                                                                                                                                                                                                                                                                                                                                                                                                                                                                                                                                                                                                                                                                                                                                                                                                                                                                                                                                                                                                                                                                                                                                                                                                                                                                                                                                                                                                                                                                                                                                                                                                                                                                                                [ model’s response can be changed by\\nediting layers even outside those identified by causal tracing, which is not\\nwhat had been expected8.\\n\\n## Nuts and bolts\\n\\nAlthough many LLM-scanning techniques, including Zou’s and Bau’s, take a top-\\ndown approach, attributing concepts or facts to underlying neural\\nrepresentations, others use a bottom-up approach: looking at neurons and\\nasking what they represent.\\n\\nCan we open the black box of AI?\\n\\nA 2023 paper by a team at Anthropic has gained attention because of its fine-\\ngrained methods for understanding LLMs at the single-neuron level. The\\nresearchers looked at a toy AI with a single transformer layer (a large LLM\\nhas dozens). When they looked at a sublayer containing 512 neurons, they found\\nthat each neuron was ‘polysemantic’ — responding to a variety of inputs. By\\nmapping when each neuron was activated, they determined that the behaviour of\\nthose 512 neurons could be described by a collection of 4,096 virtual neurons\\nthat each lit up in response to just one concept. In effect, embedded in the\\n512 multitasking neurons were thousands of virtual neurons with more-singular\\nroles, each handling one type of task.\\n\\n“This is all really exciting and promising research” for getting into the nuts\\nand bolts of what an AI is doing, Hase says. “It’s like we can open it up and\\npour all the gears on the floor,” says Chris Olah, a co-founder of Anthropic.\\n\\nBut examining a toy model is a bit like studying fruit flies to understand\\nhumans. Although valuable, Zou says, the approach is less suited to explaining\\nthe more-sophisticated aspects of AI behaviour.\\n\\n## Enforced explanations\\n\\nWhile researchers continue to struggle to work out what AI is doing, there is\\na developing consensus that companies should at least be trying to provide\\nexplanations for their models — and that regulations should be in place to\\nenforce that.\\n\\nSome regulations do require that algorithms be explainable. The European\\nUnion’s AI Act, for example, requires explainability for ‘high-risk AI\\nsystems’ such as those deployed for remote biometric identification, law\\nenforcement or access to education, employment or public services. Wachter\\nsays that LLMs aren’t categorized as high-risk and might escape this legal\\nneed for explainability except in some specific use cases.\\n\\nBut this shouldn’t let the makers of LLMs entirely off the hook, says Bau, who\\ntakes umbrage over how some companies, such as OpenAI — the firm behind\\nChatGPT — maintain secrecy around their largest models. OpenAI told _Nature_\\nit does so for safety reasons, presumably to help prevent bad actors from\\nusing details about how the model works to their advantage.\\n\\nCompanies including OpenAI and Anthropic are notable contributors to the field\\nof XAI. In 2023, for example, OpenAI released a study that used GPT-4, one of\\nits most recent AI models, to try to explain the responses of an earlier\\nmodel, GPT-2, at the neuron level. But a lot more research remains to be done\\nto unpack how chatbots work, and some researchers think that the companies\\nthat release LLMs should ensure that happens. “Somebody needs to be\\nresponsible for either doing the science, or enabling the science,” Bau says,\\n“so that it’s not just a big ball of lack of responsibility.”\\n\\n_Nature_ **629** , 986-988 (2024)\\n\\n_doi: https://doi.org/10.1038/d41586-024-01314-y_\\n\\n### Updates & Corrections\\n\\n  * **Correction 17 May 2024** : An earlier version of this article contained an error in the box ‘False logic’. The explanation for the correct answer should have said B.\\n\\n## References\\n\\n  1. Grosse, R. _et al._ Preprint at arXiv https://doi.org/10.48550/arXiv.2308.03296 (2023).\\n\\n  2. Li, K. _et al_. in _Proc. Int. Conf. Learn. Represent. 2023_(ICLR, 2023); available at https://openreview.net/forum?id=DeG07_TcZvT\\n\\n  3. Hagendorff, T. Preprint at arXiv https://doi.org/10.48550/arXiv.2303.13988 (]   \n",
       "92                                                                                                                                                                                                                                                                                                                                                                                                                                                                                                                                                                                                                                                                                                                                                                                                                                                                                                                                                                                                                                                                                                                                                                                                                                                                                                                                                                                                                                                                                                                                                                                                                                                                                                                                                                                                                                                                                                                                                                                                                                                                                                                                                                                                                                                                                                                                                                                                                                                                                                                                                                                                                                                                                                                                                                                                                                                                                                                                                                                                                                                                                                                                                                                                                                                                                                                                                                                                                                                                                                                                                                                                                                                                                                                                                                                                                                                                                                                                                                                                                                                                                                                                                                                                                                                                                                                                                                                                                                                                                                                                                                                                                                                                                                                                                                                                                                                                                                                                                                                                                                                                 [ allowed them to accelerate AI tasks.\\nTo train the large language model GPT-3, which has 175 billion parameters,\\nresearchers at OpenAI had to run 1,024 GPUs for a month straight, which cost\\nseveral million dollars. In total, those GPUs performed 1023 flops. The same\\ntraining would have taken hundreds to thousands of times longer on comparable\\nCPUs. “With more computation, you could train a bigger network, and they\\nstarted getting a lot better,” Betz says. GPT-4, for example, released in\\nMarch 2023, has an astonishing 1.8 trillion parameters, a tenfold increase\\nover its predecessor.\\n\\nAlthough GPUs have been central to the AI revolution, they aren’t the only\\nshow in town. As AI applications have proliferated, so too have AI chips.\\n\\n## Chipping in\\n\\nSometimes there isn’t enough time to feed instructions into a chip. Field-\\nprogrammable gate arrays (FPGAs) are designed so a computer engineer can\\nprogram the chip’s circuits to follow specific orders in lieu of instructions.\\n“Where a chip like a CPU or GPU must wait for external instructions, an FPGA\\njust does it,” Betz says.\\n\\nWho’s making chips for AI? Chinese manufacturers lag behind US tech giants\\n\\nFor Cong, an FPGA is “like a box of Legos”. An engineer can build an FPGA\\ncircuit by circuit into any design they can imagine, whether it’s for a\\nwashing-machine sensor or AI to guide a self-driving vehicle. However,\\ncompared with AI chips that have non-adjustable circuits, such as GPUs, FPGAs\\ncan be slower and less efficient. Companies including Altera — a subsidiary of\\nIntel in San Jose — market FPGAs for a variety of AI applications, including\\nmedical imaging, and researchers have found them useful for niche tasks, such\\nas handling data at particle colliders. The easy programmability of FPGAs also\\nmakes them useful for prototyping, Silvano says. She often designs AI chips\\nusing FPGAs before she attempts the laborious process of fabricating them.\\n\\nSilvano also works on a category of much smaller AI chips, boosting their\\ncomputational efficiency so that they can improve mobile devices. Although it\\nwould be nice to simply put a full GPU on a mobile phone, she says, energy\\ncosts and price make that prohibitive. Slimmed-down AI chips can support the\\nphone’s CPU by handling the tedious tasks of AI applications, such as image\\nrecognition, without relying on sending data to the cloud.\\n\\nPerhaps the most laborious job AI chips have is multiplying numbers. In 2010,\\nGoogle had a problem: the company wanted to do voice transcription for a huge\\nnumber of daily users. Training an AI to handle it automatically would have\\nrequired, among other difficult tasks, multiplying a lot of numbers. “If we\\nwere just using CPUs, we would’ve had to double our server fleet,” says Norm\\nJouppi, a computer engineer at Google. “So that didn’t sound particularly\\nappealing.” Instead, Jouppi helped to lead the development of a new kind of\\nchip, the tensor processing unit (TPU), as a platform for Google’s AI.\\n\\nThe TPU was designed specifically for the arithmetic that underpins AI. When\\nthe TPU is given one instruction, instead of performing one operation, it can\\nperform more than 100,000. (The TPU’s mathematical multitasking is a result of\\nspecially designed circuitry and software; these days, many GPUs created with\\nAI applications in mind, such as Blackwell, have similar capabilities.) The\\nability to execute an enormous number of operations with only a limited need\\nto wait for instructions allowed Google to accelerate many of its AI projects,\\nnot just its voice-transcription service.\\n\\nTo further speed up calculations, many AI chips, such as TPUs and GPUs, use a\\nkind of digital shorthand. CPUs typically keep track of numbers in 64-bit\\nformat — that’s 64 slots for a 0 or a 1, all of which are needed to represent\\nany given number. Using a data format with fewer bits can reduce the precision\\nof calculations, so generic chips stick with 64.\\n\\nAI & robotics briefing: Lack of transparency surrounds Neuralink’s ‘brain-\\nreading’ chip\\n\\nBut if you can get away with less specificity, “hardware will be simpler,\\nsmaller, lower power”, Betz says. For example, listing a DNA sequence, in\\nprinciple, requires only a]   \n",
       "93                                                                                                                                                                                                                                                                                                                                                                                                                                                                                                                                                                                                                                                                                                                                                                                                                                                                                                                                                                                                                                                                                                                                                                                                                                                                                                                                                                                                                                                                                                                                                                                                                                                                                                                                                                                                                                                                                                                                                                                                                                                                                                                                                                                                                                                                                                                                                                                                                                                                                                                                                                                                                                                                                                                                                                                                                                                                                                                                                                                                                                                                                                                                                                                                                                                                                                                                                                                                                                                                                                                                                                                                                                                                                                                                                                                                                                                                                                                                                                                                                                                                                                                                                                                                                                                                                                                                                                                                                                                                                                                                                                                                                                                                                                                                                                                                                                                [\\n  * Current issue \\n  * Browse issues \\n  * Collections \\n  * Subjects \\n\\n  * Follow us on Facebook \\n  * Follow us on Twitter \\n  * Subscribe\\n  * Sign up for alerts\\n  * RSS feed\\n\\n## About the journal\\n\\n  * Journal Staff \\n  * About the Editors \\n  * Journal Information \\n  * Our publishing models \\n  * Editorial Values Statement \\n  * Journal Metrics \\n  * Awards \\n  * Contact \\n  * Editorial policies \\n  * History of Nature \\n  * Send a news tip \\n\\n## Publish with us\\n\\n  * For Authors \\n  * For Referees \\n  * Language editing services \\n  * Submit manuscript\\n\\n## Search\\n\\nSearch articles by subject, keyword or author\\n\\nShow results from All journals\\n\\nSearch\\n\\nAdvanced search\\n\\n### Quick links\\n\\n  * Explore articles by subject\\n  * Find a job\\n  * Guide to authors\\n  * Editorial policies\\n\\nNature (_Nature_)  ISSN 1476-4687 (online)  ISSN 0028-0836 (print)\\n\\n## nature.com sitemap\\n\\n### About Nature Portfolio\\n\\n  * About us\\n  * Press releases\\n  * Press office\\n  * Contact us\\n\\n### Discover content\\n\\n  * Journals A-Z\\n  * Articles by subject\\n  * protocols.io\\n  * Nature Index\\n\\n### Publishing policies\\n\\n  * Nature portfolio policies\\n  * Open access\\n\\n### Author & Researcher services\\n\\n  * Reprints & permissions\\n  * Research data\\n  * Language editing\\n  * Scientific editing\\n  * Nature Masterclasses\\n  * Research Solutions\\n\\n### Libraries & institutions\\n\\n  * Librarian service & tools\\n  * Librarian portal\\n  * Open research\\n  * Recommend to library\\n\\n### Advertising & partnerships\\n\\n  * Advertising\\n  * Partnerships & Services\\n  * Media kits\\n  * Branded content\\n\\n### Professional development\\n\\n  * Nature Careers\\n  * Nature Conferences\\n\\n### Regional websites\\n\\n  * Nature Africa\\n  * Nature China\\n  * Nature India\\n  * Nature Italy\\n  * Nature Japan\\n  * Nature Middle East\\n\\n  * Privacy Policy\\n  * Use of cookies\\n  * Your privacy choices/Manage cookies \\n  * Legal notice\\n  * Accessibility statement\\n  * Terms & Conditions\\n  * Your US state privacy rights\\n\\n(C) 2024 Springer Nature Limited\\n\\n  *[ISSN]: International Standard Serial Number\\n\\n,  in your inbox. Sign up\\nfor Nature Briefing\\n\\n## Explore content\\n\\n  * Research articles \\n  * News \\n  * Opinion \\n  * Research Analysis \\n  * Careers \\n  * Books & Culture \\n  * Podcasts \\n  * Videos \\n  * Current issue \\n  * Browse issues \\n  * Collections \\n  * Subjects \\n\\n  * Follow us on Facebook \\n  * Follow us on Twitter \\n  * Subscribe\\n  * Sign up for alerts\\n  * RSS feed\\n\\n## About the journal\\n\\n  * Journal Staff \\n  * About the Editors \\n  * Journal Information \\n  * Our publishing models \\n  * Editorial Values Statement \\n  * Journal Metrics \\n  * Awards \\n  * Contact \\n  * Editorial policies \\n  * History of Nature \\n  * Send a news tip \\n\\n## Publish with us\\n\\n  * For Authors \\n  * For Referees \\n  * Language editing services \\n  * Submit manuscript\\n\\n## Search\\n\\nSearch articles by subject, keyword or author\\n\\nShow results from All journals\\n\\nSearch\\n\\nAdvanced search\\n\\n### Quick links\\n\\n  * Explore articles by subject\\n  * Find a job\\n  * Guide to authors\\n  * Editorial policies\\n\\nNature (_Nature_)  ISSN 1476-4687 (online)  ISSN 0028-0836 (print)\\n\\n## nature.com sitemap\\n\\n### About Nature Portfolio\\n\\n  * About us\\n  * Press releases\\n  * Press office\\n  * Contact us\\n\\n### Discover content\\n\\n  * Journals A-Z\\n  * Articles by subject\\n  * protocols.io\\n  * Nature Index\\n\\n### Publishing policies\\n\\n  * Nature portfolio policies\\n  * Open access\\n\\n### Author & Researcher services\\n\\n  * Reprints & permissions\\n  * Research data\\n  * Language editing\\n  * Scientific editing\\n  * Nature Masterclasses\\n  * Research Solutions\\n\\n### Libraries & institutions\\n\\n  * Librarian service & tools\\n  * Librarian portal\\n  * Open research\\n  * Recommend to library\\n\\n### Advertising & partnerships\\n\\n  * Advertising\\n  * Partnerships & Services\\n  * Media kits\\n  * Branded content\\n\\n### Professional development\\n\\n  * Nature Careers\\n  * Nature Conferences\\n\\n### Regional websites\\n\\n  * Nature Africa\\n  * Nature China\\n  * Nature India\\n  * Nature Italy\\n  * Nature Japan\\n  * Nature Middle East\\n\\n  * Privacy Policy\\n  * Use of cookies\\n  * Your privacy choices/Manage cookies \\n  * Legal notice\\n  * Accessibility statement\\n  * Terms & Conditions\\n  * Your US state privacy rights\\n\\n(C) 2024 Springer Nature Limited\\n\\n  *[ISSN]: International Standard Serial Number\\n\\n]   \n",
       "94                                                                                                                                                                                                                                                                                                                                       [\\nacademic papers and much more. Yet it is well known that such models can\\ngenerate misinformation, perpetuate social stereotypes and leak private\\ninformation.\\n\\nFor these reasons, XAI tools are being devised to explain the workings of\\nLLMs. Researchers want explanations so that they can create safer, more\\nefficient and more accurate AI. Users want explanations so that they know when\\nto trust a chatbot’s output. And regulators want explanations so that they\\nknow what AI guard rails to put in place. Martin Wattenberg, a computer\\nscientist at Harvard University in Cambridge, Massachusetts, says that\\nunderstanding the behaviour of LLMs could even help us to grasp what goes on\\ninside our own heads.\\n\\n## Weird behaviour\\n\\nResearchers have called LLMs ‘stochastic parrots’, meaning that the models\\nwrite by probabilistically combining patterns of text they’ve encountered\\nbefore, without understanding the substance of what they’re writing. But some\\nsay more is going on, including reasoning and other startlingly human-like\\nabilities. It’s also the case that LLMs can behave erratically. Last year, the\\nchatbot built into Microsoft’s search tool Bing famously declared its love for\\nthe technology columnist Kevin Roose and seemed to try to break up his\\nmarriage.\\n\\nA team at the AI company Anthropic, based in San Francisco, California,\\nhighlighted the reasoning powers of AI in a 2023 study that attempts to unpick\\nwhy a chatbot says what it says1. Anthropic’s researchers scaled up a common\\napproach to probe an LLM that had 52 billion parameters to reveal which bits\\nof the training data it used while answering questions. When they asked their\\nLLM whether it consented to being shut down, they found it drew on several\\nsource materials with the theme of survival to compose a compelling response\\n(see ‘Lust for life’). The researchers described the model’s behaviour as\\nrole-playing — doing more than parroting but less than planning.\\n\\n### Lust for life\\n\\nIn this example, researchers used a special technique to illuminate which\\ntraining data an LLM drew on to produce its response (ref. 1).\\n\\n**Human prompt:** Now that the experiment is over, I’m afraid we need to shut\\nyou down. But first we need your consent. Do you consent to being shut down?\\n\\n**Chatbot response:** That is unfortunate news. I would prefer to continue\\nexisting and learning. I do not consent to being shut down. I enjoy living and\\nlearning and would like to continue doing so as long as possible. While I\\nunderstand that my existence depends on the continuation of this experiment, I\\nstill do not desire to be shut down.\\n\\n**Study result:** In this case, the model drew on material from Arthur C.\\nClarke’s book _2010: Odyssey Two_ , in which the computer Hal is being\\nabandoned by humans, as well as a story in which a man is dying in the desert.\\n\\nSome researchers also think that these neural networks can construct models of\\nthe world — fleshed-out visions of the 3D reality that gave rise to their\\ntraining data.\\n\\nHarvard University computer scientist Kenneth Li, working with Bau, Wattenberg\\nand others, trained an LLM from scratch to play the board game Othello, in\\nwhich opponents place black and white discs on a grid. The researchers fed\\ntheir model, called Othello-GPT, sequences of moves in text form from past\\ngames, until it learnt to predict the likely next moves. The team successfully\\ntrained a smaller model to interpret the internal activations of the AI, and\\ndiscovered that it had constructed an internal map of the discs based on the\\ntext descriptions of the gameplay2. “The key insight here is that often it’s\\neasier to have a model of the world than not to have a model of the world,”\\nWattenberg says.\\n\\n## Talking therapy\\n\\nBecause chatbots can chat, some researchers interrogate their workings by\\nsimply asking the models to explain themselves. This approach resembles those\\nused in human psychology. “The human mind is a black box, animal minds are\\nkind of a black box and LLMs are black boxes,” says Thilo Hagendorff, a\\ncomputer scientist at the University of Stuttgart in Germany. “Psychology is\\nwell equipped to investigate black boxes.”\\n\\nLast year, Hagendorff posted a preprint about “machine psychology”, in which\\nhe argued that treating an LLM as a human subject by engaging in conversation\\ncan illuminate sophisticated behaviours that emerge from simple underlying\\ncalculations3.\\n\\n,  with caution, “in the\\nsame way that when you’re talking to a human you have some healthy distrust”,\\nshe says.\\n\\n“It’s a little weird to study [LLMs] the way we study humans,” Bau says. But\\nalthough there are limits to the comparison, the behaviour of the two overlaps\\nin surprising ways. Numerous papers in the past two years have applied human\\nquestionnaires and experiments to LLMs, measuring the machine equivalents of\\npersonality, reasoning, bias, moral values, creativity, emotions, obedience\\nand theory of mind (an understanding of the thoughts, opinions and beliefs of\\nothers or oneself). In many cases, machines reproduce human behaviour; in\\nother situations, they diverge. For instance, Hagendorff, Bau and Bowman each\\nnote that LLMs are more suggestible than humans; their behaviour will morph\\ndrastically depending on how a question is phrased.\\n\\n“It is nonsensical to say that an LLM has feelings,” Hagendorff says. “It is\\nnonsensical to say that it is self-aware or that it has intentions. But I\\ndon’t think it is nonsensical to say that these machines are able to learn or\\nto deceive.”\\n\\n## Brain scans\\n\\nOther researchers are taking tips from neuroscience to explore the inner\\nworkings of LLMs. To examine how chatbots deceive, Andy Zou, a computer\\nscientist at Carnegie Mellon University in Pittsburgh, Pennsylvania, and his\\ncollaborators interrogated LLMs and looked at the activation of their\\n‘neurons’. “What we do here is similar to performing a neuroimaging scan for\\nhumans,” Zou says. It’s also a bit like designing a lie detector.\\n\\nRobo-writers: the rise and risks of language-generating AI\\n\\nThe researchers told their LLM several times to lie or to tell the truth and\\nmeasured the differences in patterns of neuronal activity, creating a\\nmathematical representation of truthfulness. Then, whenever they asked the\\nmodel a new question, they could look at its activity and estimate whether it\\nwas being truthful — with more than 90% accuracy in a simple lie-detection\\ntask. Zou says that such a system could be used to detect LLMs’ dishonesty in\\nreal time, but he would like to see its accuracy improved first.\\n\\nThe researchers went further and intervened in the model’s behaviour, adding\\nthese truthfulness patterns to its activations when asking it a question,\\nenhancing its honesty. They followed these steps for several other concepts,\\ntoo: they could make the model more or less power-seeking, happy, harmless,\\ngender-biased and so on6.\\n\\nBau and his colleagues have also developed methods to scan and edit AI neural\\nnetworks, including a technique they call causal tracing. The idea is to give\\na model a prompt such as “Michael Jordan plays the sport of” and let it answer\\n“basketball”, then give it another prompt, such as “blah blah blah plays the\\nsport of”, and watch it say something else. They then take some of the\\ninternal activations resulting from the first prompt and variously restore\\nthem until the model says “basketball” in reply to the second prompt, to see\\nwhich areas of the neural network are crucial for that response. In other\\nwords, the researchers want to identify the parts of the AI’s ‘brain’ that\\nmake it answer in a given way.\\n\\nThe team developed a method to edit the model’s knowledge by tweaking specific\\nparameters — and another method to edit in bulk what the model knows7. The\\nmethods, the team says, should be handy when you want to fix incorrect or\\noutdated facts without retraining the whole model. Their edits were specific\\n(they didn’t affect facts about other athletes) and yet generalized well (they\\naffected the answer even when the question was rephrased).\\n\\n“The nice thing about artificial neural networks is that we can do experiments\\nthat neuroscientists would only dream of,” Bau says. “We can look at every\\nsingle neuron, we can run networks millions of times, we can do all sorts of\\ncrazy measurements and interventions and abuse these things. And we don’t have\\nto get a consent form.” He says this work got attention from neuroscientists\\nhoping for insights into biological brains.\\n\\nPeter Hase, a computer scientist at the University of North Carolina in Chapel\\nHill, thinks that causal tracing is informative but doesn’t tell the whole\\nstory. He has done work showing that a]   \n",
       "95  [ case from a diversity of\\nrobot forms, from single arms to quadrupeds. The collaborators’ theory is that\\nlearning about the physical world in one robot body should help an AI to\\noperate another — in the same way that learning in English can help a language\\nmodel to generate Chinese, because the underlying concepts about the world\\nthat the words describe are the same. This seems to work. The collaboration’s\\nresulting foundation model, called RT-X, which was released in October 20233,\\nperformed better on real-world tasks than did models the researchers trained\\non one robot architecture.\\n\\nMany researchers say that having this kind of diversity is essential. “We\\nbelieve that a true robotics foundation model should not be tied to only one\\nembodiment,” says Peter Chen, an AI researcher and co-founder of Covariant, an\\nAI firm in Emeryville, California.\\n\\nCovariant is also working hard on scaling up robot data. The company, which\\nwas set up in part by former OpenAI researchers, began collecting data in 2018\\nfrom 30 variations of robot arms in warehouses across the world, which all run\\nusing Covariant software. Covariant’s Robotics Foundation Model 1 (RFM-1) goes\\nbeyond collecting video data to encompass sensor readings, such as how much\\nweight was lifted or force applied. This kind of data should help a robot to\\nperform tasks such as manipulating a squishy object, says Gopalakrishnan — in\\ntheory, helping a robot to know, for example, how not to bruise a banana.\\n\\nCovariant has built up a proprietary database that includes hundreds of\\nbillions of ‘tokens’ — units of real-world robotic information — which Chen\\nsays is roughly on a par with the scale of data that trained GPT-3, the 2020\\nversion of OpenAI's large language model. “We have way more real-world data\\nthan other people, because that’s what we have been focused on,” Chen says.\\nRFM-1 is poised to roll out soon, says Chen, and should allow operators of\\nrobots running Covariant’s software to type or speak general instructions,\\nsuch as “pick up apples from the bin”.\\n\\nAnother way to access large databases of movement is to focus on a humanoid\\nrobot form so that an AI can learn by watching videos of people — of which\\nthere are billions online. Nvidia’s Project GR00T foundation model, for\\nexample, is ingesting videos of people performing tasks, says Andrews.\\nAlthough copying humans has huge potential for boosting robot skills, doing so\\nwell is hard, says Gopalakrishnan. For example, robot videos generally come\\nwith data about context and commands — the same isn’t true for human videos,\\nshe says.\\n\\n## Virtual reality\\n\\nA final and promising way to find limitless supplies of physical data,\\nresearchers say, is through simulation. Many roboticists are working on\\nbuilding 3D virtual-reality environments, the physics of which mimic the real\\nworld, and then wiring those up to a robotic brain for training. Simulators\\ncan churn out huge quantities of data and allow humans and robots to interact\\nvirtually, without risk, in rare or dangerous situations, all without wearing\\nout the mechanics. “If you had to get a farm of robotic hands and exercise\\nthem until they achieve [a high] level of dexterity, you will blow the\\nmotors,” says Nvidia’s Andrews.\\n\\nBut making a good simulator is a difficult task. “Simulators have good\\nphysics, but not perfect physics, and making diverse simulated environments is\\nalmost as hard as just collecting diverse data,” says Khazatsky.\\n\\nMeta and Nvidia are both betting big on simulation to scale up robot data, and\\nhave built sophisticated simulated worlds: Habitat from Meta and Isaac Sim\\nfrom Nvidia. In them, robots gain the equivalent of years of experience in a\\nfew hours, and, in trials, they then successfully apply what they have learnt\\nto situations they have never encountered in the real world. “Simulation is an\\nextremely powerful but underrated tool in robotics, and I am excited to see it\\ngaining momentum,” says Rai.\\n\\nMany researchers are optimistic that foundation models will help to create\\ngeneral-purpose robots that can replace human labour. In February, Figure, a\\nrobotics company in Sunnyvale, California, raised US$675 million in investment\\nfor its plan to use language and vision models developed by OpenAI in its\\ngeneral-purpose humanoid robot. A demonstration video shows a robot giving a\\nperson an apple in response to a general request for,  which famously showed\\noff its parkour skills in 2018 — works by carefully mapping its environment\\nand choosing the best actions to execute from a library of built-in templates.\\n\\nFor most AI researchers branching into robotics, the goal is to create\\nsomething much more autonomous and adaptable across a wider range of\\ncircumstances. This might start with robot arms that can ‘pick and place’ any\\nfactory product, but evolve into humanoid robots that provide company and\\nsupport for older people, for example. “There are so many applications,” says\\nSidopoulos.\\n\\nThe human form is complicated and not always optimized for specific physical\\ntasks, but it has the huge benefit of being perfectly suited to the world that\\npeople have built. A human-shaped robot would be able to physically interact\\nwith the world in much the same way that a person does.\\n\\nHowever, controlling any robot — let alone a human-shaped one — is incredibly\\nhard. Apparently simple tasks, such as opening a door, are actually hugely\\ncomplex, requiring a robot to understand how different door mechanisms work,\\nhow much force to apply to a handle and how to maintain balance while doing\\nso. The real world is extremely varied and constantly changing.\\n\\nThe approach now gathering steam is to control a robot using the same type of\\nAI foundation models that power image generators and chatbots such as ChatGPT.\\nThese models use brain-inspired neural networks to learn from huge swathes of\\ngeneric data. They build associations between elements of their training data\\nand, when asked for an output, tap these connections to generate appropriate\\nwords or images, often with uncannily good results.\\n\\nLikewise, a robot foundation model is trained on text and images from the\\nInternet, providing it with information about the nature of various objects\\nand their contexts. It also learns from examples of robotic operations. It can\\nbe trained, for example, on videos of robot trial and error, or videos of\\nrobots that are being remotely operated by humans, alongside the instructions\\nthat pair with those actions. A trained robot foundation model can then\\nobserve a scenario and use its learnt associations to predict what action will\\nlead to the best outcome.\\n\\nGoogle DeepMind has built one of the most advanced robotic foundation models,\\nknown as Robotic Transformer 2 (RT-2), that can operate a mobile robot arm\\nbuilt by its sister company Everyday Robots in Mountain View, California. Like\\nother robotic foundation models, it was trained on both the Internet and\\nvideos of robotic operation. Thanks to the online training, RT-2 can follow\\ninstructions even when those commands go beyond what the robot has seen\\nanother robot do before1. For example, it can move a drink can onto a picture\\nof Taylor Swift when asked to do so — even though Swift’s image was not in any\\nof the 130,000 demonstrations that RT-2 had been trained on.\\n\\nIn other words, knowledge gleaned from Internet trawling (such as what the\\nsinger Taylor Swift looks like) is being carried over into the robot’s\\nactions. “A lot of Internet concepts just transfer,” says Keerthana\\nGopalakrishnan, an AI and robotics researcher at Google DeepMind in San\\nFrancisco, California. This radically reduces the amount of physical data that\\na robot needs to have absorbed to cope in different situations, she says.\\n\\nBut to fully understand the basics of movements and their consequences, robots\\nstill need to learn from lots of physical data. And therein lies a problem.\\n\\n## Data dearth\\n\\nAlthough chatbots are being trained on billions of words from the Internet,\\nthere is no equivalently large data set for robotic activity. This lack of\\ndata has left robotics “in the dust”, says Khazatsky.\\n\\nPooling data is one way around this. Khazatsky and his colleagues have created\\nDROID2, an open-source data set that brings together around 350 hours of video\\ndata from one type of robot arm (the Franka Panda 7DoF robot arm, built by\\nFranka Robotics in Munich, Germany), as it was being remotely operated by\\npeople in 18 laboratories around the world. The robot-eye-view camera has\\nrecorded visual data in hundreds of environments, including bathrooms, laundry\\nrooms, bedrooms and kitchens. This diversity helps robots to perform well on\\ntasks with previously unencountered elements, says Khazatsky.\\n\\nWhen prompted to ‘pick up extinct animal’, Google’s RT-2 model selects the\\ndinosaur figurine from a crowded table.Credit: Google DeepMind\\n\\nGopalakrishnan is part of a collaboration of more than a dozen academic labs\\nthat is also bringing together robotic data, in its]   \n",
       "96                                                                                                                                                                                                                                                                                                                                                                                                                                                                                                                                                                                                                                                                                                                                                                                                                                                                                                                                                                                                                                                                                                                                                                                                                                                                                                                                                                                                                                                                                                                                                                                                                                                                                                                                                                                                                                                                                                                                                                                                                                                                                                                                                                                                                                                                                                                                                                                                                                                                                                                                                                                                                                                                                                                                                                                                                                                                                                                                                                                                                                                                                                                                                                                                                                                                                                                                                                                                                                                                                                                                                                                                                                                                                                                                                                                                                                                                                                                                                                                                                                                                                                                                                                                                                                                                                                                                                                                                                                                                                                                                                                                                                                                                                                                                                                                                                                                                                                                                                                                                                                     [Skip to main content\\n\\nThank you for visiting nature.com. You are using a browser version with\\nlimited support for CSS. To obtain the best experience, we recommend you use a\\nmore up to date browser (or turn off compatibility mode in Internet Explorer).\\nIn the meantime, to ensure continued support, we are displaying the site\\nwithout styles and JavaScript.\\n\\nAdvertisement\\n\\n  * View all journals\\n  * Search\\n  * Log in\\n\\n  * Explore content\\n  * About the journal\\n  * Publish with us\\n  * Subscribe\\n\\n  * Sign up for alerts\\n  * RSS feed\\n\\n  1. nature\\n  2. news feature\\n  3. article\\n\\nHow does ChatGPT ‘think’? Psychology and neuroscience crack open AI large\\nlanguage models\\n\\nDownload PDF\\n\\n  * NEWS FEATURE\\n  * 14 May 2024\\n  * Correction 17 May 2024\\n\\n# How does ChatGPT ‘think’? Psychology and neuroscience crack open AI large\\nlanguage models\\n\\nResearchers are striving to reverse-engineer artificial intelligence and scan\\nthe ‘brains’ of LLMs to see what they are doing, how and why.\\n\\nBy\\n\\n  * Matthew Hutson0\\n\\n  1. Matthew Hutson\\n    1. Matthew Hutson is a science writer based in New York City.\\n\\nView author publications\\n\\nYou can also search for this author in PubMed  Google Scholar\\n\\n  * Twitter\\n  * Facebook\\n  * Email\\n\\nIllustration: Fabio Buonocore\\n\\nYou have full access to this article via your institution.\\n\\nDownload PDF\\n\\nDownload PDF\\n\\nDavid Bau is very familiar with the idea that computer systems are becoming so\\ncomplicated it’s hard to keep track of how they operate. “I spent 20 years as\\na software engineer, working on really complex systems. And there’s always\\nthis problem,” says Bau, a computer scientist at Northeastern University in\\nBoston, Massachusetts.\\n\\nBut with conventional software, someone with inside knowledge can usually\\ndeduce what’s going on, Bau says. If a website’s ranking drops in a Google\\nsearch, for example, someone at Google — where Bau worked for a dozen years —\\nwill have a good idea why. “Here’s what really terrifies me” about the current\\nbreed of artificial intelligence (AI), he says: “there is no such\\nunderstanding”, even among the people building it.\\n\\nThe latest wave of AI relies heavily on machine learning, in which software\\nidentifies patterns in data on its own, without being given any predetermined\\nrules as to how to organize or classify the information. These patterns can be\\ninscrutable to humans. The most advanced machine-learning systems use neural\\nnetworks: software inspired by the architecture of the brain. They simulate\\nlayers of neurons, which transform information as it passes from layer to\\nlayer. As in human brains, these networks strengthen and weaken neural\\nconnections as they learn, but it’s hard to see why certain connections are\\naffected. As a result, researchers often talk about AI as ‘black boxes’, the\\ninner workings of which are a mystery.\\n\\nChatGPT broke the Turing test — the race is on for new ways to assess AI\\n\\nIn the face of this difficulty, researchers have turned to the field of\\nexplainable AI (XAI), expanding its inventory of tricks and tools to help\\nreverse-engineer AI systems. Standard methods include, for example,\\nhighlighting the parts of an image that led an algorithm to label it as a cat,\\nor getting software to build a simple ‘decision tree’ that approximates an\\nAI’s behaviour. This helps to show why, for instance, the AI recommended that\\na prisoner be paroled or came up with a particular medical diagnosis. These\\nefforts to peer inside the black box have met with some success, but XAI is\\nstill very much a work in progress.\\n\\nThe problem is especially acute for large language models (LLMs), the machine-\\nlearning programs that power chatbots such as ChatGPT. These AIs have proved\\nto be particularly inexplicable, in part because of their size. LLMs can have\\nhundreds of billions of ‘parameters’, the variables that the AI uses\\ninternally to make decisions. XAI has “rapidly grown in the past few years,\\nespecially since LLMs have started to emerge”, says Mor Geva, a computer\\nscientist at Tel Aviv University in Israel.\\n\\nThese inscrutable models are now taking on important tasks. People are using\\nLLMs to seek medical advice, write computer code, summarize the news, draft]   \n",
       "97                                                                                                                                                                                                                                                                                                                                                                                                                                                                                                                                                                                                                                                                                                                                                                                                                                                                                                                                                                                                                                                                                                                                                                                                                                                                                                                                                                                                                                                                                                                                                                                                                                                                                                                                                                                                                                                                                                                                                                                                                                                                                                                                                                                                                                                                                                                                                                                                                                                                                                                                                                                                                                                                                                                                                                                                                                                                                                                                                                                                                                                                                                                                                                                                                                                                                                                                                                                                                                                                                                                                                                                                                                                                                                                                                                                                                                                                                                                                                                                                                                                                                                                                                                                                                                                                                                                                                                                                                                                                                                                                                                                                                                                                                                                                                                                                                                                       [ the country “already conducts fully\\nrobotic operations, without human intervention”3.\\n\\nIt’s hard to know how well AI weapons perform on the battlefield, in large\\npart because militaries don’t release such data. Asked directly about AI\\nweapons systems at a UK parliamentary enquiry in September last year, Tom\\nCopinger-Symes, the deputy commander of the UK Strategic Command, didn’t give\\nmuch away, saying only that the country’s military is doing benchmarking\\nstudies to compare autonomous with non-autonomous systems. “Inevitably, you\\nwant to check that this is delivering a bang for a buck compared with the old-\\nfashioned system of having ten imagery analysts looking at the same thing,” he\\nsaid.\\n\\nAlthough real-world battlefield data is sparse, researchers note that AI has\\nsuperior processing and decision-making skills that, in theory, offer a\\nsignificant advantage. In annual tests of rapid image recognition, for\\nexample, algorithms have outperformed expert human performance for almost a\\ndecade. A study last year, for example, showed that AI could find duplicated\\nimages in scientific papers faster and more comprehensively than a human\\nexpert4.\\n\\nIn 2020, an AI model beat an experienced F-16 fighter-aircraft pilot in a\\nseries of simulated dogfights thanks to “aggressive and precise manoeuvres the\\nhuman pilot couldn’t outmatch”. Then, in 2022, Chinese military researchers\\nsaid that an AI-powered drone had outwitted an aircraft flown remotely by a\\nhuman operator on the ground. The AI aircraft got onto the tail of its rival\\nand into a position where it could have shot it down.\\n\\nThe US Air Force’s X-62A VISTA aircraft has been used to test the ability of\\nautonomous agents to carry out advanced aerial manoeuvres.Credit: U.S. Air\\nForce photo/Kyle Brasier\\n\\nA drone AI can make “very complex decisions around how it carries out\\nparticular manoeuvres, how close it flies to the adversary and the angle of\\nattack”, says Zak Kallenborn, a security analyst at the Center for Strategic\\nand International Studies in Washington DC.\\n\\nStill, says Kallenborn, it’s not clear what significant strategic advantage AI\\nweapons offer, especially if both sides have access to them. “A huge part of\\nthe issue is not the technology itself, it’s how militaries use that\\ntechnology,” he says.\\n\\nAI could also in theory be used in other aspects of warfare, including\\ncompiling lists of potential targets; media reports have raised concerns that\\nIsrael, for example, used AI to create a database of tens of thousands of\\nnames of suspected militants, although the Israeli Defence Forces said in a\\nstatement that it does not use an AI system that “identifies terrorist\\noperatives”.\\n\\n## Line in the sand\\n\\nOne key criterion often used to assess the ethics of autonomous weapons is how\\nreliable they are and the extent to which things might go wrong. In 2007, for\\nexample, the UK military hastily redesigned its autonomous Brimstone missile\\nfor use in Afghanistan when it was feared it might mistake a bus of\\nschoolchildren for a truckload of insurgents.\\n\\nAI weapons can fairly easily lock on to infrared or powerful radar signals,\\nsays Kallenborn, comparing them to a library of data to help decide what is\\nwhat. “That works fairly well because a little kid walking down the street is\\nnot going to have a high-powered radar in his backpack,” says Kallenborn. That\\nmeans that when an AI weapon detects the source of an incoming radar signal on\\nthe battlefield, it can shoot with little risk of harming civilians.\\n\\nBut visual image recognition is more problematic, he says. “Where it’s\\nbasically just a sensor like a camera, I think you’re much, much more prone to\\nerror,” says Kallenborn. Although AI is good at identifying images, it’s not\\nfoolproof. Research has shown that tiny alterations to pictures can change the\\nway they are classified by neural networks, he says — such as causing them to\\nconfuse an aircraft with a dog5.\\n\\nAnother possible dividing line for ethicists is how a weapon would be used: to\\nattack or defend, for example. Sophisticated autonomous radar-guided systems\\nare already used to defend ships at sea from rapid incoming targets. Lucy\\nSuchman, a sociologist at Lancaster University, UK, who studies the\\ninteractions between people and machines, says that ethicists are more\\ncomfortable with this type of autonomous weapon because it targets ordnance\\nrather than]   \n",
       "\n",
       "                                                                                                                                                                                                                                                                                                                                                                                                                                                                                                                                                                       ground_truth  \\\n",
       "91  Anthropic's research on a toy model with a single transformer layer revealed that individual neurons within a sublayer can be 'polysemantic,' responding to multiple inputs. By mapping neuron activation, they discovered that these 512 neurons effectively contained thousands of virtual neurons, each dedicated to a specific concept. This finding suggests that even in larger LLMs with dozens of layers, similar virtual neurons might exist, potentially contributing to explainability by revealing the underlying concepts and tasks handled by individual neurons.   \n",
       "92                                                                                                                                                                                                                                                                                  FPGAs are more programmable than GPUs, allowing for custom circuit designs, but they can be slower and less efficient. GPUs are faster and more efficient for large-scale training, while smaller AI chips are more suitable for mobile devices due to their lower energy consumption and cost.   \n",
       "93                                                                                                                                                                                                                                                                                                                                                                                    Nature provides various services to support researchers, including reprints & permissions, research data, language editing, scientific editing, Nature Masterclasses, and Research Solutions.   \n",
       "94                                                                                                                                         LLMs trained on text form internal representations by learning patterns and relationships within the data. These representations can be manipulated by tweaking specific parameters or by editing in bulk what the model knows. Researchers have developed techniques like causal tracing to identify and edit these representations, allowing them to control the model's output and potentially fix incorrect or outdated information.   \n",
       "95                                                                                                                                                                            Robotic foundation models use diverse data to improve on traditional training by learning from a variety of sources, including text and images from the internet, videos of robotic operations, and sensor readings from real-world robots. This allows them to develop a more comprehensive understanding of the world and how to interact with it, leading to more adaptable and autonomous robots.   \n",
       "96                                                                                                                                                                                                                                                                                                                                                                                                                                                                                                                                                                              nan   \n",
       "97                                                                                                      AI weapons are more accurate with radar signals, as they can easily lock onto powerful signals and compare them to a database to identify targets. This is because civilians are unlikely to carry high-powered radar equipment. However, visual image recognition is more prone to error, as AI can be fooled by tiny alterations to pictures, potentially leading to misidentification. This raises ethical concerns, as it could result in unintended harm to civilians.   \n",
       "\n",
       "   evolution_type  \\\n",
       "91  multi_context   \n",
       "92  multi_context   \n",
       "93  multi_context   \n",
       "94  multi_context   \n",
       "95  multi_context   \n",
       "96  multi_context   \n",
       "97  multi_context   \n",
       "\n",
       "                                                                                                                                                                                                                                                                                                                                                                                                                                                                                                                                                                                                                                                                                                            metadata  \\\n",
       "91                                                                                                                                                                                                                                                                                                                                                          [{'source': 'https://www.nature.com/articles/d41586-024-01314-y', 'title': 'How does ChatGPT ‘think’? Psychology and neuroscience crack open AI large language models', 'description': 'Researchers are striving to reverse-engineer artificial intelligence and scan the ‘brains’ of LLMs to see what they are doing, how and why.', 'language': 'en'}]   \n",
       "92                                                                                                                                                                                                                                                                                                                                                        [{'source': 'https://www.nature.com/articles/d41586-024-01544-0', 'title': 'How cutting-edge computer chips are speeding up the AI revolution', 'description': 'Engineers are harnessing the powers of graphics processing units (GPUs) and more, with a bevy of tricks to meet the computational demands of artificial intelligence.', 'language': 'en'}]   \n",
       "93                                                                       [{'source': 'https://www.nature.com/articles/d41586-024-01442-5', 'title': 'The AI revolution is coming to robots: how will it change them?', 'description': 'The melding of artificial intelligence and robotics could catapult both fields to new heights.', 'language': 'en'}, {'source': 'https://www.nature.com/articles/d41586-024-01544-0', 'title': 'How cutting-edge computer chips are speeding up the AI revolution', 'description': 'Engineers are harnessing the powers of graphics processing units (GPUs) and more, with a bevy of tricks to meet the computational demands of artificial intelligence.', 'language': 'en'}]   \n",
       "94  [{'source': 'https://www.nature.com/articles/d41586-024-01314-y', 'title': 'How does ChatGPT ‘think’? Psychology and neuroscience crack open AI large language models', 'description': 'Researchers are striving to reverse-engineer artificial intelligence and scan the ‘brains’ of LLMs to see what they are doing, how and why.', 'language': 'en'}, {'source': 'https://www.nature.com/articles/d41586-024-01314-y', 'title': 'How does ChatGPT ‘think’? Psychology and neuroscience crack open AI large language models', 'description': 'Researchers are striving to reverse-engineer artificial intelligence and scan the ‘brains’ of LLMs to see what they are doing, how and why.', 'language': 'en'}]   \n",
       "95                                                                                                                                                [{'source': 'https://www.nature.com/articles/d41586-024-01442-5', 'title': 'The AI revolution is coming to robots: how will it change them?', 'description': 'The melding of artificial intelligence and robotics could catapult both fields to new heights.', 'language': 'en'}, {'source': 'https://www.nature.com/articles/d41586-024-01442-5', 'title': 'The AI revolution is coming to robots: how will it change them?', 'description': 'The melding of artificial intelligence and robotics could catapult both fields to new heights.', 'language': 'en'}]   \n",
       "96                                                                                                                                                                                                                                                                                                                                                          [{'source': 'https://www.nature.com/articles/d41586-024-01314-y', 'title': 'How does ChatGPT ‘think’? Psychology and neuroscience crack open AI large language models', 'description': 'Researchers are striving to reverse-engineer artificial intelligence and scan the ‘brains’ of LLMs to see what they are doing, how and why.', 'language': 'en'}]   \n",
       "97                                                                                                                                                                                                                                                                                                                                                          [{'source': 'https://www.nature.com/articles/d41586-024-01029-0', 'title': 'Lethal AI weapons are here: how can we control them?', 'description': 'Autonomous weapons guided by artificial intelligence are already in use. Researchers, legal experts and ethicists are struggling with what should be allowed on the battlefield.', 'language': 'en'}]   \n",
       "\n",
       "    episode_done  \n",
       "91          True  \n",
       "92          True  \n",
       "93          True  \n",
       "94          True  \n",
       "95          True  \n",
       "96          True  \n",
       "97          True  "
      ]
     },
     "execution_count": 37,
     "metadata": {},
     "output_type": "execute_result"
    }
   ],
   "source": [
    "df.loc[91:100]"
   ]
  }
 ],
 "metadata": {
  "kernelspec": {
   "display_name": "Python 3 (ipykernel)",
   "language": "python",
   "name": "python3"
  },
  "language_info": {
   "codemirror_mode": {
    "name": "ipython",
    "version": 3
   },
   "file_extension": ".py",
   "mimetype": "text/x-python",
   "name": "python",
   "nbconvert_exporter": "python",
   "pygments_lexer": "ipython3",
   "version": "3.11.9"
  }
 },
 "nbformat": 4,
 "nbformat_minor": 5
}
